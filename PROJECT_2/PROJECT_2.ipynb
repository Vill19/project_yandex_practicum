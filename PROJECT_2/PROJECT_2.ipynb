{
 "cells": [
  {
   "cell_type": "markdown",
   "metadata": {},
   "source": [
    "## Изучение данных из файла"
   ]
  },
  {
   "cell_type": "code",
   "execution_count": 1,
   "metadata": {
    "scrolled": true
   },
   "outputs": [],
   "source": [
    "import pandas as pd#импорт библиотеки pandas\n",
    "import warnings\n",
    "import matplotlib\n",
    "import matplotlib.pyplot as plt\n",
    "warnings.filterwarnings('ignore')\n",
    "FORMAT='%Y-%m-%d'"
   ]
  },
  {
   "cell_type": "code",
   "execution_count": 2,
   "metadata": {},
   "outputs": [],
   "source": [
    "df = pd.read_csv('/datasets/real_estate_data.csv', sep='\\t')"
   ]
  },
  {
   "cell_type": "code",
   "execution_count": 3,
   "metadata": {
    "scrolled": false
   },
   "outputs": [
    {
     "name": "stdout",
     "output_type": "stream",
     "text": [
      "<class 'pandas.core.frame.DataFrame'>\n",
      "RangeIndex: 23699 entries, 0 to 23698\n",
      "Data columns (total 22 columns):\n",
      " #   Column                Non-Null Count  Dtype  \n",
      "---  ------                --------------  -----  \n",
      " 0   total_images          23699 non-null  int64  \n",
      " 1   last_price            23699 non-null  float64\n",
      " 2   total_area            23699 non-null  float64\n",
      " 3   first_day_exposition  23699 non-null  object \n",
      " 4   rooms                 23699 non-null  int64  \n",
      " 5   ceiling_height        14504 non-null  float64\n",
      " 6   floors_total          23613 non-null  float64\n",
      " 7   living_area           21796 non-null  float64\n",
      " 8   floor                 23699 non-null  int64  \n",
      " 9   is_apartment          2775 non-null   object \n",
      " 10  studio                23699 non-null  bool   \n",
      " 11  open_plan             23699 non-null  bool   \n",
      " 12  kitchen_area          21421 non-null  float64\n",
      " 13  balcony               12180 non-null  float64\n",
      " 14  locality_name         23650 non-null  object \n",
      " 15  airports_nearest      18157 non-null  float64\n",
      " 16  cityCenters_nearest   18180 non-null  float64\n",
      " 17  parks_around3000      18181 non-null  float64\n",
      " 18  parks_nearest         8079 non-null   float64\n",
      " 19  ponds_around3000      18181 non-null  float64\n",
      " 20  ponds_nearest         9110 non-null   float64\n",
      " 21  days_exposition       20518 non-null  float64\n",
      "dtypes: bool(2), float64(14), int64(3), object(3)\n",
      "memory usage: 3.7+ MB\n"
     ]
    }
   ],
   "source": [
    "df.info()#получение информации о данных"
   ]
  },
  {
   "cell_type": "markdown",
   "metadata": {},
   "source": [
    "В таблице 22 столбца. Типы данных во всех столбцах разные - float, int, object, bool.\n",
    "\n",
    "\n",
    "**Согласно документации к данным** :\n",
    "\n",
    "- airports_nearest — расстояние до ближайшего аэропорта в метрах (м)\n",
    "- balcony — число балконов\n",
    "- ceiling_height — высота потолков (м)\n",
    "- cityCenters_nearest — расстояние до центра города (м)\n",
    "- days_exposition — сколько дней было размещено объявление (от публикации до снятия)\n",
    "- first_day_exposition — дата публикации\n",
    "- floor — этаж\n",
    "- floors_total — всего этажей в доме\n",
    "- is_apartment — апартаменты (булев тип)\n",
    "- kitchen_area — площадь кухни в квадратных метрах (м²)\n",
    "- last_price — цена на момент снятия с публикации\n",
    "- living_area — жилая площадь в квадратных метрах (м²)\n",
    "- locality_name — название населённого пункта\n",
    "- open_plan — свободная планировка (булев тип)\n",
    "- parks_around3000 — число парков в радиусе 3 км\n",
    "- parks_nearest — расстояние до ближайшего парка (м)\n",
    "- ponds_around3000 — число водоёмов в радиусе 3 км\n",
    "- ponds_nearest — расстояние до ближайшего водоёма (м)\n",
    "- rooms — число комнат\n",
    "- studio — квартира-студия (булев тип)\n",
    "- total_area — площадь квартиры в квадратных метрах (м²)\n",
    "- total_images — число фотографий квартиры в объявлении\n"
   ]
  },
  {
   "cell_type": "markdown",
   "metadata": {},
   "source": [
    "### Вывод\n",
    "\n",
    "Данные в таблице описывают характеристики недвижимости. Встречаются множество пропущенных значений,ошибки в распознавании типов данных.\n",
    "Чтобы двигаться дальше, нужно устранить проблемы в данных."
   ]
  },
  {
   "cell_type": "markdown",
   "metadata": {},
   "source": [
    "## Предобработка данных"
   ]
  },
  {
   "cell_type": "code",
   "execution_count": 4,
   "metadata": {
    "scrolled": false
   },
   "outputs": [
    {
     "data": {
      "text/plain": [
       "total_images                0\n",
       "last_price                  0\n",
       "total_area                  0\n",
       "first_day_exposition        0\n",
       "rooms                       0\n",
       "ceiling_height           9195\n",
       "floors_total               86\n",
       "living_area              1903\n",
       "floor                       0\n",
       "is_apartment            20924\n",
       "studio                      0\n",
       "open_plan                   0\n",
       "kitchen_area             2278\n",
       "balcony                 11519\n",
       "locality_name              49\n",
       "airports_nearest         5542\n",
       "cityCenters_nearest      5519\n",
       "parks_around3000         5518\n",
       "parks_nearest           15620\n",
       "ponds_around3000         5518\n",
       "ponds_nearest           14589\n",
       "days_exposition          3181\n",
       "dtype: int64"
      ]
     },
     "execution_count": 4,
     "metadata": {},
     "output_type": "execute_result"
    }
   ],
   "source": [
    "df.isna().sum()#количество пропущенных значений"
   ]
  },
  {
   "cell_type": "markdown",
   "metadata": {},
   "source": [
    "Мы видим, что пропусков достаточно много. Займемся их обработкой."
   ]
  },
  {
   "cell_type": "code",
   "execution_count": 5,
   "metadata": {
    "scrolled": true
   },
   "outputs": [
    {
     "data": {
      "text/html": [
       "<div>\n",
       "<style scoped>\n",
       "    .dataframe tbody tr th:only-of-type {\n",
       "        vertical-align: middle;\n",
       "    }\n",
       "\n",
       "    .dataframe tbody tr th {\n",
       "        vertical-align: top;\n",
       "    }\n",
       "\n",
       "    .dataframe thead th {\n",
       "        text-align: right;\n",
       "    }\n",
       "</style>\n",
       "<table border=\"1\" class=\"dataframe\">\n",
       "  <thead>\n",
       "    <tr style=\"text-align: right;\">\n",
       "      <th></th>\n",
       "      <th>total_images</th>\n",
       "      <th>last_price</th>\n",
       "      <th>total_area</th>\n",
       "      <th>first_day_exposition</th>\n",
       "      <th>rooms</th>\n",
       "      <th>ceiling_height</th>\n",
       "      <th>floors_total</th>\n",
       "      <th>living_area</th>\n",
       "      <th>floor</th>\n",
       "      <th>is_apartment</th>\n",
       "      <th>...</th>\n",
       "      <th>kitchen_area</th>\n",
       "      <th>balcony</th>\n",
       "      <th>locality_name</th>\n",
       "      <th>airports_nearest</th>\n",
       "      <th>cityCenters_nearest</th>\n",
       "      <th>parks_around3000</th>\n",
       "      <th>parks_nearest</th>\n",
       "      <th>ponds_around3000</th>\n",
       "      <th>ponds_nearest</th>\n",
       "      <th>days_exposition</th>\n",
       "    </tr>\n",
       "  </thead>\n",
       "  <tbody>\n",
       "    <tr>\n",
       "      <th>0</th>\n",
       "      <td>20</td>\n",
       "      <td>13000000.0</td>\n",
       "      <td>108.0</td>\n",
       "      <td>2019-03-07T00:00:00</td>\n",
       "      <td>3</td>\n",
       "      <td>2.70</td>\n",
       "      <td>16.0</td>\n",
       "      <td>51.0</td>\n",
       "      <td>8</td>\n",
       "      <td>NaN</td>\n",
       "      <td>...</td>\n",
       "      <td>25.0</td>\n",
       "      <td>NaN</td>\n",
       "      <td>Санкт-Петербург</td>\n",
       "      <td>18863.0</td>\n",
       "      <td>16028.0</td>\n",
       "      <td>1.0</td>\n",
       "      <td>482.0</td>\n",
       "      <td>2.0</td>\n",
       "      <td>755.0</td>\n",
       "      <td>NaN</td>\n",
       "    </tr>\n",
       "    <tr>\n",
       "      <th>1</th>\n",
       "      <td>7</td>\n",
       "      <td>3350000.0</td>\n",
       "      <td>40.4</td>\n",
       "      <td>2018-12-04T00:00:00</td>\n",
       "      <td>1</td>\n",
       "      <td>NaN</td>\n",
       "      <td>11.0</td>\n",
       "      <td>18.6</td>\n",
       "      <td>1</td>\n",
       "      <td>NaN</td>\n",
       "      <td>...</td>\n",
       "      <td>11.0</td>\n",
       "      <td>2.0</td>\n",
       "      <td>посёлок Шушары</td>\n",
       "      <td>12817.0</td>\n",
       "      <td>18603.0</td>\n",
       "      <td>0.0</td>\n",
       "      <td>NaN</td>\n",
       "      <td>0.0</td>\n",
       "      <td>NaN</td>\n",
       "      <td>81.0</td>\n",
       "    </tr>\n",
       "    <tr>\n",
       "      <th>2</th>\n",
       "      <td>10</td>\n",
       "      <td>5196000.0</td>\n",
       "      <td>56.0</td>\n",
       "      <td>2015-08-20T00:00:00</td>\n",
       "      <td>2</td>\n",
       "      <td>NaN</td>\n",
       "      <td>5.0</td>\n",
       "      <td>34.3</td>\n",
       "      <td>4</td>\n",
       "      <td>NaN</td>\n",
       "      <td>...</td>\n",
       "      <td>8.3</td>\n",
       "      <td>0.0</td>\n",
       "      <td>Санкт-Петербург</td>\n",
       "      <td>21741.0</td>\n",
       "      <td>13933.0</td>\n",
       "      <td>1.0</td>\n",
       "      <td>90.0</td>\n",
       "      <td>2.0</td>\n",
       "      <td>574.0</td>\n",
       "      <td>558.0</td>\n",
       "    </tr>\n",
       "    <tr>\n",
       "      <th>3</th>\n",
       "      <td>0</td>\n",
       "      <td>64900000.0</td>\n",
       "      <td>159.0</td>\n",
       "      <td>2015-07-24T00:00:00</td>\n",
       "      <td>3</td>\n",
       "      <td>NaN</td>\n",
       "      <td>14.0</td>\n",
       "      <td>NaN</td>\n",
       "      <td>9</td>\n",
       "      <td>NaN</td>\n",
       "      <td>...</td>\n",
       "      <td>NaN</td>\n",
       "      <td>0.0</td>\n",
       "      <td>Санкт-Петербург</td>\n",
       "      <td>28098.0</td>\n",
       "      <td>6800.0</td>\n",
       "      <td>2.0</td>\n",
       "      <td>84.0</td>\n",
       "      <td>3.0</td>\n",
       "      <td>234.0</td>\n",
       "      <td>424.0</td>\n",
       "    </tr>\n",
       "    <tr>\n",
       "      <th>4</th>\n",
       "      <td>2</td>\n",
       "      <td>10000000.0</td>\n",
       "      <td>100.0</td>\n",
       "      <td>2018-06-19T00:00:00</td>\n",
       "      <td>2</td>\n",
       "      <td>3.03</td>\n",
       "      <td>14.0</td>\n",
       "      <td>32.0</td>\n",
       "      <td>13</td>\n",
       "      <td>NaN</td>\n",
       "      <td>...</td>\n",
       "      <td>41.0</td>\n",
       "      <td>NaN</td>\n",
       "      <td>Санкт-Петербург</td>\n",
       "      <td>31856.0</td>\n",
       "      <td>8098.0</td>\n",
       "      <td>2.0</td>\n",
       "      <td>112.0</td>\n",
       "      <td>1.0</td>\n",
       "      <td>48.0</td>\n",
       "      <td>121.0</td>\n",
       "    </tr>\n",
       "  </tbody>\n",
       "</table>\n",
       "<p>5 rows × 22 columns</p>\n",
       "</div>"
      ],
      "text/plain": [
       "   total_images  last_price  total_area first_day_exposition  rooms  \\\n",
       "0            20  13000000.0       108.0  2019-03-07T00:00:00      3   \n",
       "1             7   3350000.0        40.4  2018-12-04T00:00:00      1   \n",
       "2            10   5196000.0        56.0  2015-08-20T00:00:00      2   \n",
       "3             0  64900000.0       159.0  2015-07-24T00:00:00      3   \n",
       "4             2  10000000.0       100.0  2018-06-19T00:00:00      2   \n",
       "\n",
       "   ceiling_height  floors_total  living_area  floor is_apartment  ...  \\\n",
       "0            2.70          16.0         51.0      8          NaN  ...   \n",
       "1             NaN          11.0         18.6      1          NaN  ...   \n",
       "2             NaN           5.0         34.3      4          NaN  ...   \n",
       "3             NaN          14.0          NaN      9          NaN  ...   \n",
       "4            3.03          14.0         32.0     13          NaN  ...   \n",
       "\n",
       "   kitchen_area  balcony    locality_name  airports_nearest  \\\n",
       "0          25.0      NaN  Санкт-Петербург           18863.0   \n",
       "1          11.0      2.0   посёлок Шушары           12817.0   \n",
       "2           8.3      0.0  Санкт-Петербург           21741.0   \n",
       "3           NaN      0.0  Санкт-Петербург           28098.0   \n",
       "4          41.0      NaN  Санкт-Петербург           31856.0   \n",
       "\n",
       "  cityCenters_nearest  parks_around3000  parks_nearest  ponds_around3000  \\\n",
       "0             16028.0               1.0          482.0               2.0   \n",
       "1             18603.0               0.0            NaN               0.0   \n",
       "2             13933.0               1.0           90.0               2.0   \n",
       "3              6800.0               2.0           84.0               3.0   \n",
       "4              8098.0               2.0          112.0               1.0   \n",
       "\n",
       "   ponds_nearest  days_exposition  \n",
       "0          755.0              NaN  \n",
       "1            NaN             81.0  \n",
       "2          574.0            558.0  \n",
       "3          234.0            424.0  \n",
       "4           48.0            121.0  \n",
       "\n",
       "[5 rows x 22 columns]"
      ]
     },
     "execution_count": 5,
     "metadata": {},
     "output_type": "execute_result"
    }
   ],
   "source": [
    "df[df['is_apartment'].isna()].head()"
   ]
  },
  {
   "cell_type": "markdown",
   "metadata": {},
   "source": [
    "Удалим строки с пустым значением locality_name, так как они могут нам помешать с дальнейшими расчетами."
   ]
  },
  {
   "cell_type": "code",
   "execution_count": 6,
   "metadata": {},
   "outputs": [
    {
     "data": {
      "text/plain": [
       "0"
      ]
     },
     "execution_count": 6,
     "metadata": {},
     "output_type": "execute_result"
    }
   ],
   "source": [
    "df = df.dropna(subset=['locality_name'])\n",
    "df['locality_name'].isna().sum()"
   ]
  },
  {
   "cell_type": "markdown",
   "metadata": {},
   "source": [
    "Дату публикации переведем в нужный нам формат:"
   ]
  },
  {
   "cell_type": "code",
   "execution_count": 7,
   "metadata": {},
   "outputs": [],
   "source": [
    "df['first_day_exposition'] = pd.to_datetime(df['first_day_exposition'], format=FORMAT)"
   ]
  },
  {
   "cell_type": "markdown",
   "metadata": {},
   "source": [
    "Можно предположить, что в столбце days_exposition пропуски обозначают,что объявление еще действующее. Значит,для заполнения нам нужно вычесть из первого дня публикации - сегодняшнюю. Также заменим тип данных на int:"
   ]
  },
  {
   "cell_type": "code",
   "execution_count": 8,
   "metadata": {},
   "outputs": [
    {
     "name": "stdout",
     "output_type": "stream",
     "text": [
      "Пропусков до: 3180\n",
      "Пропусков после: 0\n"
     ]
    }
   ],
   "source": [
    "print('Пропусков до:', df['days_exposition'].isna().sum())\n",
    "df.loc[df['days_exposition'].isna(), 'days_exposition'] = (df['first_day_exposition'].max() - df.loc[df['days_exposition'].isna(), 'first_day_exposition']).dt.days\n",
    "print('Пропусков после:', df['days_exposition'].isna().sum())\n",
    "#заменяем тип данных\n",
    "df['days_exposition'] = df['days_exposition'].astype('int')"
   ]
  },
  {
   "cell_type": "markdown",
   "metadata": {},
   "source": [
    "Высоту потолков заполним с помощью группировки по переменной locality_name:"
   ]
  },
  {
   "cell_type": "code",
   "execution_count": 9,
   "metadata": {
    "scrolled": true
   },
   "outputs": [
    {
     "name": "stdout",
     "output_type": "stream",
     "text": [
      "Пропуски до: 9160\n",
      "Пропуски после: 0\n"
     ]
    }
   ],
   "source": [
    "print('Пропуски до:', df['ceiling_height'].isna().sum())\n",
    "#заполняем пропуски с помощью loc\n",
    "for locality_name in df['locality_name'].unique():\n",
    "    median = df.loc[df['locality_name'] == locality_name, 'ceiling_height'].median()\n",
    "    df.loc[(df['ceiling_height'].isna()) & (df['locality_name'] == locality_name), 'ceiling_height'] = median\n",
    "   \n",
    "df.loc[df['ceiling_height'].isna(), 'ceiling_height'] = df['ceiling_height'].median()#все,что не заполнилось,заполняем общей медианой\n",
    "\n",
    "print('Пропуски после:', df['ceiling_height'].isna().sum())   "
   ]
  },
  {
   "cell_type": "markdown",
   "metadata": {},
   "source": [
    "Кол-во этажей , удаленность от аэропорта, центра, а также пруды и парки рядом заполняем аналогично:"
   ]
  },
  {
   "cell_type": "code",
   "execution_count": 10,
   "metadata": {
    "scrolled": true
   },
   "outputs": [
    {
     "name": "stdout",
     "output_type": "stream",
     "text": [
      "Пропуски до: 85\n",
      "Пропуски после: 0\n"
     ]
    }
   ],
   "source": [
    "print('Пропуски до:', df['floors_total'].isna().sum())\n",
    "\n",
    "for locality_name in df['locality_name'].unique():\n",
    "    median = df.loc[df['locality_name'] == locality_name, 'floors_total'].median()\n",
    "    df.loc[(df['floors_total'].isna()) & (df['locality_name'] == locality_name), 'floors_total'] = median\n",
    "   \n",
    "print('Пропуски после:', df['floors_total'].isna().sum())"
   ]
  },
  {
   "cell_type": "markdown",
   "metadata": {},
   "source": [
    "Заменим тип данных на int:"
   ]
  },
  {
   "cell_type": "code",
   "execution_count": 11,
   "metadata": {},
   "outputs": [],
   "source": [
    "df['floors_total'] = df['floors_total'].astype('int')"
   ]
  },
  {
   "cell_type": "code",
   "execution_count": 12,
   "metadata": {},
   "outputs": [
    {
     "name": "stdout",
     "output_type": "stream",
     "text": [
      "Пропуски до: 5534\n",
      "Пропуски после: 0\n"
     ]
    }
   ],
   "source": [
    "print('Пропуски до:', df['airports_nearest'].isna().sum())\n",
    "\n",
    "for locality_name in df['locality_name'].unique():\n",
    "    median = df.loc[df['locality_name'] == locality_name, 'airports_nearest'].median()\n",
    "    df.loc[(df['airports_nearest'].isna()) & (df['locality_name'] == locality_name), 'airports_nearest'] = median\n",
    "   \n",
    "df.loc[df['airports_nearest'].isna(), 'airports_nearest'] = df['airports_nearest'].median()\n",
    "\n",
    "print('Пропуски после:', df['airports_nearest'].isna().sum())"
   ]
  },
  {
   "cell_type": "code",
   "execution_count": 13,
   "metadata": {},
   "outputs": [
    {
     "name": "stdout",
     "output_type": "stream",
     "text": [
      "Пропуски до: 5511\n",
      "Пропуски после: 0\n"
     ]
    }
   ],
   "source": [
    "print('Пропуски до:', df['cityCenters_nearest'].isna().sum())\n",
    "\n",
    "for locality_name in df['locality_name'].unique():\n",
    "    median = df.loc[df['locality_name'] == locality_name, 'cityCenters_nearest'].median()\n",
    "    df.loc[(df['cityCenters_nearest'].isna()) & (df['locality_name'] == locality_name), 'cityCenters_nearest'] = median\n",
    "   \n",
    "df.loc[df['cityCenters_nearest'].isna(), 'cityCenters_nearest'] = df['cityCenters_nearest'].median()\n",
    "\n",
    "print('Пропуски после:', df['cityCenters_nearest'].isna().sum())"
   ]
  },
  {
   "cell_type": "code",
   "execution_count": 14,
   "metadata": {},
   "outputs": [
    {
     "name": "stdout",
     "output_type": "stream",
     "text": [
      "Пропуски до: 15586\n",
      "Пропуски после: 0\n"
     ]
    }
   ],
   "source": [
    "print('Пропуски до:', df['parks_nearest'].isna().sum())\n",
    "\n",
    "for locality_name in df['locality_name'].unique():\n",
    "    median = df.loc[df['locality_name'] == locality_name, 'parks_nearest'].median()\n",
    "    df.loc[(df['parks_nearest'].isna()) & (df['locality_name'] == locality_name), 'parks_nearest'] = median\n",
    "   \n",
    "df.loc[df['parks_nearest'].isna(), 'parks_nearest'] = df['parks_nearest'].median()\n",
    "\n",
    "print('Пропуски после:', df['parks_nearest'].isna().sum())"
   ]
  },
  {
   "cell_type": "code",
   "execution_count": 15,
   "metadata": {},
   "outputs": [
    {
     "name": "stdout",
     "output_type": "stream",
     "text": [
      "Пропуски до: 14565\n",
      "Пропуски после: 0\n"
     ]
    }
   ],
   "source": [
    "print('Пропуски до:', df['ponds_nearest'].isna().sum())\n",
    "\n",
    "for locality_name in df['locality_name'].unique():\n",
    "    median = df.loc[df['locality_name'] == locality_name, 'ponds_nearest'].median()\n",
    "    df.loc[(df['ponds_nearest'].isna()) & (df['locality_name'] == locality_name), 'ponds_nearest'] = median\n",
    "   \n",
    "df.loc[df['ponds_nearest'].isna(), 'ponds_nearest'] = df['ponds_nearest'].median()\n",
    "\n",
    "print('Пропуски после:', df['ponds_nearest'].isna().sum())"
   ]
  },
  {
   "cell_type": "markdown",
   "metadata": {},
   "source": [
    "Жилую площадь и площадь кухни мы заполним с помощью группировки, но уже по переменной rooms(так как это напрямую зависит от кол-во комнат):"
   ]
  },
  {
   "cell_type": "code",
   "execution_count": 16,
   "metadata": {},
   "outputs": [
    {
     "name": "stdout",
     "output_type": "stream",
     "text": [
      "Пропуски до: 1898\n",
      "Пропуски после: 0\n"
     ]
    }
   ],
   "source": [
    "print('Пропуски до:', df['living_area'].isna().sum())\n",
    "\n",
    "for rooms in df['rooms'].unique():\n",
    "    median = df.loc[df['rooms'] == rooms, 'living_area'].median()\n",
    "    df.loc[(df['living_area'].isna()) & (df['rooms'] == rooms), 'living_area'] = median\n",
    "   \n",
    "df.loc[df['living_area'].isna(), 'living_area'] = df['living_area'].median()\n",
    "\n",
    "print('Пропуски после:', df['living_area'].isna().sum())"
   ]
  },
  {
   "cell_type": "code",
   "execution_count": 17,
   "metadata": {
    "scrolled": true
   },
   "outputs": [
    {
     "name": "stdout",
     "output_type": "stream",
     "text": [
      "Пропуски до: 2269\n",
      "Пропуски после: 0\n"
     ]
    }
   ],
   "source": [
    "print('Пропуски до:', df['kitchen_area'].isna().sum())\n",
    "\n",
    "for rooms in df['rooms'].unique():\n",
    "    median = df.loc[df['rooms'] == rooms, 'kitchen_area'].median()\n",
    "    df.loc[(df['kitchen_area'].isna()) & (df['rooms'] == rooms), 'kitchen_area'] = median\n",
    "   \n",
    "df.loc[df['kitchen_area'].isna(), 'kitchen_area'] = df['kitchen_area'].median()\n",
    "\n",
    "print('Пропуски после:', df['kitchen_area'].isna().sum())"
   ]
  },
  {
   "cell_type": "markdown",
   "metadata": {},
   "source": [
    "Наличие балкона при продажа существенный плюс,поэтому при заполнении объявления продавец в любом случае заполнит этот пункт. Значит,можно предположить,что пропуск в данном случае обозначает отсутствие балкона. С помощью fillna заменим пропуски на 0. И заменим тип данных на int."
   ]
  },
  {
   "cell_type": "code",
   "execution_count": 18,
   "metadata": {
    "scrolled": true
   },
   "outputs": [
    {
     "name": "stdout",
     "output_type": "stream",
     "text": [
      "Пропуски до: 11513\n",
      "Пропуски после: 0\n"
     ]
    }
   ],
   "source": [
    "print('Пропуски до:', df['balcony'].isna().sum())\n",
    "df['balcony'] = df['balcony'].fillna(0)\n",
    "print('Пропуски после:', df['balcony'].isna().sum())\n",
    "df['balcony'] = df['balcony'].astype('int')"
   ]
  },
  {
   "cell_type": "markdown",
   "metadata": {},
   "source": [
    "Пункт \"апартаменты\" не менее важен. Его также обязательно будут заполнять,так как в данном типе недвижимости нельзя прописаться. Соответственно заполним пропуски на 'False'."
   ]
  },
  {
   "cell_type": "code",
   "execution_count": 19,
   "metadata": {
    "scrolled": true
   },
   "outputs": [
    {
     "data": {
      "text/plain": [
       "0        False\n",
       "1        False\n",
       "2        False\n",
       "3        False\n",
       "4        False\n",
       "         ...  \n",
       "23694    False\n",
       "23695    False\n",
       "23696    False\n",
       "23697    False\n",
       "23698    False\n",
       "Name: is_apartment, Length: 23650, dtype: object"
      ]
     },
     "execution_count": 19,
     "metadata": {},
     "output_type": "execute_result"
    }
   ],
   "source": [
    "df['is_apartment'] = df['is_apartment'].fillna('False')\n",
    "df['is_apartment']"
   ]
  },
  {
   "cell_type": "markdown",
   "metadata": {},
   "source": [
    "Убедимся,что больше нет пропусков. Для этого еще раз проверим количество пропущенных значений."
   ]
  },
  {
   "cell_type": "code",
   "execution_count": 20,
   "metadata": {
    "scrolled": false
   },
   "outputs": [
    {
     "name": "stdout",
     "output_type": "stream",
     "text": [
      "<class 'pandas.core.frame.DataFrame'>\n",
      "Int64Index: 23650 entries, 0 to 23698\n",
      "Data columns (total 22 columns):\n",
      " #   Column                Non-Null Count  Dtype         \n",
      "---  ------                --------------  -----         \n",
      " 0   total_images          23650 non-null  int64         \n",
      " 1   last_price            23650 non-null  float64       \n",
      " 2   total_area            23650 non-null  float64       \n",
      " 3   first_day_exposition  23650 non-null  datetime64[ns]\n",
      " 4   rooms                 23650 non-null  int64         \n",
      " 5   ceiling_height        23650 non-null  float64       \n",
      " 6   floors_total          23650 non-null  int64         \n",
      " 7   living_area           23650 non-null  float64       \n",
      " 8   floor                 23650 non-null  int64         \n",
      " 9   is_apartment          23650 non-null  object        \n",
      " 10  studio                23650 non-null  bool          \n",
      " 11  open_plan             23650 non-null  bool          \n",
      " 12  kitchen_area          23650 non-null  float64       \n",
      " 13  balcony               23650 non-null  int64         \n",
      " 14  locality_name         23650 non-null  object        \n",
      " 15  airports_nearest      23650 non-null  float64       \n",
      " 16  cityCenters_nearest   23650 non-null  float64       \n",
      " 17  parks_around3000      18140 non-null  float64       \n",
      " 18  parks_nearest         23650 non-null  float64       \n",
      " 19  ponds_around3000      18140 non-null  float64       \n",
      " 20  ponds_nearest         23650 non-null  float64       \n",
      " 21  days_exposition       23650 non-null  int64         \n",
      "dtypes: bool(2), datetime64[ns](1), float64(11), int64(6), object(2)\n",
      "memory usage: 3.8+ MB\n"
     ]
    }
   ],
   "source": [
    "df.info()#количество пропущенных значений"
   ]
  },
  {
   "cell_type": "markdown",
   "metadata": {},
   "source": [
    "Мы видим,что пропуски заполнены везде, где это необходимо. Я считаю,что пропуски в столбцах parks_around3000 и  ponds_around3000 заполнять не требуется, так как в решениях наших задач эти данные не потребуются."
   ]
  },
  {
   "cell_type": "code",
   "execution_count": 21,
   "metadata": {},
   "outputs": [
    {
     "data": {
      "text/plain": [
       "0"
      ]
     },
     "execution_count": 21,
     "metadata": {},
     "output_type": "execute_result"
    }
   ],
   "source": [
    "df.duplicated().sum()#проверка дубликатов"
   ]
  },
  {
   "cell_type": "markdown",
   "metadata": {},
   "source": [
    "### Вывод\n",
    "Мы завершили работу над заполнением пропусков."
   ]
  },
  {
   "cell_type": "markdown",
   "metadata": {},
   "source": [
    "## Расчёты и добавление результатов в таблицу"
   ]
  },
  {
   "cell_type": "markdown",
   "metadata": {},
   "source": [
    "Посчитайте и добавьте в таблицу\n",
    "цену квадратного метра;\n",
    "день недели, месяц и год публикации объявления;\n",
    "этаж квартиры; варианты — первый, последний, другой;\n",
    "соотношение жилой и общей площади, а также отношение площади кухни к общей."
   ]
  },
  {
   "cell_type": "markdown",
   "metadata": {},
   "source": [
    "Считаем цену квадратного метра и для удобства приведем к типу int:"
   ]
  },
  {
   "cell_type": "code",
   "execution_count": 22,
   "metadata": {
    "scrolled": true
   },
   "outputs": [
    {
     "data": {
      "text/plain": [
       "0        120370\n",
       "1         82920\n",
       "2         92785\n",
       "3        408176\n",
       "4        100000\n",
       "          ...  \n",
       "23694     72490\n",
       "23695     52542\n",
       "23696     44091\n",
       "23697    149511\n",
       "23698     41795\n",
       "Name: price_per_square_meter, Length: 23650, dtype: int64"
      ]
     },
     "execution_count": 22,
     "metadata": {},
     "output_type": "execute_result"
    }
   ],
   "source": [
    "df['price_per_square_meter'] = (df['last_price'] / df['total_area']).astype('int')\n",
    "df['price_per_square_meter']"
   ]
  },
  {
   "cell_type": "markdown",
   "metadata": {},
   "source": [
    "С помощью DatetimeIndex добавляем столбцы с днем недели,месяцем и годом публикации объявления:"
   ]
  },
  {
   "cell_type": "code",
   "execution_count": 23,
   "metadata": {},
   "outputs": [
    {
     "data": {
      "text/html": [
       "<div>\n",
       "<style scoped>\n",
       "    .dataframe tbody tr th:only-of-type {\n",
       "        vertical-align: middle;\n",
       "    }\n",
       "\n",
       "    .dataframe tbody tr th {\n",
       "        vertical-align: top;\n",
       "    }\n",
       "\n",
       "    .dataframe thead th {\n",
       "        text-align: right;\n",
       "    }\n",
       "</style>\n",
       "<table border=\"1\" class=\"dataframe\">\n",
       "  <thead>\n",
       "    <tr style=\"text-align: right;\">\n",
       "      <th></th>\n",
       "      <th>day_exp</th>\n",
       "      <th>month_exp</th>\n",
       "      <th>year_exp</th>\n",
       "    </tr>\n",
       "  </thead>\n",
       "  <tbody>\n",
       "    <tr>\n",
       "      <th>0</th>\n",
       "      <td>3</td>\n",
       "      <td>3</td>\n",
       "      <td>2019</td>\n",
       "    </tr>\n",
       "    <tr>\n",
       "      <th>1</th>\n",
       "      <td>1</td>\n",
       "      <td>12</td>\n",
       "      <td>2018</td>\n",
       "    </tr>\n",
       "    <tr>\n",
       "      <th>2</th>\n",
       "      <td>3</td>\n",
       "      <td>8</td>\n",
       "      <td>2015</td>\n",
       "    </tr>\n",
       "    <tr>\n",
       "      <th>3</th>\n",
       "      <td>4</td>\n",
       "      <td>7</td>\n",
       "      <td>2015</td>\n",
       "    </tr>\n",
       "    <tr>\n",
       "      <th>4</th>\n",
       "      <td>1</td>\n",
       "      <td>6</td>\n",
       "      <td>2018</td>\n",
       "    </tr>\n",
       "    <tr>\n",
       "      <th>...</th>\n",
       "      <td>...</td>\n",
       "      <td>...</td>\n",
       "      <td>...</td>\n",
       "    </tr>\n",
       "    <tr>\n",
       "      <th>23694</th>\n",
       "      <td>1</td>\n",
       "      <td>3</td>\n",
       "      <td>2017</td>\n",
       "    </tr>\n",
       "    <tr>\n",
       "      <th>23695</th>\n",
       "      <td>0</td>\n",
       "      <td>1</td>\n",
       "      <td>2018</td>\n",
       "    </tr>\n",
       "    <tr>\n",
       "      <th>23696</th>\n",
       "      <td>6</td>\n",
       "      <td>2</td>\n",
       "      <td>2018</td>\n",
       "    </tr>\n",
       "    <tr>\n",
       "      <th>23697</th>\n",
       "      <td>1</td>\n",
       "      <td>3</td>\n",
       "      <td>2017</td>\n",
       "    </tr>\n",
       "    <tr>\n",
       "      <th>23698</th>\n",
       "      <td>4</td>\n",
       "      <td>7</td>\n",
       "      <td>2017</td>\n",
       "    </tr>\n",
       "  </tbody>\n",
       "</table>\n",
       "<p>23650 rows × 3 columns</p>\n",
       "</div>"
      ],
      "text/plain": [
       "       day_exp  month_exp  year_exp\n",
       "0            3          3      2019\n",
       "1            1         12      2018\n",
       "2            3          8      2015\n",
       "3            4          7      2015\n",
       "4            1          6      2018\n",
       "...        ...        ...       ...\n",
       "23694        1          3      2017\n",
       "23695        0          1      2018\n",
       "23696        6          2      2018\n",
       "23697        1          3      2017\n",
       "23698        4          7      2017\n",
       "\n",
       "[23650 rows x 3 columns]"
      ]
     },
     "metadata": {},
     "output_type": "display_data"
    }
   ],
   "source": [
    "df['day_exp'] = pd.DatetimeIndex(df['first_day_exposition']).weekday\n",
    "df['month_exp'] = pd.DatetimeIndex(df['first_day_exposition']).month\n",
    "df['year_exp'] = pd.DatetimeIndex(df['first_day_exposition']).year\n",
    "display(df[['day_exp', 'month_exp', 'year_exp']])"
   ]
  },
  {
   "cell_type": "markdown",
   "metadata": {},
   "source": [
    "Напишем функцию категоризации по этажам, используя метод apply применимо к каждой строке датафрейма через axis = 1"
   ]
  },
  {
   "cell_type": "code",
   "execution_count": 24,
   "metadata": {},
   "outputs": [
    {
     "data": {
      "text/plain": [
       "другой       17403\n",
       "последний     3335\n",
       "первый        2912\n",
       "Name: floor_group, dtype: int64"
      ]
     },
     "metadata": {},
     "output_type": "display_data"
    }
   ],
   "source": [
    "def floor_group(row):\n",
    "    if row['floor'] == 1:\n",
    "        return 'первый'\n",
    "    if row['floor'] == row['floors_total']:\n",
    "        return 'последний'\n",
    "    return 'другой'\n",
    "df['floor_group'] = df.apply(floor_group, axis=1)\n",
    "display(df['floor_group'].value_counts())"
   ]
  },
  {
   "cell_type": "markdown",
   "metadata": {},
   "source": [
    "Добавим столбец соотношения жилой плозади к общей, а также отношение площади кухни к общей."
   ]
  },
  {
   "cell_type": "code",
   "execution_count": 25,
   "metadata": {
    "scrolled": false
   },
   "outputs": [
    {
     "data": {
      "text/html": [
       "<div>\n",
       "<style scoped>\n",
       "    .dataframe tbody tr th:only-of-type {\n",
       "        vertical-align: middle;\n",
       "    }\n",
       "\n",
       "    .dataframe tbody tr th {\n",
       "        vertical-align: top;\n",
       "    }\n",
       "\n",
       "    .dataframe thead th {\n",
       "        text-align: right;\n",
       "    }\n",
       "</style>\n",
       "<table border=\"1\" class=\"dataframe\">\n",
       "  <thead>\n",
       "    <tr style=\"text-align: right;\">\n",
       "      <th></th>\n",
       "      <th>living_area_ratio</th>\n",
       "      <th>kitchen_area_ratio</th>\n",
       "    </tr>\n",
       "  </thead>\n",
       "  <tbody>\n",
       "    <tr>\n",
       "      <th>0</th>\n",
       "      <td>0.472222</td>\n",
       "      <td>0.231481</td>\n",
       "    </tr>\n",
       "    <tr>\n",
       "      <th>1</th>\n",
       "      <td>0.460396</td>\n",
       "      <td>0.272277</td>\n",
       "    </tr>\n",
       "    <tr>\n",
       "      <th>2</th>\n",
       "      <td>0.612500</td>\n",
       "      <td>0.148214</td>\n",
       "    </tr>\n",
       "    <tr>\n",
       "      <th>3</th>\n",
       "      <td>0.283019</td>\n",
       "      <td>0.059748</td>\n",
       "    </tr>\n",
       "    <tr>\n",
       "      <th>4</th>\n",
       "      <td>0.320000</td>\n",
       "      <td>0.410000</td>\n",
       "    </tr>\n",
       "    <tr>\n",
       "      <th>...</th>\n",
       "      <td>...</td>\n",
       "      <td>...</td>\n",
       "    </tr>\n",
       "    <tr>\n",
       "      <th>23694</th>\n",
       "      <td>0.547792</td>\n",
       "      <td>0.103356</td>\n",
       "    </tr>\n",
       "    <tr>\n",
       "      <th>23695</th>\n",
       "      <td>0.644068</td>\n",
       "      <td>0.144068</td>\n",
       "    </tr>\n",
       "    <tr>\n",
       "      <th>23696</th>\n",
       "      <td>0.523810</td>\n",
       "      <td>0.155203</td>\n",
       "    </tr>\n",
       "    <tr>\n",
       "      <th>23697</th>\n",
       "      <td>0.397394</td>\n",
       "      <td>0.303583</td>\n",
       "    </tr>\n",
       "    <tr>\n",
       "      <th>23698</th>\n",
       "      <td>0.380805</td>\n",
       "      <td>0.278638</td>\n",
       "    </tr>\n",
       "  </tbody>\n",
       "</table>\n",
       "<p>23650 rows × 2 columns</p>\n",
       "</div>"
      ],
      "text/plain": [
       "       living_area_ratio  kitchen_area_ratio\n",
       "0               0.472222            0.231481\n",
       "1               0.460396            0.272277\n",
       "2               0.612500            0.148214\n",
       "3               0.283019            0.059748\n",
       "4               0.320000            0.410000\n",
       "...                  ...                 ...\n",
       "23694           0.547792            0.103356\n",
       "23695           0.644068            0.144068\n",
       "23696           0.523810            0.155203\n",
       "23697           0.397394            0.303583\n",
       "23698           0.380805            0.278638\n",
       "\n",
       "[23650 rows x 2 columns]"
      ]
     },
     "metadata": {},
     "output_type": "display_data"
    }
   ],
   "source": [
    "df['living_area_ratio'] = df['living_area'] / df['total_area']\n",
    "df['kitchen_area_ratio'] = df['kitchen_area'] / df['total_area']\n",
    "display(df[['living_area_ratio','kitchen_area_ratio']])"
   ]
  },
  {
   "cell_type": "markdown",
   "metadata": {},
   "source": [
    "Проверим на наличие дубликатов."
   ]
  },
  {
   "cell_type": "code",
   "execution_count": 26,
   "metadata": {},
   "outputs": [
    {
     "data": {
      "text/plain": [
       "0"
      ]
     },
     "execution_count": 26,
     "metadata": {},
     "output_type": "execute_result"
    }
   ],
   "source": [
    "df.duplicated().sum()"
   ]
  },
  {
   "cell_type": "markdown",
   "metadata": {},
   "source": [
    "## Исследовательский анализ данных"
   ]
  },
  {
   "cell_type": "markdown",
   "metadata": {},
   "source": [
    "Изучите следующие параметры: площадь, цена, число комнат, высота потолков. Постройте гистограммы для каждого параметра."
   ]
  },
  {
   "cell_type": "markdown",
   "metadata": {},
   "source": [
    "Напишем функции для построения графиков:"
   ]
  },
  {
   "cell_type": "code",
   "execution_count": 27,
   "metadata": {},
   "outputs": [],
   "source": [
    "#построение гистограммы\n",
    "def draw_hist(col, xmin, xmax, title, xlab, ylab):\n",
    "    df.hist(col, bins=50, range=(xmin,xmax), grid=True)\n",
    "    plt.title(title, size=14)\n",
    "    plt.xlabel(xlab)\n",
    "    plt.ylabel(ylab)\n",
    "    \n",
    "    \n",
    "#построение диаграммы размаха\n",
    "def draw_boxplot(col, ymin, ymax, title):\n",
    "    df.boxplot(column=col)\n",
    "    plt.ylim(ymin, ymax)\n",
    "    plt.title(title, size=14)"
   ]
  },
  {
   "cell_type": "markdown",
   "metadata": {},
   "source": [
    "Построим гистограмму для площади:"
   ]
  },
  {
   "cell_type": "code",
   "execution_count": 28,
   "metadata": {
    "scrolled": false
   },
   "outputs": [
    {
     "data": {
      "image/png": "[encoded data removed]",
      "text/plain": [
       "<Figure size 432x288 with 1 Axes>"
      ]
     },
     "metadata": {
      "needs_background": "light"
     },
     "output_type": "display_data"
    }
   ],
   "source": [
    "draw_hist('total_area', 0, 400, 'Площади квартир', 'Площадь, м²', 'Количество квартир, шт.')"
   ]
  },
  {
   "cell_type": "markdown",
   "metadata": {},
   "source": [
    "Гистограмма выглядит правдоподобно, большинство квартир имеют площадь от 25 до 60 кв.метров, пик значений около 45 кв.м., а после 100 частота стремительно уменьшается. Построим диаграмму размаха:"
   ]
  },
  {
   "cell_type": "code",
   "execution_count": 29,
   "metadata": {
    "scrolled": true
   },
   "outputs": [
    {
     "data": {
      "image/png": "[encoded data removed]",
      "text/plain": [
       "<Figure size 432x288 with 1 Axes>"
      ]
     },
     "metadata": {
      "needs_background": "light"
     },
     "output_type": "display_data"
    }
   ],
   "source": [
    "draw_boxplot('total_area', 0, 400, 'Площади квартир')"
   ]
  },
  {
   "cell_type": "markdown",
   "metadata": {},
   "source": [
    "Распределение нормальных значений от 20 до до 120 квадратных метров. Избавимся от выбивающихся значений:"
   ]
  },
  {
   "cell_type": "code",
   "execution_count": 30,
   "metadata": {},
   "outputs": [
    {
     "data": {
      "image/png": "[encoded data removed]",
      "text/plain": [
       "<Figure size 432x288 with 1 Axes>"
      ]
     },
     "metadata": {
      "needs_background": "light"
     },
     "output_type": "display_data"
    }
   ],
   "source": [
    "df = df.query('total_area > 20 and total_area <= 120')\n",
    "draw_hist('total_area', 0, 150, 'Площади квартир', 'Площадь, м²', 'Количество квартир, шт.')"
   ]
  },
  {
   "cell_type": "markdown",
   "metadata": {},
   "source": [
    "Построим гистограмму для цены:"
   ]
  },
  {
   "cell_type": "code",
   "execution_count": 31,
   "metadata": {
    "scrolled": true
   },
   "outputs": [
    {
     "data": {
      "image/png": "[encoded data removed]",
      "text/plain": [
       "<Figure size 432x288 with 1 Axes>"
      ]
     },
     "metadata": {
      "needs_background": "light"
     },
     "output_type": "display_data"
    }
   ],
   "source": [
    "draw_hist('price_per_square_meter', 0, 500000, 'Цены квартир', 'Цена за м²', 'Количество квартир, шт.')"
   ]
  },
  {
   "cell_type": "markdown",
   "metadata": {},
   "source": [
    "Мы наблюдаем, что пик цены за квадратный метр около 90 тыс.руб, что похоже на правду, так как большинство данных в таблице по Петербургу. После 200000 частота стремительно уменьшается. Строим диаграмму размаха:"
   ]
  },
  {
   "cell_type": "code",
   "execution_count": 32,
   "metadata": {
    "scrolled": true
   },
   "outputs": [
    {
     "data": {
      "image/png": "[encoded data removed]",
      "text/plain": [
       "<Figure size 432x288 with 1 Axes>"
      ]
     },
     "metadata": {
      "needs_background": "light"
     },
     "output_type": "display_data"
    }
   ],
   "source": [
    "draw_boxplot('price_per_square_meter', 0, 500000, 'Цены квартир')"
   ]
  },
  {
   "cell_type": "markdown",
   "metadata": {},
   "source": [
    "Распределение нормальных значений от 10 до 180 тыс.руб. Избавимся от выбросов:"
   ]
  },
  {
   "cell_type": "code",
   "execution_count": 33,
   "metadata": {
    "scrolled": true
   },
   "outputs": [
    {
     "data": {
      "image/png": "[encoded data removed]",
      "text/plain": [
       "<Figure size 432x288 with 1 Axes>"
      ]
     },
     "metadata": {
      "needs_background": "light"
     },
     "output_type": "display_data"
    }
   ],
   "source": [
    "df = df.query('price_per_square_meter >= 10000 and price_per_square_meter <= 180000')\n",
    "draw_hist('price_per_square_meter', 0, 180000, 'Цены квартир', 'Цена за м²', 'Количество квартир, шт.')"
   ]
  },
  {
   "cell_type": "markdown",
   "metadata": {},
   "source": [
    "Гистограмма для кол-ва комнат:"
   ]
  },
  {
   "cell_type": "code",
   "execution_count": 34,
   "metadata": {},
   "outputs": [
    {
     "data": {
      "image/png": "[encoded data removed]",
      "text/plain": [
       "<Figure size 432x288 with 1 Axes>"
      ]
     },
     "metadata": {
      "needs_background": "light"
     },
     "output_type": "display_data"
    }
   ],
   "source": [
    "draw_hist('rooms', 0, 10, 'Число комнат', 'Число комнат,шт', 'Количество квартир, шт.')"
   ]
  },
  {
   "cell_type": "markdown",
   "metadata": {},
   "source": [
    "Больше всего встречаются однокомнатные и двухкомнатные квартиры. Предполагаю,что 0 в данном случае студия. Построим диаграмму размаха:"
   ]
  },
  {
   "cell_type": "code",
   "execution_count": 35,
   "metadata": {
    "scrolled": false
   },
   "outputs": [
    {
     "data": {
      "image/png": "[encoded data removed]",
      "text/plain": [
       "<Figure size 432x288 with 1 Axes>"
      ]
     },
     "metadata": {
      "needs_background": "light"
     },
     "output_type": "display_data"
    }
   ],
   "source": [
    "draw_boxplot('rooms', 0, 10,'Число комнат')"
   ]
  },
  {
   "cell_type": "markdown",
   "metadata": {},
   "source": [
    "Избавимся от выбросов:"
   ]
  },
  {
   "cell_type": "code",
   "execution_count": 36,
   "metadata": {
    "scrolled": true
   },
   "outputs": [
    {
     "data": {
      "image/png": "[encoded data removed]",
      "text/plain": [
       "<Figure size 432x288 with 1 Axes>"
      ]
     },
     "metadata": {
      "needs_background": "light"
     },
     "output_type": "display_data"
    }
   ],
   "source": [
    "df = df.query('rooms < 6')\n",
    "draw_hist('rooms', 0, 7, 'Число комнат', 'Число комнат,шт', 'Количество квартир, шт.')"
   ]
  },
  {
   "cell_type": "markdown",
   "metadata": {},
   "source": [
    "Гистограмма для высоты потолков:"
   ]
  },
  {
   "cell_type": "code",
   "execution_count": 37,
   "metadata": {
    "scrolled": true
   },
   "outputs": [
    {
     "data": {
      "image/png": "[encoded data removed]",
      "text/plain": [
       "<Figure size 432x288 with 1 Axes>"
      ]
     },
     "metadata": {
      "needs_background": "light"
     },
     "output_type": "display_data"
    }
   ],
   "source": [
    "draw_hist('ceiling_height', 0, 5, 'Высота потолков', 'Высота потолков, м', 'Количество квартир, шт.')"
   ]
  },
  {
   "cell_type": "markdown",
   "metadata": {},
   "source": [
    "Наиболее часто встречаются потолки высотой примерно 2.8 м. Построим диаграмму размаха, чтобы рассмотреть детальнее:"
   ]
  },
  {
   "cell_type": "code",
   "execution_count": 38,
   "metadata": {
    "scrolled": true
   },
   "outputs": [
    {
     "data": {
      "image/png": "[encoded data removed]",
      "text/plain": [
       "<Figure size 432x288 with 1 Axes>"
      ]
     },
     "metadata": {
      "needs_background": "light"
     },
     "output_type": "display_data"
    }
   ],
   "source": [
    "draw_boxplot('ceiling_height', 0, 5, 'Высота потолков')"
   ]
  },
  {
   "cell_type": "markdown",
   "metadata": {},
   "source": [
    "Видим,что нормальные значения расположены примерно от 2.3 м до 2.9 метров,все остальное редкие и выбивающиеся значения. Избавимся от них."
   ]
  },
  {
   "cell_type": "code",
   "execution_count": 39,
   "metadata": {},
   "outputs": [
    {
     "data": {
      "image/png": "[encoded data removed]",
      "text/plain": [
       "<Figure size 432x288 with 1 Axes>"
      ]
     },
     "metadata": {
      "needs_background": "light"
     },
     "output_type": "display_data"
    }
   ],
   "source": [
    "df = df.query('ceiling_height >= 2.3 and ceiling_height <= 2.9')\n",
    "draw_hist('ceiling_height', 2, 3, 'Высота потолков', 'Высота потолков, м', 'Количество квартир, шт.')"
   ]
  },
  {
   "cell_type": "markdown",
   "metadata": {},
   "source": [
    "Изучите время продажи квартиры. Постройте гистограмму. Посчитайте среднее и медиану. Опишите, сколько обычно занимает продажа. Когда можно считать, что продажи прошли очень быстро, а когда необычно долго?\n",
    "Уберите редкие и выбивающиеся значения. Опишите, какие особенности обнаружили."
   ]
  },
  {
   "cell_type": "markdown",
   "metadata": {},
   "source": [
    "Построим гистограмму времени продажи квартиры:"
   ]
  },
  {
   "cell_type": "code",
   "execution_count": 40,
   "metadata": {
    "scrolled": false
   },
   "outputs": [
    {
     "data": {
      "image/png": "[encoded data removed]",
      "text/plain": [
       "<Figure size 432x288 with 1 Axes>"
      ]
     },
     "metadata": {
      "needs_background": "light"
     },
     "output_type": "display_data"
    }
   ],
   "source": [
    "draw_hist('days_exposition', 0, 1600, 'Время продажи квартир', 'Кол-во дней, дни', 'Количество квартир, шт.')"
   ]
  },
  {
   "cell_type": "markdown",
   "metadata": {},
   "source": [
    "Мы видим, что пик значений практически около нуля, после 400 дней значения похожи на выбросы. Также хвост сильно смещен вправо - значит медиана и среднее будут сильно отличаться. Медиана будет позывать наиболее верные выводы. Построим гистограмму с меньшими значениями,что постмотреть детальнее:"
   ]
  },
  {
   "cell_type": "code",
   "execution_count": 41,
   "metadata": {
    "scrolled": true
   },
   "outputs": [
    {
     "data": {
      "image/png": "[encoded data removed]",
      "text/plain": [
       "<Figure size 432x288 with 1 Axes>"
      ]
     },
     "metadata": {
      "needs_background": "light"
     },
     "output_type": "display_data"
    }
   ],
   "source": [
    "draw_hist('days_exposition', 0, 200, 'Время продажи квартир', 'Кол-во дней, дни', 'Количество квартир, шт.')"
   ]
  },
  {
   "cell_type": "markdown",
   "metadata": {},
   "source": [
    "Видим,что пик значений около 45 дней. Построим диграмму размаха и посмотрим на медиану и среднее:"
   ]
  },
  {
   "cell_type": "markdown",
   "metadata": {},
   "source": [
    "\n",
    "Можно предположить,что пики находятся на середине и конце месяца. В это время совершается больше сделок, за счет выплаты зарплат, оформления ипотек и пр."
   ]
  },
  {
   "cell_type": "markdown",
   "metadata": {},
   "source": [
    "Построим диаграмму размаха и также посмотрим на описательные статистики:"
   ]
  },
  {
   "cell_type": "code",
   "execution_count": 42,
   "metadata": {
    "scrolled": false
   },
   "outputs": [
    {
     "data": {
      "image/png": "[encoded data removed]",
      "text/plain": [
       "<Figure size 432x288 with 1 Axes>"
      ]
     },
     "metadata": {
      "needs_background": "light"
     },
     "output_type": "display_data"
    }
   ],
   "source": [
    "draw_boxplot('days_exposition', -50, 1200, 'Время продажи квартир')"
   ]
  },
  {
   "cell_type": "code",
   "execution_count": 43,
   "metadata": {},
   "outputs": [
    {
     "data": {
      "text/plain": [
       "count    20105.000000\n",
       "mean       171.663517\n",
       "std        215.882253\n",
       "min          0.000000\n",
       "25%         41.000000\n",
       "50%         89.000000\n",
       "75%        216.000000\n",
       "max       1618.000000\n",
       "Name: days_exposition, dtype: float64"
      ]
     },
     "execution_count": 43,
     "metadata": {},
     "output_type": "execute_result"
    }
   ],
   "source": [
    "df['days_exposition'].describe()"
   ]
  },
  {
   "cell_type": "markdown",
   "metadata": {},
   "source": [
    "Действительно, среднее гораздо больше медианы,мы уже выяснили почему. Медиана 41-это и будет верхняя граница быстрой продажи. Чтобы понять,какие продажи длились необычно долго посмотрим на третий квартиль. Более 216 дней наша продажа будет считаться долгой. Также, удаляем выбросы:"
   ]
  },
  {
   "cell_type": "code",
   "execution_count": 44,
   "metadata": {},
   "outputs": [
    {
     "data": {
      "image/png": "[encoded data removed]",
      "text/plain": [
       "<Figure size 432x288 with 1 Axes>"
      ]
     },
     "metadata": {
      "needs_background": "light"
     },
     "output_type": "display_data"
    }
   ],
   "source": [
    "df = df.query('days_exposition>0 and days_exposition<=470')\n",
    "draw_hist('days_exposition', 0, 600, 'Время продажи квартир', 'Кол-во дней, дни', 'Количество квартир, шт.')"
   ]
  },
  {
   "cell_type": "markdown",
   "metadata": {},
   "source": [
    "Какие факторы больше всего влияют на стоимость квартиры? Изучите, зависит ли цена от площади, числа комнат, удалённости от центра.  "
   ]
  },
  {
   "cell_type": "markdown",
   "metadata": {},
   "source": [
    "Напишем функцию для построения диаграммы рассеивания."
   ]
  },
  {
   "cell_type": "code",
   "execution_count": 45,
   "metadata": {},
   "outputs": [],
   "source": [
    "def draw_plot(x, y, title, xlab, ylab):\n",
    "    df.plot(x, y, kind='hexbin', gridsize=20, figsize=(8, 6), sharex=False, grid=True)\n",
    "    plt.title(title, size=14)\n",
    "    plt.xlabel(xlab)\n",
    "    plt.ylabel(ylab)"
   ]
  },
  {
   "cell_type": "markdown",
   "metadata": {},
   "source": [
    "Посмотрим на зависимость цены от площади,числа комнат и удаленности от центра. Построим диаграммы рассеивания:"
   ]
  },
  {
   "cell_type": "code",
   "execution_count": 46,
   "metadata": {},
   "outputs": [
    {
     "data": {
      "text/plain": [
       "0.011118866477600449"
      ]
     },
     "execution_count": 46,
     "metadata": {},
     "output_type": "execute_result"
    },
    {
     "data": {
      "image/png": "[encoded data removed]",
      "text/plain": [
       "<Figure size 576x432 with 2 Axes>"
      ]
     },
     "metadata": {
      "needs_background": "light"
     },
     "output_type": "display_data"
    }
   ],
   "source": [
    "draw_plot('total_area', 'price_per_square_meter', 'Зависимость цены от площади', 'Площадь, м²', 'Цена, руб./м²')\n",
    "df['total_area'].corr(df['price_per_square_meter'])"
   ]
  },
  {
   "cell_type": "markdown",
   "metadata": {},
   "source": [
    "Коэффициент корреляции положителен, но очень мал. Можно сделать вывод, что зависимость есть,но небольшая."
   ]
  },
  {
   "cell_type": "code",
   "execution_count": 47,
   "metadata": {},
   "outputs": [
    {
     "data": {
      "text/plain": [
       "-0.18358272833223874"
      ]
     },
     "execution_count": 47,
     "metadata": {},
     "output_type": "execute_result"
    },
    {
     "data": {
      "image/png": "[encoded data removed]",
      "text/plain": [
       "<Figure size 576x432 with 2 Axes>"
      ]
     },
     "metadata": {
      "needs_background": "light"
     },
     "output_type": "display_data"
    }
   ],
   "source": [
    "draw_plot('rooms', 'price_per_square_meter', 'Зависимость цены от числа комнат', 'Число комнат,шт.', 'Цена, руб./м²')\n",
    "df['rooms'].corr(df['price_per_square_meter'])"
   ]
  },
  {
   "cell_type": "markdown",
   "metadata": {},
   "source": [
    "В данном случае корреляция отрицательна,значит с увеличением числа комнат цена за квадратный метр снижается. Это же мы видим и на графике. "
   ]
  },
  {
   "cell_type": "code",
   "execution_count": 48,
   "metadata": {
    "scrolled": false
   },
   "outputs": [
    {
     "data": {
      "text/plain": [
       "-0.1839501073075347"
      ]
     },
     "execution_count": 48,
     "metadata": {},
     "output_type": "execute_result"
    },
    {
     "data": {
      "image/png": "[encoded data removed]",
      "text/plain": [
       "<Figure size 576x432 with 2 Axes>"
      ]
     },
     "metadata": {
      "needs_background": "light"
     },
     "output_type": "display_data"
    }
   ],
   "source": [
    "draw_plot('cityCenters_nearest', 'price_per_square_meter', 'Зависимость цены от удаленности от центра', 'Удаленность от центра, м', 'Цена, руб./м²')\n",
    "df['cityCenters_nearest'].corr(df['price_per_square_meter'])"
   ]
  },
  {
   "cell_type": "markdown",
   "metadata": {},
   "source": [
    "Аналогичная ситуация и с удаленностью от центра. При увеличении растояния от центра стоимость за квадратный метр снижается."
   ]
  },
  {
   "cell_type": "markdown",
   "metadata": {},
   "source": [
    " Изучите зависимость цены от того, на каком этаже расположена квартира: первом, последнем или другом. \n",
    " Для этого построим диаграммы размаха.Также изучите зависимость от даты размещения: дня недели, месяца и года."
   ]
  },
  {
   "cell_type": "code",
   "execution_count": 49,
   "metadata": {
    "scrolled": false
   },
   "outputs": [
    {
     "data": {
      "text/plain": [
       "(1.0, 250000.0)"
      ]
     },
     "execution_count": 49,
     "metadata": {},
     "output_type": "execute_result"
    },
    {
     "data": {
      "image/png": "[encoded data removed]",
      "text/plain": [
       "<Figure size 576x432 with 1 Axes>"
      ]
     },
     "metadata": {
      "needs_background": "light"
     },
     "output_type": "display_data"
    }
   ],
   "source": [
    "df.boxplot(column='price_per_square_meter', by='floor_group', figsize=(8,6))\n",
    "plt.ylim(1, 250000)"
   ]
  },
  {
   "cell_type": "markdown",
   "metadata": {},
   "source": [
    "Из графика видно,что медиана цены за квадратный метр первого этажа меньше остальных,но и на последнем этаже медиана не сильно больше. Можно сделать вывод,что квартиры на первом и последнем этажах дешевле остальных,что впринципе логично.\n",
    "\n",
    "Напишем функцию для построения графиков зависимости от даты размещения:"
   ]
  },
  {
   "cell_type": "code",
   "execution_count": 50,
   "metadata": {},
   "outputs": [],
   "source": [
    "def draw_plot1(tab, title, xlab, ylab):\n",
    "    tab.plot(y='median')\n",
    "    plt.title(title, size=14)\n",
    "    plt.xlabel(xlab)\n",
    "    plt.ylabel(ylab)"
   ]
  },
  {
   "cell_type": "code",
   "execution_count": 51,
   "metadata": {
    "scrolled": true
   },
   "outputs": [
    {
     "data": {
      "image/png": "[encoded data removed]",
      "text/plain": [
       "<Figure size 432x288 with 1 Axes>"
      ]
     },
     "metadata": {
      "needs_background": "light"
     },
     "output_type": "display_data"
    }
   ],
   "source": [
    "pivot_table_day_exp = df.pivot_table(index='day_exp', values='price_per_square_meter', aggfunc='median')\n",
    "pivot_table_day_exp.columns=['median']\n",
    "draw_plot1(pivot_table_day_exp, 'Зависимость цены от даты размещения', 'День недели, дни', 'Цена, руб./м²')"
   ]
  },
  {
   "cell_type": "markdown",
   "metadata": {},
   "source": [
    "Исходя из графика, можно сказать, что самая высокая цена у объявлений,выложенных в среду. В субботу же самая низкая цена. Возможно, это связанно с тем,что большинство людей,выкладывающих объявления, в будние дни работают. В субботу же выкладывается огромная часть объявлений и цена за квадратный метр падает."
   ]
  },
  {
   "cell_type": "code",
   "execution_count": 52,
   "metadata": {
    "scrolled": true
   },
   "outputs": [
    {
     "data": {
      "image/png": "[encoded data removed]",
      "text/plain": [
       "<Figure size 432x288 with 1 Axes>"
      ]
     },
     "metadata": {
      "needs_background": "light"
     },
     "output_type": "display_data"
    }
   ],
   "source": [
    "pivot_table_month_exp = df.pivot_table(index='month_exp', values='price_per_square_meter', aggfunc='median')\n",
    "pivot_table_month_exp.columns=['median']\n",
    "draw_plot1(pivot_table_month_exp,'Зависимость цены от даты размещения', 'Месяц, мес.', 'Цена, руб./м²')"
   ]
  },
  {
   "cell_type": "markdown",
   "metadata": {},
   "source": [
    "В данном случае, можно сделать вывод о сезонности на рынке недвижимости. Мы видим,что обвалы на графике соответсвуют месяцам:май-июнь,конец ноября-декабрь. Действительно,это период майских праздников и Нового года. В это время праздники и много трат,поэтому глобальные покупки откладываются. Значит,предложение превышает спрос и цены снижают для привлечения покупателей. Апрель, август и начало сентября-пиковые значения на графике. Это также логично. Осень-начинается учебный год у детей, можно поменять школы,сады и пр. Люди возвращаются из отпусков и готовы к крупным тратам. Соответсвенно,спрос превышает предложение и покупатели могут ставить цену выше."
   ]
  },
  {
   "cell_type": "code",
   "execution_count": 53,
   "metadata": {
    "scrolled": true
   },
   "outputs": [
    {
     "data": {
      "image/png": "[encoded data removed]",
      "text/plain": [
       "<Figure size 432x288 with 1 Axes>"
      ]
     },
     "metadata": {
      "needs_background": "light"
     },
     "output_type": "display_data"
    }
   ],
   "source": [
    "pivot_table_year_exp = df.pivot_table(index='year_exp', values='price_per_square_meter', aggfunc='median')\n",
    "pivot_table_year_exp.columns=['median']\n",
    "draw_plot1(pivot_table_year_exp, 'Зависимость цены от даты размещения', 'Год, года', 'Цена, руб./м²')"
   ]
  },
  {
   "cell_type": "markdown",
   "metadata": {},
   "source": [
    "С каждым годом растет цена за квадратный метр. Это логично,факторов множество."
   ]
  },
  {
   "cell_type": "markdown",
   "metadata": {},
   "source": [
    "Выберите 10 населённых пунктов с наибольшим числом объявлений. Посчитайте среднюю цену квадратного метра в этих населённых пунктах. Выделите населённые пункты с самой высокой и низкой стоимостью жилья."
   ]
  },
  {
   "cell_type": "code",
   "execution_count": 54,
   "metadata": {},
   "outputs": [
    {
     "data": {
      "text/html": [
       "<div>\n",
       "<style scoped>\n",
       "    .dataframe tbody tr th:only-of-type {\n",
       "        vertical-align: middle;\n",
       "    }\n",
       "\n",
       "    .dataframe tbody tr th {\n",
       "        vertical-align: top;\n",
       "    }\n",
       "\n",
       "    .dataframe thead th {\n",
       "        text-align: right;\n",
       "    }\n",
       "</style>\n",
       "<table border=\"1\" class=\"dataframe\">\n",
       "  <thead>\n",
       "    <tr style=\"text-align: right;\">\n",
       "      <th></th>\n",
       "      <th>Число объявлений</th>\n",
       "      <th>Средняя цена за м²</th>\n",
       "    </tr>\n",
       "    <tr>\n",
       "      <th>locality_name</th>\n",
       "      <th></th>\n",
       "      <th></th>\n",
       "    </tr>\n",
       "  </thead>\n",
       "  <tbody>\n",
       "    <tr>\n",
       "      <th>Санкт-Петербург</th>\n",
       "      <td>11522</td>\n",
       "      <td>105363.244055</td>\n",
       "    </tr>\n",
       "    <tr>\n",
       "      <th>посёлок Мурино</th>\n",
       "      <td>478</td>\n",
       "      <td>86004.094142</td>\n",
       "    </tr>\n",
       "    <tr>\n",
       "      <th>посёлок Шушары</th>\n",
       "      <td>408</td>\n",
       "      <td>78525.475490</td>\n",
       "    </tr>\n",
       "    <tr>\n",
       "      <th>Всеволожск</th>\n",
       "      <td>334</td>\n",
       "      <td>66830.092814</td>\n",
       "    </tr>\n",
       "    <tr>\n",
       "      <th>посёлок Парголово</th>\n",
       "      <td>306</td>\n",
       "      <td>89906.372549</td>\n",
       "    </tr>\n",
       "    <tr>\n",
       "      <th>Колпино</th>\n",
       "      <td>296</td>\n",
       "      <td>75482.152027</td>\n",
       "    </tr>\n",
       "    <tr>\n",
       "      <th>Пушкин</th>\n",
       "      <td>274</td>\n",
       "      <td>100838.350365</td>\n",
       "    </tr>\n",
       "    <tr>\n",
       "      <th>деревня Кудрово</th>\n",
       "      <td>262</td>\n",
       "      <td>92745.641221</td>\n",
       "    </tr>\n",
       "    <tr>\n",
       "      <th>Гатчина</th>\n",
       "      <td>257</td>\n",
       "      <td>68441.536965</td>\n",
       "    </tr>\n",
       "    <tr>\n",
       "      <th>Выборг</th>\n",
       "      <td>193</td>\n",
       "      <td>57594.601036</td>\n",
       "    </tr>\n",
       "  </tbody>\n",
       "</table>\n",
       "</div>"
      ],
      "text/plain": [
       "                   Число объявлений  Средняя цена за м²\n",
       "locality_name                                          \n",
       "Санкт-Петербург               11522       105363.244055\n",
       "посёлок Мурино                  478        86004.094142\n",
       "посёлок Шушары                  408        78525.475490\n",
       "Всеволожск                      334        66830.092814\n",
       "посёлок Парголово               306        89906.372549\n",
       "Колпино                         296        75482.152027\n",
       "Пушкин                          274       100838.350365\n",
       "деревня Кудрово                 262        92745.641221\n",
       "Гатчина                         257        68441.536965\n",
       "Выборг                          193        57594.601036"
      ]
     },
     "execution_count": 54,
     "metadata": {},
     "output_type": "execute_result"
    }
   ],
   "source": [
    "top_exp = df.loc[:, ['locality_name', 'price_per_square_meter']]\n",
    "top_exp = df.pivot_table(index='locality_name', values='price_per_square_meter', aggfunc=['count','mean'])\n",
    "top_exp.columns = ['Число объявлений', 'Средняя цена за м²']\n",
    "top_exp.sort_values(by='Число объявлений', ascending=False).head(10)"
   ]
  },
  {
   "cell_type": "markdown",
   "metadata": {},
   "source": [
    "Мы посчитали среднюю цену в 10 населенных пунктах с наибольшим числом объявлений и отсортировали их по убыванию. \n",
    "\n",
    "\n",
    "***В Санкт-Петербурге и Пушкине самая высокая цена за квадратный метр, а в Выбоге-самая низкая***"
   ]
  },
  {
   "cell_type": "markdown",
   "metadata": {},
   "source": [
    "Изучите предложения квартир: для каждой квартиры есть информация о расстоянии до центра. Выделите квартиры в Санкт-Петербурге ('locality_name'). Ваша задача — выяснить, какая область входит в центр. Создайте столбец с расстоянием до центра в километрах: округлите до целых значений. После этого посчитайте среднюю цену для каждого километра. Постройте график: он должен показывать, как цена зависит от удалённости от центра. Определите границу, где график сильно меняется — это и будет центральная зона."
   ]
  },
  {
   "cell_type": "code",
   "execution_count": 55,
   "metadata": {
    "scrolled": true
   },
   "outputs": [
    {
     "data": {
      "text/html": [
       "<div>\n",
       "<style scoped>\n",
       "    .dataframe tbody tr th:only-of-type {\n",
       "        vertical-align: middle;\n",
       "    }\n",
       "\n",
       "    .dataframe tbody tr th {\n",
       "        vertical-align: top;\n",
       "    }\n",
       "\n",
       "    .dataframe thead th {\n",
       "        text-align: right;\n",
       "    }\n",
       "</style>\n",
       "<table border=\"1\" class=\"dataframe\">\n",
       "  <thead>\n",
       "    <tr style=\"text-align: right;\">\n",
       "      <th></th>\n",
       "      <th>price_per_square_meter</th>\n",
       "    </tr>\n",
       "    <tr>\n",
       "      <th>cityCenters_km</th>\n",
       "      <th></th>\n",
       "    </tr>\n",
       "  </thead>\n",
       "  <tbody>\n",
       "    <tr>\n",
       "      <th>0</th>\n",
       "      <td>114373.333333</td>\n",
       "    </tr>\n",
       "    <tr>\n",
       "      <th>1</th>\n",
       "      <td>119174.020408</td>\n",
       "    </tr>\n",
       "    <tr>\n",
       "      <th>2</th>\n",
       "      <td>114373.012987</td>\n",
       "    </tr>\n",
       "    <tr>\n",
       "      <th>3</th>\n",
       "      <td>111012.153153</td>\n",
       "    </tr>\n",
       "    <tr>\n",
       "      <th>4</th>\n",
       "      <td>117890.672414</td>\n",
       "    </tr>\n",
       "  </tbody>\n",
       "</table>\n",
       "</div>"
      ],
      "text/plain": [
       "                price_per_square_meter\n",
       "cityCenters_km                        \n",
       "0                        114373.333333\n",
       "1                        119174.020408\n",
       "2                        114373.012987\n",
       "3                        111012.153153\n",
       "4                        117890.672414"
      ]
     },
     "execution_count": 55,
     "metadata": {},
     "output_type": "execute_result"
    }
   ],
   "source": [
    "spb_flats = df.query('locality_name == \"Санкт-Петербург\"')#срез данных,где населенный пункт-Санкт-Петербург\n",
    "spb_flats_price = spb_flats.loc[:, ['locality_name', 'cityCenters_nearest', 'price_per_square_meter']]#таблица spb_flats_price с необходимыми данными\n",
    "spb_flats_price['cityCenters_km'] = (spb_flats_price['cityCenters_nearest'] / 1000).round().astype('int')#столбец с расстоянием до центра в км\n",
    "spb_flats_price_pivot = spb_flats_price.pivot_table(index='cityCenters_km', values='price_per_square_meter', aggfunc=('mean'))#средняя цена для км\n",
    "spb_flats_price_pivot.head()"
   ]
  },
  {
   "cell_type": "markdown",
   "metadata": {},
   "source": [
    "Построим график зависимости:"
   ]
  },
  {
   "cell_type": "code",
   "execution_count": 56,
   "metadata": {},
   "outputs": [
    {
     "data": {
      "text/plain": [
       "Text(0, 0.5, 'Цена за м²')"
      ]
     },
     "execution_count": 56,
     "metadata": {},
     "output_type": "execute_result"
    },
    {
     "data": {
      "image/png": "[encoded data removed]",
      "text/plain": [
       "<Figure size 432x288 with 1 Axes>"
      ]
     },
     "metadata": {
      "needs_background": "light"
     },
     "output_type": "display_data"
    }
   ],
   "source": [
    "spb_flats_price_pivot.plot(style='o-', grid=True, title='Зависимость цены от удаленности от центра')\n",
    "plt.xlabel('Удаленность от центра, км')\n",
    "plt.ylabel('Цена за м²')"
   ]
  },
  {
   "cell_type": "markdown",
   "metadata": {},
   "source": [
    "***Вывод:***\n",
    "Есть два обвала на которые нам стоит обратить внимание. Первый-это примерно 3 км,но радиус 3 км слишком мал,поэтому мы отбрасываем этот вариант. Второй - 7 км. После этого,цена стремительно снижается. Значит,будем считать центром от 0 до 7 км. "
   ]
  },
  {
   "cell_type": "markdown",
   "metadata": {},
   "source": [
    "Выделите сегмент квартир в центре. Проанализируйте эту территорию и изучите следующие параметры: площадь, цена, число комнат, высота потолков. Также выделите факторы, которые влияют на стоимость квартиры (число комнат, этаж, удалённость от центра, дата размещения объявления). Сделайте выводы. Отличаются ли они от общих выводов по всему городу?"
   ]
  },
  {
   "cell_type": "code",
   "execution_count": 57,
   "metadata": {
    "scrolled": false
   },
   "outputs": [
    {
     "data": {
      "text/html": [
       "<div>\n",
       "<style scoped>\n",
       "    .dataframe tbody tr th:only-of-type {\n",
       "        vertical-align: middle;\n",
       "    }\n",
       "\n",
       "    .dataframe tbody tr th {\n",
       "        vertical-align: top;\n",
       "    }\n",
       "\n",
       "    .dataframe thead th {\n",
       "        text-align: right;\n",
       "    }\n",
       "</style>\n",
       "<table border=\"1\" class=\"dataframe\">\n",
       "  <thead>\n",
       "    <tr style=\"text-align: right;\">\n",
       "      <th></th>\n",
       "      <th>total_images</th>\n",
       "      <th>last_price</th>\n",
       "      <th>total_area</th>\n",
       "      <th>first_day_exposition</th>\n",
       "      <th>rooms</th>\n",
       "      <th>ceiling_height</th>\n",
       "      <th>floors_total</th>\n",
       "      <th>living_area</th>\n",
       "      <th>floor</th>\n",
       "      <th>is_apartment</th>\n",
       "      <th>...</th>\n",
       "      <th>ponds_nearest</th>\n",
       "      <th>days_exposition</th>\n",
       "      <th>price_per_square_meter</th>\n",
       "      <th>day_exp</th>\n",
       "      <th>month_exp</th>\n",
       "      <th>year_exp</th>\n",
       "      <th>floor_group</th>\n",
       "      <th>living_area_ratio</th>\n",
       "      <th>kitchen_area_ratio</th>\n",
       "      <th>cityCenters_km</th>\n",
       "    </tr>\n",
       "  </thead>\n",
       "  <tbody>\n",
       "    <tr>\n",
       "      <th>24</th>\n",
       "      <td>8</td>\n",
       "      <td>6500000.0</td>\n",
       "      <td>97.2</td>\n",
       "      <td>2015-10-31</td>\n",
       "      <td>2</td>\n",
       "      <td>2.7</td>\n",
       "      <td>3</td>\n",
       "      <td>46.5</td>\n",
       "      <td>1</td>\n",
       "      <td>False</td>\n",
       "      <td>...</td>\n",
       "      <td>124.0</td>\n",
       "      <td>265</td>\n",
       "      <td>66872</td>\n",
       "      <td>5</td>\n",
       "      <td>10</td>\n",
       "      <td>2015</td>\n",
       "      <td>первый</td>\n",
       "      <td>0.478395</td>\n",
       "      <td>0.201646</td>\n",
       "      <td>2</td>\n",
       "    </tr>\n",
       "    <tr>\n",
       "      <th>70</th>\n",
       "      <td>9</td>\n",
       "      <td>3400000.0</td>\n",
       "      <td>30.0</td>\n",
       "      <td>2018-09-05</td>\n",
       "      <td>1</td>\n",
       "      <td>2.7</td>\n",
       "      <td>5</td>\n",
       "      <td>16.0</td>\n",
       "      <td>1</td>\n",
       "      <td>False</td>\n",
       "      <td>...</td>\n",
       "      <td>503.0</td>\n",
       "      <td>14</td>\n",
       "      <td>113333</td>\n",
       "      <td>2</td>\n",
       "      <td>9</td>\n",
       "      <td>2018</td>\n",
       "      <td>первый</td>\n",
       "      <td>0.533333</td>\n",
       "      <td>0.233333</td>\n",
       "      <td>8</td>\n",
       "    </tr>\n",
       "    <tr>\n",
       "      <th>94</th>\n",
       "      <td>3</td>\n",
       "      <td>3500000.0</td>\n",
       "      <td>29.5</td>\n",
       "      <td>2019-04-26</td>\n",
       "      <td>1</td>\n",
       "      <td>2.5</td>\n",
       "      <td>5</td>\n",
       "      <td>15.6</td>\n",
       "      <td>2</td>\n",
       "      <td>False</td>\n",
       "      <td>...</td>\n",
       "      <td>503.0</td>\n",
       "      <td>4</td>\n",
       "      <td>118644</td>\n",
       "      <td>4</td>\n",
       "      <td>4</td>\n",
       "      <td>2019</td>\n",
       "      <td>другой</td>\n",
       "      <td>0.528814</td>\n",
       "      <td>0.186441</td>\n",
       "      <td>7</td>\n",
       "    </tr>\n",
       "    <tr>\n",
       "      <th>99</th>\n",
       "      <td>32</td>\n",
       "      <td>9600000.0</td>\n",
       "      <td>90.0</td>\n",
       "      <td>2017-09-26</td>\n",
       "      <td>4</td>\n",
       "      <td>2.7</td>\n",
       "      <td>5</td>\n",
       "      <td>67.0</td>\n",
       "      <td>2</td>\n",
       "      <td>False</td>\n",
       "      <td>...</td>\n",
       "      <td>503.0</td>\n",
       "      <td>104</td>\n",
       "      <td>106666</td>\n",
       "      <td>1</td>\n",
       "      <td>9</td>\n",
       "      <td>2017</td>\n",
       "      <td>другой</td>\n",
       "      <td>0.744444</td>\n",
       "      <td>0.088889</td>\n",
       "      <td>3</td>\n",
       "    </tr>\n",
       "    <tr>\n",
       "      <th>111</th>\n",
       "      <td>4</td>\n",
       "      <td>4590000.0</td>\n",
       "      <td>40.0</td>\n",
       "      <td>2017-05-29</td>\n",
       "      <td>1</td>\n",
       "      <td>2.7</td>\n",
       "      <td>6</td>\n",
       "      <td>18.0</td>\n",
       "      <td>1</td>\n",
       "      <td>False</td>\n",
       "      <td>...</td>\n",
       "      <td>503.0</td>\n",
       "      <td>31</td>\n",
       "      <td>114750</td>\n",
       "      <td>0</td>\n",
       "      <td>5</td>\n",
       "      <td>2017</td>\n",
       "      <td>первый</td>\n",
       "      <td>0.450000</td>\n",
       "      <td>0.250000</td>\n",
       "      <td>6</td>\n",
       "    </tr>\n",
       "  </tbody>\n",
       "</table>\n",
       "<p>5 rows × 30 columns</p>\n",
       "</div>"
      ],
      "text/plain": [
       "     total_images  last_price  total_area first_day_exposition  rooms  \\\n",
       "24              8   6500000.0        97.2           2015-10-31      2   \n",
       "70              9   3400000.0        30.0           2018-09-05      1   \n",
       "94              3   3500000.0        29.5           2019-04-26      1   \n",
       "99             32   9600000.0        90.0           2017-09-26      4   \n",
       "111             4   4590000.0        40.0           2017-05-29      1   \n",
       "\n",
       "     ceiling_height  floors_total  living_area  floor is_apartment  ...  \\\n",
       "24              2.7             3         46.5      1        False  ...   \n",
       "70              2.7             5         16.0      1        False  ...   \n",
       "94              2.5             5         15.6      2        False  ...   \n",
       "99              2.7             5         67.0      2        False  ...   \n",
       "111             2.7             6         18.0      1        False  ...   \n",
       "\n",
       "     ponds_nearest  days_exposition  price_per_square_meter  day_exp  \\\n",
       "24           124.0              265                   66872        5   \n",
       "70           503.0               14                  113333        2   \n",
       "94           503.0                4                  118644        4   \n",
       "99           503.0              104                  106666        1   \n",
       "111          503.0               31                  114750        0   \n",
       "\n",
       "    month_exp  year_exp  floor_group  living_area_ratio  kitchen_area_ratio  \\\n",
       "24         10      2015       первый           0.478395            0.201646   \n",
       "70          9      2018       первый           0.533333            0.233333   \n",
       "94          4      2019       другой           0.528814            0.186441   \n",
       "99          9      2017       другой           0.744444            0.088889   \n",
       "111         5      2017       первый           0.450000            0.250000   \n",
       "\n",
       "     cityCenters_km  \n",
       "24                2  \n",
       "70                8  \n",
       "94                7  \n",
       "99                3  \n",
       "111               6  \n",
       "\n",
       "[5 rows x 30 columns]"
      ]
     },
     "execution_count": 57,
     "metadata": {},
     "output_type": "execute_result"
    }
   ],
   "source": [
    "spb_flats_center = df.query('locality_name == \"Санкт-Петербург\"')\n",
    "spb_flats_center['cityCenters_km'] = (spb_flats_center['cityCenters_nearest'] / 1000).round().astype('int')\n",
    "spb_flats_center = spb_flats_center.query('cityCenters_km < 8.5')\n",
    "spb_flats_center.head()"
   ]
  },
  {
   "cell_type": "code",
   "execution_count": 58,
   "metadata": {},
   "outputs": [],
   "source": [
    "def draw_hist_1(col, xmin, xmax, title, xlab, ylab):\n",
    "    spb_flats_center[col].hist(bins=50, range=(xmin,xmax), grid=True)\n",
    "    plt.title(title, size=14)\n",
    "    plt.xlabel(xlab)\n",
    "    plt.ylabel(ylab)"
   ]
  },
  {
   "cell_type": "code",
   "execution_count": 59,
   "metadata": {
    "scrolled": false
   },
   "outputs": [
    {
     "data": {
      "image/png": "[encoded data removed]",
      "text/plain": [
       "<Figure size 432x288 with 1 Axes>"
      ]
     },
     "metadata": {
      "needs_background": "light"
     },
     "output_type": "display_data"
    }
   ],
   "source": [
    "draw_hist_1('total_area', 0, 150, 'Площади квартир', 'Площадь, м²', 'Количество квартир, шт.')"
   ]
  },
  {
   "cell_type": "markdown",
   "metadata": {},
   "source": [
    "***Вывод:*** На первый взгляд графики очень похожи,но можно сказать,что в центре Питера квартиры с большей площадью,чем по всему датасету. от 40 до 80 кв.м-наиболее часто встречающиеся значения."
   ]
  },
  {
   "cell_type": "code",
   "execution_count": 60,
   "metadata": {
    "scrolled": false
   },
   "outputs": [
    {
     "data": {
      "image/png": "[encoded data removed]",
      "text/plain": [
       "<Figure size 432x288 with 1 Axes>"
      ]
     },
     "metadata": {
      "needs_background": "light"
     },
     "output_type": "display_data"
    }
   ],
   "source": [
    "draw_hist_1('price_per_square_meter', 0, 180000, 'Цены квартир', 'Цена за м²', 'Количество квартир, шт.')"
   ]
  },
  {
   "cell_type": "markdown",
   "metadata": {},
   "source": [
    "***Вывод:*** Цена также отличается,пиковое значение в центре Питера выше - больше 100000,когда во всем городе около 90000."
   ]
  },
  {
   "cell_type": "code",
   "execution_count": 61,
   "metadata": {
    "scrolled": true
   },
   "outputs": [
    {
     "data": {
      "image/png": "[encoded data removed]",
      "text/plain": [
       "<Figure size 432x288 with 1 Axes>"
      ]
     },
     "metadata": {
      "needs_background": "light"
     },
     "output_type": "display_data"
    }
   ],
   "source": [
    "draw_hist_1('rooms', 0, 5, 'Число комнат', 'Число комнат,шт', 'Количество квартир, шт.')"
   ]
  },
  {
   "cell_type": "markdown",
   "metadata": {},
   "source": [
    "***Вывод:*** По всему городу чаще всего встречались однокомнатные квартиры, в центре же-двухкомнатные."
   ]
  },
  {
   "cell_type": "code",
   "execution_count": 62,
   "metadata": {
    "scrolled": true
   },
   "outputs": [
    {
     "data": {
      "image/png": "[encoded data removed]",
      "text/plain": [
       "<Figure size 432x288 with 1 Axes>"
      ]
     },
     "metadata": {
      "needs_background": "light"
     },
     "output_type": "display_data"
    }
   ],
   "source": [
    "draw_hist_1('ceiling_height', 2, 3, 'Высота потолков', 'Высота потолков, м', 'Количество квартир, шт.')"
   ]
  },
  {
   "cell_type": "markdown",
   "metadata": {},
   "source": [
    "***Вывод:*** С потолками ситуация практически не изменилась."
   ]
  },
  {
   "cell_type": "code",
   "execution_count": 63,
   "metadata": {},
   "outputs": [],
   "source": [
    "def draw_plot_spb_1(x, y, title, xlab, ylab):\n",
    "    spb_flats_center.plot(x, y, kind='hexbin', gridsize=20, figsize=(8, 6), sharex=False, grid=True)\n",
    "    plt.title(title, size=14)\n",
    "    plt.xlabel(xlab)\n",
    "    plt.ylabel(ylab)"
   ]
  },
  {
   "cell_type": "code",
   "execution_count": 64,
   "metadata": {
    "scrolled": false
   },
   "outputs": [
    {
     "data": {
      "text/plain": [
       "-0.328374647422762"
      ]
     },
     "execution_count": 64,
     "metadata": {},
     "output_type": "execute_result"
    },
    {
     "data": {
      "image/png": "[encoded data removed]",
      "text/plain": [
       "<Figure size 576x432 with 2 Axes>"
      ]
     },
     "metadata": {
      "needs_background": "light"
     },
     "output_type": "display_data"
    }
   ],
   "source": [
    "draw_plot_spb_1('rooms', 'price_per_square_meter','Зависимость цены от числа комнат', 'Число комнат,шт.', 'Цена, руб./м²')\n",
    "spb_flats_center['rooms'].corr(spb_flats_center['price_per_square_meter'])"
   ]
  },
  {
   "cell_type": "code",
   "execution_count": 65,
   "metadata": {
    "scrolled": false
   },
   "outputs": [
    {
     "data": {
      "text/plain": [
       "0.04350898789156981"
      ]
     },
     "execution_count": 65,
     "metadata": {},
     "output_type": "execute_result"
    },
    {
     "data": {
      "image/png": "[encoded data removed]",
      "text/plain": [
       "<Figure size 576x432 with 2 Axes>"
      ]
     },
     "metadata": {
      "needs_background": "light"
     },
     "output_type": "display_data"
    }
   ],
   "source": [
    "draw_plot_spb_1('cityCenters_km', 'price_per_square_meter', 'Зависимость цены от удаленности от центра', 'Удаленность от центра, м', 'Цена, руб./м²')\n",
    "spb_flats_center['cityCenters_km'].corr(spb_flats_center['price_per_square_meter'])"
   ]
  },
  {
   "cell_type": "code",
   "execution_count": 66,
   "metadata": {
    "scrolled": false
   },
   "outputs": [
    {
     "data": {
      "text/plain": [
       "(1.0, 250000.0)"
      ]
     },
     "execution_count": 66,
     "metadata": {},
     "output_type": "execute_result"
    },
    {
     "data": {
      "image/png": "[encoded data removed]",
      "text/plain": [
       "<Figure size 576x432 with 1 Axes>"
      ]
     },
     "metadata": {
      "needs_background": "light"
     },
     "output_type": "display_data"
    }
   ],
   "source": [
    "spb_flats_center.boxplot(column='price_per_square_meter', by='floor_group', figsize=(8,6))\n",
    "plt.ylim(1, 250000)"
   ]
  },
  {
   "cell_type": "code",
   "execution_count": 67,
   "metadata": {
    "scrolled": true
   },
   "outputs": [
    {
     "data": {
      "image/png": "[encoded data removed]",
      "text/plain": [
       "<Figure size 432x288 with 1 Axes>"
      ]
     },
     "metadata": {
      "needs_background": "light"
     },
     "output_type": "display_data"
    }
   ],
   "source": [
    "pivot_table_day_exp_spb = spb_flats_center.pivot_table(index='day_exp', values='price_per_square_meter', aggfunc='median')\n",
    "pivot_table_day_exp_spb.columns=['median']\n",
    "draw_plot1(pivot_table_day_exp_spb,'Зависимость цены от даты размещения', 'День недели, дни', 'Цена, руб./м²')"
   ]
  },
  {
   "cell_type": "code",
   "execution_count": 68,
   "metadata": {
    "scrolled": true
   },
   "outputs": [
    {
     "data": {
      "image/png": "[encoded data removed]",
      "text/plain": [
       "<Figure size 432x288 with 1 Axes>"
      ]
     },
     "metadata": {
      "needs_background": "light"
     },
     "output_type": "display_data"
    }
   ],
   "source": [
    "pivot_table_month_exp_spb = spb_flats_center.pivot_table(index='month_exp', values='price_per_square_meter', aggfunc='median')\n",
    "pivot_table_month_exp_spb.columns=['median']\n",
    "draw_plot1(pivot_table_month_exp_spb, 'Зависимость цены от даты размещения', 'Месяц, мес.', 'Цена, руб./м²')"
   ]
  },
  {
   "cell_type": "code",
   "execution_count": 69,
   "metadata": {
    "scrolled": true
   },
   "outputs": [
    {
     "data": {
      "image/png": "[encoded data removed]",
      "text/plain": [
       "<Figure size 432x288 with 1 Axes>"
      ]
     },
     "metadata": {
      "needs_background": "light"
     },
     "output_type": "display_data"
    }
   ],
   "source": [
    "pivot_table_year_exp_spb = spb_flats_center.pivot_table(index='year_exp', values='price_per_square_meter', aggfunc='median')\n",
    "pivot_table_year_exp_spb.columns=['median']\n",
    "draw_plot1(pivot_table_year_exp_spb,'Зависимость цены от даты размещения', 'Год, года', 'Цена, руб./м²')"
   ]
  },
  {
   "cell_type": "markdown",
   "metadata": {},
   "source": [
    "***Выводы:*** \n",
    "1. С комнатами ситуация практически не изменилась. Произошло смещение вверх,так как цена выше,но все также с увеличением комнат цена снижается.\n",
    "2. С удаленностью от центра ситуация неоднозначная,так как на графике кажется,что с увеличением удаленности увеличивается и цена,но я думаю,что это связано с тем,что очень мало квартир в радиусе от 0 до 3 км,данных недостаточно.\n",
    "3. С этажами ситуация не изменилась. \n",
    "4. С месяцами и годами ситуация аналогична, а вот дни недели наоборот-пик значений приходится на выходные, а спад на будние дни."
   ]
  },
  {
   "cell_type": "markdown",
   "metadata": {},
   "source": [
    "## Общий вывод"
   ]
  },
  {
   "cell_type": "markdown",
   "metadata": {},
   "source": [
    "Мы изучили архив объявлений о продаже квартир в Санкт-Петербурге и соседних населённых пунктов за несколько лет, что впоследствии поможет определять рыночную стоимость объектов недвижимости.\n",
    "\n",
    "- заполнили пропущенные данные в исследуемых столбцах\n",
    "- установили параметры (площадь, цена, число комнат, высота потолков и др.)\n",
    "- установили связь между разными параметрами и построили графики\n",
    "- избавились от редких и выбивающихся значений\n",
    "- ответили на поставленные вопросы\n",
    "\n",
    "\n",
    "Можно сделать выводы:\n",
    "1. В среднем время продажи квартиры от 45 до 90 дней.\n",
    "2. С увеличением комнат цена за квадратный метр снижается.\n",
    "3. Квартиры на первых и последних этажах дешевле остальных.\n",
    "4. Зависимость постановки цены от дня недели-на выходных самая низкая по всему датасету, и на выходных самая высокая- по центру Питера.\n",
    "5. Выясняли сезонность на рынки недвижимости-апрель и август самые удачные месяцы для продажи."
   ]
  }
 ],
 "metadata": {
  "ExecuteTimeLog": [
   {
    "duration": 895,
    "start_time": "2021-11-29T13:21:25.780Z"
   },
   {
    "duration": 84,
    "start_time": "2021-11-29T13:22:16.645Z"
   },
   {
    "duration": 111,
    "start_time": "2021-11-29T13:22:56.992Z"
   },
   {
    "duration": 77,
    "start_time": "2021-11-29T13:23:34.287Z"
   },
   {
    "duration": 78,
    "start_time": "2021-11-29T13:24:38.558Z"
   },
   {
    "duration": 89,
    "start_time": "2021-11-29T13:24:51.469Z"
   },
   {
    "duration": 107,
    "start_time": "2021-11-29T13:26:09.464Z"
   },
   {
    "duration": 129,
    "start_time": "2021-11-29T13:27:02.176Z"
   },
   {
    "duration": 122,
    "start_time": "2021-11-29T13:27:12.960Z"
   },
   {
    "duration": 75,
    "start_time": "2021-11-29T13:27:22.638Z"
   },
   {
    "duration": 112,
    "start_time": "2021-11-29T14:22:59.537Z"
   },
   {
    "duration": 112,
    "start_time": "2021-11-29T14:29:49.195Z"
   },
   {
    "duration": 16,
    "start_time": "2021-11-29T14:29:58.227Z"
   },
   {
    "duration": 15,
    "start_time": "2021-11-29T14:32:15.055Z"
   },
   {
    "duration": 14,
    "start_time": "2021-11-29T14:33:28.881Z"
   },
   {
    "duration": 557,
    "start_time": "2021-11-29T14:35:02.649Z"
   },
   {
    "duration": 330,
    "start_time": "2021-11-29T14:35:11.671Z"
   },
   {
    "duration": 297,
    "start_time": "2021-11-29T14:35:19.663Z"
   },
   {
    "duration": 2140,
    "start_time": "2021-11-29T14:35:39.764Z"
   },
   {
    "duration": 62,
    "start_time": "2021-11-29T14:35:50.668Z"
   },
   {
    "duration": 37,
    "start_time": "2021-11-29T14:56:28.676Z"
   },
   {
    "duration": 66,
    "start_time": "2021-11-29T14:57:22.660Z"
   },
   {
    "duration": 44,
    "start_time": "2021-11-29T14:57:31.968Z"
   },
   {
    "duration": 125,
    "start_time": "2021-11-29T15:02:15.895Z"
   },
   {
    "duration": 14,
    "start_time": "2021-11-29T15:09:10.840Z"
   },
   {
    "duration": 7,
    "start_time": "2021-11-29T15:09:42.891Z"
   },
   {
    "duration": 270,
    "start_time": "2021-12-01T11:37:39.686Z"
   },
   {
    "duration": 607,
    "start_time": "2021-12-01T11:37:47.016Z"
   },
   {
    "duration": 12,
    "start_time": "2021-12-01T11:37:47.714Z"
   },
   {
    "duration": 10,
    "start_time": "2021-12-01T11:37:50.269Z"
   },
   {
    "duration": 23,
    "start_time": "2021-12-01T11:37:50.845Z"
   },
   {
    "duration": 12,
    "start_time": "2021-12-01T11:37:51.608Z"
   },
   {
    "duration": 2020,
    "start_time": "2021-12-01T11:48:16.687Z"
   },
   {
    "duration": 12,
    "start_time": "2021-12-01T11:48:24.735Z"
   },
   {
    "duration": 5726,
    "start_time": "2021-12-01T11:48:25.412Z"
   },
   {
    "duration": 80,
    "start_time": "2021-12-01T11:48:31.484Z"
   },
   {
    "duration": 9,
    "start_time": "2021-12-01T11:48:34.365Z"
   },
   {
    "duration": 8,
    "start_time": "2021-12-01T11:48:37.866Z"
   },
   {
    "duration": 24,
    "start_time": "2021-12-01T11:48:39.030Z"
   },
   {
    "duration": 13,
    "start_time": "2021-12-01T11:48:40.101Z"
   },
   {
    "duration": 6563,
    "start_time": "2021-12-01T11:49:12.076Z"
   },
   {
    "duration": 6029,
    "start_time": "2021-12-01T11:49:43.257Z"
   },
   {
    "duration": 1987,
    "start_time": "2021-12-01T11:49:47.301Z"
   },
   {
    "duration": 77,
    "start_time": "2021-12-01T11:50:24.615Z"
   },
   {
    "duration": 1682,
    "start_time": "2021-12-01T11:50:41.422Z"
   },
   {
    "duration": 552,
    "start_time": "2021-12-01T11:51:11.127Z"
   },
   {
    "duration": 9,
    "start_time": "2021-12-01T11:51:23.198Z"
   },
   {
    "duration": 77,
    "start_time": "2021-12-01T11:51:28.176Z"
   },
   {
    "duration": 10,
    "start_time": "2021-12-01T11:51:30.388Z"
   },
   {
    "duration": 8,
    "start_time": "2021-12-01T11:51:33.233Z"
   },
   {
    "duration": 21,
    "start_time": "2021-12-01T11:51:34.108Z"
   },
   {
    "duration": 12,
    "start_time": "2021-12-01T11:51:34.680Z"
   },
   {
    "duration": 507,
    "start_time": "2021-12-01T11:51:36.429Z"
   },
   {
    "duration": 515,
    "start_time": "2021-12-01T11:53:58.899Z"
   },
   {
    "duration": 1197,
    "start_time": "2021-12-01T11:54:05.335Z"
   },
   {
    "duration": 81,
    "start_time": "2021-12-01T11:54:52.603Z"
   },
   {
    "duration": 10,
    "start_time": "2021-12-01T11:54:53.368Z"
   },
   {
    "duration": 10,
    "start_time": "2021-12-01T11:54:56.194Z"
   },
   {
    "duration": 22,
    "start_time": "2021-12-01T11:54:56.961Z"
   },
   {
    "duration": 11,
    "start_time": "2021-12-01T11:54:57.844Z"
   },
   {
    "duration": 532,
    "start_time": "2021-12-01T11:54:59.121Z"
   },
   {
    "duration": 525,
    "start_time": "2021-12-01T11:55:13.466Z"
   },
   {
    "duration": 11,
    "start_time": "2021-12-01T11:55:18.386Z"
   },
   {
    "duration": 506,
    "start_time": "2021-12-01T11:55:18.876Z"
   },
   {
    "duration": 9,
    "start_time": "2021-12-01T11:55:21.906Z"
   },
   {
    "duration": 22,
    "start_time": "2021-12-01T11:55:22.395Z"
   },
   {
    "duration": 12,
    "start_time": "2021-12-01T11:55:22.903Z"
   },
   {
    "duration": 507,
    "start_time": "2021-12-01T11:55:23.504Z"
   },
   {
    "duration": 76,
    "start_time": "2021-12-01T11:55:27.630Z"
   },
   {
    "duration": 10,
    "start_time": "2021-12-01T11:55:33.589Z"
   },
   {
    "duration": 514,
    "start_time": "2021-12-01T11:55:34.476Z"
   },
   {
    "duration": 1426,
    "start_time": "2021-12-01T11:57:22.993Z"
   },
   {
    "duration": 1416,
    "start_time": "2021-12-01T11:58:48.244Z"
   },
   {
    "duration": 80,
    "start_time": "2021-12-01T11:58:59.031Z"
   },
   {
    "duration": 10,
    "start_time": "2021-12-01T11:59:04.205Z"
   },
   {
    "duration": 1429,
    "start_time": "2021-12-01T11:59:05.298Z"
   },
   {
    "duration": 1405,
    "start_time": "2021-12-01T12:00:27.168Z"
   },
   {
    "duration": 1424,
    "start_time": "2021-12-01T12:00:33.892Z"
   },
   {
    "duration": 1423,
    "start_time": "2021-12-01T12:01:42.829Z"
   },
   {
    "duration": 1414,
    "start_time": "2021-12-01T12:01:48.159Z"
   },
   {
    "duration": 1456,
    "start_time": "2021-12-01T12:06:53.388Z"
   },
   {
    "duration": 1428,
    "start_time": "2021-12-01T12:06:57.695Z"
   },
   {
    "duration": 6525,
    "start_time": "2021-12-01T12:07:43.736Z"
   },
   {
    "duration": 1405,
    "start_time": "2021-12-01T12:08:34.945Z"
   },
   {
    "duration": 1407,
    "start_time": "2021-12-01T12:09:32.187Z"
   },
   {
    "duration": 1415,
    "start_time": "2021-12-01T12:10:24.781Z"
   },
   {
    "duration": 1416,
    "start_time": "2021-12-01T12:11:02.323Z"
   },
   {
    "duration": 1422,
    "start_time": "2021-12-01T12:11:36.822Z"
   },
   {
    "duration": 1417,
    "start_time": "2021-12-01T12:12:09.948Z"
   },
   {
    "duration": 7,
    "start_time": "2021-12-01T12:14:05.093Z"
   },
   {
    "duration": 48,
    "start_time": "2021-12-01T12:22:32.088Z"
   },
   {
    "duration": 78,
    "start_time": "2021-12-01T12:22:57.064Z"
   },
   {
    "duration": 8,
    "start_time": "2021-12-01T12:23:01.355Z"
   },
   {
    "duration": 24,
    "start_time": "2021-12-01T12:23:02.370Z"
   },
   {
    "duration": 12,
    "start_time": "2021-12-01T12:23:03.198Z"
   },
   {
    "duration": 1427,
    "start_time": "2021-12-01T12:23:04.752Z"
   },
   {
    "duration": 1504,
    "start_time": "2021-12-01T12:23:06.856Z"
   },
   {
    "duration": 48,
    "start_time": "2021-12-01T12:23:09.041Z"
   },
   {
    "duration": 54,
    "start_time": "2021-12-01T12:23:11.571Z"
   },
   {
    "duration": 1499,
    "start_time": "2021-12-01T12:23:13.080Z"
   },
   {
    "duration": 1425,
    "start_time": "2021-12-01T12:23:14.581Z"
   },
   {
    "duration": 282,
    "start_time": "2021-12-01T12:28:52.112Z"
   },
   {
    "duration": 241,
    "start_time": "2021-12-01T12:29:20.474Z"
   },
   {
    "duration": 228,
    "start_time": "2021-12-01T12:30:15.231Z"
   },
   {
    "duration": 5,
    "start_time": "2021-12-01T12:31:04.985Z"
   },
   {
    "duration": 6,
    "start_time": "2021-12-01T12:31:10.949Z"
   },
   {
    "duration": 1425,
    "start_time": "2021-12-01T12:31:15.213Z"
   },
   {
    "duration": 5,
    "start_time": "2021-12-01T12:31:16.640Z"
   },
   {
    "duration": 7348,
    "start_time": "2021-12-01T12:45:06.251Z"
   },
   {
    "duration": 6049,
    "start_time": "2021-12-01T12:46:22.127Z"
   },
   {
    "duration": 21,
    "start_time": "2021-12-01T12:51:35.694Z"
   },
   {
    "duration": 267,
    "start_time": "2021-12-01T12:52:21.613Z"
   },
   {
    "duration": 236,
    "start_time": "2021-12-01T12:52:41.568Z"
   },
   {
    "duration": 290,
    "start_time": "2021-12-01T12:54:29.949Z"
   },
   {
    "duration": 248,
    "start_time": "2021-12-01T12:54:55.352Z"
   },
   {
    "duration": 9,
    "start_time": "2021-12-01T12:57:16.021Z"
   },
   {
    "duration": 518,
    "start_time": "2021-12-01T12:57:25.099Z"
   },
   {
    "duration": 273,
    "start_time": "2021-12-01T12:57:37.489Z"
   },
   {
    "duration": 306,
    "start_time": "2021-12-01T12:57:42.922Z"
   },
   {
    "duration": 382,
    "start_time": "2021-12-01T12:58:40.146Z"
   },
   {
    "duration": 304,
    "start_time": "2021-12-01T13:35:27.597Z"
   },
   {
    "duration": 267,
    "start_time": "2021-12-01T13:42:52.341Z"
   },
   {
    "duration": 10,
    "start_time": "2021-12-01T13:43:16.554Z"
   },
   {
    "duration": 7,
    "start_time": "2021-12-01T13:44:35.405Z"
   },
   {
    "duration": 314,
    "start_time": "2021-12-01T13:44:37.727Z"
   },
   {
    "duration": 19,
    "start_time": "2021-12-01T13:44:52.737Z"
   },
   {
    "duration": 5,
    "start_time": "2021-12-01T13:45:16.429Z"
   },
   {
    "duration": 240,
    "start_time": "2021-12-01T13:45:48.198Z"
   },
   {
    "duration": 10,
    "start_time": "2021-12-01T13:45:55.088Z"
   },
   {
    "duration": 5,
    "start_time": "2021-12-01T13:45:57.364Z"
   },
   {
    "duration": 5,
    "start_time": "2021-12-01T13:46:18.463Z"
   },
   {
    "duration": 9,
    "start_time": "2021-12-01T13:46:43.335Z"
   },
   {
    "duration": 6,
    "start_time": "2021-12-01T13:46:43.843Z"
   },
   {
    "duration": 9,
    "start_time": "2021-12-01T13:51:33.095Z"
   },
   {
    "duration": 13,
    "start_time": "2021-12-01T13:51:39.356Z"
   },
   {
    "duration": 8,
    "start_time": "2021-12-01T13:54:00.649Z"
   },
   {
    "duration": 6,
    "start_time": "2021-12-01T13:54:11.910Z"
   },
   {
    "duration": 11,
    "start_time": "2021-12-01T13:54:16.617Z"
   },
   {
    "duration": 8,
    "start_time": "2021-12-01T13:54:17.359Z"
   },
   {
    "duration": 80,
    "start_time": "2021-12-01T13:54:31.223Z"
   },
   {
    "duration": 9,
    "start_time": "2021-12-01T13:54:32.236Z"
   },
   {
    "duration": 9,
    "start_time": "2021-12-01T13:54:35.485Z"
   },
   {
    "duration": 24,
    "start_time": "2021-12-01T13:54:36.240Z"
   },
   {
    "duration": 12,
    "start_time": "2021-12-01T13:54:37.373Z"
   },
   {
    "duration": 12,
    "start_time": "2021-12-01T13:54:39.861Z"
   },
   {
    "duration": 8,
    "start_time": "2021-12-01T13:55:11.908Z"
   },
   {
    "duration": 7,
    "start_time": "2021-12-01T14:00:55.981Z"
   },
   {
    "duration": 5,
    "start_time": "2021-12-01T14:09:30.074Z"
   },
   {
    "duration": 1567,
    "start_time": "2021-12-01T14:10:17.660Z"
   },
   {
    "duration": 1585,
    "start_time": "2021-12-01T14:11:33.371Z"
   },
   {
    "duration": 1422,
    "start_time": "2021-12-01T14:13:08.684Z"
   },
   {
    "duration": 1414,
    "start_time": "2021-12-01T14:13:48.326Z"
   },
   {
    "duration": 248,
    "start_time": "2021-12-01T14:15:38.524Z"
   },
   {
    "duration": 5,
    "start_time": "2021-12-01T14:16:55.970Z"
   },
   {
    "duration": 6,
    "start_time": "2021-12-01T14:17:11.423Z"
   },
   {
    "duration": 4,
    "start_time": "2021-12-01T14:18:26.843Z"
   },
   {
    "duration": 9,
    "start_time": "2021-12-01T14:18:41.796Z"
   },
   {
    "duration": 8,
    "start_time": "2021-12-01T14:18:54.938Z"
   },
   {
    "duration": 5,
    "start_time": "2021-12-01T14:19:21.160Z"
   },
   {
    "duration": 4,
    "start_time": "2021-12-01T14:20:20.581Z"
   },
   {
    "duration": 78,
    "start_time": "2021-12-01T14:20:48.945Z"
   },
   {
    "duration": 10,
    "start_time": "2021-12-01T14:20:49.469Z"
   },
   {
    "duration": 8,
    "start_time": "2021-12-01T14:20:51.677Z"
   },
   {
    "duration": 23,
    "start_time": "2021-12-01T14:20:52.148Z"
   },
   {
    "duration": 12,
    "start_time": "2021-12-01T14:20:52.635Z"
   },
   {
    "duration": 11,
    "start_time": "2021-12-01T14:20:53.116Z"
   },
   {
    "duration": 1518,
    "start_time": "2021-12-01T14:20:53.618Z"
   },
   {
    "duration": 1499,
    "start_time": "2021-12-01T14:20:55.138Z"
   },
   {
    "duration": 58,
    "start_time": "2021-12-01T14:20:56.639Z"
   },
   {
    "duration": 50,
    "start_time": "2021-12-01T14:20:57.791Z"
   },
   {
    "duration": 1468,
    "start_time": "2021-12-01T14:20:58.668Z"
   },
   {
    "duration": 1433,
    "start_time": "2021-12-01T14:21:00.876Z"
   },
   {
    "duration": 6,
    "start_time": "2021-12-01T14:21:02.311Z"
   },
   {
    "duration": 1421,
    "start_time": "2021-12-01T14:21:49.404Z"
   },
   {
    "duration": 1422,
    "start_time": "2021-12-01T14:21:53.631Z"
   },
   {
    "duration": 28,
    "start_time": "2021-12-01T14:22:03.372Z"
   },
   {
    "duration": 6285,
    "start_time": "2021-12-01T14:22:23.298Z"
   },
   {
    "duration": 6,
    "start_time": "2021-12-01T14:22:57.324Z"
   },
   {
    "duration": 6,
    "start_time": "2021-12-01T14:23:04.259Z"
   },
   {
    "duration": 6,
    "start_time": "2021-12-01T14:23:12.944Z"
   },
   {
    "duration": 75,
    "start_time": "2021-12-01T14:23:20.029Z"
   },
   {
    "duration": 7,
    "start_time": "2021-12-01T14:23:26.624Z"
   },
   {
    "duration": 8,
    "start_time": "2021-12-01T14:23:35.710Z"
   },
   {
    "duration": 6,
    "start_time": "2021-12-01T14:23:42.514Z"
   },
   {
    "duration": 76,
    "start_time": "2021-12-01T14:23:53.864Z"
   },
   {
    "duration": 7,
    "start_time": "2021-12-01T14:24:02.076Z"
   },
   {
    "duration": 8,
    "start_time": "2021-12-01T14:24:51.088Z"
   },
   {
    "duration": 84,
    "start_time": "2021-12-01T14:24:57.395Z"
   },
   {
    "duration": 10,
    "start_time": "2021-12-01T14:24:57.831Z"
   },
   {
    "duration": 9,
    "start_time": "2021-12-01T14:25:00.083Z"
   },
   {
    "duration": 24,
    "start_time": "2021-12-01T14:25:00.698Z"
   },
   {
    "duration": 12,
    "start_time": "2021-12-01T14:25:01.263Z"
   },
   {
    "duration": 12,
    "start_time": "2021-12-01T14:25:01.790Z"
   },
   {
    "duration": 1437,
    "start_time": "2021-12-01T14:25:02.275Z"
   },
   {
    "duration": 1958,
    "start_time": "2021-12-01T14:25:03.714Z"
   },
   {
    "duration": 77,
    "start_time": "2021-12-01T14:25:05.675Z"
   },
   {
    "duration": 87,
    "start_time": "2021-12-01T14:25:05.754Z"
   },
   {
    "duration": 1533,
    "start_time": "2021-12-01T14:25:05.843Z"
   },
   {
    "duration": 1437,
    "start_time": "2021-12-01T14:25:07.378Z"
   },
   {
    "duration": 7,
    "start_time": "2021-12-01T14:25:08.817Z"
   },
   {
    "duration": 1515,
    "start_time": "2021-12-01T14:25:08.826Z"
   },
   {
    "duration": 1527,
    "start_time": "2021-12-01T14:25:10.342Z"
   },
   {
    "duration": 6,
    "start_time": "2021-12-01T14:25:11.871Z"
   },
   {
    "duration": 15,
    "start_time": "2021-12-01T14:25:11.878Z"
   },
   {
    "duration": 11,
    "start_time": "2021-12-01T14:25:45.163Z"
   },
   {
    "duration": 20,
    "start_time": "2021-12-01T14:27:03.470Z"
   },
   {
    "duration": 22,
    "start_time": "2021-12-01T14:27:54.224Z"
   },
   {
    "duration": 6,
    "start_time": "2021-12-01T14:30:10.261Z"
   },
   {
    "duration": 225,
    "start_time": "2021-12-01T14:30:28.698Z"
   },
   {
    "duration": 3,
    "start_time": "2021-12-01T14:30:32.474Z"
   },
   {
    "duration": 5,
    "start_time": "2021-12-01T14:30:36.640Z"
   },
   {
    "duration": 6,
    "start_time": "2021-12-01T14:32:18.323Z"
   },
   {
    "duration": 21,
    "start_time": "2021-12-01T14:34:57.785Z"
   },
   {
    "duration": 20,
    "start_time": "2021-12-01T14:35:03.215Z"
   },
   {
    "duration": 9,
    "start_time": "2021-12-01T14:38:07.501Z"
   },
   {
    "duration": 7043,
    "start_time": "2021-12-01T14:49:59.229Z"
   },
   {
    "duration": 6,
    "start_time": "2021-12-01T14:51:30.063Z"
   },
   {
    "duration": 6,
    "start_time": "2021-12-01T14:52:12.759Z"
   },
   {
    "duration": 6,
    "start_time": "2021-12-01T14:53:05.453Z"
   },
   {
    "duration": 7,
    "start_time": "2021-12-01T14:53:09.059Z"
   },
   {
    "duration": 6,
    "start_time": "2021-12-01T14:53:17.329Z"
   },
   {
    "duration": 7,
    "start_time": "2021-12-01T14:53:52.196Z"
   },
   {
    "duration": 7,
    "start_time": "2021-12-01T15:19:53.783Z"
   },
   {
    "duration": 12,
    "start_time": "2021-12-01T15:22:46.357Z"
   },
   {
    "duration": 13,
    "start_time": "2021-12-01T15:22:59.734Z"
   },
   {
    "duration": 34,
    "start_time": "2021-12-01T15:23:22.802Z"
   },
   {
    "duration": 14,
    "start_time": "2021-12-01T15:23:33.495Z"
   },
   {
    "duration": 12,
    "start_time": "2021-12-01T15:23:51.469Z"
   },
   {
    "duration": 11,
    "start_time": "2021-12-01T15:23:57.771Z"
   },
   {
    "duration": 673,
    "start_time": "2021-12-01T15:35:14.345Z"
   },
   {
    "duration": 17,
    "start_time": "2021-12-01T15:36:22.731Z"
   },
   {
    "duration": 6870,
    "start_time": "2021-12-01T15:40:20.163Z"
   },
   {
    "duration": 12,
    "start_time": "2021-12-01T15:40:30.621Z"
   },
   {
    "duration": 276,
    "start_time": "2021-12-01T16:41:36.566Z"
   },
   {
    "duration": 66,
    "start_time": "2021-12-01T16:41:59.863Z"
   },
   {
    "duration": 343,
    "start_time": "2021-12-01T16:43:29.714Z"
   },
   {
    "duration": 232,
    "start_time": "2021-12-01T16:45:29.845Z"
   },
   {
    "duration": 325,
    "start_time": "2021-12-01T16:45:39.546Z"
   },
   {
    "duration": 346,
    "start_time": "2021-12-01T16:48:18.279Z"
   },
   {
    "duration": 9,
    "start_time": "2021-12-01T16:51:03.377Z"
   },
   {
    "duration": 79,
    "start_time": "2021-12-01T16:51:03.387Z"
   },
   {
    "duration": 9,
    "start_time": "2021-12-01T16:51:03.468Z"
   },
   {
    "duration": 8,
    "start_time": "2021-12-01T16:51:05.773Z"
   },
   {
    "duration": 22,
    "start_time": "2021-12-01T16:51:06.838Z"
   },
   {
    "duration": 10,
    "start_time": "2021-12-01T16:51:07.902Z"
   },
   {
    "duration": 10,
    "start_time": "2021-12-01T16:51:08.722Z"
   },
   {
    "duration": 1607,
    "start_time": "2021-12-01T16:51:10.111Z"
   },
   {
    "duration": 1606,
    "start_time": "2021-12-01T16:51:11.720Z"
   },
   {
    "duration": 60,
    "start_time": "2021-12-01T16:51:13.328Z"
   },
   {
    "duration": 65,
    "start_time": "2021-12-01T16:51:14.917Z"
   },
   {
    "duration": 2076,
    "start_time": "2021-12-01T16:51:15.731Z"
   },
   {
    "duration": 1730,
    "start_time": "2021-12-01T16:51:17.810Z"
   },
   {
    "duration": 7,
    "start_time": "2021-12-01T16:51:28.166Z"
   },
   {
    "duration": 1518,
    "start_time": "2021-12-01T16:51:28.812Z"
   },
   {
    "duration": 1512,
    "start_time": "2021-12-01T16:51:30.332Z"
   },
   {
    "duration": 7,
    "start_time": "2021-12-01T16:51:32.379Z"
   },
   {
    "duration": 10,
    "start_time": "2021-12-01T16:51:34.358Z"
   },
   {
    "duration": 21,
    "start_time": "2021-12-01T16:51:35.434Z"
   },
   {
    "duration": 9,
    "start_time": "2021-12-01T16:51:40.470Z"
   },
   {
    "duration": 19,
    "start_time": "2021-12-01T16:51:42.850Z"
   },
   {
    "duration": 636,
    "start_time": "2021-12-01T16:51:44.576Z"
   },
   {
    "duration": 13,
    "start_time": "2021-12-01T16:51:46.516Z"
   },
   {
    "duration": 2,
    "start_time": "2021-12-01T16:51:50.434Z"
   },
   {
    "duration": 325,
    "start_time": "2021-12-01T16:51:58.814Z"
   },
   {
    "duration": 328,
    "start_time": "2021-12-01T16:52:40.828Z"
   },
   {
    "duration": 325,
    "start_time": "2021-12-01T16:52:49.664Z"
   },
   {
    "duration": 7248,
    "start_time": "2021-12-01T16:52:53.802Z"
   },
   {
    "duration": 1258,
    "start_time": "2021-12-01T16:53:12.116Z"
   },
   {
    "duration": 1406,
    "start_time": "2021-12-01T16:53:49.352Z"
   },
   {
    "duration": 1497,
    "start_time": "2021-12-01T16:54:07.014Z"
   },
   {
    "duration": 1400,
    "start_time": "2021-12-01T16:54:29.645Z"
   },
   {
    "duration": 1664,
    "start_time": "2021-12-01T16:54:43.191Z"
   },
   {
    "duration": 1225,
    "start_time": "2021-12-01T16:55:46.422Z"
   },
   {
    "duration": 604,
    "start_time": "2021-12-01T16:55:57.383Z"
   },
   {
    "duration": 1410,
    "start_time": "2021-12-01T16:56:16.873Z"
   },
   {
    "duration": 1632,
    "start_time": "2021-12-01T16:58:21.557Z"
   },
   {
    "duration": 1486,
    "start_time": "2021-12-01T16:58:41.641Z"
   },
   {
    "duration": 1528,
    "start_time": "2021-12-01T16:58:51.278Z"
   },
   {
    "duration": 1633,
    "start_time": "2021-12-01T16:59:09.304Z"
   },
   {
    "duration": 1799,
    "start_time": "2021-12-01T16:59:20.106Z"
   },
   {
    "duration": 1147,
    "start_time": "2021-12-01T17:00:01.751Z"
   },
   {
    "duration": 1211,
    "start_time": "2021-12-01T17:00:12.020Z"
   },
   {
    "duration": 1149,
    "start_time": "2021-12-01T17:00:22.959Z"
   },
   {
    "duration": 407,
    "start_time": "2021-12-01T17:30:49.165Z"
   },
   {
    "duration": 189,
    "start_time": "2021-12-01T17:33:46.712Z"
   },
   {
    "duration": 112,
    "start_time": "2021-12-01T17:34:01.957Z"
   },
   {
    "duration": 243,
    "start_time": "2021-12-01T17:34:14.656Z"
   },
   {
    "duration": 135,
    "start_time": "2021-12-01T17:34:25.402Z"
   },
   {
    "duration": 120,
    "start_time": "2021-12-01T17:35:23.257Z"
   },
   {
    "duration": 107,
    "start_time": "2021-12-01T17:35:50.231Z"
   },
   {
    "duration": 2,
    "start_time": "2021-12-01T17:36:16.217Z"
   },
   {
    "duration": 1316,
    "start_time": "2021-12-01T17:36:16.808Z"
   },
   {
    "duration": 120,
    "start_time": "2021-12-01T17:36:18.126Z"
   },
   {
    "duration": 377,
    "start_time": "2021-12-01T17:36:44.092Z"
   },
   {
    "duration": 3,
    "start_time": "2021-12-01T17:44:12.213Z"
   },
   {
    "duration": 3,
    "start_time": "2021-12-01T17:45:33.281Z"
   },
   {
    "duration": 465,
    "start_time": "2021-12-01T17:46:22.512Z"
   },
   {
    "duration": 215,
    "start_time": "2021-12-01T17:46:41.061Z"
   },
   {
    "duration": 716,
    "start_time": "2021-12-01T17:46:58.716Z"
   },
   {
    "duration": 3,
    "start_time": "2021-12-01T17:47:14.614Z"
   },
   {
    "duration": 757,
    "start_time": "2021-12-01T17:47:16.030Z"
   },
   {
    "duration": 3,
    "start_time": "2021-12-01T17:47:31.199Z"
   },
   {
    "duration": 674,
    "start_time": "2021-12-01T17:47:32.827Z"
   },
   {
    "duration": 3,
    "start_time": "2021-12-01T17:48:03.766Z"
   },
   {
    "duration": 768,
    "start_time": "2021-12-01T17:48:06.195Z"
   },
   {
    "duration": 332,
    "start_time": "2021-12-01T17:48:15.942Z"
   },
   {
    "duration": 469,
    "start_time": "2021-12-01T17:48:22.966Z"
   },
   {
    "duration": 3,
    "start_time": "2021-12-01T17:48:58.574Z"
   },
   {
    "duration": 374,
    "start_time": "2021-12-01T17:48:59.716Z"
   },
   {
    "duration": 459,
    "start_time": "2021-12-01T17:49:01.124Z"
   },
   {
    "duration": 78,
    "start_time": "2021-12-01T17:49:57.654Z"
   },
   {
    "duration": 11,
    "start_time": "2021-12-01T17:49:58.314Z"
   },
   {
    "duration": 9,
    "start_time": "2021-12-01T17:50:00.665Z"
   },
   {
    "duration": 24,
    "start_time": "2021-12-01T17:50:01.429Z"
   },
   {
    "duration": 10,
    "start_time": "2021-12-01T17:50:02.084Z"
   },
   {
    "duration": 12,
    "start_time": "2021-12-01T17:50:02.991Z"
   },
   {
    "duration": 2429,
    "start_time": "2021-12-01T17:50:03.967Z"
   },
   {
    "duration": 2422,
    "start_time": "2021-12-01T17:50:07.329Z"
   },
   {
    "duration": 62,
    "start_time": "2021-12-01T17:50:09.753Z"
   },
   {
    "duration": 63,
    "start_time": "2021-12-01T17:50:10.386Z"
   },
   {
    "duration": 2504,
    "start_time": "2021-12-01T17:50:11.195Z"
   },
   {
    "duration": 1494,
    "start_time": "2021-12-01T17:50:13.701Z"
   },
   {
    "duration": 6,
    "start_time": "2021-12-01T17:50:15.197Z"
   },
   {
    "duration": 1441,
    "start_time": "2021-12-01T17:50:16.206Z"
   },
   {
    "duration": 1442,
    "start_time": "2021-12-01T17:50:17.648Z"
   },
   {
    "duration": 6,
    "start_time": "2021-12-01T17:50:19.800Z"
   },
   {
    "duration": 13,
    "start_time": "2021-12-01T17:50:21.243Z"
   },
   {
    "duration": 28,
    "start_time": "2021-12-01T17:50:22.211Z"
   },
   {
    "duration": 8,
    "start_time": "2021-12-01T17:50:25.329Z"
   },
   {
    "duration": 24,
    "start_time": "2021-12-01T17:50:26.372Z"
   },
   {
    "duration": 557,
    "start_time": "2021-12-01T17:50:27.190Z"
   },
   {
    "duration": 14,
    "start_time": "2021-12-01T17:50:27.922Z"
   },
   {
    "duration": 2,
    "start_time": "2021-12-01T17:50:31.357Z"
   },
   {
    "duration": 3,
    "start_time": "2021-12-01T17:50:32.740Z"
   },
   {
    "duration": 3,
    "start_time": "2021-12-01T17:50:33.631Z"
   },
   {
    "duration": 217,
    "start_time": "2021-12-01T17:50:34.876Z"
   },
   {
    "duration": 449,
    "start_time": "2021-12-01T17:50:36.199Z"
   },
   {
    "duration": 3,
    "start_time": "2021-12-01T17:52:43.261Z"
   },
   {
    "duration": 208,
    "start_time": "2021-12-01T17:52:43.957Z"
   },
   {
    "duration": 466,
    "start_time": "2021-12-01T17:52:55.622Z"
   },
   {
    "duration": 2,
    "start_time": "2021-12-01T17:53:25.088Z"
   },
   {
    "duration": 207,
    "start_time": "2021-12-01T17:53:26.303Z"
   },
   {
    "duration": 461,
    "start_time": "2021-12-01T17:53:26.869Z"
   },
   {
    "duration": 535,
    "start_time": "2021-12-01T17:53:37.562Z"
   },
   {
    "duration": 250,
    "start_time": "2021-12-01T17:55:03.830Z"
   },
   {
    "duration": 273,
    "start_time": "2021-12-01T17:55:30.161Z"
   },
   {
    "duration": 209,
    "start_time": "2021-12-01T17:55:39.899Z"
   },
   {
    "duration": 473,
    "start_time": "2021-12-01T17:56:22.695Z"
   },
   {
    "duration": 201,
    "start_time": "2021-12-01T17:57:32.213Z"
   },
   {
    "duration": 336,
    "start_time": "2021-12-01T17:57:38.138Z"
   },
   {
    "duration": 217,
    "start_time": "2021-12-01T17:58:05.003Z"
   },
   {
    "duration": 207,
    "start_time": "2021-12-01T17:58:25.376Z"
   },
   {
    "duration": 203,
    "start_time": "2021-12-01T17:58:32.398Z"
   },
   {
    "duration": 244,
    "start_time": "2021-12-01T17:58:59.940Z"
   },
   {
    "duration": 481,
    "start_time": "2021-12-01T17:59:18.930Z"
   },
   {
    "duration": 532,
    "start_time": "2021-12-01T18:00:04.742Z"
   },
   {
    "duration": 2,
    "start_time": "2021-12-01T18:03:02.473Z"
   },
   {
    "duration": 221,
    "start_time": "2021-12-01T18:03:04.668Z"
   },
   {
    "duration": 256,
    "start_time": "2021-12-01T18:03:05.597Z"
   },
   {
    "duration": 6226,
    "start_time": "2021-12-01T18:03:16.071Z"
   },
   {
    "duration": 3,
    "start_time": "2021-12-01T18:03:37.131Z"
   },
   {
    "duration": 211,
    "start_time": "2021-12-01T18:03:37.730Z"
   },
   {
    "duration": 696,
    "start_time": "2021-12-01T18:03:38.368Z"
   },
   {
    "duration": 4,
    "start_time": "2021-12-01T18:06:37.422Z"
   },
   {
    "duration": 255,
    "start_time": "2021-12-01T18:06:38.294Z"
   },
   {
    "duration": 615,
    "start_time": "2021-12-01T18:06:39.045Z"
   },
   {
    "duration": 209,
    "start_time": "2021-12-01T18:06:46.434Z"
   },
   {
    "duration": 593,
    "start_time": "2021-12-01T18:06:48.063Z"
   },
   {
    "duration": 3,
    "start_time": "2021-12-01T18:45:04.797Z"
   },
   {
    "duration": 208,
    "start_time": "2021-12-01T18:45:05.531Z"
   },
   {
    "duration": 618,
    "start_time": "2021-12-01T18:45:06.821Z"
   },
   {
    "duration": 709,
    "start_time": "2021-12-01T18:45:21.605Z"
   },
   {
    "duration": 230,
    "start_time": "2021-12-01T18:45:49.149Z"
   },
   {
    "duration": 612,
    "start_time": "2021-12-01T18:45:58.689Z"
   },
   {
    "duration": 3,
    "start_time": "2021-12-01T18:46:13.176Z"
   },
   {
    "duration": 207,
    "start_time": "2021-12-01T18:46:14.302Z"
   },
   {
    "duration": 581,
    "start_time": "2021-12-01T18:46:15.116Z"
   },
   {
    "duration": 3,
    "start_time": "2021-12-01T18:46:42.317Z"
   },
   {
    "duration": 213,
    "start_time": "2021-12-01T18:46:42.786Z"
   },
   {
    "duration": 236,
    "start_time": "2021-12-01T18:46:43.320Z"
   },
   {
    "duration": 107,
    "start_time": "2021-12-01T18:46:53.105Z"
   },
   {
    "duration": 3,
    "start_time": "2021-12-01T18:47:53.373Z"
   },
   {
    "duration": 204,
    "start_time": "2021-12-01T18:47:53.847Z"
   },
   {
    "duration": 694,
    "start_time": "2021-12-01T18:48:01.437Z"
   },
   {
    "duration": 3,
    "start_time": "2021-12-01T18:48:15.111Z"
   },
   {
    "duration": 215,
    "start_time": "2021-12-01T18:48:15.733Z"
   },
   {
    "duration": 780,
    "start_time": "2021-12-01T18:48:16.258Z"
   },
   {
    "duration": 356,
    "start_time": "2021-12-01T18:52:01.063Z"
   },
   {
    "duration": 77,
    "start_time": "2021-12-01T18:53:10.782Z"
   },
   {
    "duration": 11,
    "start_time": "2021-12-01T18:53:11.581Z"
   },
   {
    "duration": 9,
    "start_time": "2021-12-01T18:53:14.080Z"
   },
   {
    "duration": 23,
    "start_time": "2021-12-01T18:53:14.748Z"
   },
   {
    "duration": 13,
    "start_time": "2021-12-01T18:53:15.320Z"
   },
   {
    "duration": 11,
    "start_time": "2021-12-01T18:53:15.897Z"
   },
   {
    "duration": 1518,
    "start_time": "2021-12-01T18:53:16.620Z"
   },
   {
    "duration": 1456,
    "start_time": "2021-12-01T18:53:21.082Z"
   },
   {
    "duration": 56,
    "start_time": "2021-12-01T18:53:22.539Z"
   },
   {
    "duration": 47,
    "start_time": "2021-12-01T18:53:22.597Z"
   },
   {
    "duration": 1472,
    "start_time": "2021-12-01T18:53:23.018Z"
   },
   {
    "duration": 1497,
    "start_time": "2021-12-01T18:53:24.492Z"
   },
   {
    "duration": 7,
    "start_time": "2021-12-01T18:53:25.991Z"
   },
   {
    "duration": 1457,
    "start_time": "2021-12-01T18:53:25.999Z"
   },
   {
    "duration": 1423,
    "start_time": "2021-12-01T18:53:27.458Z"
   },
   {
    "duration": 9,
    "start_time": "2021-12-01T18:53:28.882Z"
   },
   {
    "duration": 11,
    "start_time": "2021-12-01T18:53:28.892Z"
   },
   {
    "duration": 20,
    "start_time": "2021-12-01T18:53:28.904Z"
   },
   {
    "duration": 7,
    "start_time": "2021-12-01T18:53:31.472Z"
   },
   {
    "duration": 18,
    "start_time": "2021-12-01T18:53:32.441Z"
   },
   {
    "duration": 637,
    "start_time": "2021-12-01T18:53:33.675Z"
   },
   {
    "duration": 13,
    "start_time": "2021-12-01T18:53:34.740Z"
   },
   {
    "duration": 2,
    "start_time": "2021-12-01T18:53:38.716Z"
   },
   {
    "duration": 3,
    "start_time": "2021-12-01T18:53:40.150Z"
   },
   {
    "duration": 209,
    "start_time": "2021-12-01T18:53:41.457Z"
   },
   {
    "duration": 377,
    "start_time": "2021-12-01T18:53:42.633Z"
   },
   {
    "duration": 3,
    "start_time": "2021-12-01T18:54:02.459Z"
   },
   {
    "duration": 3,
    "start_time": "2021-12-01T18:54:03.080Z"
   },
   {
    "duration": 211,
    "start_time": "2021-12-01T18:54:03.761Z"
   },
   {
    "duration": 367,
    "start_time": "2021-12-01T18:54:04.477Z"
   },
   {
    "duration": 3,
    "start_time": "2021-12-01T18:54:14.303Z"
   },
   {
    "duration": 220,
    "start_time": "2021-12-01T18:54:14.882Z"
   },
   {
    "duration": 344,
    "start_time": "2021-12-01T18:54:16.072Z"
   },
   {
    "duration": 2,
    "start_time": "2021-12-01T18:55:31.154Z"
   },
   {
    "duration": 2,
    "start_time": "2021-12-01T18:55:31.640Z"
   },
   {
    "duration": 212,
    "start_time": "2021-12-01T18:55:32.206Z"
   },
   {
    "duration": 359,
    "start_time": "2021-12-01T18:55:33.388Z"
   },
   {
    "duration": 382,
    "start_time": "2021-12-01T18:56:27.524Z"
   },
   {
    "duration": 86,
    "start_time": "2021-12-01T18:56:40.382Z"
   },
   {
    "duration": 361,
    "start_time": "2021-12-01T18:56:46.080Z"
   },
   {
    "duration": 541,
    "start_time": "2021-12-01T18:58:49.362Z"
   },
   {
    "duration": 360,
    "start_time": "2021-12-01T19:03:31.989Z"
   },
   {
    "duration": 346,
    "start_time": "2021-12-01T19:04:32.022Z"
   },
   {
    "duration": 6530,
    "start_time": "2021-12-01T19:09:50.927Z"
   },
   {
    "duration": 346,
    "start_time": "2021-12-01T19:10:28.407Z"
   },
   {
    "duration": 343,
    "start_time": "2021-12-01T19:10:58.898Z"
   },
   {
    "duration": 4,
    "start_time": "2021-12-01T19:13:12.915Z"
   },
   {
    "duration": 72,
    "start_time": "2021-12-01T19:17:44.686Z"
   },
   {
    "duration": 10,
    "start_time": "2021-12-01T19:17:45.262Z"
   },
   {
    "duration": 8,
    "start_time": "2021-12-01T19:17:47.421Z"
   },
   {
    "duration": 22,
    "start_time": "2021-12-01T19:17:48.673Z"
   },
   {
    "duration": 9,
    "start_time": "2021-12-01T19:17:49.976Z"
   },
   {
    "duration": 8,
    "start_time": "2021-12-01T19:17:51.499Z"
   },
   {
    "duration": 229,
    "start_time": "2021-12-01T19:17:53.821Z"
   },
   {
    "duration": 235,
    "start_time": "2021-12-01T19:18:57.251Z"
   },
   {
    "duration": 243,
    "start_time": "2021-12-01T19:19:12.803Z"
   },
   {
    "duration": 245,
    "start_time": "2021-12-01T19:19:18.097Z"
   },
   {
    "duration": 230,
    "start_time": "2021-12-01T19:19:44.856Z"
   },
   {
    "duration": 314,
    "start_time": "2021-12-01T19:19:48.908Z"
   },
   {
    "duration": 240,
    "start_time": "2021-12-01T19:20:07.470Z"
   },
   {
    "duration": 232,
    "start_time": "2021-12-01T19:20:12.729Z"
   },
   {
    "duration": 233,
    "start_time": "2021-12-01T19:20:21.311Z"
   },
   {
    "duration": 9,
    "start_time": "2021-12-01T19:24:14.802Z"
   },
   {
    "duration": 1439,
    "start_time": "2021-12-01T19:24:20.120Z"
   },
   {
    "duration": 79,
    "start_time": "2021-12-01T19:26:34.392Z"
   },
   {
    "duration": 9,
    "start_time": "2021-12-01T19:26:35.254Z"
   },
   {
    "duration": 9,
    "start_time": "2021-12-01T19:26:37.864Z"
   },
   {
    "duration": 22,
    "start_time": "2021-12-01T19:26:39.264Z"
   },
   {
    "duration": 8,
    "start_time": "2021-12-01T19:26:39.288Z"
   },
   {
    "duration": 8,
    "start_time": "2021-12-01T19:26:40.016Z"
   },
   {
    "duration": 8,
    "start_time": "2021-12-01T19:26:41.505Z"
   },
   {
    "duration": 1577,
    "start_time": "2021-12-01T19:26:42.449Z"
   },
   {
    "duration": 1472,
    "start_time": "2021-12-01T19:26:44.029Z"
   },
   {
    "duration": 48,
    "start_time": "2021-12-01T19:26:46.174Z"
   },
   {
    "duration": 48,
    "start_time": "2021-12-01T19:26:47.574Z"
   },
   {
    "duration": 1430,
    "start_time": "2021-12-01T19:26:48.399Z"
   },
   {
    "duration": 1440,
    "start_time": "2021-12-01T19:26:49.830Z"
   },
   {
    "duration": 17,
    "start_time": "2021-12-01T19:26:51.271Z"
   },
   {
    "duration": 1480,
    "start_time": "2021-12-01T19:26:51.931Z"
   },
   {
    "duration": 1434,
    "start_time": "2021-12-01T19:26:53.414Z"
   },
   {
    "duration": 6,
    "start_time": "2021-12-01T19:26:54.851Z"
   },
   {
    "duration": 10,
    "start_time": "2021-12-01T19:26:55.724Z"
   },
   {
    "duration": 21,
    "start_time": "2021-12-01T19:26:56.786Z"
   },
   {
    "duration": 6,
    "start_time": "2021-12-01T19:27:00.355Z"
   },
   {
    "duration": 19,
    "start_time": "2021-12-01T19:27:01.492Z"
   },
   {
    "duration": 907,
    "start_time": "2021-12-01T19:27:03.024Z"
   },
   {
    "duration": 17,
    "start_time": "2021-12-01T19:27:03.933Z"
   },
   {
    "duration": 2,
    "start_time": "2021-12-01T19:27:07.300Z"
   },
   {
    "duration": 2,
    "start_time": "2021-12-01T19:27:08.084Z"
   },
   {
    "duration": 204,
    "start_time": "2021-12-01T19:27:09.019Z"
   },
   {
    "duration": 401,
    "start_time": "2021-12-01T19:27:10.150Z"
   },
   {
    "duration": 231,
    "start_time": "2021-12-01T19:27:11.493Z"
   },
   {
    "duration": 377,
    "start_time": "2021-12-01T19:27:12.283Z"
   },
   {
    "duration": 218,
    "start_time": "2021-12-01T19:27:13.008Z"
   },
   {
    "duration": 359,
    "start_time": "2021-12-01T19:27:13.995Z"
   },
   {
    "duration": 210,
    "start_time": "2021-12-01T19:27:34.384Z"
   },
   {
    "duration": 353,
    "start_time": "2021-12-01T19:27:35.149Z"
   },
   {
    "duration": 223,
    "start_time": "2021-12-01T19:27:37.777Z"
   },
   {
    "duration": 24,
    "start_time": "2021-12-01T19:28:07.862Z"
   },
   {
    "duration": 12,
    "start_time": "2021-12-01T19:29:15.030Z"
   },
   {
    "duration": 221,
    "start_time": "2021-12-01T19:29:27.406Z"
   },
   {
    "duration": 233,
    "start_time": "2021-12-01T19:30:17.755Z"
   },
   {
    "duration": 489,
    "start_time": "2021-12-01T19:30:32.281Z"
   },
   {
    "duration": 243,
    "start_time": "2021-12-01T19:31:55.057Z"
   },
   {
    "duration": 214,
    "start_time": "2021-12-01T19:44:36.015Z"
   },
   {
    "duration": 222,
    "start_time": "2021-12-01T19:44:53.054Z"
   },
   {
    "duration": 9,
    "start_time": "2021-12-01T19:50:17.932Z"
   },
   {
    "duration": 9,
    "start_time": "2021-12-01T19:52:01.677Z"
   },
   {
    "duration": 701,
    "start_time": "2021-12-02T18:53:53.262Z"
   },
   {
    "duration": 13,
    "start_time": "2021-12-02T18:53:54.537Z"
   },
   {
    "duration": 9,
    "start_time": "2021-12-02T18:53:58.144Z"
   },
   {
    "duration": 24,
    "start_time": "2021-12-02T18:53:59.139Z"
   },
   {
    "duration": 13,
    "start_time": "2021-12-02T18:54:00.294Z"
   },
   {
    "duration": 10,
    "start_time": "2021-12-02T18:54:01.347Z"
   },
   {
    "duration": 14,
    "start_time": "2021-12-02T18:54:03.413Z"
   },
   {
    "duration": 1646,
    "start_time": "2021-12-02T18:54:06.076Z"
   },
   {
    "duration": 1626,
    "start_time": "2021-12-02T18:54:07.783Z"
   },
   {
    "duration": 55,
    "start_time": "2021-12-02T18:54:09.931Z"
   },
   {
    "duration": 54,
    "start_time": "2021-12-02T18:54:13.437Z"
   },
   {
    "duration": 1545,
    "start_time": "2021-12-02T18:54:14.406Z"
   },
   {
    "duration": 1563,
    "start_time": "2021-12-02T18:54:17.766Z"
   },
   {
    "duration": 8,
    "start_time": "2021-12-02T18:54:19.920Z"
   },
   {
    "duration": 1569,
    "start_time": "2021-12-02T18:54:22.857Z"
   },
   {
    "duration": 1557,
    "start_time": "2021-12-02T18:54:24.428Z"
   },
   {
    "duration": 7,
    "start_time": "2021-12-02T18:54:25.987Z"
   },
   {
    "duration": 11,
    "start_time": "2021-12-02T18:54:27.123Z"
   },
   {
    "duration": 22,
    "start_time": "2021-12-02T18:54:28.983Z"
   },
   {
    "duration": 11,
    "start_time": "2021-12-02T18:54:32.792Z"
   },
   {
    "duration": 20,
    "start_time": "2021-12-02T18:54:34.166Z"
   },
   {
    "duration": 573,
    "start_time": "2021-12-02T18:54:35.395Z"
   },
   {
    "duration": 15,
    "start_time": "2021-12-02T18:54:36.632Z"
   },
   {
    "duration": 72,
    "start_time": "2021-12-02T18:54:41.486Z"
   },
   {
    "duration": 3,
    "start_time": "2021-12-02T18:54:42.345Z"
   },
   {
    "duration": 279,
    "start_time": "2021-12-02T18:54:43.769Z"
   },
   {
    "duration": 149,
    "start_time": "2021-12-02T18:54:45.459Z"
   },
   {
    "duration": 3,
    "start_time": "2021-12-02T18:57:37.626Z"
   },
   {
    "duration": 123,
    "start_time": "2021-12-02T18:58:26.586Z"
   },
   {
    "duration": 131,
    "start_time": "2021-12-02T18:59:10.147Z"
   },
   {
    "duration": 130,
    "start_time": "2021-12-02T18:59:29.106Z"
   },
   {
    "duration": 127,
    "start_time": "2021-12-02T18:59:33.658Z"
   },
   {
    "duration": 129,
    "start_time": "2021-12-02T18:59:42.866Z"
   },
   {
    "duration": 136,
    "start_time": "2021-12-02T18:59:54.222Z"
   },
   {
    "duration": 132,
    "start_time": "2021-12-02T19:00:02.748Z"
   },
   {
    "duration": 128,
    "start_time": "2021-12-02T19:00:30.625Z"
   },
   {
    "duration": 187,
    "start_time": "2021-12-02T19:00:40.485Z"
   },
   {
    "duration": 114,
    "start_time": "2021-12-02T19:00:53.963Z"
   },
   {
    "duration": 126,
    "start_time": "2021-12-02T19:01:38.741Z"
   },
   {
    "duration": 232,
    "start_time": "2021-12-02T20:14:49.328Z"
   },
   {
    "duration": 131,
    "start_time": "2021-12-02T20:14:51.169Z"
   },
   {
    "duration": 229,
    "start_time": "2021-12-02T20:14:51.947Z"
   },
   {
    "duration": 116,
    "start_time": "2021-12-02T20:14:53.069Z"
   },
   {
    "duration": 233,
    "start_time": "2021-12-02T20:14:54.509Z"
   },
   {
    "duration": 128,
    "start_time": "2021-12-02T20:14:56.258Z"
   },
   {
    "duration": 140,
    "start_time": "2021-12-02T20:15:51.422Z"
   },
   {
    "duration": 142,
    "start_time": "2021-12-02T20:16:04.316Z"
   },
   {
    "duration": 12,
    "start_time": "2021-12-02T20:16:33.005Z"
   },
   {
    "duration": 11,
    "start_time": "2021-12-02T20:17:00.890Z"
   },
   {
    "duration": 419,
    "start_time": "2021-12-02T20:17:29.164Z"
   },
   {
    "duration": 223,
    "start_time": "2021-12-02T20:17:38.881Z"
   },
   {
    "duration": 18,
    "start_time": "2021-12-02T20:18:23.262Z"
   },
   {
    "duration": 25,
    "start_time": "2021-12-02T20:18:47.575Z"
   },
   {
    "duration": 3,
    "start_time": "2021-12-02T20:32:15.043Z"
   },
   {
    "duration": 22,
    "start_time": "2021-12-02T20:42:00.411Z"
   },
   {
    "duration": 458,
    "start_time": "2021-12-02T20:43:05.610Z"
   },
   {
    "duration": 480,
    "start_time": "2021-12-02T20:43:28.362Z"
   },
   {
    "duration": 438,
    "start_time": "2021-12-02T20:43:40.630Z"
   },
   {
    "duration": 3,
    "start_time": "2021-12-02T20:44:52.084Z"
   },
   {
    "duration": 20,
    "start_time": "2021-12-02T20:44:52.752Z"
   },
   {
    "duration": 459,
    "start_time": "2021-12-02T20:44:53.279Z"
   },
   {
    "duration": 448,
    "start_time": "2021-12-02T20:45:19.211Z"
   },
   {
    "duration": 293,
    "start_time": "2021-12-03T13:52:43.074Z"
   },
   {
    "duration": 745,
    "start_time": "2021-12-03T13:53:17.654Z"
   },
   {
    "duration": 12,
    "start_time": "2021-12-03T13:53:18.401Z"
   },
   {
    "duration": 9,
    "start_time": "2021-12-03T13:53:20.372Z"
   },
   {
    "duration": 26,
    "start_time": "2021-12-03T13:53:20.896Z"
   },
   {
    "duration": 15,
    "start_time": "2021-12-03T13:53:21.443Z"
   },
   {
    "duration": 9,
    "start_time": "2021-12-03T13:53:22.932Z"
   },
   {
    "duration": 15,
    "start_time": "2021-12-03T13:53:23.548Z"
   },
   {
    "duration": 1633,
    "start_time": "2021-12-03T13:53:24.138Z"
   },
   {
    "duration": 1635,
    "start_time": "2021-12-03T13:53:25.773Z"
   },
   {
    "duration": 67,
    "start_time": "2021-12-03T13:53:27.411Z"
   },
   {
    "duration": 61,
    "start_time": "2021-12-03T13:53:27.480Z"
   },
   {
    "duration": 1562,
    "start_time": "2021-12-03T13:53:27.544Z"
   },
   {
    "duration": 1592,
    "start_time": "2021-12-03T13:53:29.107Z"
   },
   {
    "duration": 9,
    "start_time": "2021-12-03T13:53:30.701Z"
   },
   {
    "duration": 1651,
    "start_time": "2021-12-03T13:53:30.712Z"
   },
   {
    "duration": 1580,
    "start_time": "2021-12-03T13:53:32.366Z"
   },
   {
    "duration": 16,
    "start_time": "2021-12-03T13:53:33.948Z"
   },
   {
    "duration": 10,
    "start_time": "2021-12-03T13:53:33.966Z"
   },
   {
    "duration": 24,
    "start_time": "2021-12-03T13:53:33.978Z"
   },
   {
    "duration": 12,
    "start_time": "2021-12-03T13:53:34.004Z"
   },
   {
    "duration": 21,
    "start_time": "2021-12-03T13:53:34.127Z"
   },
   {
    "duration": 734,
    "start_time": "2021-12-03T13:53:34.738Z"
   },
   {
    "duration": 15,
    "start_time": "2021-12-03T13:53:35.474Z"
   },
   {
    "duration": 77,
    "start_time": "2021-12-03T13:53:37.707Z"
   },
   {
    "duration": 4,
    "start_time": "2021-12-03T13:53:38.285Z"
   },
   {
    "duration": 3,
    "start_time": "2021-12-03T13:53:38.921Z"
   },
   {
    "duration": 293,
    "start_time": "2021-12-03T13:53:39.930Z"
   },
   {
    "duration": 127,
    "start_time": "2021-12-03T13:53:40.789Z"
   },
   {
    "duration": 234,
    "start_time": "2021-12-03T13:53:41.686Z"
   },
   {
    "duration": 121,
    "start_time": "2021-12-03T13:53:42.543Z"
   },
   {
    "duration": 242,
    "start_time": "2021-12-03T13:53:43.388Z"
   },
   {
    "duration": 126,
    "start_time": "2021-12-03T13:53:44.159Z"
   },
   {
    "duration": 224,
    "start_time": "2021-12-03T13:53:45.023Z"
   },
   {
    "duration": 126,
    "start_time": "2021-12-03T13:53:45.771Z"
   },
   {
    "duration": 235,
    "start_time": "2021-12-03T13:53:47.654Z"
   },
   {
    "duration": 266,
    "start_time": "2021-12-03T13:53:48.448Z"
   },
   {
    "duration": 215,
    "start_time": "2021-12-03T13:53:49.305Z"
   },
   {
    "duration": 230,
    "start_time": "2021-12-03T13:53:50.146Z"
   },
   {
    "duration": 3,
    "start_time": "2021-12-03T13:53:52.571Z"
   },
   {
    "duration": 21,
    "start_time": "2021-12-03T13:53:53.395Z"
   },
   {
    "duration": 448,
    "start_time": "2021-12-03T13:53:54.960Z"
   },
   {
    "duration": 180,
    "start_time": "2021-12-03T13:53:56.378Z"
   },
   {
    "duration": 215,
    "start_time": "2021-12-03T13:55:59.770Z"
   },
   {
    "duration": 216,
    "start_time": "2021-12-03T13:56:19.996Z"
   },
   {
    "duration": 6997,
    "start_time": "2021-12-03T13:57:29.120Z"
   },
   {
    "duration": 7439,
    "start_time": "2021-12-03T13:58:08.137Z"
   },
   {
    "duration": 270,
    "start_time": "2021-12-03T13:58:52.695Z"
   },
   {
    "duration": 544,
    "start_time": "2021-12-03T13:59:03.112Z"
   },
   {
    "duration": 512,
    "start_time": "2021-12-03T14:01:15.999Z"
   },
   {
    "duration": 268,
    "start_time": "2021-12-03T14:03:43.494Z"
   },
   {
    "duration": 564,
    "start_time": "2021-12-03T14:04:01.824Z"
   },
   {
    "duration": 43,
    "start_time": "2021-12-03T14:04:28.833Z"
   },
   {
    "duration": 12,
    "start_time": "2021-12-03T14:16:26.799Z"
   },
   {
    "duration": 230,
    "start_time": "2021-12-03T14:21:31.097Z"
   },
   {
    "duration": 347,
    "start_time": "2021-12-03T14:21:42.660Z"
   },
   {
    "duration": 271,
    "start_time": "2021-12-03T14:21:49.892Z"
   },
   {
    "duration": 1584,
    "start_time": "2021-12-03T14:26:24.201Z"
   },
   {
    "duration": 8,
    "start_time": "2021-12-03T14:26:25.787Z"
   },
   {
    "duration": 10,
    "start_time": "2021-12-03T14:26:25.800Z"
   },
   {
    "duration": 22,
    "start_time": "2021-12-03T14:26:25.813Z"
   },
   {
    "duration": 7,
    "start_time": "2021-12-03T14:26:25.864Z"
   },
   {
    "duration": 22,
    "start_time": "2021-12-03T14:26:25.873Z"
   },
   {
    "duration": 575,
    "start_time": "2021-12-03T14:26:25.897Z"
   },
   {
    "duration": 16,
    "start_time": "2021-12-03T14:26:26.473Z"
   },
   {
    "duration": 2,
    "start_time": "2021-12-03T14:26:26.491Z"
   },
   {
    "duration": 8,
    "start_time": "2021-12-03T14:26:26.495Z"
   },
   {
    "duration": 13,
    "start_time": "2021-12-03T14:26:26.505Z"
   },
   {
    "duration": 252,
    "start_time": "2021-12-03T14:26:26.519Z"
   },
   {
    "duration": 140,
    "start_time": "2021-12-03T14:26:26.773Z"
   },
   {
    "duration": 234,
    "start_time": "2021-12-03T14:26:26.915Z"
   },
   {
    "duration": 140,
    "start_time": "2021-12-03T14:26:27.151Z"
   },
   {
    "duration": 249,
    "start_time": "2021-12-03T14:26:27.293Z"
   },
   {
    "duration": 126,
    "start_time": "2021-12-03T14:26:27.544Z"
   },
   {
    "duration": 242,
    "start_time": "2021-12-03T14:26:27.672Z"
   },
   {
    "duration": 138,
    "start_time": "2021-12-03T14:26:27.916Z"
   },
   {
    "duration": 272,
    "start_time": "2021-12-03T14:26:28.057Z"
   },
   {
    "duration": 271,
    "start_time": "2021-12-03T14:26:28.331Z"
   },
   {
    "duration": 149,
    "start_time": "2021-12-03T14:26:28.604Z"
   },
   {
    "duration": 284,
    "start_time": "2021-12-03T14:26:28.754Z"
   },
   {
    "duration": 513,
    "start_time": "2021-12-03T14:26:29.040Z"
   },
   {
    "duration": 215,
    "start_time": "2021-12-03T14:26:29.555Z"
   },
   {
    "duration": 525,
    "start_time": "2021-12-03T14:26:29.772Z"
   },
   {
    "duration": 95,
    "start_time": "2021-12-03T14:27:58.542Z"
   },
   {
    "duration": 15,
    "start_time": "2021-12-03T14:27:58.685Z"
   },
   {
    "duration": 11,
    "start_time": "2021-12-03T14:29:24.968Z"
   },
   {
    "duration": 26,
    "start_time": "2021-12-03T14:29:24.982Z"
   },
   {
    "duration": 13,
    "start_time": "2021-12-03T14:29:25.010Z"
   },
   {
    "duration": 39,
    "start_time": "2021-12-03T14:29:25.024Z"
   },
   {
    "duration": 13,
    "start_time": "2021-12-03T14:29:25.065Z"
   },
   {
    "duration": 1626,
    "start_time": "2021-12-03T14:29:25.079Z"
   },
   {
    "duration": 1635,
    "start_time": "2021-12-03T14:29:26.706Z"
   },
   {
    "duration": 72,
    "start_time": "2021-12-03T14:29:28.343Z"
   },
   {
    "duration": 79,
    "start_time": "2021-12-03T14:29:28.417Z"
   },
   {
    "duration": 1603,
    "start_time": "2021-12-03T14:29:28.498Z"
   },
   {
    "duration": 1744,
    "start_time": "2021-12-03T14:29:30.103Z"
   },
   {
    "duration": 15,
    "start_time": "2021-12-03T14:29:31.849Z"
   },
   {
    "duration": 1633,
    "start_time": "2021-12-03T14:29:31.866Z"
   },
   {
    "duration": 1741,
    "start_time": "2021-12-03T14:29:33.501Z"
   },
   {
    "duration": 8,
    "start_time": "2021-12-03T14:29:35.244Z"
   },
   {
    "duration": 14,
    "start_time": "2021-12-03T14:29:35.264Z"
   },
   {
    "duration": 25,
    "start_time": "2021-12-03T14:29:35.279Z"
   },
   {
    "duration": 8,
    "start_time": "2021-12-03T14:40:06.466Z"
   },
   {
    "duration": 21,
    "start_time": "2021-12-03T14:40:07.483Z"
   },
   {
    "duration": 548,
    "start_time": "2021-12-03T14:40:08.304Z"
   },
   {
    "duration": 18,
    "start_time": "2021-12-03T14:40:09.496Z"
   },
   {
    "duration": 3,
    "start_time": "2021-12-03T14:40:12.609Z"
   },
   {
    "duration": 4,
    "start_time": "2021-12-03T14:40:13.294Z"
   },
   {
    "duration": 3,
    "start_time": "2021-12-03T14:40:14.040Z"
   },
   {
    "duration": 235,
    "start_time": "2021-12-03T14:40:15.003Z"
   },
   {
    "duration": 160,
    "start_time": "2021-12-03T14:40:18.347Z"
   },
   {
    "duration": 242,
    "start_time": "2021-12-03T14:40:19.288Z"
   },
   {
    "duration": 141,
    "start_time": "2021-12-03T14:40:20.133Z"
   },
   {
    "duration": 233,
    "start_time": "2021-12-03T14:40:20.909Z"
   },
   {
    "duration": 122,
    "start_time": "2021-12-03T14:40:21.867Z"
   },
   {
    "duration": 236,
    "start_time": "2021-12-03T14:40:22.634Z"
   },
   {
    "duration": 157,
    "start_time": "2021-12-03T14:40:23.430Z"
   },
   {
    "duration": 251,
    "start_time": "2021-12-03T14:40:24.922Z"
   },
   {
    "duration": 245,
    "start_time": "2021-12-03T14:40:25.922Z"
   },
   {
    "duration": 136,
    "start_time": "2021-12-03T14:40:26.776Z"
   },
   {
    "duration": 238,
    "start_time": "2021-12-03T14:40:27.685Z"
   },
   {
    "duration": 516,
    "start_time": "2021-12-03T14:40:29.292Z"
   },
   {
    "duration": 201,
    "start_time": "2021-12-03T14:40:30.116Z"
   },
   {
    "duration": 496,
    "start_time": "2021-12-03T14:40:31.367Z"
   },
   {
    "duration": 811,
    "start_time": "2021-12-03T14:41:39.515Z"
   },
   {
    "duration": 23,
    "start_time": "2021-12-03T14:41:50.284Z"
   },
   {
    "duration": 25,
    "start_time": "2021-12-03T14:42:08.772Z"
   },
   {
    "duration": 200,
    "start_time": "2021-12-03T14:42:26.777Z"
   },
   {
    "duration": 297,
    "start_time": "2021-12-03T14:42:56.636Z"
   },
   {
    "duration": 6238,
    "start_time": "2021-12-03T14:43:36.529Z"
   },
   {
    "duration": 274,
    "start_time": "2021-12-03T14:43:54.005Z"
   },
   {
    "duration": 271,
    "start_time": "2021-12-03T14:44:04.150Z"
   },
   {
    "duration": 24,
    "start_time": "2021-12-03T14:48:34.169Z"
   },
   {
    "duration": 208,
    "start_time": "2021-12-03T14:49:45.343Z"
   },
   {
    "duration": 26,
    "start_time": "2021-12-03T14:53:58.716Z"
   },
   {
    "duration": 23,
    "start_time": "2021-12-03T14:55:09.401Z"
   },
   {
    "duration": 23,
    "start_time": "2021-12-03T14:55:55.010Z"
   },
   {
    "duration": 184,
    "start_time": "2021-12-03T14:56:10.888Z"
   },
   {
    "duration": 188,
    "start_time": "2021-12-03T14:57:42.014Z"
   },
   {
    "duration": 196,
    "start_time": "2021-12-03T14:59:59.208Z"
   },
   {
    "duration": 46,
    "start_time": "2021-12-03T15:08:57.766Z"
   },
   {
    "duration": 54,
    "start_time": "2021-12-03T15:10:28.570Z"
   },
   {
    "duration": 279,
    "start_time": "2021-12-03T15:10:35.534Z"
   },
   {
    "duration": 3,
    "start_time": "2021-12-03T15:11:18.588Z"
   },
   {
    "duration": 252,
    "start_time": "2021-12-03T15:11:19.280Z"
   },
   {
    "duration": 3,
    "start_time": "2021-12-03T15:11:26.298Z"
   },
   {
    "duration": 250,
    "start_time": "2021-12-03T15:11:26.834Z"
   },
   {
    "duration": 256,
    "start_time": "2021-12-03T15:11:39.024Z"
   },
   {
    "duration": 232,
    "start_time": "2021-12-03T15:12:59.767Z"
   },
   {
    "duration": 263,
    "start_time": "2021-12-03T15:13:19.787Z"
   },
   {
    "duration": 4,
    "start_time": "2021-12-03T15:13:24.778Z"
   },
   {
    "duration": 250,
    "start_time": "2021-12-03T15:13:25.776Z"
   },
   {
    "duration": 225,
    "start_time": "2021-12-03T15:13:31.732Z"
   },
   {
    "duration": 232,
    "start_time": "2021-12-03T15:13:57.897Z"
   },
   {
    "duration": 237,
    "start_time": "2021-12-03T15:14:35.799Z"
   },
   {
    "duration": 246,
    "start_time": "2021-12-03T15:14:45.623Z"
   },
   {
    "duration": 260,
    "start_time": "2021-12-03T15:14:49.983Z"
   },
   {
    "duration": 233,
    "start_time": "2021-12-03T15:14:59.783Z"
   },
   {
    "duration": 249,
    "start_time": "2021-12-03T15:15:05.451Z"
   },
   {
    "duration": 240,
    "start_time": "2021-12-03T15:15:11.659Z"
   },
   {
    "duration": 268,
    "start_time": "2021-12-03T15:15:21.405Z"
   },
   {
    "duration": 316,
    "start_time": "2021-12-03T15:15:35.302Z"
   },
   {
    "duration": 245,
    "start_time": "2021-12-03T15:15:40.602Z"
   },
   {
    "duration": 241,
    "start_time": "2021-12-03T15:16:11.589Z"
   },
   {
    "duration": 255,
    "start_time": "2021-12-03T15:16:23.846Z"
   },
   {
    "duration": 41,
    "start_time": "2021-12-03T15:18:54.676Z"
   },
   {
    "duration": 37,
    "start_time": "2021-12-03T15:18:59.686Z"
   },
   {
    "duration": 12,
    "start_time": "2021-12-03T15:20:40.319Z"
   },
   {
    "duration": 394,
    "start_time": "2021-12-03T15:20:42.627Z"
   },
   {
    "duration": 129,
    "start_time": "2021-12-03T15:22:17.285Z"
   },
   {
    "duration": 128,
    "start_time": "2021-12-03T15:22:25.138Z"
   },
   {
    "duration": 133,
    "start_time": "2021-12-03T15:22:29.598Z"
   },
   {
    "duration": 125,
    "start_time": "2021-12-03T15:22:36.904Z"
   },
   {
    "duration": 22,
    "start_time": "2021-12-03T15:23:07.368Z"
   },
   {
    "duration": 17,
    "start_time": "2021-12-03T15:23:11.354Z"
   },
   {
    "duration": 24,
    "start_time": "2021-12-03T15:23:15.267Z"
   },
   {
    "duration": 25,
    "start_time": "2021-12-03T15:23:19.247Z"
   },
   {
    "duration": 24,
    "start_time": "2021-12-03T15:23:23.287Z"
   },
   {
    "duration": 22,
    "start_time": "2021-12-03T15:23:26.951Z"
   },
   {
    "duration": 21,
    "start_time": "2021-12-03T15:23:31.075Z"
   },
   {
    "duration": 22,
    "start_time": "2021-12-03T15:23:33.832Z"
   },
   {
    "duration": 23,
    "start_time": "2021-12-03T15:23:36.333Z"
   },
   {
    "duration": 21,
    "start_time": "2021-12-03T15:23:38.891Z"
   },
   {
    "duration": 24,
    "start_time": "2021-12-03T15:23:41.778Z"
   },
   {
    "duration": 24,
    "start_time": "2021-12-03T15:24:06.635Z"
   },
   {
    "duration": 49,
    "start_time": "2021-12-03T15:24:33.042Z"
   },
   {
    "duration": 10,
    "start_time": "2021-12-03T15:24:43.728Z"
   },
   {
    "duration": 13,
    "start_time": "2021-12-03T15:25:56.871Z"
   },
   {
    "duration": 10,
    "start_time": "2021-12-03T15:26:02.209Z"
   },
   {
    "duration": 9,
    "start_time": "2021-12-03T15:27:41.677Z"
   },
   {
    "duration": 256,
    "start_time": "2021-12-03T15:29:08.220Z"
   },
   {
    "duration": 272,
    "start_time": "2021-12-03T15:29:09.334Z"
   },
   {
    "duration": 131,
    "start_time": "2021-12-03T15:29:14.271Z"
   },
   {
    "duration": 205,
    "start_time": "2021-12-03T15:29:35.103Z"
   },
   {
    "duration": 177,
    "start_time": "2021-12-03T15:29:41.843Z"
   },
   {
    "duration": 204,
    "start_time": "2021-12-03T15:29:45.768Z"
   },
   {
    "duration": 368,
    "start_time": "2021-12-03T15:30:17.851Z"
   },
   {
    "duration": 104,
    "start_time": "2021-12-03T15:30:40.095Z"
   },
   {
    "duration": 15,
    "start_time": "2021-12-03T15:30:40.201Z"
   },
   {
    "duration": 12,
    "start_time": "2021-12-03T15:30:40.219Z"
   },
   {
    "duration": 66,
    "start_time": "2021-12-03T15:30:40.233Z"
   },
   {
    "duration": 17,
    "start_time": "2021-12-03T15:30:40.301Z"
   },
   {
    "duration": 13,
    "start_time": "2021-12-03T15:30:40.320Z"
   },
   {
    "duration": 41,
    "start_time": "2021-12-03T15:30:40.335Z"
   },
   {
    "duration": 2663,
    "start_time": "2021-12-03T15:30:40.379Z"
   },
   {
    "duration": 1673,
    "start_time": "2021-12-03T15:30:43.045Z"
   },
   {
    "duration": 69,
    "start_time": "2021-12-03T15:30:44.720Z"
   },
   {
    "duration": 54,
    "start_time": "2021-12-03T15:30:44.791Z"
   },
   {
    "duration": 1620,
    "start_time": "2021-12-03T15:30:44.864Z"
   },
   {
    "duration": 1628,
    "start_time": "2021-12-03T15:30:46.486Z"
   },
   {
    "duration": 7,
    "start_time": "2021-12-03T15:30:48.116Z"
   },
   {
    "duration": 1620,
    "start_time": "2021-12-03T15:30:48.125Z"
   },
   {
    "duration": 1739,
    "start_time": "2021-12-03T15:30:49.747Z"
   },
   {
    "duration": 8,
    "start_time": "2021-12-03T15:30:51.489Z"
   },
   {
    "duration": 12,
    "start_time": "2021-12-03T15:30:51.500Z"
   },
   {
    "duration": 50,
    "start_time": "2021-12-03T15:30:51.514Z"
   },
   {
    "duration": 7,
    "start_time": "2021-12-03T15:30:51.566Z"
   },
   {
    "duration": 22,
    "start_time": "2021-12-03T15:30:51.575Z"
   },
   {
    "duration": 649,
    "start_time": "2021-12-03T15:30:51.599Z"
   },
   {
    "duration": 26,
    "start_time": "2021-12-03T15:30:52.252Z"
   },
   {
    "duration": 29,
    "start_time": "2021-12-03T15:30:52.281Z"
   },
   {
    "duration": 2,
    "start_time": "2021-12-03T15:30:52.312Z"
   },
   {
    "duration": 6,
    "start_time": "2021-12-03T15:30:52.316Z"
   },
   {
    "duration": 14,
    "start_time": "2021-12-03T15:30:52.324Z"
   },
   {
    "duration": 261,
    "start_time": "2021-12-03T15:30:52.339Z"
   },
   {
    "duration": 157,
    "start_time": "2021-12-03T15:30:52.601Z"
   },
   {
    "duration": 10,
    "start_time": "2021-12-03T15:30:52.760Z"
   },
   {
    "duration": 267,
    "start_time": "2021-12-03T15:30:52.772Z"
   },
   {
    "duration": 178,
    "start_time": "2021-12-03T15:30:53.041Z"
   },
   {
    "duration": 9,
    "start_time": "2021-12-03T15:30:53.221Z"
   },
   {
    "duration": 263,
    "start_time": "2021-12-03T15:30:53.232Z"
   },
   {
    "duration": 140,
    "start_time": "2021-12-03T15:30:53.497Z"
   },
   {
    "duration": 11,
    "start_time": "2021-12-03T15:30:53.639Z"
   },
   {
    "duration": 246,
    "start_time": "2021-12-03T15:30:53.652Z"
   },
   {
    "duration": 155,
    "start_time": "2021-12-03T15:30:53.900Z"
   },
   {
    "duration": 13,
    "start_time": "2021-12-03T15:30:54.058Z"
   },
   {
    "duration": 267,
    "start_time": "2021-12-03T15:30:54.073Z"
   },
   {
    "duration": 286,
    "start_time": "2021-12-03T15:30:54.342Z"
   },
   {
    "duration": 147,
    "start_time": "2021-12-03T15:30:54.629Z"
   },
   {
    "duration": 256,
    "start_time": "2021-12-03T15:30:54.778Z"
   },
   {
    "duration": 321,
    "start_time": "2021-12-03T15:30:55.036Z"
   },
   {
    "duration": 290,
    "start_time": "2021-12-03T15:30:55.359Z"
   },
   {
    "duration": 746,
    "start_time": "2021-12-03T15:30:54.905Z"
   },
   {
    "duration": 725,
    "start_time": "2021-12-03T15:30:54.927Z"
   },
   {
    "duration": 716,
    "start_time": "2021-12-03T15:30:54.938Z"
   },
   {
    "duration": 698,
    "start_time": "2021-12-03T15:30:54.958Z"
   },
   {
    "duration": 690,
    "start_time": "2021-12-03T15:30:54.967Z"
   },
   {
    "duration": 666,
    "start_time": "2021-12-03T15:30:54.992Z"
   },
   {
    "duration": 632,
    "start_time": "2021-12-03T15:30:55.027Z"
   },
   {
    "duration": 626,
    "start_time": "2021-12-03T15:30:55.035Z"
   },
   {
    "duration": 600,
    "start_time": "2021-12-03T15:30:55.062Z"
   },
   {
    "duration": 289,
    "start_time": "2021-12-03T15:32:09.959Z"
   },
   {
    "duration": 210,
    "start_time": "2021-12-04T18:52:12.994Z"
   },
   {
    "duration": 658,
    "start_time": "2021-12-04T18:52:20.880Z"
   },
   {
    "duration": 10,
    "start_time": "2021-12-04T18:52:21.542Z"
   },
   {
    "duration": 9,
    "start_time": "2021-12-04T18:52:24.874Z"
   },
   {
    "duration": 25,
    "start_time": "2021-12-04T18:52:25.644Z"
   },
   {
    "duration": 14,
    "start_time": "2021-12-04T18:52:26.265Z"
   },
   {
    "duration": 9,
    "start_time": "2021-12-04T18:52:26.889Z"
   },
   {
    "duration": 13,
    "start_time": "2021-12-04T18:52:27.464Z"
   },
   {
    "duration": 1543,
    "start_time": "2021-12-04T18:52:28.234Z"
   },
   {
    "duration": 1517,
    "start_time": "2021-12-04T18:52:29.779Z"
   },
   {
    "duration": 51,
    "start_time": "2021-12-04T18:52:31.298Z"
   },
   {
    "duration": 65,
    "start_time": "2021-12-04T18:52:31.351Z"
   },
   {
    "duration": 1496,
    "start_time": "2021-12-04T18:52:32.187Z"
   },
   {
    "duration": 1479,
    "start_time": "2021-12-04T18:52:33.684Z"
   },
   {
    "duration": 7,
    "start_time": "2021-12-04T18:52:35.165Z"
   },
   {
    "duration": 1482,
    "start_time": "2021-12-04T18:52:35.174Z"
   },
   {
    "duration": 1502,
    "start_time": "2021-12-04T18:52:36.658Z"
   },
   {
    "duration": 7,
    "start_time": "2021-12-04T18:52:38.162Z"
   },
   {
    "duration": 11,
    "start_time": "2021-12-04T18:52:38.662Z"
   },
   {
    "duration": 23,
    "start_time": "2021-12-04T18:52:39.984Z"
   },
   {
    "duration": 9,
    "start_time": "2021-12-04T18:52:43.204Z"
   },
   {
    "duration": 20,
    "start_time": "2021-12-04T18:52:44.541Z"
   },
   {
    "duration": 537,
    "start_time": "2021-12-04T18:52:45.412Z"
   },
   {
    "duration": 16,
    "start_time": "2021-12-04T18:52:46.392Z"
   },
   {
    "duration": 29,
    "start_time": "2021-12-04T18:52:47.620Z"
   },
   {
    "duration": 68,
    "start_time": "2021-12-04T18:52:50.872Z"
   },
   {
    "duration": 3,
    "start_time": "2021-12-04T18:52:51.630Z"
   },
   {
    "duration": 3,
    "start_time": "2021-12-04T18:52:52.503Z"
   },
   {
    "duration": 274,
    "start_time": "2021-12-04T18:52:53.509Z"
   },
   {
    "duration": 130,
    "start_time": "2021-12-04T18:52:54.377Z"
   },
   {
    "duration": 250,
    "start_time": "2021-12-04T18:52:55.326Z"
   },
   {
    "duration": 135,
    "start_time": "2021-12-04T18:52:56.137Z"
   },
   {
    "duration": 248,
    "start_time": "2021-12-04T18:52:56.953Z"
   },
   {
    "duration": 123,
    "start_time": "2021-12-04T18:52:57.934Z"
   },
   {
    "duration": 225,
    "start_time": "2021-12-04T18:52:58.818Z"
   },
   {
    "duration": 125,
    "start_time": "2021-12-04T18:52:59.684Z"
   },
   {
    "duration": 260,
    "start_time": "2021-12-04T18:53:01.480Z"
   },
   {
    "duration": 264,
    "start_time": "2021-12-04T18:53:08.861Z"
   },
   {
    "duration": 212,
    "start_time": "2021-12-04T18:53:20.219Z"
   },
   {
    "duration": 133,
    "start_time": "2021-12-04T18:53:25.285Z"
   },
   {
    "duration": 243,
    "start_time": "2021-12-04T18:53:32.550Z"
   },
   {
    "duration": 494,
    "start_time": "2021-12-04T18:56:20.055Z"
   },
   {
    "duration": 196,
    "start_time": "2021-12-04T18:56:20.799Z"
   },
   {
    "duration": 492,
    "start_time": "2021-12-04T18:56:21.877Z"
   },
   {
    "duration": 22,
    "start_time": "2021-12-04T18:56:24.139Z"
   },
   {
    "duration": 200,
    "start_time": "2021-12-04T18:56:25.052Z"
   },
   {
    "duration": 33,
    "start_time": "2021-12-04T18:56:28.285Z"
   },
   {
    "duration": 3,
    "start_time": "2021-12-04T18:56:34.733Z"
   },
   {
    "duration": 263,
    "start_time": "2021-12-04T18:56:45.793Z"
   },
   {
    "duration": 226,
    "start_time": "2021-12-04T18:56:46.622Z"
   },
   {
    "duration": 216,
    "start_time": "2021-12-04T18:56:47.520Z"
   },
   {
    "duration": 322,
    "start_time": "2021-12-04T18:56:48.442Z"
   },
   {
    "duration": 10,
    "start_time": "2021-12-04T18:58:44.060Z"
   },
   {
    "duration": 8,
    "start_time": "2021-12-04T18:58:54.057Z"
   },
   {
    "duration": 391,
    "start_time": "2021-12-06T11:57:21.311Z"
   },
   {
    "duration": 698,
    "start_time": "2021-12-06T11:57:35.029Z"
   },
   {
    "duration": 12,
    "start_time": "2021-12-06T11:57:36.385Z"
   },
   {
    "duration": 9,
    "start_time": "2021-12-06T11:57:39.052Z"
   },
   {
    "duration": 25,
    "start_time": "2021-12-06T11:57:40.393Z"
   },
   {
    "duration": 14,
    "start_time": "2021-12-06T11:57:40.467Z"
   },
   {
    "duration": 9,
    "start_time": "2021-12-06T11:57:41.404Z"
   },
   {
    "duration": 13,
    "start_time": "2021-12-06T11:57:42.279Z"
   },
   {
    "duration": 1694,
    "start_time": "2021-12-06T11:57:43.185Z"
   },
   {
    "duration": 1637,
    "start_time": "2021-12-06T11:57:44.881Z"
   },
   {
    "duration": 54,
    "start_time": "2021-12-06T11:57:46.520Z"
   },
   {
    "duration": 91,
    "start_time": "2021-12-06T11:57:46.576Z"
   },
   {
    "duration": 1594,
    "start_time": "2021-12-06T11:57:47.001Z"
   },
   {
    "duration": 1626,
    "start_time": "2021-12-06T11:57:48.597Z"
   },
   {
    "duration": 8,
    "start_time": "2021-12-06T11:57:50.225Z"
   },
   {
    "duration": 1716,
    "start_time": "2021-12-06T11:57:50.234Z"
   },
   {
    "duration": 1615,
    "start_time": "2021-12-06T11:57:51.952Z"
   },
   {
    "duration": 8,
    "start_time": "2021-12-06T11:57:53.569Z"
   },
   {
    "duration": 12,
    "start_time": "2021-12-06T11:57:53.578Z"
   },
   {
    "duration": 23,
    "start_time": "2021-12-06T11:57:53.607Z"
   },
   {
    "duration": 11,
    "start_time": "2021-12-06T11:57:56.618Z"
   },
   {
    "duration": 24,
    "start_time": "2021-12-06T11:57:57.575Z"
   },
   {
    "duration": 591,
    "start_time": "2021-12-06T11:57:58.553Z"
   },
   {
    "duration": 16,
    "start_time": "2021-12-06T11:57:59.579Z"
   },
   {
    "duration": 31,
    "start_time": "2021-12-06T11:58:00.724Z"
   },
   {
    "duration": 81,
    "start_time": "2021-12-06T11:58:03.131Z"
   },
   {
    "duration": 2,
    "start_time": "2021-12-06T11:58:03.937Z"
   },
   {
    "duration": 3,
    "start_time": "2021-12-06T11:58:04.796Z"
   },
   {
    "duration": 288,
    "start_time": "2021-12-06T11:58:05.684Z"
   },
   {
    "duration": 134,
    "start_time": "2021-12-06T11:58:06.531Z"
   },
   {
    "duration": 234,
    "start_time": "2021-12-06T11:58:18.756Z"
   },
   {
    "duration": 255,
    "start_time": "2021-12-06T11:58:23.958Z"
   },
   {
    "duration": 234,
    "start_time": "2021-12-06T11:58:28.808Z"
   },
   {
    "duration": 3,
    "start_time": "2021-12-06T11:58:59.242Z"
   },
   {
    "duration": 252,
    "start_time": "2021-12-06T11:59:07.844Z"
   },
   {
    "duration": 267,
    "start_time": "2021-12-06T11:59:08.727Z"
   },
   {
    "duration": 3,
    "start_time": "2021-12-06T11:59:09.572Z"
   },
   {
    "duration": 134,
    "start_time": "2021-12-06T11:59:10.566Z"
   },
   {
    "duration": 241,
    "start_time": "2021-12-06T11:59:11.565Z"
   },
   {
    "duration": 520,
    "start_time": "2021-12-06T11:59:16.050Z"
   },
   {
    "duration": 271,
    "start_time": "2021-12-06T11:59:17.826Z"
   },
   {
    "duration": 473,
    "start_time": "2021-12-06T11:59:19.104Z"
   },
   {
    "duration": 509,
    "start_time": "2021-12-06T12:06:48.524Z"
   },
   {
    "duration": 8,
    "start_time": "2021-12-06T12:17:02.661Z"
   },
   {
    "duration": 524,
    "start_time": "2021-12-06T12:17:19.659Z"
   },
   {
    "duration": 157,
    "start_time": "2021-12-06T12:18:34.071Z"
   },
   {
    "duration": 8,
    "start_time": "2021-12-06T12:19:01.573Z"
   },
   {
    "duration": 495,
    "start_time": "2021-12-06T12:19:08.680Z"
   },
   {
    "duration": 9,
    "start_time": "2021-12-06T12:19:44.305Z"
   },
   {
    "duration": 516,
    "start_time": "2021-12-06T12:19:50.756Z"
   },
   {
    "duration": 3,
    "start_time": "2021-12-06T12:20:19.741Z"
   },
   {
    "duration": 264,
    "start_time": "2021-12-06T12:20:20.355Z"
   },
   {
    "duration": 148,
    "start_time": "2021-12-06T12:20:20.906Z"
   },
   {
    "duration": 141,
    "start_time": "2021-12-06T12:20:29.323Z"
   },
   {
    "duration": 10,
    "start_time": "2021-12-06T12:20:30.676Z"
   },
   {
    "duration": 244,
    "start_time": "2021-12-06T12:20:32.055Z"
   },
   {
    "duration": 195,
    "start_time": "2021-12-06T12:21:02.254Z"
   },
   {
    "duration": 121,
    "start_time": "2021-12-06T12:21:24.840Z"
   },
   {
    "duration": 10,
    "start_time": "2021-12-06T12:21:26.934Z"
   },
   {
    "duration": 131,
    "start_time": "2021-12-06T12:21:43.748Z"
   },
   {
    "duration": 9,
    "start_time": "2021-12-06T12:22:23.504Z"
   },
   {
    "duration": 86,
    "start_time": "2021-12-06T12:22:43.736Z"
   },
   {
    "duration": 11,
    "start_time": "2021-12-06T12:22:44.474Z"
   },
   {
    "duration": 9,
    "start_time": "2021-12-06T12:22:46.813Z"
   },
   {
    "duration": 26,
    "start_time": "2021-12-06T12:22:47.417Z"
   },
   {
    "duration": 11,
    "start_time": "2021-12-06T12:22:48.072Z"
   },
   {
    "duration": 10,
    "start_time": "2021-12-06T12:22:48.900Z"
   },
   {
    "duration": 14,
    "start_time": "2021-12-06T12:22:49.758Z"
   },
   {
    "duration": 1763,
    "start_time": "2021-12-06T12:22:50.539Z"
   },
   {
    "duration": 1687,
    "start_time": "2021-12-06T12:22:52.304Z"
   },
   {
    "duration": 59,
    "start_time": "2021-12-06T12:22:53.993Z"
   },
   {
    "duration": 67,
    "start_time": "2021-12-06T12:22:54.054Z"
   },
   {
    "duration": 1630,
    "start_time": "2021-12-06T12:22:54.579Z"
   },
   {
    "duration": 1633,
    "start_time": "2021-12-06T12:22:56.211Z"
   },
   {
    "duration": 8,
    "start_time": "2021-12-06T12:22:57.846Z"
   },
   {
    "duration": 1707,
    "start_time": "2021-12-06T12:22:57.856Z"
   },
   {
    "duration": 1672,
    "start_time": "2021-12-06T12:22:59.565Z"
   },
   {
    "duration": 8,
    "start_time": "2021-12-06T12:23:01.239Z"
   },
   {
    "duration": 15,
    "start_time": "2021-12-06T12:23:01.249Z"
   },
   {
    "duration": 25,
    "start_time": "2021-12-06T12:23:01.944Z"
   },
   {
    "duration": 7,
    "start_time": "2021-12-06T12:23:05.303Z"
   },
   {
    "duration": 20,
    "start_time": "2021-12-06T12:23:06.501Z"
   },
   {
    "duration": 577,
    "start_time": "2021-12-06T12:23:07.606Z"
   },
   {
    "duration": 15,
    "start_time": "2021-12-06T12:23:08.779Z"
   },
   {
    "duration": 30,
    "start_time": "2021-12-06T12:23:09.833Z"
   },
   {
    "duration": 3,
    "start_time": "2021-12-06T12:23:12.266Z"
   },
   {
    "duration": 4,
    "start_time": "2021-12-06T12:23:13.129Z"
   },
   {
    "duration": 3,
    "start_time": "2021-12-06T12:23:14.072Z"
   },
   {
    "duration": 247,
    "start_time": "2021-12-06T12:23:15.315Z"
   },
   {
    "duration": 141,
    "start_time": "2021-12-06T12:23:16.790Z"
   },
   {
    "duration": 9,
    "start_time": "2021-12-06T12:23:18.115Z"
   },
   {
    "duration": 240,
    "start_time": "2021-12-06T12:23:20.059Z"
   },
   {
    "duration": 174,
    "start_time": "2021-12-06T12:23:21.051Z"
   },
   {
    "duration": 298,
    "start_time": "2021-12-06T12:23:22.070Z"
   },
   {
    "duration": 123,
    "start_time": "2021-12-06T12:23:23.126Z"
   },
   {
    "duration": 8,
    "start_time": "2021-12-06T12:23:50.991Z"
   },
   {
    "duration": 226,
    "start_time": "2021-12-06T12:23:51.888Z"
   },
   {
    "duration": 128,
    "start_time": "2021-12-06T12:23:53.000Z"
   },
   {
    "duration": 9,
    "start_time": "2021-12-06T12:23:54.087Z"
   },
   {
    "duration": 268,
    "start_time": "2021-12-06T12:23:57.089Z"
   },
   {
    "duration": 285,
    "start_time": "2021-12-06T12:23:58.376Z"
   },
   {
    "duration": 134,
    "start_time": "2021-12-06T12:23:59.817Z"
   },
   {
    "duration": 260,
    "start_time": "2021-12-06T12:24:01.054Z"
   },
   {
    "duration": 499,
    "start_time": "2021-12-06T12:24:05.634Z"
   },
   {
    "duration": 465,
    "start_time": "2021-12-06T12:24:07.825Z"
   },
   {
    "duration": 554,
    "start_time": "2021-12-06T12:24:17.077Z"
   },
   {
    "duration": 182,
    "start_time": "2021-12-06T12:26:22.539Z"
   },
   {
    "duration": 171,
    "start_time": "2021-12-06T12:27:13.002Z"
   },
   {
    "duration": 244,
    "start_time": "2021-12-06T12:27:21.563Z"
   },
   {
    "duration": 229,
    "start_time": "2021-12-06T12:27:27.391Z"
   },
   {
    "duration": 220,
    "start_time": "2021-12-06T12:27:34.077Z"
   },
   {
    "duration": 196,
    "start_time": "2021-12-06T12:29:18.753Z"
   },
   {
    "duration": 2,
    "start_time": "2021-12-06T12:34:28.312Z"
   },
   {
    "duration": 12,
    "start_time": "2021-12-06T12:36:58.286Z"
   },
   {
    "duration": 183,
    "start_time": "2021-12-06T12:37:17.165Z"
   },
   {
    "duration": 18,
    "start_time": "2021-12-06T12:41:25.424Z"
   },
   {
    "duration": 17,
    "start_time": "2021-12-06T12:41:29.763Z"
   },
   {
    "duration": 1566,
    "start_time": "2021-12-06T12:41:40.104Z"
   },
   {
    "duration": 10,
    "start_time": "2021-12-06T12:41:41.672Z"
   },
   {
    "duration": 11,
    "start_time": "2021-12-06T12:41:43.992Z"
   },
   {
    "duration": 24,
    "start_time": "2021-12-06T12:41:44.923Z"
   },
   {
    "duration": 11,
    "start_time": "2021-12-06T12:41:45.577Z"
   },
   {
    "duration": 9,
    "start_time": "2021-12-06T12:41:46.441Z"
   },
   {
    "duration": 11,
    "start_time": "2021-12-06T12:41:47.845Z"
   },
   {
    "duration": 1623,
    "start_time": "2021-12-06T12:41:48.658Z"
   },
   {
    "duration": 1659,
    "start_time": "2021-12-06T12:41:50.283Z"
   },
   {
    "duration": 53,
    "start_time": "2021-12-06T12:41:51.944Z"
   },
   {
    "duration": 54,
    "start_time": "2021-12-06T12:41:52.006Z"
   },
   {
    "duration": 1647,
    "start_time": "2021-12-06T12:41:52.062Z"
   },
   {
    "duration": 1636,
    "start_time": "2021-12-06T12:41:53.711Z"
   },
   {
    "duration": 8,
    "start_time": "2021-12-06T12:41:55.348Z"
   },
   {
    "duration": 1641,
    "start_time": "2021-12-06T12:42:17.268Z"
   },
   {
    "duration": 1628,
    "start_time": "2021-12-06T12:42:18.911Z"
   },
   {
    "duration": 7,
    "start_time": "2021-12-06T12:42:20.541Z"
   },
   {
    "duration": 20,
    "start_time": "2021-12-06T12:42:20.550Z"
   },
   {
    "duration": 36,
    "start_time": "2021-12-06T12:42:20.572Z"
   },
   {
    "duration": 7,
    "start_time": "2021-12-06T12:42:23.536Z"
   },
   {
    "duration": 430,
    "start_time": "2021-12-06T12:42:24.509Z"
   },
   {
    "duration": 20,
    "start_time": "2021-12-06T12:42:38.778Z"
   },
   {
    "duration": 632,
    "start_time": "2021-12-06T12:42:47.816Z"
   },
   {
    "duration": 14,
    "start_time": "2021-12-06T12:42:49.227Z"
   },
   {
    "duration": 31,
    "start_time": "2021-12-06T12:42:50.236Z"
   },
   {
    "duration": 3,
    "start_time": "2021-12-06T12:42:52.938Z"
   },
   {
    "duration": 4,
    "start_time": "2021-12-06T12:42:53.723Z"
   },
   {
    "duration": 3,
    "start_time": "2021-12-06T12:42:54.750Z"
   },
   {
    "duration": 281,
    "start_time": "2021-12-06T12:42:55.652Z"
   },
   {
    "duration": 158,
    "start_time": "2021-12-06T12:42:56.480Z"
   },
   {
    "duration": 8,
    "start_time": "2021-12-06T12:42:57.452Z"
   },
   {
    "duration": 280,
    "start_time": "2021-12-06T12:42:58.448Z"
   },
   {
    "duration": 139,
    "start_time": "2021-12-06T12:42:59.286Z"
   },
   {
    "duration": 242,
    "start_time": "2021-12-06T12:43:00.141Z"
   },
   {
    "duration": 132,
    "start_time": "2021-12-06T12:43:01.028Z"
   },
   {
    "duration": 9,
    "start_time": "2021-12-06T12:43:02.004Z"
   },
   {
    "duration": 237,
    "start_time": "2021-12-06T12:43:02.930Z"
   },
   {
    "duration": 134,
    "start_time": "2021-12-06T12:43:03.781Z"
   },
   {
    "duration": 10,
    "start_time": "2021-12-06T12:43:04.675Z"
   },
   {
    "duration": 268,
    "start_time": "2021-12-06T12:43:07.105Z"
   },
   {
    "duration": 336,
    "start_time": "2021-12-06T12:43:08.376Z"
   },
   {
    "duration": 138,
    "start_time": "2021-12-06T12:43:09.378Z"
   },
   {
    "duration": 249,
    "start_time": "2021-12-06T12:43:10.318Z"
   },
   {
    "duration": 477,
    "start_time": "2021-12-06T12:43:13.507Z"
   },
   {
    "duration": 476,
    "start_time": "2021-12-06T12:43:14.830Z"
   },
   {
    "duration": 474,
    "start_time": "2021-12-06T12:43:15.995Z"
   },
   {
    "duration": 207,
    "start_time": "2021-12-06T12:43:17.350Z"
   },
   {
    "duration": 3,
    "start_time": "2021-12-06T12:43:23.047Z"
   },
   {
    "duration": 182,
    "start_time": "2021-12-06T12:43:24.817Z"
   },
   {
    "duration": 345,
    "start_time": "2021-12-06T12:44:23.940Z"
   },
   {
    "duration": 191,
    "start_time": "2021-12-06T12:44:35.545Z"
   },
   {
    "duration": 164,
    "start_time": "2021-12-06T12:44:41.654Z"
   },
   {
    "duration": 205,
    "start_time": "2021-12-06T12:45:07.284Z"
   },
   {
    "duration": 387,
    "start_time": "2021-12-06T12:45:15.275Z"
   },
   {
    "duration": 357,
    "start_time": "2021-12-06T12:47:30.617Z"
   },
   {
    "duration": 21,
    "start_time": "2021-12-06T12:50:44.481Z"
   },
   {
    "duration": 389,
    "start_time": "2021-12-06T12:51:02.446Z"
   },
   {
    "duration": 21,
    "start_time": "2021-12-06T12:51:16.269Z"
   },
   {
    "duration": 23,
    "start_time": "2021-12-06T12:51:30.245Z"
   },
   {
    "duration": 22,
    "start_time": "2021-12-06T12:51:37.430Z"
   },
   {
    "duration": 3,
    "start_time": "2021-12-06T12:56:12.846Z"
   },
   {
    "duration": 186,
    "start_time": "2021-12-06T12:56:15.327Z"
   },
   {
    "duration": 185,
    "start_time": "2021-12-06T12:56:19.105Z"
   },
   {
    "duration": 202,
    "start_time": "2021-12-06T12:56:22.846Z"
   },
   {
    "duration": 118,
    "start_time": "2021-12-06T12:57:42.170Z"
   },
   {
    "duration": 4,
    "start_time": "2021-12-06T12:57:46.513Z"
   },
   {
    "duration": 571,
    "start_time": "2021-12-06T12:58:18.106Z"
   },
   {
    "duration": 463,
    "start_time": "2021-12-06T12:58:42.222Z"
   },
   {
    "duration": 471,
    "start_time": "2021-12-06T12:59:15.885Z"
   },
   {
    "duration": 3,
    "start_time": "2021-12-06T12:59:43.141Z"
   },
   {
    "duration": 9650,
    "start_time": "2021-12-06T12:59:44.362Z"
   },
   {
    "duration": 3,
    "start_time": "2021-12-06T13:00:10.027Z"
   },
   {
    "duration": 476,
    "start_time": "2021-12-06T13:00:12.577Z"
   },
   {
    "duration": 494,
    "start_time": "2021-12-06T13:00:54.167Z"
   },
   {
    "duration": 500,
    "start_time": "2021-12-06T13:01:05.594Z"
   },
   {
    "duration": 550,
    "start_time": "2021-12-06T13:01:17.938Z"
   },
   {
    "duration": 908,
    "start_time": "2021-12-06T13:03:12.677Z"
   },
   {
    "duration": 367,
    "start_time": "2021-12-06T13:03:24.102Z"
   },
   {
    "duration": 21,
    "start_time": "2021-12-06T13:03:44.776Z"
   },
   {
    "duration": 499,
    "start_time": "2021-12-06T13:04:22.149Z"
   },
   {
    "duration": 22,
    "start_time": "2021-12-06T13:04:49.082Z"
   },
   {
    "duration": 8,
    "start_time": "2021-12-06T13:07:36.569Z"
   },
   {
    "duration": 241,
    "start_time": "2021-12-06T13:07:37.298Z"
   },
   {
    "duration": 125,
    "start_time": "2021-12-06T13:07:38.032Z"
   },
   {
    "duration": 9,
    "start_time": "2021-12-06T13:07:38.685Z"
   },
   {
    "duration": 235,
    "start_time": "2021-12-06T13:07:39.545Z"
   },
   {
    "duration": 125,
    "start_time": "2021-12-06T13:07:40.310Z"
   },
   {
    "duration": 10,
    "start_time": "2021-12-06T13:07:40.978Z"
   },
   {
    "duration": 89,
    "start_time": "2021-12-06T13:07:52.866Z"
   },
   {
    "duration": 12,
    "start_time": "2021-12-06T13:07:53.524Z"
   },
   {
    "duration": 11,
    "start_time": "2021-12-06T13:07:56.332Z"
   },
   {
    "duration": 26,
    "start_time": "2021-12-06T13:07:57.141Z"
   },
   {
    "duration": 12,
    "start_time": "2021-12-06T13:07:58.106Z"
   },
   {
    "duration": 9,
    "start_time": "2021-12-06T13:07:58.882Z"
   },
   {
    "duration": 13,
    "start_time": "2021-12-06T13:07:59.755Z"
   },
   {
    "duration": 1702,
    "start_time": "2021-12-06T13:08:00.683Z"
   },
   {
    "duration": 1706,
    "start_time": "2021-12-06T13:08:02.387Z"
   },
   {
    "duration": 69,
    "start_time": "2021-12-06T13:08:04.095Z"
   },
   {
    "duration": 68,
    "start_time": "2021-12-06T13:08:04.166Z"
   },
   {
    "duration": 1709,
    "start_time": "2021-12-06T13:08:04.235Z"
   },
   {
    "duration": 1737,
    "start_time": "2021-12-06T13:08:05.946Z"
   },
   {
    "duration": 9,
    "start_time": "2021-12-06T13:08:07.686Z"
   },
   {
    "duration": 1740,
    "start_time": "2021-12-06T13:08:07.862Z"
   },
   {
    "duration": 1670,
    "start_time": "2021-12-06T13:08:11.036Z"
   },
   {
    "duration": 9,
    "start_time": "2021-12-06T13:08:12.708Z"
   },
   {
    "duration": 11,
    "start_time": "2021-12-06T13:08:13.637Z"
   },
   {
    "duration": 24,
    "start_time": "2021-12-06T13:08:14.904Z"
   },
   {
    "duration": 8,
    "start_time": "2021-12-06T13:08:18.388Z"
   },
   {
    "duration": 22,
    "start_time": "2021-12-06T13:08:19.357Z"
   },
   {
    "duration": 613,
    "start_time": "2021-12-06T13:08:20.416Z"
   },
   {
    "duration": 14,
    "start_time": "2021-12-06T13:08:21.623Z"
   },
   {
    "duration": 31,
    "start_time": "2021-12-06T13:08:22.656Z"
   },
   {
    "duration": 12,
    "start_time": "2021-12-06T13:08:31.898Z"
   },
   {
    "duration": 29,
    "start_time": "2021-12-06T13:08:32.679Z"
   },
   {
    "duration": 3,
    "start_time": "2021-12-06T13:08:34.717Z"
   },
   {
    "duration": 3,
    "start_time": "2021-12-06T13:08:35.361Z"
   },
   {
    "duration": 3,
    "start_time": "2021-12-06T13:08:36.359Z"
   },
   {
    "duration": 246,
    "start_time": "2021-12-06T13:08:37.406Z"
   },
   {
    "duration": 200,
    "start_time": "2021-12-06T13:08:38.320Z"
   },
   {
    "duration": 11,
    "start_time": "2021-12-06T13:08:39.473Z"
   },
   {
    "duration": 312,
    "start_time": "2021-12-06T13:08:42.514Z"
   },
   {
    "duration": 145,
    "start_time": "2021-12-06T13:08:43.757Z"
   },
   {
    "duration": 11,
    "start_time": "2021-12-06T13:08:45.023Z"
   },
   {
    "duration": 232,
    "start_time": "2021-12-06T13:08:46.319Z"
   },
   {
    "duration": 128,
    "start_time": "2021-12-06T13:08:47.700Z"
   },
   {
    "duration": 9,
    "start_time": "2021-12-06T13:08:48.754Z"
   },
   {
    "duration": 248,
    "start_time": "2021-12-06T13:08:50.287Z"
   },
   {
    "duration": 131,
    "start_time": "2021-12-06T13:08:51.532Z"
   },
   {
    "duration": 9,
    "start_time": "2021-12-06T13:08:52.939Z"
   },
   {
    "duration": 260,
    "start_time": "2021-12-06T13:08:55.263Z"
   },
   {
    "duration": 258,
    "start_time": "2021-12-06T13:08:56.503Z"
   },
   {
    "duration": 138,
    "start_time": "2021-12-06T13:08:57.589Z"
   },
   {
    "duration": 344,
    "start_time": "2021-12-06T13:08:58.790Z"
   },
   {
    "duration": 4,
    "start_time": "2021-12-06T13:09:00.968Z"
   },
   {
    "duration": 511,
    "start_time": "2021-12-06T13:09:02.458Z"
   },
   {
    "duration": 459,
    "start_time": "2021-12-06T13:09:07.589Z"
   },
   {
    "duration": 473,
    "start_time": "2021-12-06T13:09:14.446Z"
   },
   {
    "duration": 506,
    "start_time": "2021-12-06T13:09:16.211Z"
   },
   {
    "duration": 208,
    "start_time": "2021-12-06T13:09:18.918Z"
   },
   {
    "duration": 3,
    "start_time": "2021-12-06T13:09:20.593Z"
   },
   {
    "duration": 185,
    "start_time": "2021-12-06T13:09:24.252Z"
   },
   {
    "duration": 172,
    "start_time": "2021-12-06T13:09:25.138Z"
   },
   {
    "duration": 188,
    "start_time": "2021-12-06T13:09:25.911Z"
   },
   {
    "duration": 21,
    "start_time": "2021-12-06T13:09:27.891Z"
   },
   {
    "duration": 20,
    "start_time": "2021-12-06T13:09:29.693Z"
   },
   {
    "duration": 180,
    "start_time": "2021-12-06T13:09:31.659Z"
   },
   {
    "duration": 32,
    "start_time": "2021-12-06T13:09:38.965Z"
   },
   {
    "duration": 3,
    "start_time": "2021-12-06T13:09:40.122Z"
   },
   {
    "duration": 254,
    "start_time": "2021-12-06T13:09:41.202Z"
   },
   {
    "duration": 291,
    "start_time": "2021-12-06T13:09:45.304Z"
   },
   {
    "duration": 236,
    "start_time": "2021-12-06T13:09:54.821Z"
   },
   {
    "duration": 250,
    "start_time": "2021-12-06T13:09:59.451Z"
   },
   {
    "duration": 255,
    "start_time": "2021-12-06T13:10:00.969Z"
   },
   {
    "duration": 245,
    "start_time": "2021-12-06T13:10:07.171Z"
   },
   {
    "duration": 236,
    "start_time": "2021-12-06T13:10:13.850Z"
   },
   {
    "duration": 3,
    "start_time": "2021-12-06T13:13:06.030Z"
   },
   {
    "duration": 3,
    "start_time": "2021-12-06T13:15:04.978Z"
   },
   {
    "duration": 407,
    "start_time": "2021-12-06T13:15:05.523Z"
   },
   {
    "duration": 433,
    "start_time": "2021-12-06T13:15:49.355Z"
   },
   {
    "duration": 397,
    "start_time": "2021-12-06T13:17:07.905Z"
   },
   {
    "duration": 13,
    "start_time": "2021-12-06T13:17:40.123Z"
   },
   {
    "duration": 33,
    "start_time": "2021-12-06T13:18:07.806Z"
   },
   {
    "duration": 2,
    "start_time": "2021-12-06T13:18:14.144Z"
   },
   {
    "duration": 247,
    "start_time": "2021-12-06T13:18:14.753Z"
   },
   {
    "duration": 261,
    "start_time": "2021-12-06T13:18:16.048Z"
   },
   {
    "duration": 310,
    "start_time": "2021-12-06T13:18:19.452Z"
   },
   {
    "duration": 237,
    "start_time": "2021-12-06T13:18:20.781Z"
   },
   {
    "duration": 3,
    "start_time": "2021-12-06T13:18:23.525Z"
   },
   {
    "duration": 279,
    "start_time": "2021-12-06T13:18:37.133Z"
   },
   {
    "duration": 357,
    "start_time": "2021-12-06T13:18:38.588Z"
   },
   {
    "duration": 365,
    "start_time": "2021-12-06T13:18:58.222Z"
   },
   {
    "duration": 366,
    "start_time": "2021-12-06T13:20:17.687Z"
   },
   {
    "duration": 332,
    "start_time": "2021-12-06T13:21:21.329Z"
   },
   {
    "duration": 959,
    "start_time": "2021-12-06T13:23:14.751Z"
   },
   {
    "duration": 308,
    "start_time": "2021-12-06T13:23:21.667Z"
   },
   {
    "duration": 351,
    "start_time": "2021-12-06T13:23:22.490Z"
   },
   {
    "duration": 198,
    "start_time": "2021-12-06T13:24:25.154Z"
   },
   {
    "duration": 238,
    "start_time": "2021-12-06T13:25:37.814Z"
   },
   {
    "duration": 190,
    "start_time": "2021-12-06T13:26:17.391Z"
   },
   {
    "duration": 188,
    "start_time": "2021-12-06T13:26:49.081Z"
   },
   {
    "duration": 87,
    "start_time": "2021-12-06T13:27:04.647Z"
   },
   {
    "duration": 11,
    "start_time": "2021-12-06T13:27:05.487Z"
   },
   {
    "duration": 11,
    "start_time": "2021-12-06T13:27:09.028Z"
   },
   {
    "duration": 25,
    "start_time": "2021-12-06T13:27:10.101Z"
   },
   {
    "duration": 12,
    "start_time": "2021-12-06T13:27:11.060Z"
   },
   {
    "duration": 10,
    "start_time": "2021-12-06T13:27:11.946Z"
   },
   {
    "duration": 12,
    "start_time": "2021-12-06T13:27:12.799Z"
   },
   {
    "duration": 1645,
    "start_time": "2021-12-06T13:27:13.748Z"
   },
   {
    "duration": 1595,
    "start_time": "2021-12-06T13:27:15.395Z"
   },
   {
    "duration": 57,
    "start_time": "2021-12-06T13:27:16.992Z"
   },
   {
    "duration": 67,
    "start_time": "2021-12-06T13:27:17.051Z"
   },
   {
    "duration": 1561,
    "start_time": "2021-12-06T13:27:17.574Z"
   },
   {
    "duration": 1589,
    "start_time": "2021-12-06T13:27:19.138Z"
   },
   {
    "duration": 7,
    "start_time": "2021-12-06T13:27:20.729Z"
   },
   {
    "duration": 1603,
    "start_time": "2021-12-06T13:27:20.738Z"
   },
   {
    "duration": 1681,
    "start_time": "2021-12-06T13:31:15.038Z"
   },
   {
    "duration": 6,
    "start_time": "2021-12-06T13:31:16.721Z"
   },
   {
    "duration": 11,
    "start_time": "2021-12-06T13:31:16.729Z"
   },
   {
    "duration": 22,
    "start_time": "2021-12-06T13:31:17.206Z"
   },
   {
    "duration": 7,
    "start_time": "2021-12-06T13:31:19.640Z"
   },
   {
    "duration": 21,
    "start_time": "2021-12-06T13:31:20.343Z"
   },
   {
    "duration": 571,
    "start_time": "2021-12-06T13:31:21.346Z"
   },
   {
    "duration": 14,
    "start_time": "2021-12-06T13:31:22.064Z"
   },
   {
    "duration": 29,
    "start_time": "2021-12-06T13:31:22.860Z"
   },
   {
    "duration": 3,
    "start_time": "2021-12-06T13:31:27.949Z"
   },
   {
    "duration": 4,
    "start_time": "2021-12-06T13:31:28.641Z"
   },
   {
    "duration": 3,
    "start_time": "2021-12-06T13:31:29.383Z"
   },
   {
    "duration": 232,
    "start_time": "2021-12-06T13:31:30.082Z"
   },
   {
    "duration": 133,
    "start_time": "2021-12-06T13:31:30.793Z"
   },
   {
    "duration": 9,
    "start_time": "2021-12-06T13:31:31.477Z"
   },
   {
    "duration": 239,
    "start_time": "2021-12-06T13:31:32.141Z"
   },
   {
    "duration": 138,
    "start_time": "2021-12-06T13:31:32.770Z"
   },
   {
    "duration": 9,
    "start_time": "2021-12-06T13:31:33.438Z"
   },
   {
    "duration": 293,
    "start_time": "2021-12-06T13:31:34.206Z"
   },
   {
    "duration": 128,
    "start_time": "2021-12-06T13:31:34.955Z"
   },
   {
    "duration": 8,
    "start_time": "2021-12-06T13:31:35.739Z"
   },
   {
    "duration": 220,
    "start_time": "2021-12-06T13:31:36.426Z"
   },
   {
    "duration": 123,
    "start_time": "2021-12-06T13:31:37.080Z"
   },
   {
    "duration": 10,
    "start_time": "2021-12-06T13:31:37.946Z"
   },
   {
    "duration": 272,
    "start_time": "2021-12-06T13:31:39.598Z"
   },
   {
    "duration": 244,
    "start_time": "2021-12-06T13:31:40.336Z"
   },
   {
    "duration": 139,
    "start_time": "2021-12-06T13:31:40.983Z"
   },
   {
    "duration": 240,
    "start_time": "2021-12-06T13:31:41.696Z"
   },
   {
    "duration": 3,
    "start_time": "2021-12-06T13:31:43.257Z"
   },
   {
    "duration": 499,
    "start_time": "2021-12-06T13:31:44.256Z"
   },
   {
    "duration": 460,
    "start_time": "2021-12-06T13:31:54.193Z"
   },
   {
    "duration": 583,
    "start_time": "2021-12-06T13:31:54.889Z"
   },
   {
    "duration": 201,
    "start_time": "2021-12-06T13:31:55.639Z"
   },
   {
    "duration": 2,
    "start_time": "2021-12-06T13:31:56.445Z"
   },
   {
    "duration": 182,
    "start_time": "2021-12-06T13:31:57.264Z"
   },
   {
    "duration": 161,
    "start_time": "2021-12-06T13:31:57.970Z"
   },
   {
    "duration": 185,
    "start_time": "2021-12-06T13:31:58.651Z"
   },
   {
    "duration": 21,
    "start_time": "2021-12-06T13:32:00.125Z"
   },
   {
    "duration": 21,
    "start_time": "2021-12-06T13:32:03.851Z"
   },
   {
    "duration": 179,
    "start_time": "2021-12-06T13:32:04.507Z"
   },
   {
    "duration": 34,
    "start_time": "2021-12-06T13:32:06.134Z"
   },
   {
    "duration": 2,
    "start_time": "2021-12-06T13:32:06.879Z"
   },
   {
    "duration": 249,
    "start_time": "2021-12-06T13:32:07.605Z"
   },
   {
    "duration": 232,
    "start_time": "2021-12-06T13:32:08.393Z"
   },
   {
    "duration": 239,
    "start_time": "2021-12-06T13:32:09.172Z"
   },
   {
    "duration": 233,
    "start_time": "2021-12-06T13:32:09.983Z"
   },
   {
    "duration": 3,
    "start_time": "2021-12-06T13:32:10.826Z"
   },
   {
    "duration": 319,
    "start_time": "2021-12-06T13:32:11.769Z"
   },
   {
    "duration": 387,
    "start_time": "2021-12-06T13:32:12.638Z"
   },
   {
    "duration": 205,
    "start_time": "2021-12-06T13:32:13.495Z"
   },
   {
    "duration": 174,
    "start_time": "2021-12-06T13:32:14.336Z"
   },
   {
    "duration": 186,
    "start_time": "2021-12-06T13:32:15.305Z"
   },
   {
    "duration": 189,
    "start_time": "2021-12-06T13:32:20.362Z"
   },
   {
    "duration": 138,
    "start_time": "2021-12-06T13:33:12.833Z"
   },
   {
    "duration": 310,
    "start_time": "2021-12-06T13:33:13.590Z"
   },
   {
    "duration": 4,
    "start_time": "2021-12-06T13:33:15.031Z"
   },
   {
    "duration": 538,
    "start_time": "2021-12-06T13:33:15.759Z"
   },
   {
    "duration": 704,
    "start_time": "2021-12-06T20:21:20.320Z"
   },
   {
    "duration": 12,
    "start_time": "2021-12-06T20:21:34.767Z"
   },
   {
    "duration": 9,
    "start_time": "2021-12-06T20:25:11.827Z"
   },
   {
    "duration": 11,
    "start_time": "2021-12-06T20:29:57.031Z"
   },
   {
    "duration": 13,
    "start_time": "2021-12-06T20:36:41.841Z"
   },
   {
    "duration": 29,
    "start_time": "2021-12-06T20:36:57.072Z"
   },
   {
    "duration": 985,
    "start_time": "2021-12-07T20:53:28.258Z"
   },
   {
    "duration": 17,
    "start_time": "2021-12-07T20:53:29.246Z"
   },
   {
    "duration": 12,
    "start_time": "2021-12-07T20:53:36.957Z"
   },
   {
    "duration": 39,
    "start_time": "2021-12-07T20:53:39.764Z"
   },
   {
    "duration": 18,
    "start_time": "2021-12-07T20:53:45.734Z"
   },
   {
    "duration": 11,
    "start_time": "2021-12-07T20:53:47.414Z"
   },
   {
    "duration": 2409,
    "start_time": "2021-12-07T21:05:32.804Z"
   },
   {
    "duration": 2318,
    "start_time": "2021-12-07T21:08:08.347Z"
   },
   {
    "duration": 2325,
    "start_time": "2021-12-07T21:08:27.580Z"
   },
   {
    "duration": 2234,
    "start_time": "2021-12-07T21:10:52.393Z"
   },
   {
    "duration": 2427,
    "start_time": "2021-12-07T21:13:19.885Z"
   },
   {
    "duration": 2275,
    "start_time": "2021-12-07T21:13:22.315Z"
   },
   {
    "duration": 2343,
    "start_time": "2021-12-07T21:13:24.594Z"
   },
   {
    "duration": 2296,
    "start_time": "2021-12-07T21:13:26.939Z"
   },
   {
    "duration": 2364,
    "start_time": "2021-12-07T21:13:29.237Z"
   },
   {
    "duration": 127,
    "start_time": "2021-12-07T21:14:54.455Z"
   },
   {
    "duration": 133,
    "start_time": "2021-12-07T21:14:55.122Z"
   },
   {
    "duration": 2554,
    "start_time": "2021-12-07T21:17:56.314Z"
   },
   {
    "duration": 2417,
    "start_time": "2021-12-07T21:18:20.801Z"
   },
   {
    "duration": 153,
    "start_time": "2021-12-07T21:21:48.368Z"
   },
   {
    "duration": 16,
    "start_time": "2021-12-07T21:21:49.048Z"
   },
   {
    "duration": 20,
    "start_time": "2021-12-07T21:21:52.511Z"
   },
   {
    "duration": 15,
    "start_time": "2021-12-07T21:21:55.457Z"
   },
   {
    "duration": 43,
    "start_time": "2021-12-07T21:21:57.500Z"
   },
   {
    "duration": 16,
    "start_time": "2021-12-07T21:21:59.348Z"
   },
   {
    "duration": 13,
    "start_time": "2021-12-07T21:22:01.001Z"
   },
   {
    "duration": 19,
    "start_time": "2021-12-07T21:22:02.512Z"
   },
   {
    "duration": 2933,
    "start_time": "2021-12-07T21:22:04.055Z"
   },
   {
    "duration": 2399,
    "start_time": "2021-12-07T21:22:06.991Z"
   },
   {
    "duration": 6,
    "start_time": "2021-12-07T21:22:09.393Z"
   },
   {
    "duration": 3134,
    "start_time": "2021-12-07T21:22:10.565Z"
   },
   {
    "duration": 2395,
    "start_time": "2021-12-07T21:22:13.702Z"
   },
   {
    "duration": 2413,
    "start_time": "2021-12-07T21:22:16.102Z"
   },
   {
    "duration": 2459,
    "start_time": "2021-12-07T21:22:18.518Z"
   },
   {
    "duration": 93,
    "start_time": "2021-12-07T21:22:20.980Z"
   },
   {
    "duration": 98,
    "start_time": "2021-12-07T21:22:21.076Z"
   },
   {
    "duration": 10,
    "start_time": "2021-12-07T21:22:21.177Z"
   },
   {
    "duration": 34,
    "start_time": "2021-12-07T21:22:21.190Z"
   },
   {
    "duration": 16,
    "start_time": "2021-12-07T21:22:23.899Z"
   },
   {
    "duration": 34,
    "start_time": "2021-12-07T21:25:20.854Z"
   },
   {
    "duration": 16,
    "start_time": "2021-12-07T21:28:11.871Z"
   },
   {
    "duration": 37,
    "start_time": "2021-12-07T21:28:12.984Z"
   },
   {
    "duration": 22,
    "start_time": "2021-12-07T21:29:29.055Z"
   },
   {
    "duration": 5,
    "start_time": "2021-12-07T21:31:45.459Z"
   },
   {
    "duration": 695,
    "start_time": "2021-12-07T21:31:46.215Z"
   },
   {
    "duration": 1096,
    "start_time": "2021-12-07T21:31:46.922Z"
   },
   {
    "duration": 153,
    "start_time": "2021-12-07T21:32:29.306Z"
   },
   {
    "duration": 21,
    "start_time": "2021-12-07T21:32:30.177Z"
   },
   {
    "duration": 14,
    "start_time": "2021-12-07T21:32:33.472Z"
   },
   {
    "duration": 83,
    "start_time": "2021-12-07T21:32:35.240Z"
   },
   {
    "duration": 15,
    "start_time": "2021-12-07T21:32:37.197Z"
   },
   {
    "duration": 11,
    "start_time": "2021-12-07T21:32:38.780Z"
   },
   {
    "duration": 17,
    "start_time": "2021-12-07T21:32:40.314Z"
   },
   {
    "duration": 2554,
    "start_time": "2021-12-07T21:32:41.887Z"
   },
   {
    "duration": 2290,
    "start_time": "2021-12-07T21:32:44.444Z"
   },
   {
    "duration": 6,
    "start_time": "2021-12-07T21:32:54.906Z"
   },
   {
    "duration": 2295,
    "start_time": "2021-12-07T21:32:55.603Z"
   },
   {
    "duration": 2297,
    "start_time": "2021-12-07T21:32:57.900Z"
   },
   {
    "duration": 2437,
    "start_time": "2021-12-07T21:33:00.200Z"
   },
   {
    "duration": 2372,
    "start_time": "2021-12-07T21:33:02.640Z"
   },
   {
    "duration": 112,
    "start_time": "2021-12-07T21:33:05.015Z"
   },
   {
    "duration": 135,
    "start_time": "2021-12-07T21:33:05.131Z"
   },
   {
    "duration": 12,
    "start_time": "2021-12-07T21:33:05.270Z"
   },
   {
    "duration": 13,
    "start_time": "2021-12-07T21:33:05.285Z"
   },
   {
    "duration": 14,
    "start_time": "2021-12-07T21:33:07.747Z"
   },
   {
    "duration": 38,
    "start_time": "2021-12-07T21:33:09.982Z"
   },
   {
    "duration": 11,
    "start_time": "2021-12-07T21:33:19.845Z"
   },
   {
    "duration": 35,
    "start_time": "2021-12-07T21:33:22.412Z"
   },
   {
    "duration": 1151,
    "start_time": "2021-12-07T21:33:24.133Z"
   },
   {
    "duration": 24,
    "start_time": "2021-12-07T21:33:26.106Z"
   },
   {
    "duration": 47,
    "start_time": "2021-12-07T21:33:28.237Z"
   },
   {
    "duration": 4,
    "start_time": "2021-12-07T21:33:31.190Z"
   },
   {
    "duration": 5,
    "start_time": "2021-12-07T21:33:32.825Z"
   },
   {
    "duration": 392,
    "start_time": "2021-12-07T21:33:34.053Z"
   },
   {
    "duration": 225,
    "start_time": "2021-12-07T21:33:35.055Z"
   },
   {
    "duration": 13,
    "start_time": "2021-12-07T21:33:38.069Z"
   },
   {
    "duration": 386,
    "start_time": "2021-12-07T21:33:38.876Z"
   },
   {
    "duration": 202,
    "start_time": "2021-12-07T21:33:39.660Z"
   },
   {
    "duration": 12,
    "start_time": "2021-12-07T21:33:40.431Z"
   },
   {
    "duration": 396,
    "start_time": "2021-12-07T21:33:41.227Z"
   },
   {
    "duration": 194,
    "start_time": "2021-12-07T21:33:42.112Z"
   },
   {
    "duration": 12,
    "start_time": "2021-12-07T21:33:42.909Z"
   },
   {
    "duration": 364,
    "start_time": "2021-12-07T21:33:43.735Z"
   },
   {
    "duration": 195,
    "start_time": "2021-12-07T21:33:44.590Z"
   },
   {
    "duration": 911,
    "start_time": "2021-12-08T15:16:22.182Z"
   },
   {
    "duration": 15,
    "start_time": "2021-12-08T15:16:23.096Z"
   },
   {
    "duration": 12,
    "start_time": "2021-12-08T15:16:25.507Z"
   },
   {
    "duration": 41,
    "start_time": "2021-12-08T15:16:26.512Z"
   },
   {
    "duration": 18,
    "start_time": "2021-12-08T15:16:27.521Z"
   },
   {
    "duration": 12,
    "start_time": "2021-12-08T15:16:28.755Z"
   },
   {
    "duration": 18,
    "start_time": "2021-12-08T15:16:29.976Z"
   },
   {
    "duration": 2586,
    "start_time": "2021-12-08T15:16:31.138Z"
   },
   {
    "duration": 2656,
    "start_time": "2021-12-08T15:16:33.727Z"
   },
   {
    "duration": 7,
    "start_time": "2021-12-08T15:16:36.385Z"
   },
   {
    "duration": 2601,
    "start_time": "2021-12-08T15:16:36.394Z"
   },
   {
    "duration": 2657,
    "start_time": "2021-12-08T15:16:38.997Z"
   },
   {
    "duration": 2641,
    "start_time": "2021-12-08T15:16:41.656Z"
   },
   {
    "duration": 2518,
    "start_time": "2021-12-08T15:16:44.299Z"
   },
   {
    "duration": 97,
    "start_time": "2021-12-08T15:16:46.821Z"
   },
   {
    "duration": 98,
    "start_time": "2021-12-08T15:16:46.921Z"
   },
   {
    "duration": 12,
    "start_time": "2021-12-08T15:16:47.022Z"
   },
   {
    "duration": 35,
    "start_time": "2021-12-08T15:16:47.036Z"
   },
   {
    "duration": 21,
    "start_time": "2021-12-08T15:16:47.074Z"
   },
   {
    "duration": 36,
    "start_time": "2021-12-08T15:16:47.097Z"
   },
   {
    "duration": 36,
    "start_time": "2021-12-08T15:16:47.136Z"
   },
   {
    "duration": 31,
    "start_time": "2021-12-08T15:16:47.175Z"
   },
   {
    "duration": 1027,
    "start_time": "2021-12-08T15:16:47.441Z"
   },
   {
    "duration": 22,
    "start_time": "2021-12-08T15:16:48.753Z"
   },
   {
    "duration": 51,
    "start_time": "2021-12-08T15:16:50.124Z"
   },
   {
    "duration": 132,
    "start_time": "2021-12-08T15:16:52.126Z"
   },
   {
    "duration": 6,
    "start_time": "2021-12-08T15:16:53.461Z"
   },
   {
    "duration": 468,
    "start_time": "2021-12-08T15:16:54.547Z"
   },
   {
    "duration": 414,
    "start_time": "2021-12-08T15:19:11.011Z"
   },
   {
    "duration": 233,
    "start_time": "2021-12-08T15:22:28.822Z"
   },
   {
    "duration": 13,
    "start_time": "2021-12-08T15:23:46.181Z"
   },
   {
    "duration": 13,
    "start_time": "2021-12-08T15:23:49.852Z"
   },
   {
    "duration": 228,
    "start_time": "2021-12-08T15:29:21.319Z"
   },
   {
    "duration": 425,
    "start_time": "2021-12-08T15:30:57.649Z"
   },
   {
    "duration": 214,
    "start_time": "2021-12-08T15:32:25.737Z"
   },
   {
    "duration": 13,
    "start_time": "2021-12-08T15:33:43.692Z"
   },
   {
    "duration": 14,
    "start_time": "2021-12-08T15:36:46.252Z"
   },
   {
    "duration": 469,
    "start_time": "2021-12-08T15:54:57.266Z"
   },
   {
    "duration": 435,
    "start_time": "2021-12-08T15:55:55.925Z"
   },
   {
    "duration": 450,
    "start_time": "2021-12-08T15:56:26.095Z"
   },
   {
    "duration": 516,
    "start_time": "2021-12-08T15:56:29.426Z"
   },
   {
    "duration": 12,
    "start_time": "2021-12-08T15:56:48.599Z"
   },
   {
    "duration": 13,
    "start_time": "2021-12-08T16:02:40.393Z"
   },
   {
    "duration": 464,
    "start_time": "2021-12-08T16:02:46.054Z"
   },
   {
    "duration": 429,
    "start_time": "2021-12-08T16:02:47.828Z"
   },
   {
    "duration": 221,
    "start_time": "2021-12-08T16:02:49.844Z"
   },
   {
    "duration": 11,
    "start_time": "2021-12-08T16:02:51.521Z"
   },
   {
    "duration": 242,
    "start_time": "2021-12-08T16:03:30.979Z"
   },
   {
    "duration": 226,
    "start_time": "2021-12-08T16:04:05.743Z"
   },
   {
    "duration": 432,
    "start_time": "2021-12-08T16:07:11.070Z"
   },
   {
    "duration": 498,
    "start_time": "2021-12-08T16:07:20.754Z"
   },
   {
    "duration": 5,
    "start_time": "2021-12-08T16:09:39.360Z"
   },
   {
    "duration": 702,
    "start_time": "2021-12-08T16:19:21.216Z"
   },
   {
    "duration": 685,
    "start_time": "2021-12-08T16:19:31.222Z"
   },
   {
    "duration": 156,
    "start_time": "2021-12-08T16:19:42.822Z"
   },
   {
    "duration": 16,
    "start_time": "2021-12-08T16:19:43.313Z"
   },
   {
    "duration": 15,
    "start_time": "2021-12-08T16:19:45.316Z"
   },
   {
    "duration": 118,
    "start_time": "2021-12-08T16:19:46.315Z"
   },
   {
    "duration": 16,
    "start_time": "2021-12-08T16:19:47.283Z"
   },
   {
    "duration": 12,
    "start_time": "2021-12-08T16:19:48.293Z"
   },
   {
    "duration": 15,
    "start_time": "2021-12-08T16:19:50.402Z"
   },
   {
    "duration": 2471,
    "start_time": "2021-12-08T16:19:52.897Z"
   },
   {
    "duration": 2513,
    "start_time": "2021-12-08T16:19:55.370Z"
   },
   {
    "duration": 5,
    "start_time": "2021-12-08T16:19:57.886Z"
   },
   {
    "duration": 2549,
    "start_time": "2021-12-08T16:19:57.894Z"
   },
   {
    "duration": 2610,
    "start_time": "2021-12-08T16:20:00.446Z"
   },
   {
    "duration": 2515,
    "start_time": "2021-12-08T16:20:03.058Z"
   },
   {
    "duration": 2491,
    "start_time": "2021-12-08T16:20:05.576Z"
   },
   {
    "duration": 97,
    "start_time": "2021-12-08T16:20:08.070Z"
   },
   {
    "duration": 98,
    "start_time": "2021-12-08T16:20:08.169Z"
   },
   {
    "duration": 10,
    "start_time": "2021-12-08T16:20:08.270Z"
   },
   {
    "duration": 30,
    "start_time": "2021-12-08T16:20:08.282Z"
   },
   {
    "duration": 30,
    "start_time": "2021-12-08T16:20:08.314Z"
   },
   {
    "duration": 45,
    "start_time": "2021-12-08T16:20:08.346Z"
   },
   {
    "duration": 10,
    "start_time": "2021-12-08T16:20:12.730Z"
   },
   {
    "duration": 30,
    "start_time": "2021-12-08T16:20:13.878Z"
   },
   {
    "duration": 1107,
    "start_time": "2021-12-08T16:20:14.968Z"
   },
   {
    "duration": 19,
    "start_time": "2021-12-08T16:20:16.191Z"
   },
   {
    "duration": 45,
    "start_time": "2021-12-08T16:20:17.428Z"
   },
   {
    "duration": 5,
    "start_time": "2021-12-08T16:20:19.479Z"
   },
   {
    "duration": 4,
    "start_time": "2021-12-08T16:20:20.663Z"
   },
   {
    "duration": 494,
    "start_time": "2021-12-08T16:20:21.309Z"
   },
   {
    "duration": 366,
    "start_time": "2021-12-08T16:20:23.887Z"
   },
   {
    "duration": 13,
    "start_time": "2021-12-08T16:20:25.823Z"
   },
   {
    "duration": 515,
    "start_time": "2021-12-08T16:20:26.698Z"
   },
   {
    "duration": 222,
    "start_time": "2021-12-08T16:20:28.423Z"
   },
   {
    "duration": 13,
    "start_time": "2021-12-08T16:20:30.007Z"
   },
   {
    "duration": 419,
    "start_time": "2021-12-08T16:20:30.748Z"
   },
   {
    "duration": 208,
    "start_time": "2021-12-08T16:20:32.410Z"
   },
   {
    "duration": 13,
    "start_time": "2021-12-08T16:20:38.165Z"
   },
   {
    "duration": 392,
    "start_time": "2021-12-08T16:20:38.796Z"
   },
   {
    "duration": 224,
    "start_time": "2021-12-08T16:20:40.096Z"
   },
   {
    "duration": 14,
    "start_time": "2021-12-08T16:20:41.588Z"
   },
   {
    "duration": 543,
    "start_time": "2021-12-08T16:20:43.008Z"
   },
   {
    "duration": 457,
    "start_time": "2021-12-08T16:20:45.462Z"
   },
   {
    "duration": 221,
    "start_time": "2021-12-08T16:20:47.144Z"
   },
   {
    "duration": 11,
    "start_time": "2021-12-08T16:20:47.896Z"
   },
   {
    "duration": 439,
    "start_time": "2021-12-08T16:20:53.679Z"
   },
   {
    "duration": 4,
    "start_time": "2021-12-08T16:20:59.102Z"
   },
   {
    "duration": 694,
    "start_time": "2021-12-08T16:20:59.752Z"
   },
   {
    "duration": 681,
    "start_time": "2021-12-08T16:21:02.575Z"
   },
   {
    "duration": 689,
    "start_time": "2021-12-08T16:21:37.653Z"
   },
   {
    "duration": 4,
    "start_time": "2021-12-08T16:50:42.479Z"
   },
   {
    "duration": 4,
    "start_time": "2021-12-08T16:58:47.795Z"
   },
   {
    "duration": 552,
    "start_time": "2021-12-08T16:58:48.402Z"
   },
   {
    "duration": 525,
    "start_time": "2021-12-08T16:58:54.185Z"
   },
   {
    "duration": 551,
    "start_time": "2021-12-08T16:59:44.535Z"
   },
   {
    "duration": 453,
    "start_time": "2021-12-08T17:02:06.840Z"
   },
   {
    "duration": 32,
    "start_time": "2021-12-08T17:33:47.475Z"
   },
   {
    "duration": 65,
    "start_time": "2021-12-08T17:40:03.409Z"
   },
   {
    "duration": 4,
    "start_time": "2021-12-08T17:40:04.256Z"
   },
   {
    "duration": 464,
    "start_time": "2021-12-08T17:40:05.049Z"
   },
   {
    "duration": 445,
    "start_time": "2021-12-08T17:40:06.222Z"
   },
   {
    "duration": 407,
    "start_time": "2021-12-08T17:40:07.293Z"
   },
   {
    "duration": 410,
    "start_time": "2021-12-08T17:40:08.373Z"
   },
   {
    "duration": 4,
    "start_time": "2021-12-08T17:40:09.316Z"
   },
   {
    "duration": 538,
    "start_time": "2021-12-08T17:40:10.701Z"
   },
   {
    "duration": 631,
    "start_time": "2021-12-08T17:40:15.877Z"
   },
   {
    "duration": 8589,
    "start_time": "2021-12-08T17:40:17.440Z"
   },
   {
    "duration": 617,
    "start_time": "2021-12-08T17:40:25.415Z"
   },
   {
    "duration": 46,
    "start_time": "2021-12-08T17:40:38.735Z"
   },
   {
    "duration": 445,
    "start_time": "2021-12-08T17:40:40.042Z"
   },
   {
    "duration": 72,
    "start_time": "2021-12-08T17:40:42.209Z"
   },
   {
    "duration": 4,
    "start_time": "2021-12-08T17:40:42.954Z"
   },
   {
    "duration": 437,
    "start_time": "2021-12-08T17:40:43.722Z"
   },
   {
    "duration": 419,
    "start_time": "2021-12-08T17:40:44.414Z"
   },
   {
    "duration": 733,
    "start_time": "2021-12-08T17:40:45.159Z"
   },
   {
    "duration": 410,
    "start_time": "2021-12-08T17:40:45.926Z"
   },
   {
    "duration": 5,
    "start_time": "2021-12-08T17:40:46.787Z"
   },
   {
    "duration": 542,
    "start_time": "2021-12-08T17:40:47.753Z"
   },
   {
    "duration": 11590,
    "start_time": "2021-12-08T17:40:48.911Z"
   },
   {
    "duration": 758,
    "start_time": "2021-12-08T17:40:59.746Z"
   },
   {
    "duration": 8273,
    "start_time": "2021-12-08T17:41:56.621Z"
   },
   {
    "duration": 49,
    "start_time": "2021-12-08T17:42:30.904Z"
   },
   {
    "duration": 5,
    "start_time": "2021-12-08T17:42:32.722Z"
   },
   {
    "duration": 464,
    "start_time": "2021-12-08T17:42:35.132Z"
   },
   {
    "duration": 416,
    "start_time": "2021-12-08T17:42:36.249Z"
   },
   {
    "duration": 4,
    "start_time": "2021-12-08T17:42:59.181Z"
   },
   {
    "duration": 442,
    "start_time": "2021-12-08T17:42:59.743Z"
   },
   {
    "duration": 409,
    "start_time": "2021-12-08T17:43:00.295Z"
   },
   {
    "duration": 423,
    "start_time": "2021-12-08T17:43:01.548Z"
   },
   {
    "duration": 406,
    "start_time": "2021-12-08T17:43:02.204Z"
   },
   {
    "duration": 4,
    "start_time": "2021-12-08T17:43:02.903Z"
   },
   {
    "duration": 581,
    "start_time": "2021-12-08T17:43:03.921Z"
   },
   {
    "duration": 610,
    "start_time": "2021-12-08T17:43:05.514Z"
   },
   {
    "duration": 341,
    "start_time": "2021-12-08T17:43:06.889Z"
   },
   {
    "duration": 528,
    "start_time": "2021-12-08T17:43:34.052Z"
   },
   {
    "duration": 412,
    "start_time": "2021-12-08T17:43:34.757Z"
   },
   {
    "duration": 290,
    "start_time": "2021-12-08T17:43:35.932Z"
   },
   {
    "duration": 334,
    "start_time": "2021-12-08T17:43:36.861Z"
   },
   {
    "duration": 344,
    "start_time": "2021-12-08T17:43:37.668Z"
   },
   {
    "duration": 440,
    "start_time": "2021-12-08T17:47:48.939Z"
   },
   {
    "duration": 424,
    "start_time": "2021-12-08T17:48:25.836Z"
   },
   {
    "duration": 405,
    "start_time": "2021-12-08T17:48:42.190Z"
   },
   {
    "duration": 217,
    "start_time": "2021-12-08T17:48:44.943Z"
   },
   {
    "duration": 512,
    "start_time": "2021-12-08T17:48:54.347Z"
   },
   {
    "duration": 432,
    "start_time": "2021-12-08T17:49:19.603Z"
   },
   {
    "duration": 422,
    "start_time": "2021-12-08T17:50:49.423Z"
   },
   {
    "duration": 415,
    "start_time": "2021-12-08T17:53:46.276Z"
   },
   {
    "duration": 34,
    "start_time": "2021-12-08T17:58:31.801Z"
   },
   {
    "duration": 588,
    "start_time": "2021-12-08T18:01:39.866Z"
   },
   {
    "duration": 758,
    "start_time": "2021-12-09T16:56:04.123Z"
   },
   {
    "duration": 3,
    "start_time": "2021-12-09T16:56:18.015Z"
   },
   {
    "duration": 93,
    "start_time": "2021-12-09T16:56:25.354Z"
   },
   {
    "duration": 21,
    "start_time": "2021-12-09T16:58:02.629Z"
   },
   {
    "duration": 21,
    "start_time": "2021-12-09T16:58:23.134Z"
   },
   {
    "duration": 71,
    "start_time": "2021-12-09T16:58:43.553Z"
   },
   {
    "duration": 63,
    "start_time": "2021-12-09T16:58:56.616Z"
   },
   {
    "duration": 3,
    "start_time": "2021-12-09T17:58:16.418Z"
   },
   {
    "duration": 680,
    "start_time": "2021-12-09T17:59:14.380Z"
   },
   {
    "duration": 3,
    "start_time": "2021-12-09T17:59:31.494Z"
   },
   {
    "duration": 947,
    "start_time": "2021-12-09T17:59:32.139Z"
   },
   {
    "duration": 1109,
    "start_time": "2021-12-09T18:00:05.582Z"
   },
   {
    "duration": 4,
    "start_time": "2021-12-09T18:00:16.921Z"
   },
   {
    "duration": 976,
    "start_time": "2021-12-09T18:00:17.665Z"
   },
   {
    "duration": 4,
    "start_time": "2021-12-09T18:00:29.574Z"
   },
   {
    "duration": 1103,
    "start_time": "2021-12-09T18:00:30.103Z"
   },
   {
    "duration": 4,
    "start_time": "2021-12-09T18:55:09.871Z"
   },
   {
    "duration": 892,
    "start_time": "2021-12-09T18:55:11.211Z"
   },
   {
    "duration": 4,
    "start_time": "2021-12-09T18:55:22.649Z"
   },
   {
    "duration": 905,
    "start_time": "2021-12-09T18:55:24.167Z"
   },
   {
    "duration": 4,
    "start_time": "2021-12-09T19:02:44.648Z"
   },
   {
    "duration": 946,
    "start_time": "2021-12-09T19:02:45.336Z"
   },
   {
    "duration": 3,
    "start_time": "2021-12-09T19:02:54.898Z"
   },
   {
    "duration": 243,
    "start_time": "2021-12-09T19:02:55.400Z"
   },
   {
    "duration": 3,
    "start_time": "2021-12-09T19:03:37.385Z"
   },
   {
    "duration": 125,
    "start_time": "2021-12-09T19:03:37.922Z"
   },
   {
    "duration": 246,
    "start_time": "2021-12-09T19:03:46.277Z"
   },
   {
    "duration": 250,
    "start_time": "2021-12-09T19:03:57.099Z"
   },
   {
    "duration": 4,
    "start_time": "2021-12-09T19:06:11.285Z"
   },
   {
    "duration": 1018,
    "start_time": "2021-12-09T19:06:11.765Z"
   },
   {
    "duration": 3,
    "start_time": "2021-12-09T19:06:25.038Z"
   },
   {
    "duration": 4,
    "start_time": "2021-12-09T19:06:34.217Z"
   },
   {
    "duration": 919,
    "start_time": "2021-12-09T19:06:34.866Z"
   },
   {
    "duration": 4,
    "start_time": "2021-12-09T19:06:43.676Z"
   },
   {
    "duration": 259,
    "start_time": "2021-12-09T19:06:46.343Z"
   },
   {
    "duration": 200,
    "start_time": "2021-12-09T19:09:02.467Z"
   },
   {
    "duration": 1789,
    "start_time": "2021-12-09T19:09:30.231Z"
   },
   {
    "duration": 4,
    "start_time": "2021-12-09T19:09:47.110Z"
   },
   {
    "duration": 130,
    "start_time": "2021-12-09T19:09:57.364Z"
   },
   {
    "duration": 387,
    "start_time": "2021-12-09T19:09:59.169Z"
   },
   {
    "duration": 379,
    "start_time": "2021-12-09T19:10:02.684Z"
   },
   {
    "duration": 380,
    "start_time": "2021-12-09T19:10:24.492Z"
   },
   {
    "duration": 891,
    "start_time": "2021-12-09T19:10:27.724Z"
   },
   {
    "duration": 3,
    "start_time": "2021-12-09T19:10:45.315Z"
   },
   {
    "duration": 88,
    "start_time": "2021-12-09T19:10:45.743Z"
   },
   {
    "duration": 12,
    "start_time": "2021-12-09T19:10:46.854Z"
   },
   {
    "duration": 68,
    "start_time": "2021-12-09T19:10:47.959Z"
   },
   {
    "duration": 10,
    "start_time": "2021-12-09T19:10:51.372Z"
   },
   {
    "duration": 27,
    "start_time": "2021-12-09T19:10:52.664Z"
   },
   {
    "duration": 13,
    "start_time": "2021-12-09T19:10:53.794Z"
   },
   {
    "duration": 8,
    "start_time": "2021-12-09T19:10:55.140Z"
   },
   {
    "duration": 14,
    "start_time": "2021-12-09T19:10:58.596Z"
   },
   {
    "duration": 1689,
    "start_time": "2021-12-09T19:11:00.011Z"
   },
   {
    "duration": 1661,
    "start_time": "2021-12-09T19:11:01.706Z"
   },
   {
    "duration": 4,
    "start_time": "2021-12-09T19:11:03.370Z"
   },
   {
    "duration": 1676,
    "start_time": "2021-12-09T19:11:03.375Z"
   },
   {
    "duration": 1743,
    "start_time": "2021-12-09T19:11:05.053Z"
   },
   {
    "duration": 1665,
    "start_time": "2021-12-09T19:11:06.798Z"
   },
   {
    "duration": 1735,
    "start_time": "2021-12-09T19:11:08.464Z"
   },
   {
    "duration": 59,
    "start_time": "2021-12-09T19:11:10.201Z"
   },
   {
    "duration": 75,
    "start_time": "2021-12-09T19:11:10.262Z"
   },
   {
    "duration": 8,
    "start_time": "2021-12-09T19:11:10.338Z"
   },
   {
    "duration": 8,
    "start_time": "2021-12-09T19:11:10.347Z"
   },
   {
    "duration": 13,
    "start_time": "2021-12-09T19:11:11.049Z"
   },
   {
    "duration": 23,
    "start_time": "2021-12-09T19:11:13.757Z"
   },
   {
    "duration": 7,
    "start_time": "2021-12-09T19:11:17.766Z"
   },
   {
    "duration": 20,
    "start_time": "2021-12-09T19:11:20.265Z"
   },
   {
    "duration": 552,
    "start_time": "2021-12-09T19:11:22.052Z"
   },
   {
    "duration": 17,
    "start_time": "2021-12-09T19:11:24.277Z"
   },
   {
    "duration": 29,
    "start_time": "2021-12-09T19:11:25.674Z"
   },
   {
    "duration": 3,
    "start_time": "2021-12-09T19:11:28.888Z"
   },
   {
    "duration": 257,
    "start_time": "2021-12-09T19:11:29.853Z"
   },
   {
    "duration": 137,
    "start_time": "2021-12-09T19:11:33.522Z"
   },
   {
    "duration": 349,
    "start_time": "2021-12-09T19:11:34.898Z"
   },
   {
    "duration": 358,
    "start_time": "2021-12-09T19:11:36.442Z"
   },
   {
    "duration": 127,
    "start_time": "2021-12-09T19:11:38.021Z"
   },
   {
    "duration": 399,
    "start_time": "2021-12-09T19:11:42.305Z"
   },
   {
    "duration": 344,
    "start_time": "2021-12-09T19:11:44.912Z"
   },
   {
    "duration": 193,
    "start_time": "2021-12-09T19:11:48.356Z"
   },
   {
    "duration": 344,
    "start_time": "2021-12-09T19:11:51.258Z"
   },
   {
    "duration": 357,
    "start_time": "2021-12-09T19:11:53.073Z"
   },
   {
    "duration": 127,
    "start_time": "2021-12-09T19:12:03.188Z"
   },
   {
    "duration": 383,
    "start_time": "2021-12-09T19:12:06.844Z"
   },
   {
    "duration": 5,
    "start_time": "2021-12-09T19:21:11.041Z"
   },
   {
    "duration": 392,
    "start_time": "2021-12-09T19:21:12.702Z"
   },
   {
    "duration": 283,
    "start_time": "2021-12-09T19:21:21.380Z"
   },
   {
    "duration": 4,
    "start_time": "2021-12-09T19:30:47.369Z"
   },
   {
    "duration": 380,
    "start_time": "2021-12-09T19:30:48.120Z"
   },
   {
    "duration": 238,
    "start_time": "2021-12-09T19:31:53.566Z"
   },
   {
    "duration": 4,
    "start_time": "2021-12-09T19:32:59.449Z"
   },
   {
    "duration": 244,
    "start_time": "2021-12-09T19:33:00.570Z"
   },
   {
    "duration": 4,
    "start_time": "2021-12-09T19:33:29.666Z"
   },
   {
    "duration": 251,
    "start_time": "2021-12-09T19:33:30.710Z"
   },
   {
    "duration": 143,
    "start_time": "2021-12-09T19:33:49.209Z"
   },
   {
    "duration": 268,
    "start_time": "2021-12-09T19:34:12.074Z"
   },
   {
    "duration": 241,
    "start_time": "2021-12-09T19:35:47.068Z"
   },
   {
    "duration": 249,
    "start_time": "2021-12-09T19:36:23.684Z"
   },
   {
    "duration": 131,
    "start_time": "2021-12-09T19:36:44.723Z"
   },
   {
    "duration": 213,
    "start_time": "2021-12-09T19:36:48.397Z"
   },
   {
    "duration": 122,
    "start_time": "2021-12-09T19:36:57.594Z"
   },
   {
    "duration": 131,
    "start_time": "2021-12-09T19:37:05.018Z"
   },
   {
    "duration": 260,
    "start_time": "2021-12-09T19:37:18.952Z"
   },
   {
    "duration": 249,
    "start_time": "2021-12-09T19:37:56.640Z"
   },
   {
    "duration": 133,
    "start_time": "2021-12-09T19:38:04.533Z"
   },
   {
    "duration": 258,
    "start_time": "2021-12-09T19:38:11.799Z"
   },
   {
    "duration": 110,
    "start_time": "2021-12-09T19:38:59.773Z"
   },
   {
    "duration": 264,
    "start_time": "2021-12-09T19:39:06.231Z"
   },
   {
    "duration": 130,
    "start_time": "2021-12-09T19:39:26.190Z"
   },
   {
    "duration": 248,
    "start_time": "2021-12-09T19:39:35.011Z"
   },
   {
    "duration": 237,
    "start_time": "2021-12-09T19:40:29.701Z"
   },
   {
    "duration": 130,
    "start_time": "2021-12-09T19:40:47.194Z"
   },
   {
    "duration": 251,
    "start_time": "2021-12-09T19:41:19.376Z"
   },
   {
    "duration": 351,
    "start_time": "2021-12-09T19:42:45.714Z"
   },
   {
    "duration": 259,
    "start_time": "2021-12-09T19:43:03.367Z"
   },
   {
    "duration": 361,
    "start_time": "2021-12-09T19:43:56.425Z"
   },
   {
    "duration": 144,
    "start_time": "2021-12-09T19:44:08.408Z"
   },
   {
    "duration": 8,
    "start_time": "2021-12-09T19:44:14.706Z"
   },
   {
    "duration": 352,
    "start_time": "2021-12-09T19:44:15.987Z"
   },
   {
    "duration": 253,
    "start_time": "2021-12-09T19:44:22.273Z"
   },
   {
    "duration": 4,
    "start_time": "2021-12-09T19:45:38.618Z"
   },
   {
    "duration": 332,
    "start_time": "2021-12-09T19:45:46.178Z"
   },
   {
    "duration": 328,
    "start_time": "2021-12-09T19:46:16.178Z"
   },
   {
    "duration": 331,
    "start_time": "2021-12-09T19:48:00.093Z"
   },
   {
    "duration": 325,
    "start_time": "2021-12-09T19:48:43.857Z"
   },
   {
    "duration": 342,
    "start_time": "2021-12-09T19:49:56.024Z"
   },
   {
    "duration": 325,
    "start_time": "2021-12-09T19:49:58.698Z"
   },
   {
    "duration": 367,
    "start_time": "2021-12-09T19:50:30.831Z"
   },
   {
    "duration": 6,
    "start_time": "2021-12-09T19:51:41.034Z"
   },
   {
    "duration": 177,
    "start_time": "2021-12-09T19:52:44.717Z"
   },
   {
    "duration": 267,
    "start_time": "2021-12-09T19:53:21.150Z"
   },
   {
    "duration": 196,
    "start_time": "2021-12-09T19:53:44.778Z"
   },
   {
    "duration": 357,
    "start_time": "2021-12-09T19:55:27.469Z"
   },
   {
    "duration": 13,
    "start_time": "2021-12-09T20:02:58.736Z"
   },
   {
    "duration": 14,
    "start_time": "2021-12-09T20:03:38.532Z"
   },
   {
    "duration": 14,
    "start_time": "2021-12-09T20:04:44.189Z"
   },
   {
    "duration": 349,
    "start_time": "2021-12-09T20:04:51.338Z"
   },
   {
    "duration": 350,
    "start_time": "2021-12-09T20:05:41.338Z"
   },
   {
    "duration": 11,
    "start_time": "2021-12-09T20:05:51.875Z"
   },
   {
    "duration": 1477,
    "start_time": "2021-12-09T20:06:48.118Z"
   },
   {
    "duration": 1455,
    "start_time": "2021-12-09T20:07:27.344Z"
   },
   {
    "duration": 14,
    "start_time": "2021-12-09T20:09:15.900Z"
   },
   {
    "duration": 367,
    "start_time": "2021-12-09T20:09:41.610Z"
   },
   {
    "duration": 1701,
    "start_time": "2021-12-09T20:11:41.462Z"
   },
   {
    "duration": 1406,
    "start_time": "2021-12-09T20:13:33.041Z"
   },
   {
    "duration": 360,
    "start_time": "2021-12-09T20:13:44.344Z"
   },
   {
    "duration": 511,
    "start_time": "2021-12-09T20:14:09.375Z"
   },
   {
    "duration": 351,
    "start_time": "2021-12-09T20:14:26.817Z"
   },
   {
    "duration": 342,
    "start_time": "2021-12-09T20:14:57.031Z"
   },
   {
    "duration": 382,
    "start_time": "2021-12-09T20:24:55.886Z"
   },
   {
    "duration": 26,
    "start_time": "2021-12-09T20:25:12.167Z"
   },
   {
    "duration": 368,
    "start_time": "2021-12-09T20:25:31.233Z"
   },
   {
    "duration": 23,
    "start_time": "2021-12-09T20:25:43.674Z"
   },
   {
    "duration": 26,
    "start_time": "2021-12-09T20:27:16.976Z"
   },
   {
    "duration": 353,
    "start_time": "2021-12-09T20:28:04.067Z"
   },
   {
    "duration": 374,
    "start_time": "2021-12-09T20:28:12.298Z"
   },
   {
    "duration": 24,
    "start_time": "2021-12-09T20:29:02.378Z"
   },
   {
    "duration": 25,
    "start_time": "2021-12-09T20:29:44.608Z"
   },
   {
    "duration": 1461,
    "start_time": "2021-12-09T20:30:07.409Z"
   },
   {
    "duration": 24,
    "start_time": "2021-12-09T20:30:17.656Z"
   },
   {
    "duration": 386,
    "start_time": "2021-12-09T20:32:47.251Z"
   },
   {
    "duration": 21,
    "start_time": "2021-12-09T20:32:52.997Z"
   },
   {
    "duration": 496,
    "start_time": "2021-12-09T20:32:55.150Z"
   },
   {
    "duration": 188,
    "start_time": "2021-12-09T20:33:47.419Z"
   },
   {
    "duration": 191,
    "start_time": "2021-12-09T20:34:25.613Z"
   },
   {
    "duration": 33,
    "start_time": "2021-12-09T20:35:21.984Z"
   },
   {
    "duration": 385,
    "start_time": "2021-12-09T20:35:55.416Z"
   },
   {
    "duration": 5,
    "start_time": "2021-12-09T20:35:59.482Z"
   },
   {
    "duration": 261,
    "start_time": "2021-12-09T20:35:59.971Z"
   },
   {
    "duration": 241,
    "start_time": "2021-12-09T20:36:34.447Z"
   },
   {
    "duration": 235,
    "start_time": "2021-12-09T20:36:59.881Z"
   },
   {
    "duration": 230,
    "start_time": "2021-12-09T20:37:28.785Z"
   },
   {
    "duration": 4,
    "start_time": "2021-12-09T20:38:18.624Z"
   },
   {
    "duration": 293,
    "start_time": "2021-12-09T20:38:43.948Z"
   },
   {
    "duration": 301,
    "start_time": "2021-12-09T20:39:39.720Z"
   },
   {
    "duration": 464,
    "start_time": "2021-12-09T20:40:25.921Z"
   },
   {
    "duration": 291,
    "start_time": "2021-12-09T20:40:48.080Z"
   },
   {
    "duration": 306,
    "start_time": "2021-12-09T20:41:16.794Z"
   },
   {
    "duration": 344,
    "start_time": "2021-12-09T20:42:04.957Z"
   },
   {
    "duration": 191,
    "start_time": "2021-12-09T20:42:30.802Z"
   },
   {
    "duration": 193,
    "start_time": "2021-12-09T20:42:45.863Z"
   },
   {
    "duration": 199,
    "start_time": "2021-12-09T20:42:58.869Z"
   },
   {
    "duration": 11,
    "start_time": "2021-12-09T20:43:54.793Z"
   },
   {
    "duration": 310,
    "start_time": "2021-12-13T13:03:53.217Z"
   },
   {
    "duration": 875,
    "start_time": "2022-10-31T20:23:32.819Z"
   },
   {
    "duration": 144,
    "start_time": "2022-10-31T20:23:33.696Z"
   },
   {
    "duration": 695,
    "start_time": "2022-10-31T21:01:09.988Z"
   },
   {
    "duration": 105,
    "start_time": "2022-10-31T21:01:10.684Z"
   },
   {
    "duration": 16,
    "start_time": "2022-10-31T21:01:10.790Z"
   },
   {
    "duration": 24,
    "start_time": "2022-10-31T21:01:10.809Z"
   },
   {
    "duration": 36,
    "start_time": "2022-10-31T21:01:10.835Z"
   },
   {
    "duration": 13,
    "start_time": "2022-10-31T21:01:10.873Z"
   },
   {
    "duration": 10,
    "start_time": "2022-10-31T21:01:10.888Z"
   },
   {
    "duration": 40,
    "start_time": "2022-10-31T21:01:10.900Z"
   },
   {
    "duration": 1388,
    "start_time": "2022-10-31T21:01:10.942Z"
   },
   {
    "duration": 1337,
    "start_time": "2022-10-31T21:01:12.333Z"
   },
   {
    "duration": 5,
    "start_time": "2022-10-31T21:01:13.672Z"
   },
   {
    "duration": 1328,
    "start_time": "2022-10-31T21:01:13.679Z"
   },
   {
    "duration": 1432,
    "start_time": "2022-10-31T21:01:15.009Z"
   },
   {
    "duration": 1342,
    "start_time": "2022-10-31T21:01:16.443Z"
   },
   {
    "duration": 1374,
    "start_time": "2022-10-31T21:01:17.787Z"
   },
   {
    "duration": 37,
    "start_time": "2022-10-31T21:01:19.163Z"
   },
   {
    "duration": 50,
    "start_time": "2022-10-31T21:01:19.202Z"
   },
   {
    "duration": 8,
    "start_time": "2022-10-31T21:01:19.254Z"
   },
   {
    "duration": 7,
    "start_time": "2022-10-31T21:01:19.264Z"
   },
   {
    "duration": 17,
    "start_time": "2022-10-31T21:01:19.272Z"
   },
   {
    "duration": 58,
    "start_time": "2022-10-31T21:01:19.291Z"
   },
   {
    "duration": 7,
    "start_time": "2022-10-31T21:01:19.351Z"
   },
   {
    "duration": 25,
    "start_time": "2022-10-31T21:01:19.360Z"
   },
   {
    "duration": 432,
    "start_time": "2022-10-31T21:01:19.387Z"
   },
   {
    "duration": 28,
    "start_time": "2022-10-31T21:01:19.820Z"
   },
   {
    "duration": 29,
    "start_time": "2022-10-31T21:01:19.850Z"
   },
   {
    "duration": 4,
    "start_time": "2022-10-31T21:01:19.880Z"
   },
   {
    "duration": 265,
    "start_time": "2022-10-31T21:01:19.890Z"
   },
   {
    "duration": 204,
    "start_time": "2022-10-31T21:01:20.156Z"
   },
   {
    "duration": 241,
    "start_time": "2022-10-31T21:01:20.362Z"
   },
   {
    "duration": 258,
    "start_time": "2022-10-31T21:01:20.605Z"
   },
   {
    "duration": 138,
    "start_time": "2022-10-31T21:01:20.865Z"
   },
   {
    "duration": 266,
    "start_time": "2022-10-31T21:01:21.005Z"
   },
   {
    "duration": 230,
    "start_time": "2022-10-31T21:01:21.273Z"
   },
   {
    "duration": 119,
    "start_time": "2022-10-31T21:01:21.505Z"
   },
   {
    "duration": 237,
    "start_time": "2022-10-31T21:01:21.631Z"
   },
   {
    "duration": 210,
    "start_time": "2022-10-31T21:01:21.870Z"
   },
   {
    "duration": 145,
    "start_time": "2022-10-31T21:01:22.081Z"
   },
   {
    "duration": 324,
    "start_time": "2022-10-31T21:01:22.231Z"
   },
   {
    "duration": 249,
    "start_time": "2022-10-31T21:01:22.557Z"
   },
   {
    "duration": 252,
    "start_time": "2022-10-31T21:01:22.809Z"
   },
   {
    "duration": 141,
    "start_time": "2022-10-31T21:01:23.063Z"
   },
   {
    "duration": 10,
    "start_time": "2022-10-31T21:01:23.207Z"
   },
   {
    "duration": 256,
    "start_time": "2022-10-31T21:01:23.218Z"
   },
   {
    "duration": 5,
    "start_time": "2022-10-31T21:01:23.475Z"
   },
   {
    "duration": 320,
    "start_time": "2022-10-31T21:01:23.482Z"
   },
   {
    "duration": 283,
    "start_time": "2022-10-31T21:01:23.804Z"
   },
   {
    "duration": 300,
    "start_time": "2022-10-31T21:01:24.089Z"
   },
   {
    "duration": 263,
    "start_time": "2022-10-31T21:01:24.391Z"
   },
   {
    "duration": 4,
    "start_time": "2022-10-31T21:01:24.655Z"
   },
   {
    "duration": 162,
    "start_time": "2022-10-31T21:01:24.661Z"
   },
   {
    "duration": 167,
    "start_time": "2022-10-31T21:01:24.825Z"
   },
   {
    "duration": 185,
    "start_time": "2022-10-31T21:01:24.994Z"
   },
   {
    "duration": 28,
    "start_time": "2022-10-31T21:01:25.181Z"
   },
   {
    "duration": 43,
    "start_time": "2022-10-31T21:01:25.211Z"
   },
   {
    "duration": 179,
    "start_time": "2022-10-31T21:01:25.256Z"
   },
   {
    "duration": 40,
    "start_time": "2022-10-31T21:01:25.437Z"
   },
   {
    "duration": 3,
    "start_time": "2022-10-31T21:01:25.478Z"
   },
   {
    "duration": 233,
    "start_time": "2022-10-31T21:01:25.483Z"
   },
   {
    "duration": 208,
    "start_time": "2022-10-31T21:01:25.717Z"
   },
   {
    "duration": 231,
    "start_time": "2022-10-31T21:01:25.931Z"
   },
   {
    "duration": 251,
    "start_time": "2022-10-31T21:01:26.165Z"
   },
   {
    "duration": 3,
    "start_time": "2022-10-31T21:01:26.419Z"
   },
   {
    "duration": 241,
    "start_time": "2022-10-31T21:01:26.431Z"
   },
   {
    "duration": 345,
    "start_time": "2022-10-31T21:01:26.674Z"
   },
   {
    "duration": 174,
    "start_time": "2022-10-31T21:01:27.021Z"
   },
   {
    "duration": 166,
    "start_time": "2022-10-31T21:01:27.197Z"
   },
   {
    "duration": 191,
    "start_time": "2022-10-31T21:01:27.365Z"
   },
   {
    "duration": 216,
    "start_time": "2022-10-31T21:01:27.558Z"
   }
  ],
  "kernelspec": {
   "display_name": "Python 3 (ipykernel)",
   "language": "python",
   "name": "python3"
  },
  "language_info": {
   "codemirror_mode": {
    "name": "ipython",
    "version": 3
   },
   "file_extension": ".py",
   "mimetype": "text/x-python",
   "name": "python",
   "nbconvert_exporter": "python",
   "pygments_lexer": "ipython3",
   "version": "3.9.5"
  },
  "toc": {
   "base_numbering": 1,
   "nav_menu": {},
   "number_sections": true,
   "sideBar": true,
   "skip_h1_title": true,
   "title_cell": "Содержание",
   "title_sidebar": "Contents",
   "toc_cell": true,
   "toc_position": {
    "height": "calc(100% - 180px)",
    "left": "10px",
    "top": "150px",
    "width": "165px"
   },
   "toc_section_display": true,
   "toc_window_display": false
  }
 },
 "nbformat": 4,
 "nbformat_minor": 2
}
