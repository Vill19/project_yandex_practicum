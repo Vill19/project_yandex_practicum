{
 "cells": [
  {
   "cell_type": "markdown",
   "metadata": {},
   "source": [
    "## Изучение данных из файла"
   ]
  },
  {
   "cell_type": "code",
   "execution_count": 1,
   "metadata": {},
   "outputs": [],
   "source": [
    "import pandas as pd\n",
    "import numpy as np\n",
    "import seaborn as sns\n",
    "from matplotlib import pyplot as plt\n",
    "from scipy import stats as st\n",
    "FORMAT='%Y-%m-%d'"
   ]
  },
  {
   "cell_type": "code",
   "execution_count": 2,
   "metadata": {
    "scrolled": true
   },
   "outputs": [],
   "source": [
    "calls = pd.read_csv('/datasets/calls.csv')\n",
    "internet = pd.read_csv('/datasets/internet.csv',  index_col=0)\n",
    "messages = pd.read_csv('/datasets/messages.csv')\n",
    "tariffs = pd.read_csv('/datasets/tariffs.csv')\n",
    "users = pd.read_csv('/datasets/users.csv')"
   ]
  },
  {
   "cell_type": "markdown",
   "metadata": {},
   "source": [
    "Посмотрим первые 5 строк таблицы calls и информацию о данных:"
   ]
  },
  {
   "cell_type": "code",
   "execution_count": 3,
   "metadata": {
    "scrolled": true
   },
   "outputs": [
    {
     "data": {
      "text/html": [
       "<div>\n",
       "<style scoped>\n",
       "    .dataframe tbody tr th:only-of-type {\n",
       "        vertical-align: middle;\n",
       "    }\n",
       "\n",
       "    .dataframe tbody tr th {\n",
       "        vertical-align: top;\n",
       "    }\n",
       "\n",
       "    .dataframe thead th {\n",
       "        text-align: right;\n",
       "    }\n",
       "</style>\n",
       "<table border=\"1\" class=\"dataframe\">\n",
       "  <thead>\n",
       "    <tr style=\"text-align: right;\">\n",
       "      <th></th>\n",
       "      <th>id</th>\n",
       "      <th>call_date</th>\n",
       "      <th>duration</th>\n",
       "      <th>user_id</th>\n",
       "    </tr>\n",
       "  </thead>\n",
       "  <tbody>\n",
       "    <tr>\n",
       "      <td>0</td>\n",
       "      <td>1000_0</td>\n",
       "      <td>2018-07-25</td>\n",
       "      <td>0.00</td>\n",
       "      <td>1000</td>\n",
       "    </tr>\n",
       "    <tr>\n",
       "      <td>1</td>\n",
       "      <td>1000_1</td>\n",
       "      <td>2018-08-17</td>\n",
       "      <td>0.00</td>\n",
       "      <td>1000</td>\n",
       "    </tr>\n",
       "    <tr>\n",
       "      <td>2</td>\n",
       "      <td>1000_2</td>\n",
       "      <td>2018-06-11</td>\n",
       "      <td>2.85</td>\n",
       "      <td>1000</td>\n",
       "    </tr>\n",
       "    <tr>\n",
       "      <td>3</td>\n",
       "      <td>1000_3</td>\n",
       "      <td>2018-09-21</td>\n",
       "      <td>13.80</td>\n",
       "      <td>1000</td>\n",
       "    </tr>\n",
       "    <tr>\n",
       "      <td>4</td>\n",
       "      <td>1000_4</td>\n",
       "      <td>2018-12-15</td>\n",
       "      <td>5.18</td>\n",
       "      <td>1000</td>\n",
       "    </tr>\n",
       "  </tbody>\n",
       "</table>\n",
       "</div>"
      ],
      "text/plain": [
       "       id   call_date  duration  user_id\n",
       "0  1000_0  2018-07-25      0.00     1000\n",
       "1  1000_1  2018-08-17      0.00     1000\n",
       "2  1000_2  2018-06-11      2.85     1000\n",
       "3  1000_3  2018-09-21     13.80     1000\n",
       "4  1000_4  2018-12-15      5.18     1000"
      ]
     },
     "execution_count": 3,
     "metadata": {},
     "output_type": "execute_result"
    }
   ],
   "source": [
    "calls.head(5)"
   ]
  },
  {
   "cell_type": "code",
   "execution_count": 4,
   "metadata": {
    "scrolled": false
   },
   "outputs": [
    {
     "name": "stdout",
     "output_type": "stream",
     "text": [
      "<class 'pandas.core.frame.DataFrame'>\n",
      "RangeIndex: 202607 entries, 0 to 202606\n",
      "Data columns (total 4 columns):\n",
      "id           202607 non-null object\n",
      "call_date    202607 non-null object\n",
      "duration     202607 non-null float64\n",
      "user_id      202607 non-null int64\n",
      "dtypes: float64(1), int64(1), object(2)\n",
      "memory usage: 6.2+ MB\n"
     ]
    }
   ],
   "source": [
    "calls.info()"
   ]
  },
  {
   "cell_type": "markdown",
   "metadata": {},
   "source": [
    "calls - таблица с информацией о звонках. 4 стобца, 202607 строк. Пропущенных значений нет, тип данных в call_date распознан неправильно. Посмотрим первые 5 строк таблицы internet и информацию о данных:"
   ]
  },
  {
   "cell_type": "code",
   "execution_count": 5,
   "metadata": {
    "scrolled": true
   },
   "outputs": [
    {
     "data": {
      "text/html": [
       "<div>\n",
       "<style scoped>\n",
       "    .dataframe tbody tr th:only-of-type {\n",
       "        vertical-align: middle;\n",
       "    }\n",
       "\n",
       "    .dataframe tbody tr th {\n",
       "        vertical-align: top;\n",
       "    }\n",
       "\n",
       "    .dataframe thead th {\n",
       "        text-align: right;\n",
       "    }\n",
       "</style>\n",
       "<table border=\"1\" class=\"dataframe\">\n",
       "  <thead>\n",
       "    <tr style=\"text-align: right;\">\n",
       "      <th></th>\n",
       "      <th>id</th>\n",
       "      <th>mb_used</th>\n",
       "      <th>session_date</th>\n",
       "      <th>user_id</th>\n",
       "    </tr>\n",
       "  </thead>\n",
       "  <tbody>\n",
       "    <tr>\n",
       "      <td>0</td>\n",
       "      <td>1000_0</td>\n",
       "      <td>112.95</td>\n",
       "      <td>2018-11-25</td>\n",
       "      <td>1000</td>\n",
       "    </tr>\n",
       "    <tr>\n",
       "      <td>1</td>\n",
       "      <td>1000_1</td>\n",
       "      <td>1052.81</td>\n",
       "      <td>2018-09-07</td>\n",
       "      <td>1000</td>\n",
       "    </tr>\n",
       "    <tr>\n",
       "      <td>2</td>\n",
       "      <td>1000_2</td>\n",
       "      <td>1197.26</td>\n",
       "      <td>2018-06-25</td>\n",
       "      <td>1000</td>\n",
       "    </tr>\n",
       "    <tr>\n",
       "      <td>3</td>\n",
       "      <td>1000_3</td>\n",
       "      <td>550.27</td>\n",
       "      <td>2018-08-22</td>\n",
       "      <td>1000</td>\n",
       "    </tr>\n",
       "    <tr>\n",
       "      <td>4</td>\n",
       "      <td>1000_4</td>\n",
       "      <td>302.56</td>\n",
       "      <td>2018-09-24</td>\n",
       "      <td>1000</td>\n",
       "    </tr>\n",
       "  </tbody>\n",
       "</table>\n",
       "</div>"
      ],
      "text/plain": [
       "       id  mb_used session_date  user_id\n",
       "0  1000_0   112.95   2018-11-25     1000\n",
       "1  1000_1  1052.81   2018-09-07     1000\n",
       "2  1000_2  1197.26   2018-06-25     1000\n",
       "3  1000_3   550.27   2018-08-22     1000\n",
       "4  1000_4   302.56   2018-09-24     1000"
      ]
     },
     "execution_count": 5,
     "metadata": {},
     "output_type": "execute_result"
    }
   ],
   "source": [
    "internet.head(5)"
   ]
  },
  {
   "cell_type": "code",
   "execution_count": 6,
   "metadata": {
    "scrolled": false
   },
   "outputs": [
    {
     "name": "stdout",
     "output_type": "stream",
     "text": [
      "<class 'pandas.core.frame.DataFrame'>\n",
      "Int64Index: 149396 entries, 0 to 149395\n",
      "Data columns (total 4 columns):\n",
      "id              149396 non-null object\n",
      "mb_used         149396 non-null float64\n",
      "session_date    149396 non-null object\n",
      "user_id         149396 non-null int64\n",
      "dtypes: float64(1), int64(1), object(2)\n",
      "memory usage: 5.7+ MB\n"
     ]
    }
   ],
   "source": [
    "internet.info()"
   ]
  },
  {
   "cell_type": "markdown",
   "metadata": {},
   "source": [
    "internet - таблица с информацией об интернет-сессиях. В таблице 4 столбца, 149396 строк,пропущенных занчений нет. Тип данных в session_date распознан неправильно. Посмотрим первые 5 строк таблицы messages и информацию о данных:"
   ]
  },
  {
   "cell_type": "code",
   "execution_count": 7,
   "metadata": {},
   "outputs": [
    {
     "data": {
      "text/html": [
       "<div>\n",
       "<style scoped>\n",
       "    .dataframe tbody tr th:only-of-type {\n",
       "        vertical-align: middle;\n",
       "    }\n",
       "\n",
       "    .dataframe tbody tr th {\n",
       "        vertical-align: top;\n",
       "    }\n",
       "\n",
       "    .dataframe thead th {\n",
       "        text-align: right;\n",
       "    }\n",
       "</style>\n",
       "<table border=\"1\" class=\"dataframe\">\n",
       "  <thead>\n",
       "    <tr style=\"text-align: right;\">\n",
       "      <th></th>\n",
       "      <th>id</th>\n",
       "      <th>message_date</th>\n",
       "      <th>user_id</th>\n",
       "    </tr>\n",
       "  </thead>\n",
       "  <tbody>\n",
       "    <tr>\n",
       "      <td>0</td>\n",
       "      <td>1000_0</td>\n",
       "      <td>2018-06-27</td>\n",
       "      <td>1000</td>\n",
       "    </tr>\n",
       "    <tr>\n",
       "      <td>1</td>\n",
       "      <td>1000_1</td>\n",
       "      <td>2018-10-08</td>\n",
       "      <td>1000</td>\n",
       "    </tr>\n",
       "    <tr>\n",
       "      <td>2</td>\n",
       "      <td>1000_2</td>\n",
       "      <td>2018-08-04</td>\n",
       "      <td>1000</td>\n",
       "    </tr>\n",
       "    <tr>\n",
       "      <td>3</td>\n",
       "      <td>1000_3</td>\n",
       "      <td>2018-06-16</td>\n",
       "      <td>1000</td>\n",
       "    </tr>\n",
       "    <tr>\n",
       "      <td>4</td>\n",
       "      <td>1000_4</td>\n",
       "      <td>2018-12-05</td>\n",
       "      <td>1000</td>\n",
       "    </tr>\n",
       "  </tbody>\n",
       "</table>\n",
       "</div>"
      ],
      "text/plain": [
       "       id message_date  user_id\n",
       "0  1000_0   2018-06-27     1000\n",
       "1  1000_1   2018-10-08     1000\n",
       "2  1000_2   2018-08-04     1000\n",
       "3  1000_3   2018-06-16     1000\n",
       "4  1000_4   2018-12-05     1000"
      ]
     },
     "execution_count": 7,
     "metadata": {},
     "output_type": "execute_result"
    }
   ],
   "source": [
    "messages.head(5)"
   ]
  },
  {
   "cell_type": "code",
   "execution_count": 8,
   "metadata": {
    "scrolled": false
   },
   "outputs": [
    {
     "name": "stdout",
     "output_type": "stream",
     "text": [
      "<class 'pandas.core.frame.DataFrame'>\n",
      "RangeIndex: 123036 entries, 0 to 123035\n",
      "Data columns (total 3 columns):\n",
      "id              123036 non-null object\n",
      "message_date    123036 non-null object\n",
      "user_id         123036 non-null int64\n",
      "dtypes: int64(1), object(2)\n",
      "memory usage: 2.8+ MB\n"
     ]
    }
   ],
   "source": [
    "messages.info()"
   ]
  },
  {
   "cell_type": "markdown",
   "metadata": {},
   "source": [
    "messages - таблица с информацией о сообщениях. В таблице 3 столбца, 123036 строк,пропущенных значений нет. Тип данных в message_date распознан неправильно. Посмотрим первые 5 строк таблицы tariffs и информацию о данных:"
   ]
  },
  {
   "cell_type": "code",
   "execution_count": 9,
   "metadata": {},
   "outputs": [
    {
     "data": {
      "text/html": [
       "<div>\n",
       "<style scoped>\n",
       "    .dataframe tbody tr th:only-of-type {\n",
       "        vertical-align: middle;\n",
       "    }\n",
       "\n",
       "    .dataframe tbody tr th {\n",
       "        vertical-align: top;\n",
       "    }\n",
       "\n",
       "    .dataframe thead th {\n",
       "        text-align: right;\n",
       "    }\n",
       "</style>\n",
       "<table border=\"1\" class=\"dataframe\">\n",
       "  <thead>\n",
       "    <tr style=\"text-align: right;\">\n",
       "      <th></th>\n",
       "      <th>messages_included</th>\n",
       "      <th>mb_per_month_included</th>\n",
       "      <th>minutes_included</th>\n",
       "      <th>rub_monthly_fee</th>\n",
       "      <th>rub_per_gb</th>\n",
       "      <th>rub_per_message</th>\n",
       "      <th>rub_per_minute</th>\n",
       "      <th>tariff_name</th>\n",
       "    </tr>\n",
       "  </thead>\n",
       "  <tbody>\n",
       "    <tr>\n",
       "      <td>0</td>\n",
       "      <td>50</td>\n",
       "      <td>15360</td>\n",
       "      <td>500</td>\n",
       "      <td>550</td>\n",
       "      <td>200</td>\n",
       "      <td>3</td>\n",
       "      <td>3</td>\n",
       "      <td>smart</td>\n",
       "    </tr>\n",
       "    <tr>\n",
       "      <td>1</td>\n",
       "      <td>1000</td>\n",
       "      <td>30720</td>\n",
       "      <td>3000</td>\n",
       "      <td>1950</td>\n",
       "      <td>150</td>\n",
       "      <td>1</td>\n",
       "      <td>1</td>\n",
       "      <td>ultra</td>\n",
       "    </tr>\n",
       "  </tbody>\n",
       "</table>\n",
       "</div>"
      ],
      "text/plain": [
       "   messages_included  mb_per_month_included  minutes_included  \\\n",
       "0                 50                  15360               500   \n",
       "1               1000                  30720              3000   \n",
       "\n",
       "   rub_monthly_fee  rub_per_gb  rub_per_message  rub_per_minute tariff_name  \n",
       "0              550         200                3               3       smart  \n",
       "1             1950         150                1               1       ultra  "
      ]
     },
     "execution_count": 9,
     "metadata": {},
     "output_type": "execute_result"
    }
   ],
   "source": [
    "tariffs.head()"
   ]
  },
  {
   "cell_type": "code",
   "execution_count": 10,
   "metadata": {
    "scrolled": false
   },
   "outputs": [
    {
     "name": "stdout",
     "output_type": "stream",
     "text": [
      "<class 'pandas.core.frame.DataFrame'>\n",
      "RangeIndex: 2 entries, 0 to 1\n",
      "Data columns (total 8 columns):\n",
      "messages_included        2 non-null int64\n",
      "mb_per_month_included    2 non-null int64\n",
      "minutes_included         2 non-null int64\n",
      "rub_monthly_fee          2 non-null int64\n",
      "rub_per_gb               2 non-null int64\n",
      "rub_per_message          2 non-null int64\n",
      "rub_per_minute           2 non-null int64\n",
      "tariff_name              2 non-null object\n",
      "dtypes: int64(7), object(1)\n",
      "memory usage: 256.0+ bytes\n"
     ]
    }
   ],
   "source": [
    "tariffs.info()"
   ]
  },
  {
   "cell_type": "markdown",
   "metadata": {},
   "source": [
    "tariffs - таблица с информацией о тарифах. В таблице 8 столбцов, 2 строки,пропущенных занчений нет. Типы данных распознаны правильно. Посмотрим первые 5 строк таблицы users и информацию о данных:"
   ]
  },
  {
   "cell_type": "code",
   "execution_count": 11,
   "metadata": {},
   "outputs": [
    {
     "data": {
      "text/html": [
       "<div>\n",
       "<style scoped>\n",
       "    .dataframe tbody tr th:only-of-type {\n",
       "        vertical-align: middle;\n",
       "    }\n",
       "\n",
       "    .dataframe tbody tr th {\n",
       "        vertical-align: top;\n",
       "    }\n",
       "\n",
       "    .dataframe thead th {\n",
       "        text-align: right;\n",
       "    }\n",
       "</style>\n",
       "<table border=\"1\" class=\"dataframe\">\n",
       "  <thead>\n",
       "    <tr style=\"text-align: right;\">\n",
       "      <th></th>\n",
       "      <th>user_id</th>\n",
       "      <th>age</th>\n",
       "      <th>churn_date</th>\n",
       "      <th>city</th>\n",
       "      <th>first_name</th>\n",
       "      <th>last_name</th>\n",
       "      <th>reg_date</th>\n",
       "      <th>tariff</th>\n",
       "    </tr>\n",
       "  </thead>\n",
       "  <tbody>\n",
       "    <tr>\n",
       "      <td>0</td>\n",
       "      <td>1000</td>\n",
       "      <td>52</td>\n",
       "      <td>NaN</td>\n",
       "      <td>Краснодар</td>\n",
       "      <td>Рафаил</td>\n",
       "      <td>Верещагин</td>\n",
       "      <td>2018-05-25</td>\n",
       "      <td>ultra</td>\n",
       "    </tr>\n",
       "    <tr>\n",
       "      <td>1</td>\n",
       "      <td>1001</td>\n",
       "      <td>41</td>\n",
       "      <td>NaN</td>\n",
       "      <td>Москва</td>\n",
       "      <td>Иван</td>\n",
       "      <td>Ежов</td>\n",
       "      <td>2018-11-01</td>\n",
       "      <td>smart</td>\n",
       "    </tr>\n",
       "    <tr>\n",
       "      <td>2</td>\n",
       "      <td>1002</td>\n",
       "      <td>59</td>\n",
       "      <td>NaN</td>\n",
       "      <td>Стерлитамак</td>\n",
       "      <td>Евгений</td>\n",
       "      <td>Абрамович</td>\n",
       "      <td>2018-06-17</td>\n",
       "      <td>smart</td>\n",
       "    </tr>\n",
       "    <tr>\n",
       "      <td>3</td>\n",
       "      <td>1003</td>\n",
       "      <td>23</td>\n",
       "      <td>NaN</td>\n",
       "      <td>Москва</td>\n",
       "      <td>Белла</td>\n",
       "      <td>Белякова</td>\n",
       "      <td>2018-08-17</td>\n",
       "      <td>ultra</td>\n",
       "    </tr>\n",
       "    <tr>\n",
       "      <td>4</td>\n",
       "      <td>1004</td>\n",
       "      <td>68</td>\n",
       "      <td>NaN</td>\n",
       "      <td>Новокузнецк</td>\n",
       "      <td>Татьяна</td>\n",
       "      <td>Авдеенко</td>\n",
       "      <td>2018-05-14</td>\n",
       "      <td>ultra</td>\n",
       "    </tr>\n",
       "  </tbody>\n",
       "</table>\n",
       "</div>"
      ],
      "text/plain": [
       "   user_id  age churn_date         city first_name  last_name    reg_date  \\\n",
       "0     1000   52        NaN    Краснодар     Рафаил  Верещагин  2018-05-25   \n",
       "1     1001   41        NaN       Москва       Иван       Ежов  2018-11-01   \n",
       "2     1002   59        NaN  Стерлитамак    Евгений  Абрамович  2018-06-17   \n",
       "3     1003   23        NaN       Москва      Белла   Белякова  2018-08-17   \n",
       "4     1004   68        NaN  Новокузнецк    Татьяна   Авдеенко  2018-05-14   \n",
       "\n",
       "  tariff  \n",
       "0  ultra  \n",
       "1  smart  \n",
       "2  smart  \n",
       "3  ultra  \n",
       "4  ultra  "
      ]
     },
     "execution_count": 11,
     "metadata": {},
     "output_type": "execute_result"
    }
   ],
   "source": [
    "users.head(5)"
   ]
  },
  {
   "cell_type": "code",
   "execution_count": 12,
   "metadata": {
    "scrolled": false
   },
   "outputs": [
    {
     "name": "stdout",
     "output_type": "stream",
     "text": [
      "<class 'pandas.core.frame.DataFrame'>\n",
      "RangeIndex: 500 entries, 0 to 499\n",
      "Data columns (total 8 columns):\n",
      "user_id       500 non-null int64\n",
      "age           500 non-null int64\n",
      "churn_date    38 non-null object\n",
      "city          500 non-null object\n",
      "first_name    500 non-null object\n",
      "last_name     500 non-null object\n",
      "reg_date      500 non-null object\n",
      "tariff        500 non-null object\n",
      "dtypes: int64(2), object(6)\n",
      "memory usage: 31.4+ KB\n"
     ]
    }
   ],
   "source": [
    "users.info()"
   ]
  },
  {
   "cell_type": "markdown",
   "metadata": {},
   "source": [
    "users - таблица с информацией о пользователях. В таблице 8 столбцов, 500 строк,пропущенные значения присутствуют в столбце churn_date, но в данном случае избавляться от пропущенных значений мы не будем, так как в документации указано, если значение пропущено, то тариф ещё действовал на момент выгрузки данных. Тип данных в churn_date и rage_date распознан неправильно."
   ]
  },
  {
   "cell_type": "markdown",
   "metadata": {},
   "source": [
    "***Согласно документации к данным:***\n",
    "\n",
    "Таблица calls (информация о звонках):\n",
    "- id — уникальный номер звонка\n",
    "- call_date — дата звонка\n",
    "- duration — длительность звонка в минутах\n",
    "- user_id — идентификатор пользователя, сделавшего звонок\n",
    "\n",
    "\n",
    "Таблица internet (информация об интернет-сессиях):\n",
    "- id — уникальный номер сессии\n",
    "- mb_used — объём потраченного за сессию интернет-трафика (в мегабайтах)\n",
    "- session_date — дата интернет-сессии\n",
    "- user_id — идентификатор пользователя\n",
    "\n",
    "\n",
    "Таблица messages (информация о сообщениях):\n",
    "- id — уникальный номер сообщения\n",
    "- message_date — дата сообщения\n",
    "- user_id — идентификатор пользователя, отправившего сообщение\n",
    "\n",
    "\n",
    "Таблица tariffs (информация о тарифах):\n",
    "- tariff_name — название тарифа\n",
    "- rub_monthly_fee — ежемесячная абонентская плата в рублях\n",
    "- minutes_included — количество минут разговора в месяц, включённых в абонентскую плату\n",
    "- messages_included — количество сообщений в месяц, включённых в абонентскую плату\n",
    "- mb_per_month_included — объём интернет-трафика, включённого в абонентскую плату (в мегабайтах)\n",
    "- rub_per_minute — стоимость минуты разговора сверх тарифного пакета (например, если в тарифе 100 минут разговора в -месяц, то со 101 минуты будет взиматься плата)\n",
    "- rub_per_message — стоимость отправки сообщения сверх тарифного пакета\n",
    "- rub_per_gb — стоимость дополнительного гигабайта интернет-трафика сверх тарифного пакета (1 гигабайт = 1024 мегабайт\n",
    "\n",
    "\n",
    "Таблица users (информация о пользователях):\n",
    "- user_id — уникальный идентификатор пользователя\n",
    "- first_name — имя пользователя\n",
    "- last_name — фамилия пользователя\n",
    "- age — возраст пользователя (годы)\n",
    "- reg_date — дата подключения тарифа (день, месяц, год)\n",
    "- churn_date — дата прекращения пользования тарифом (если значение пропущено, то тариф ещё действовал на момент выгрузки данных)\n",
    "- city — город проживания пользователя\n",
    "- tarif — название тарифного плана"
   ]
  },
  {
   "cell_type": "markdown",
   "metadata": {},
   "source": [
    "### Вывод\n",
    "В распознавании типов данных обнаружилось множество ошибок. Требуется заменить в датах тип данных. Округлить в большую сторону время для каждого звонка, мегабайты также округлить до целого большего"
   ]
  },
  {
   "cell_type": "markdown",
   "metadata": {},
   "source": [
    "## Предобработка данных"
   ]
  },
  {
   "cell_type": "markdown",
   "metadata": {},
   "source": [
    "Поменяем тип данных во всех столбцах с датой:"
   ]
  },
  {
   "cell_type": "code",
   "execution_count": 13,
   "metadata": {},
   "outputs": [],
   "source": [
    "calls['call_date'] = pd.to_datetime(calls['call_date'], format=FORMAT)\n",
    "internet['session_date'] = pd.to_datetime(internet['session_date'], format=FORMAT)\n",
    "messages['message_date'] = pd.to_datetime(messages['message_date'], format=FORMAT)\n",
    "users['churn_date'] = pd.to_datetime(users['churn_date'], format=FORMAT)\n",
    "users['reg_date'] = pd.to_datetime(users['reg_date'], format=FORMAT)"
   ]
  },
  {
   "cell_type": "markdown",
   "metadata": {},
   "source": [
    "Длительность звонка и объем потраченного в мб интернета округляем до большего целого числа и с помощью .astype() приводим к нужному типу:"
   ]
  },
  {
   "cell_type": "code",
   "execution_count": 14,
   "metadata": {
    "scrolled": true
   },
   "outputs": [],
   "source": [
    "calls['duration'] = calls['duration'].apply(np.ceil)\n",
    "calls['duration'] = calls['duration'].astype('int')"
   ]
  },
  {
   "cell_type": "markdown",
   "metadata": {},
   "source": [
    "Проверим,все ли получилось. Еще раз посмотрим информацию о данных."
   ]
  },
  {
   "cell_type": "code",
   "execution_count": 15,
   "metadata": {
    "scrolled": false
   },
   "outputs": [
    {
     "name": "stdout",
     "output_type": "stream",
     "text": [
      "<class 'pandas.core.frame.DataFrame'>\n",
      "RangeIndex: 202607 entries, 0 to 202606\n",
      "Data columns (total 4 columns):\n",
      "id           202607 non-null object\n",
      "call_date    202607 non-null datetime64[ns]\n",
      "duration     202607 non-null int64\n",
      "user_id      202607 non-null int64\n",
      "dtypes: datetime64[ns](1), int64(2), object(1)\n",
      "memory usage: 6.2+ MB\n"
     ]
    }
   ],
   "source": [
    "calls.info()"
   ]
  },
  {
   "cell_type": "code",
   "execution_count": 16,
   "metadata": {
    "scrolled": true
   },
   "outputs": [
    {
     "name": "stdout",
     "output_type": "stream",
     "text": [
      "<class 'pandas.core.frame.DataFrame'>\n",
      "Int64Index: 149396 entries, 0 to 149395\n",
      "Data columns (total 4 columns):\n",
      "id              149396 non-null object\n",
      "mb_used         149396 non-null float64\n",
      "session_date    149396 non-null datetime64[ns]\n",
      "user_id         149396 non-null int64\n",
      "dtypes: datetime64[ns](1), float64(1), int64(1), object(1)\n",
      "memory usage: 5.7+ MB\n"
     ]
    }
   ],
   "source": [
    "internet.info()"
   ]
  },
  {
   "cell_type": "code",
   "execution_count": 17,
   "metadata": {
    "scrolled": true
   },
   "outputs": [
    {
     "name": "stdout",
     "output_type": "stream",
     "text": [
      "<class 'pandas.core.frame.DataFrame'>\n",
      "RangeIndex: 123036 entries, 0 to 123035\n",
      "Data columns (total 3 columns):\n",
      "id              123036 non-null object\n",
      "message_date    123036 non-null datetime64[ns]\n",
      "user_id         123036 non-null int64\n",
      "dtypes: datetime64[ns](1), int64(1), object(1)\n",
      "memory usage: 2.8+ MB\n"
     ]
    }
   ],
   "source": [
    "messages.info()"
   ]
  },
  {
   "cell_type": "code",
   "execution_count": 18,
   "metadata": {
    "scrolled": true
   },
   "outputs": [
    {
     "name": "stdout",
     "output_type": "stream",
     "text": [
      "<class 'pandas.core.frame.DataFrame'>\n",
      "RangeIndex: 500 entries, 0 to 499\n",
      "Data columns (total 8 columns):\n",
      "user_id       500 non-null int64\n",
      "age           500 non-null int64\n",
      "churn_date    38 non-null datetime64[ns]\n",
      "city          500 non-null object\n",
      "first_name    500 non-null object\n",
      "last_name     500 non-null object\n",
      "reg_date      500 non-null datetime64[ns]\n",
      "tariff        500 non-null object\n",
      "dtypes: datetime64[ns](2), int64(2), object(4)\n",
      "memory usage: 31.4+ KB\n"
     ]
    }
   ],
   "source": [
    "users.info()"
   ]
  },
  {
   "cell_type": "markdown",
   "metadata": {},
   "source": [
    "Мы заменили типы данных там,где это необходимо. Двигаемся дальше. Добавляем столбец с номером месяца в таблицы calls, internet и messages:"
   ]
  },
  {
   "cell_type": "code",
   "execution_count": 19,
   "metadata": {},
   "outputs": [],
   "source": [
    "calls['month'] = pd.to_datetime(calls['call_date']).dt.month\n",
    "internet['month'] = pd.to_datetime(internet['session_date']).dt.month\n",
    "messages['month'] = pd.to_datetime(messages['message_date']).dt.month"
   ]
  },
  {
   "cell_type": "markdown",
   "metadata": {},
   "source": [
    "Группируем данные по идентификатору пользователя и месяцу и подсчитываем кол-во использованных минут, сообщений и интернета по месяцам:"
   ]
  },
  {
   "cell_type": "code",
   "execution_count": 20,
   "metadata": {
    "scrolled": true
   },
   "outputs": [],
   "source": [
    "calls = calls.groupby(['user_id', 'month']).agg({'duration' : 'sum'}).reset_index()\n",
    "internet = internet.groupby(['user_id', 'month']).agg({'mb_used' : 'sum'}).reset_index()\n",
    "messages = messages.groupby(['user_id', 'month']).agg({'id' : 'count'}).rename(columns= {'id':'messages'}).reset_index()"
   ]
  },
  {
   "cell_type": "markdown",
   "metadata": {},
   "source": [
    "Объединяем таблицы calls, internet и messages с необходимой для анализа информацией в таблицу data с помощью merge. Также присоединяем и информацию о пользователях и тарифах(опять же при помощи merge)."
   ]
  },
  {
   "cell_type": "code",
   "execution_count": 21,
   "metadata": {
    "scrolled": false
   },
   "outputs": [
    {
     "data": {
      "text/html": [
       "<div>\n",
       "<style scoped>\n",
       "    .dataframe tbody tr th:only-of-type {\n",
       "        vertical-align: middle;\n",
       "    }\n",
       "\n",
       "    .dataframe tbody tr th {\n",
       "        vertical-align: top;\n",
       "    }\n",
       "\n",
       "    .dataframe thead th {\n",
       "        text-align: right;\n",
       "    }\n",
       "</style>\n",
       "<table border=\"1\" class=\"dataframe\">\n",
       "  <thead>\n",
       "    <tr style=\"text-align: right;\">\n",
       "      <th></th>\n",
       "      <th>user_id</th>\n",
       "      <th>month</th>\n",
       "      <th>duration</th>\n",
       "      <th>mb_used</th>\n",
       "      <th>messages</th>\n",
       "      <th>age</th>\n",
       "      <th>churn_date</th>\n",
       "      <th>city</th>\n",
       "      <th>first_name</th>\n",
       "      <th>last_name</th>\n",
       "      <th>reg_date</th>\n",
       "      <th>tariff</th>\n",
       "      <th>messages_included</th>\n",
       "      <th>mb_per_month_included</th>\n",
       "      <th>minutes_included</th>\n",
       "      <th>rub_monthly_fee</th>\n",
       "      <th>rub_per_gb</th>\n",
       "      <th>rub_per_message</th>\n",
       "      <th>rub_per_minute</th>\n",
       "    </tr>\n",
       "  </thead>\n",
       "  <tbody>\n",
       "    <tr>\n",
       "      <td>0</td>\n",
       "      <td>1000</td>\n",
       "      <td>5.0</td>\n",
       "      <td>159.0</td>\n",
       "      <td>2253.49</td>\n",
       "      <td>22.0</td>\n",
       "      <td>52</td>\n",
       "      <td>NaT</td>\n",
       "      <td>Краснодар</td>\n",
       "      <td>Рафаил</td>\n",
       "      <td>Верещагин</td>\n",
       "      <td>2018-05-25</td>\n",
       "      <td>ultra</td>\n",
       "      <td>1000</td>\n",
       "      <td>30720</td>\n",
       "      <td>3000</td>\n",
       "      <td>1950</td>\n",
       "      <td>150</td>\n",
       "      <td>1</td>\n",
       "      <td>1</td>\n",
       "    </tr>\n",
       "    <tr>\n",
       "      <td>1</td>\n",
       "      <td>1000</td>\n",
       "      <td>6.0</td>\n",
       "      <td>172.0</td>\n",
       "      <td>23233.77</td>\n",
       "      <td>60.0</td>\n",
       "      <td>52</td>\n",
       "      <td>NaT</td>\n",
       "      <td>Краснодар</td>\n",
       "      <td>Рафаил</td>\n",
       "      <td>Верещагин</td>\n",
       "      <td>2018-05-25</td>\n",
       "      <td>ultra</td>\n",
       "      <td>1000</td>\n",
       "      <td>30720</td>\n",
       "      <td>3000</td>\n",
       "      <td>1950</td>\n",
       "      <td>150</td>\n",
       "      <td>1</td>\n",
       "      <td>1</td>\n",
       "    </tr>\n",
       "    <tr>\n",
       "      <td>2</td>\n",
       "      <td>1000</td>\n",
       "      <td>7.0</td>\n",
       "      <td>340.0</td>\n",
       "      <td>14003.64</td>\n",
       "      <td>75.0</td>\n",
       "      <td>52</td>\n",
       "      <td>NaT</td>\n",
       "      <td>Краснодар</td>\n",
       "      <td>Рафаил</td>\n",
       "      <td>Верещагин</td>\n",
       "      <td>2018-05-25</td>\n",
       "      <td>ultra</td>\n",
       "      <td>1000</td>\n",
       "      <td>30720</td>\n",
       "      <td>3000</td>\n",
       "      <td>1950</td>\n",
       "      <td>150</td>\n",
       "      <td>1</td>\n",
       "      <td>1</td>\n",
       "    </tr>\n",
       "    <tr>\n",
       "      <td>3</td>\n",
       "      <td>1000</td>\n",
       "      <td>8.0</td>\n",
       "      <td>408.0</td>\n",
       "      <td>14055.93</td>\n",
       "      <td>81.0</td>\n",
       "      <td>52</td>\n",
       "      <td>NaT</td>\n",
       "      <td>Краснодар</td>\n",
       "      <td>Рафаил</td>\n",
       "      <td>Верещагин</td>\n",
       "      <td>2018-05-25</td>\n",
       "      <td>ultra</td>\n",
       "      <td>1000</td>\n",
       "      <td>30720</td>\n",
       "      <td>3000</td>\n",
       "      <td>1950</td>\n",
       "      <td>150</td>\n",
       "      <td>1</td>\n",
       "      <td>1</td>\n",
       "    </tr>\n",
       "    <tr>\n",
       "      <td>4</td>\n",
       "      <td>1000</td>\n",
       "      <td>9.0</td>\n",
       "      <td>466.0</td>\n",
       "      <td>14568.91</td>\n",
       "      <td>57.0</td>\n",
       "      <td>52</td>\n",
       "      <td>NaT</td>\n",
       "      <td>Краснодар</td>\n",
       "      <td>Рафаил</td>\n",
       "      <td>Верещагин</td>\n",
       "      <td>2018-05-25</td>\n",
       "      <td>ultra</td>\n",
       "      <td>1000</td>\n",
       "      <td>30720</td>\n",
       "      <td>3000</td>\n",
       "      <td>1950</td>\n",
       "      <td>150</td>\n",
       "      <td>1</td>\n",
       "      <td>1</td>\n",
       "    </tr>\n",
       "  </tbody>\n",
       "</table>\n",
       "</div>"
      ],
      "text/plain": [
       "   user_id  month  duration   mb_used  messages  age churn_date       city  \\\n",
       "0     1000    5.0     159.0   2253.49      22.0   52        NaT  Краснодар   \n",
       "1     1000    6.0     172.0  23233.77      60.0   52        NaT  Краснодар   \n",
       "2     1000    7.0     340.0  14003.64      75.0   52        NaT  Краснодар   \n",
       "3     1000    8.0     408.0  14055.93      81.0   52        NaT  Краснодар   \n",
       "4     1000    9.0     466.0  14568.91      57.0   52        NaT  Краснодар   \n",
       "\n",
       "  first_name  last_name   reg_date tariff  messages_included  \\\n",
       "0     Рафаил  Верещагин 2018-05-25  ultra               1000   \n",
       "1     Рафаил  Верещагин 2018-05-25  ultra               1000   \n",
       "2     Рафаил  Верещагин 2018-05-25  ultra               1000   \n",
       "3     Рафаил  Верещагин 2018-05-25  ultra               1000   \n",
       "4     Рафаил  Верещагин 2018-05-25  ultra               1000   \n",
       "\n",
       "   mb_per_month_included  minutes_included  rub_monthly_fee  rub_per_gb  \\\n",
       "0                  30720              3000             1950         150   \n",
       "1                  30720              3000             1950         150   \n",
       "2                  30720              3000             1950         150   \n",
       "3                  30720              3000             1950         150   \n",
       "4                  30720              3000             1950         150   \n",
       "\n",
       "   rub_per_message  rub_per_minute  \n",
       "0                1               1  \n",
       "1                1               1  \n",
       "2                1               1  \n",
       "3                1               1  \n",
       "4                1               1  "
      ]
     },
     "execution_count": 21,
     "metadata": {},
     "output_type": "execute_result"
    }
   ],
   "source": [
    "data = calls.merge(internet, on =['user_id', 'month'], how='outer')\n",
    "data = data.merge(messages, on =['user_id', 'month'], how='outer')\n",
    "data = data.merge(users, on=['user_id'], how='outer')\n",
    "tariffs.rename(columns={'tariff_name' : 'tariff'}, inplace=True)\n",
    "data = data.merge(tariffs, on=['tariff'],how='outer')\n",
    "data.head()"
   ]
  },
  {
   "cell_type": "markdown",
   "metadata": {},
   "source": [
    "Переведем помесячный трафик в ГБ, затем округлим до большего числа и переименуем в столбец 'gb_used':"
   ]
  },
  {
   "cell_type": "code",
   "execution_count": 22,
   "metadata": {},
   "outputs": [
    {
     "data": {
      "text/html": [
       "<div>\n",
       "<style scoped>\n",
       "    .dataframe tbody tr th:only-of-type {\n",
       "        vertical-align: middle;\n",
       "    }\n",
       "\n",
       "    .dataframe tbody tr th {\n",
       "        vertical-align: top;\n",
       "    }\n",
       "\n",
       "    .dataframe thead th {\n",
       "        text-align: right;\n",
       "    }\n",
       "</style>\n",
       "<table border=\"1\" class=\"dataframe\">\n",
       "  <thead>\n",
       "    <tr style=\"text-align: right;\">\n",
       "      <th></th>\n",
       "      <th>user_id</th>\n",
       "      <th>month</th>\n",
       "      <th>duration</th>\n",
       "      <th>gb_used</th>\n",
       "      <th>messages</th>\n",
       "      <th>age</th>\n",
       "      <th>churn_date</th>\n",
       "      <th>city</th>\n",
       "      <th>first_name</th>\n",
       "      <th>last_name</th>\n",
       "      <th>reg_date</th>\n",
       "      <th>tariff</th>\n",
       "      <th>messages_included</th>\n",
       "      <th>mb_per_month_included</th>\n",
       "      <th>minutes_included</th>\n",
       "      <th>rub_monthly_fee</th>\n",
       "      <th>rub_per_gb</th>\n",
       "      <th>rub_per_message</th>\n",
       "      <th>rub_per_minute</th>\n",
       "    </tr>\n",
       "  </thead>\n",
       "  <tbody>\n",
       "    <tr>\n",
       "      <td>0</td>\n",
       "      <td>1000</td>\n",
       "      <td>5.0</td>\n",
       "      <td>159.0</td>\n",
       "      <td>3.0</td>\n",
       "      <td>22.0</td>\n",
       "      <td>52</td>\n",
       "      <td>NaT</td>\n",
       "      <td>Краснодар</td>\n",
       "      <td>Рафаил</td>\n",
       "      <td>Верещагин</td>\n",
       "      <td>2018-05-25</td>\n",
       "      <td>ultra</td>\n",
       "      <td>1000</td>\n",
       "      <td>30720</td>\n",
       "      <td>3000</td>\n",
       "      <td>1950</td>\n",
       "      <td>150</td>\n",
       "      <td>1</td>\n",
       "      <td>1</td>\n",
       "    </tr>\n",
       "    <tr>\n",
       "      <td>1</td>\n",
       "      <td>1000</td>\n",
       "      <td>6.0</td>\n",
       "      <td>172.0</td>\n",
       "      <td>23.0</td>\n",
       "      <td>60.0</td>\n",
       "      <td>52</td>\n",
       "      <td>NaT</td>\n",
       "      <td>Краснодар</td>\n",
       "      <td>Рафаил</td>\n",
       "      <td>Верещагин</td>\n",
       "      <td>2018-05-25</td>\n",
       "      <td>ultra</td>\n",
       "      <td>1000</td>\n",
       "      <td>30720</td>\n",
       "      <td>3000</td>\n",
       "      <td>1950</td>\n",
       "      <td>150</td>\n",
       "      <td>1</td>\n",
       "      <td>1</td>\n",
       "    </tr>\n",
       "    <tr>\n",
       "      <td>2</td>\n",
       "      <td>1000</td>\n",
       "      <td>7.0</td>\n",
       "      <td>340.0</td>\n",
       "      <td>14.0</td>\n",
       "      <td>75.0</td>\n",
       "      <td>52</td>\n",
       "      <td>NaT</td>\n",
       "      <td>Краснодар</td>\n",
       "      <td>Рафаил</td>\n",
       "      <td>Верещагин</td>\n",
       "      <td>2018-05-25</td>\n",
       "      <td>ultra</td>\n",
       "      <td>1000</td>\n",
       "      <td>30720</td>\n",
       "      <td>3000</td>\n",
       "      <td>1950</td>\n",
       "      <td>150</td>\n",
       "      <td>1</td>\n",
       "      <td>1</td>\n",
       "    </tr>\n",
       "    <tr>\n",
       "      <td>3</td>\n",
       "      <td>1000</td>\n",
       "      <td>8.0</td>\n",
       "      <td>408.0</td>\n",
       "      <td>14.0</td>\n",
       "      <td>81.0</td>\n",
       "      <td>52</td>\n",
       "      <td>NaT</td>\n",
       "      <td>Краснодар</td>\n",
       "      <td>Рафаил</td>\n",
       "      <td>Верещагин</td>\n",
       "      <td>2018-05-25</td>\n",
       "      <td>ultra</td>\n",
       "      <td>1000</td>\n",
       "      <td>30720</td>\n",
       "      <td>3000</td>\n",
       "      <td>1950</td>\n",
       "      <td>150</td>\n",
       "      <td>1</td>\n",
       "      <td>1</td>\n",
       "    </tr>\n",
       "    <tr>\n",
       "      <td>4</td>\n",
       "      <td>1000</td>\n",
       "      <td>9.0</td>\n",
       "      <td>466.0</td>\n",
       "      <td>15.0</td>\n",
       "      <td>57.0</td>\n",
       "      <td>52</td>\n",
       "      <td>NaT</td>\n",
       "      <td>Краснодар</td>\n",
       "      <td>Рафаил</td>\n",
       "      <td>Верещагин</td>\n",
       "      <td>2018-05-25</td>\n",
       "      <td>ultra</td>\n",
       "      <td>1000</td>\n",
       "      <td>30720</td>\n",
       "      <td>3000</td>\n",
       "      <td>1950</td>\n",
       "      <td>150</td>\n",
       "      <td>1</td>\n",
       "      <td>1</td>\n",
       "    </tr>\n",
       "  </tbody>\n",
       "</table>\n",
       "</div>"
      ],
      "text/plain": [
       "   user_id  month  duration  gb_used  messages  age churn_date       city  \\\n",
       "0     1000    5.0     159.0      3.0      22.0   52        NaT  Краснодар   \n",
       "1     1000    6.0     172.0     23.0      60.0   52        NaT  Краснодар   \n",
       "2     1000    7.0     340.0     14.0      75.0   52        NaT  Краснодар   \n",
       "3     1000    8.0     408.0     14.0      81.0   52        NaT  Краснодар   \n",
       "4     1000    9.0     466.0     15.0      57.0   52        NaT  Краснодар   \n",
       "\n",
       "  first_name  last_name   reg_date tariff  messages_included  \\\n",
       "0     Рафаил  Верещагин 2018-05-25  ultra               1000   \n",
       "1     Рафаил  Верещагин 2018-05-25  ultra               1000   \n",
       "2     Рафаил  Верещагин 2018-05-25  ultra               1000   \n",
       "3     Рафаил  Верещагин 2018-05-25  ultra               1000   \n",
       "4     Рафаил  Верещагин 2018-05-25  ultra               1000   \n",
       "\n",
       "   mb_per_month_included  minutes_included  rub_monthly_fee  rub_per_gb  \\\n",
       "0                  30720              3000             1950         150   \n",
       "1                  30720              3000             1950         150   \n",
       "2                  30720              3000             1950         150   \n",
       "3                  30720              3000             1950         150   \n",
       "4                  30720              3000             1950         150   \n",
       "\n",
       "   rub_per_message  rub_per_minute  \n",
       "0                1               1  \n",
       "1                1               1  \n",
       "2                1               1  \n",
       "3                1               1  \n",
       "4                1               1  "
      ]
     },
     "execution_count": 22,
     "metadata": {},
     "output_type": "execute_result"
    }
   ],
   "source": [
    "data['mb_used'] = (data['mb_used'] / 1024.0).apply(np.ceil)\n",
    "data = data.rename(columns= {'mb_used':'gb_used'})\n",
    "data.head()"
   ]
  },
  {
   "cell_type": "markdown",
   "metadata": {},
   "source": [
    "Проверяем на наличие пропусков:"
   ]
  },
  {
   "cell_type": "code",
   "execution_count": 23,
   "metadata": {},
   "outputs": [
    {
     "data": {
      "text/plain": [
       "user_id                     0\n",
       "month                       2\n",
       "duration                   42\n",
       "gb_used                    13\n",
       "messages                  499\n",
       "age                         0\n",
       "churn_date               3027\n",
       "city                        0\n",
       "first_name                  0\n",
       "last_name                   0\n",
       "reg_date                    0\n",
       "tariff                      0\n",
       "messages_included           0\n",
       "mb_per_month_included       0\n",
       "minutes_included            0\n",
       "rub_monthly_fee             0\n",
       "rub_per_gb                  0\n",
       "rub_per_message             0\n",
       "rub_per_minute              0\n",
       "dtype: int64"
      ]
     },
     "execution_count": 23,
     "metadata": {},
     "output_type": "execute_result"
    }
   ],
   "source": [
    "data.isna().sum()"
   ]
  },
  {
   "cell_type": "markdown",
   "metadata": {},
   "source": [
    "Избавимся от пропусков там,где это необходимо, используя .fillna()"
   ]
  },
  {
   "cell_type": "code",
   "execution_count": 24,
   "metadata": {},
   "outputs": [],
   "source": [
    "data['duration'] = data['duration'].fillna(0)\n",
    "data['gb_used'] = data['gb_used'].fillna(0)\n",
    "data['messages'] = data['messages'].fillna(0)"
   ]
  },
  {
   "cell_type": "markdown",
   "metadata": {},
   "source": [
    "Считаем для каждого пользователя выручку сверх тарифа и добавляем в столбец 'r':"
   ]
  },
  {
   "cell_type": "code",
   "execution_count": 25,
   "metadata": {
    "scrolled": true
   },
   "outputs": [
    {
     "data": {
      "text/html": [
       "<div>\n",
       "<style scoped>\n",
       "    .dataframe tbody tr th:only-of-type {\n",
       "        vertical-align: middle;\n",
       "    }\n",
       "\n",
       "    .dataframe tbody tr th {\n",
       "        vertical-align: top;\n",
       "    }\n",
       "\n",
       "    .dataframe thead th {\n",
       "        text-align: right;\n",
       "    }\n",
       "</style>\n",
       "<table border=\"1\" class=\"dataframe\">\n",
       "  <thead>\n",
       "    <tr style=\"text-align: right;\">\n",
       "      <th></th>\n",
       "      <th>user_id</th>\n",
       "      <th>month</th>\n",
       "      <th>duration</th>\n",
       "      <th>gb_used</th>\n",
       "      <th>messages</th>\n",
       "      <th>age</th>\n",
       "      <th>churn_date</th>\n",
       "      <th>city</th>\n",
       "      <th>first_name</th>\n",
       "      <th>last_name</th>\n",
       "      <th>...</th>\n",
       "      <th>gb_per_month_included</th>\n",
       "      <th>minutes_included</th>\n",
       "      <th>rub_monthly_fee</th>\n",
       "      <th>rub_per_gb</th>\n",
       "      <th>rub_per_message</th>\n",
       "      <th>rub_per_minute</th>\n",
       "      <th>call_revenue</th>\n",
       "      <th>messages_revenue</th>\n",
       "      <th>gb_revenue</th>\n",
       "      <th>r</th>\n",
       "    </tr>\n",
       "  </thead>\n",
       "  <tbody>\n",
       "    <tr>\n",
       "      <td>0</td>\n",
       "      <td>1000</td>\n",
       "      <td>5.0</td>\n",
       "      <td>159.0</td>\n",
       "      <td>3.0</td>\n",
       "      <td>22.0</td>\n",
       "      <td>52</td>\n",
       "      <td>NaT</td>\n",
       "      <td>Краснодар</td>\n",
       "      <td>Рафаил</td>\n",
       "      <td>Верещагин</td>\n",
       "      <td>...</td>\n",
       "      <td>30.0</td>\n",
       "      <td>3000</td>\n",
       "      <td>1950</td>\n",
       "      <td>150</td>\n",
       "      <td>1</td>\n",
       "      <td>1</td>\n",
       "      <td>0.0</td>\n",
       "      <td>0.0</td>\n",
       "      <td>0.0</td>\n",
       "      <td>0.0</td>\n",
       "    </tr>\n",
       "    <tr>\n",
       "      <td>1</td>\n",
       "      <td>1000</td>\n",
       "      <td>6.0</td>\n",
       "      <td>172.0</td>\n",
       "      <td>23.0</td>\n",
       "      <td>60.0</td>\n",
       "      <td>52</td>\n",
       "      <td>NaT</td>\n",
       "      <td>Краснодар</td>\n",
       "      <td>Рафаил</td>\n",
       "      <td>Верещагин</td>\n",
       "      <td>...</td>\n",
       "      <td>30.0</td>\n",
       "      <td>3000</td>\n",
       "      <td>1950</td>\n",
       "      <td>150</td>\n",
       "      <td>1</td>\n",
       "      <td>1</td>\n",
       "      <td>0.0</td>\n",
       "      <td>0.0</td>\n",
       "      <td>0.0</td>\n",
       "      <td>0.0</td>\n",
       "    </tr>\n",
       "    <tr>\n",
       "      <td>2</td>\n",
       "      <td>1000</td>\n",
       "      <td>7.0</td>\n",
       "      <td>340.0</td>\n",
       "      <td>14.0</td>\n",
       "      <td>75.0</td>\n",
       "      <td>52</td>\n",
       "      <td>NaT</td>\n",
       "      <td>Краснодар</td>\n",
       "      <td>Рафаил</td>\n",
       "      <td>Верещагин</td>\n",
       "      <td>...</td>\n",
       "      <td>30.0</td>\n",
       "      <td>3000</td>\n",
       "      <td>1950</td>\n",
       "      <td>150</td>\n",
       "      <td>1</td>\n",
       "      <td>1</td>\n",
       "      <td>0.0</td>\n",
       "      <td>0.0</td>\n",
       "      <td>0.0</td>\n",
       "      <td>0.0</td>\n",
       "    </tr>\n",
       "    <tr>\n",
       "      <td>3</td>\n",
       "      <td>1000</td>\n",
       "      <td>8.0</td>\n",
       "      <td>408.0</td>\n",
       "      <td>14.0</td>\n",
       "      <td>81.0</td>\n",
       "      <td>52</td>\n",
       "      <td>NaT</td>\n",
       "      <td>Краснодар</td>\n",
       "      <td>Рафаил</td>\n",
       "      <td>Верещагин</td>\n",
       "      <td>...</td>\n",
       "      <td>30.0</td>\n",
       "      <td>3000</td>\n",
       "      <td>1950</td>\n",
       "      <td>150</td>\n",
       "      <td>1</td>\n",
       "      <td>1</td>\n",
       "      <td>0.0</td>\n",
       "      <td>0.0</td>\n",
       "      <td>0.0</td>\n",
       "      <td>0.0</td>\n",
       "    </tr>\n",
       "    <tr>\n",
       "      <td>4</td>\n",
       "      <td>1000</td>\n",
       "      <td>9.0</td>\n",
       "      <td>466.0</td>\n",
       "      <td>15.0</td>\n",
       "      <td>57.0</td>\n",
       "      <td>52</td>\n",
       "      <td>NaT</td>\n",
       "      <td>Краснодар</td>\n",
       "      <td>Рафаил</td>\n",
       "      <td>Верещагин</td>\n",
       "      <td>...</td>\n",
       "      <td>30.0</td>\n",
       "      <td>3000</td>\n",
       "      <td>1950</td>\n",
       "      <td>150</td>\n",
       "      <td>1</td>\n",
       "      <td>1</td>\n",
       "      <td>0.0</td>\n",
       "      <td>0.0</td>\n",
       "      <td>0.0</td>\n",
       "      <td>0.0</td>\n",
       "    </tr>\n",
       "  </tbody>\n",
       "</table>\n",
       "<p>5 rows × 23 columns</p>\n",
       "</div>"
      ],
      "text/plain": [
       "   user_id  month  duration  gb_used  messages  age churn_date       city  \\\n",
       "0     1000    5.0     159.0      3.0      22.0   52        NaT  Краснодар   \n",
       "1     1000    6.0     172.0     23.0      60.0   52        NaT  Краснодар   \n",
       "2     1000    7.0     340.0     14.0      75.0   52        NaT  Краснодар   \n",
       "3     1000    8.0     408.0     14.0      81.0   52        NaT  Краснодар   \n",
       "4     1000    9.0     466.0     15.0      57.0   52        NaT  Краснодар   \n",
       "\n",
       "  first_name  last_name  ... gb_per_month_included minutes_included  \\\n",
       "0     Рафаил  Верещагин  ...                  30.0             3000   \n",
       "1     Рафаил  Верещагин  ...                  30.0             3000   \n",
       "2     Рафаил  Верещагин  ...                  30.0             3000   \n",
       "3     Рафаил  Верещагин  ...                  30.0             3000   \n",
       "4     Рафаил  Верещагин  ...                  30.0             3000   \n",
       "\n",
       "   rub_monthly_fee  rub_per_gb  rub_per_message  rub_per_minute  call_revenue  \\\n",
       "0             1950         150                1               1           0.0   \n",
       "1             1950         150                1               1           0.0   \n",
       "2             1950         150                1               1           0.0   \n",
       "3             1950         150                1               1           0.0   \n",
       "4             1950         150                1               1           0.0   \n",
       "\n",
       "   messages_revenue  gb_revenue    r  \n",
       "0               0.0         0.0  0.0  \n",
       "1               0.0         0.0  0.0  \n",
       "2               0.0         0.0  0.0  \n",
       "3               0.0         0.0  0.0  \n",
       "4               0.0         0.0  0.0  \n",
       "\n",
       "[5 rows x 23 columns]"
      ]
     },
     "execution_count": 25,
     "metadata": {},
     "output_type": "execute_result"
    }
   ],
   "source": [
    "data['call_revenue'] =  (data['duration'] - data['minutes_included']) * data['rub_per_minute']\n",
    "data.loc[data['call_revenue'] < 0, 'call_revenue'] = 0\n",
    "\n",
    "data['messages_revenue'] = (data['messages'] - data['messages_included']) * data['rub_per_message']\n",
    "data.loc[data['messages_revenue'] < 0, 'messages_revenue'] = 0\n",
    "\n",
    "data['mb_per_month_included'] = data['mb_per_month_included'] / 1024\n",
    "data = data.rename(columns = {'mb_per_month_included' : 'gb_per_month_included'})\n",
    "data['gb_revenue'] = (data['gb_used'] - data['gb_per_month_included']) * data['rub_per_gb']\n",
    "data.loc[data['gb_revenue'] < 0, 'gb_revenue'] = 0\n",
    "\n",
    "\n",
    "#выручка сверх тарифа\n",
    "data['r'] = data['call_revenue'] + data['messages_revenue'] + data['gb_revenue']\n",
    "data.head()"
   ]
  },
  {
   "cell_type": "markdown",
   "metadata": {},
   "source": [
    "Мы видим отрицательные значения в выручке сверх тарифа. Целесообразно заменить данные значения на ноль, так как это значит отсутствие выручки:"
   ]
  },
  {
   "cell_type": "code",
   "execution_count": 26,
   "metadata": {},
   "outputs": [],
   "source": [
    "data.loc[data['r'] < 0, 'r'] = 0"
   ]
  },
  {
   "cell_type": "markdown",
   "metadata": {},
   "source": [
    "Посчитаем общую выручку и добавим в столбец revenue:"
   ]
  },
  {
   "cell_type": "code",
   "execution_count": 27,
   "metadata": {
    "scrolled": false
   },
   "outputs": [
    {
     "data": {
      "text/html": [
       "<div>\n",
       "<style scoped>\n",
       "    .dataframe tbody tr th:only-of-type {\n",
       "        vertical-align: middle;\n",
       "    }\n",
       "\n",
       "    .dataframe tbody tr th {\n",
       "        vertical-align: top;\n",
       "    }\n",
       "\n",
       "    .dataframe thead th {\n",
       "        text-align: right;\n",
       "    }\n",
       "</style>\n",
       "<table border=\"1\" class=\"dataframe\">\n",
       "  <thead>\n",
       "    <tr style=\"text-align: right;\">\n",
       "      <th></th>\n",
       "      <th>user_id</th>\n",
       "      <th>month</th>\n",
       "      <th>duration</th>\n",
       "      <th>gb_used</th>\n",
       "      <th>messages</th>\n",
       "      <th>age</th>\n",
       "      <th>churn_date</th>\n",
       "      <th>city</th>\n",
       "      <th>first_name</th>\n",
       "      <th>last_name</th>\n",
       "      <th>...</th>\n",
       "      <th>minutes_included</th>\n",
       "      <th>rub_monthly_fee</th>\n",
       "      <th>rub_per_gb</th>\n",
       "      <th>rub_per_message</th>\n",
       "      <th>rub_per_minute</th>\n",
       "      <th>call_revenue</th>\n",
       "      <th>messages_revenue</th>\n",
       "      <th>gb_revenue</th>\n",
       "      <th>r</th>\n",
       "      <th>revenue</th>\n",
       "    </tr>\n",
       "  </thead>\n",
       "  <tbody>\n",
       "    <tr>\n",
       "      <td>0</td>\n",
       "      <td>1000</td>\n",
       "      <td>5.0</td>\n",
       "      <td>159.0</td>\n",
       "      <td>3.0</td>\n",
       "      <td>22.0</td>\n",
       "      <td>52</td>\n",
       "      <td>NaT</td>\n",
       "      <td>Краснодар</td>\n",
       "      <td>Рафаил</td>\n",
       "      <td>Верещагин</td>\n",
       "      <td>...</td>\n",
       "      <td>3000</td>\n",
       "      <td>1950</td>\n",
       "      <td>150</td>\n",
       "      <td>1</td>\n",
       "      <td>1</td>\n",
       "      <td>0.0</td>\n",
       "      <td>0.0</td>\n",
       "      <td>0.0</td>\n",
       "      <td>0.0</td>\n",
       "      <td>1950</td>\n",
       "    </tr>\n",
       "    <tr>\n",
       "      <td>1</td>\n",
       "      <td>1000</td>\n",
       "      <td>6.0</td>\n",
       "      <td>172.0</td>\n",
       "      <td>23.0</td>\n",
       "      <td>60.0</td>\n",
       "      <td>52</td>\n",
       "      <td>NaT</td>\n",
       "      <td>Краснодар</td>\n",
       "      <td>Рафаил</td>\n",
       "      <td>Верещагин</td>\n",
       "      <td>...</td>\n",
       "      <td>3000</td>\n",
       "      <td>1950</td>\n",
       "      <td>150</td>\n",
       "      <td>1</td>\n",
       "      <td>1</td>\n",
       "      <td>0.0</td>\n",
       "      <td>0.0</td>\n",
       "      <td>0.0</td>\n",
       "      <td>0.0</td>\n",
       "      <td>1950</td>\n",
       "    </tr>\n",
       "    <tr>\n",
       "      <td>2</td>\n",
       "      <td>1000</td>\n",
       "      <td>7.0</td>\n",
       "      <td>340.0</td>\n",
       "      <td>14.0</td>\n",
       "      <td>75.0</td>\n",
       "      <td>52</td>\n",
       "      <td>NaT</td>\n",
       "      <td>Краснодар</td>\n",
       "      <td>Рафаил</td>\n",
       "      <td>Верещагин</td>\n",
       "      <td>...</td>\n",
       "      <td>3000</td>\n",
       "      <td>1950</td>\n",
       "      <td>150</td>\n",
       "      <td>1</td>\n",
       "      <td>1</td>\n",
       "      <td>0.0</td>\n",
       "      <td>0.0</td>\n",
       "      <td>0.0</td>\n",
       "      <td>0.0</td>\n",
       "      <td>1950</td>\n",
       "    </tr>\n",
       "    <tr>\n",
       "      <td>3</td>\n",
       "      <td>1000</td>\n",
       "      <td>8.0</td>\n",
       "      <td>408.0</td>\n",
       "      <td>14.0</td>\n",
       "      <td>81.0</td>\n",
       "      <td>52</td>\n",
       "      <td>NaT</td>\n",
       "      <td>Краснодар</td>\n",
       "      <td>Рафаил</td>\n",
       "      <td>Верещагин</td>\n",
       "      <td>...</td>\n",
       "      <td>3000</td>\n",
       "      <td>1950</td>\n",
       "      <td>150</td>\n",
       "      <td>1</td>\n",
       "      <td>1</td>\n",
       "      <td>0.0</td>\n",
       "      <td>0.0</td>\n",
       "      <td>0.0</td>\n",
       "      <td>0.0</td>\n",
       "      <td>1950</td>\n",
       "    </tr>\n",
       "    <tr>\n",
       "      <td>4</td>\n",
       "      <td>1000</td>\n",
       "      <td>9.0</td>\n",
       "      <td>466.0</td>\n",
       "      <td>15.0</td>\n",
       "      <td>57.0</td>\n",
       "      <td>52</td>\n",
       "      <td>NaT</td>\n",
       "      <td>Краснодар</td>\n",
       "      <td>Рафаил</td>\n",
       "      <td>Верещагин</td>\n",
       "      <td>...</td>\n",
       "      <td>3000</td>\n",
       "      <td>1950</td>\n",
       "      <td>150</td>\n",
       "      <td>1</td>\n",
       "      <td>1</td>\n",
       "      <td>0.0</td>\n",
       "      <td>0.0</td>\n",
       "      <td>0.0</td>\n",
       "      <td>0.0</td>\n",
       "      <td>1950</td>\n",
       "    </tr>\n",
       "  </tbody>\n",
       "</table>\n",
       "<p>5 rows × 24 columns</p>\n",
       "</div>"
      ],
      "text/plain": [
       "   user_id  month  duration  gb_used  messages  age churn_date       city  \\\n",
       "0     1000    5.0     159.0      3.0      22.0   52        NaT  Краснодар   \n",
       "1     1000    6.0     172.0     23.0      60.0   52        NaT  Краснодар   \n",
       "2     1000    7.0     340.0     14.0      75.0   52        NaT  Краснодар   \n",
       "3     1000    8.0     408.0     14.0      81.0   52        NaT  Краснодар   \n",
       "4     1000    9.0     466.0     15.0      57.0   52        NaT  Краснодар   \n",
       "\n",
       "  first_name  last_name  ... minutes_included rub_monthly_fee  rub_per_gb  \\\n",
       "0     Рафаил  Верещагин  ...             3000            1950         150   \n",
       "1     Рафаил  Верещагин  ...             3000            1950         150   \n",
       "2     Рафаил  Верещагин  ...             3000            1950         150   \n",
       "3     Рафаил  Верещагин  ...             3000            1950         150   \n",
       "4     Рафаил  Верещагин  ...             3000            1950         150   \n",
       "\n",
       "   rub_per_message  rub_per_minute  call_revenue  messages_revenue  \\\n",
       "0                1               1           0.0               0.0   \n",
       "1                1               1           0.0               0.0   \n",
       "2                1               1           0.0               0.0   \n",
       "3                1               1           0.0               0.0   \n",
       "4                1               1           0.0               0.0   \n",
       "\n",
       "   gb_revenue    r  revenue  \n",
       "0         0.0  0.0     1950  \n",
       "1         0.0  0.0     1950  \n",
       "2         0.0  0.0     1950  \n",
       "3         0.0  0.0     1950  \n",
       "4         0.0  0.0     1950  \n",
       "\n",
       "[5 rows x 24 columns]"
      ]
     },
     "execution_count": 27,
     "metadata": {},
     "output_type": "execute_result"
    }
   ],
   "source": [
    "data['revenue'] = data['rub_monthly_fee'] + data['r']\n",
    "data['revenue'] = data['revenue'].astype('int')\n",
    "data.head()"
   ]
  },
  {
   "cell_type": "markdown",
   "metadata": {},
   "source": [
    "Удалим лишние для анализа столбцы:"
   ]
  },
  {
   "cell_type": "code",
   "execution_count": 28,
   "metadata": {},
   "outputs": [],
   "source": [
    "data.drop(columns=['first_name','last_name','minutes_included',\n",
    "                   'messages_included','gb_per_month_included','rub_monthly_fee',\n",
    "                   'rub_per_gb','rub_per_message','rub_per_minute',\n",
    "                   'call_revenue','messages_revenue','gb_revenue'],  axis=1, inplace=True)"
   ]
  },
  {
   "cell_type": "code",
   "execution_count": 29,
   "metadata": {},
   "outputs": [
    {
     "data": {
      "text/html": [
       "<div>\n",
       "<style scoped>\n",
       "    .dataframe tbody tr th:only-of-type {\n",
       "        vertical-align: middle;\n",
       "    }\n",
       "\n",
       "    .dataframe tbody tr th {\n",
       "        vertical-align: top;\n",
       "    }\n",
       "\n",
       "    .dataframe thead th {\n",
       "        text-align: right;\n",
       "    }\n",
       "</style>\n",
       "<table border=\"1\" class=\"dataframe\">\n",
       "  <thead>\n",
       "    <tr style=\"text-align: right;\">\n",
       "      <th></th>\n",
       "      <th>user_id</th>\n",
       "      <th>month</th>\n",
       "      <th>duration</th>\n",
       "      <th>gb_used</th>\n",
       "      <th>messages</th>\n",
       "      <th>age</th>\n",
       "      <th>churn_date</th>\n",
       "      <th>city</th>\n",
       "      <th>reg_date</th>\n",
       "      <th>tariff</th>\n",
       "      <th>r</th>\n",
       "      <th>revenue</th>\n",
       "    </tr>\n",
       "  </thead>\n",
       "  <tbody>\n",
       "    <tr>\n",
       "      <td>0</td>\n",
       "      <td>1000</td>\n",
       "      <td>5.0</td>\n",
       "      <td>159.0</td>\n",
       "      <td>3.0</td>\n",
       "      <td>22.0</td>\n",
       "      <td>52</td>\n",
       "      <td>NaT</td>\n",
       "      <td>Краснодар</td>\n",
       "      <td>2018-05-25</td>\n",
       "      <td>ultra</td>\n",
       "      <td>0.0</td>\n",
       "      <td>1950</td>\n",
       "    </tr>\n",
       "    <tr>\n",
       "      <td>1</td>\n",
       "      <td>1000</td>\n",
       "      <td>6.0</td>\n",
       "      <td>172.0</td>\n",
       "      <td>23.0</td>\n",
       "      <td>60.0</td>\n",
       "      <td>52</td>\n",
       "      <td>NaT</td>\n",
       "      <td>Краснодар</td>\n",
       "      <td>2018-05-25</td>\n",
       "      <td>ultra</td>\n",
       "      <td>0.0</td>\n",
       "      <td>1950</td>\n",
       "    </tr>\n",
       "    <tr>\n",
       "      <td>2</td>\n",
       "      <td>1000</td>\n",
       "      <td>7.0</td>\n",
       "      <td>340.0</td>\n",
       "      <td>14.0</td>\n",
       "      <td>75.0</td>\n",
       "      <td>52</td>\n",
       "      <td>NaT</td>\n",
       "      <td>Краснодар</td>\n",
       "      <td>2018-05-25</td>\n",
       "      <td>ultra</td>\n",
       "      <td>0.0</td>\n",
       "      <td>1950</td>\n",
       "    </tr>\n",
       "    <tr>\n",
       "      <td>3</td>\n",
       "      <td>1000</td>\n",
       "      <td>8.0</td>\n",
       "      <td>408.0</td>\n",
       "      <td>14.0</td>\n",
       "      <td>81.0</td>\n",
       "      <td>52</td>\n",
       "      <td>NaT</td>\n",
       "      <td>Краснодар</td>\n",
       "      <td>2018-05-25</td>\n",
       "      <td>ultra</td>\n",
       "      <td>0.0</td>\n",
       "      <td>1950</td>\n",
       "    </tr>\n",
       "    <tr>\n",
       "      <td>4</td>\n",
       "      <td>1000</td>\n",
       "      <td>9.0</td>\n",
       "      <td>466.0</td>\n",
       "      <td>15.0</td>\n",
       "      <td>57.0</td>\n",
       "      <td>52</td>\n",
       "      <td>NaT</td>\n",
       "      <td>Краснодар</td>\n",
       "      <td>2018-05-25</td>\n",
       "      <td>ultra</td>\n",
       "      <td>0.0</td>\n",
       "      <td>1950</td>\n",
       "    </tr>\n",
       "  </tbody>\n",
       "</table>\n",
       "</div>"
      ],
      "text/plain": [
       "   user_id  month  duration  gb_used  messages  age churn_date       city  \\\n",
       "0     1000    5.0     159.0      3.0      22.0   52        NaT  Краснодар   \n",
       "1     1000    6.0     172.0     23.0      60.0   52        NaT  Краснодар   \n",
       "2     1000    7.0     340.0     14.0      75.0   52        NaT  Краснодар   \n",
       "3     1000    8.0     408.0     14.0      81.0   52        NaT  Краснодар   \n",
       "4     1000    9.0     466.0     15.0      57.0   52        NaT  Краснодар   \n",
       "\n",
       "    reg_date tariff    r  revenue  \n",
       "0 2018-05-25  ultra  0.0     1950  \n",
       "1 2018-05-25  ultra  0.0     1950  \n",
       "2 2018-05-25  ultra  0.0     1950  \n",
       "3 2018-05-25  ultra  0.0     1950  \n",
       "4 2018-05-25  ultra  0.0     1950  "
      ]
     },
     "execution_count": 29,
     "metadata": {},
     "output_type": "execute_result"
    }
   ],
   "source": [
    "data.head()"
   ]
  },
  {
   "cell_type": "markdown",
   "metadata": {},
   "source": [
    "Проверим еще раз наличие пропусков:"
   ]
  },
  {
   "cell_type": "code",
   "execution_count": 30,
   "metadata": {
    "scrolled": false
   },
   "outputs": [
    {
     "data": {
      "text/plain": [
       "user_id          0\n",
       "month            2\n",
       "duration         0\n",
       "gb_used          0\n",
       "messages         0\n",
       "age              0\n",
       "churn_date    3027\n",
       "city             0\n",
       "reg_date         0\n",
       "tariff           0\n",
       "r                0\n",
       "revenue          0\n",
       "dtype: int64"
      ]
     },
     "execution_count": 30,
     "metadata": {},
     "output_type": "execute_result"
    }
   ],
   "source": [
    "data.isna().sum()"
   ]
  },
  {
   "cell_type": "markdown",
   "metadata": {},
   "source": [
    "### Вывод\n",
    "\n",
    "Мы провели предобратку данных, приступим к анализу."
   ]
  },
  {
   "cell_type": "markdown",
   "metadata": {},
   "source": [
    "## Анализ данных "
   ]
  },
  {
   "cell_type": "markdown",
   "metadata": {},
   "source": [
    "Посчитаем среднее количество,стандартное отклонение и дисперсию по кол-ву минут тарифов smart и ultra:"
   ]
  },
  {
   "cell_type": "code",
   "execution_count": 31,
   "metadata": {
    "scrolled": false
   },
   "outputs": [
    {
     "data": {
      "text/html": [
       "<div>\n",
       "<style scoped>\n",
       "    .dataframe tbody tr th:only-of-type {\n",
       "        vertical-align: middle;\n",
       "    }\n",
       "\n",
       "    .dataframe tbody tr th {\n",
       "        vertical-align: top;\n",
       "    }\n",
       "\n",
       "    .dataframe thead th {\n",
       "        text-align: right;\n",
       "    }\n",
       "</style>\n",
       "<table border=\"1\" class=\"dataframe\">\n",
       "  <thead>\n",
       "    <tr style=\"text-align: right;\">\n",
       "      <th></th>\n",
       "      <th>cреднее</th>\n",
       "      <th>СО</th>\n",
       "      <th>дисперсия</th>\n",
       "    </tr>\n",
       "  </thead>\n",
       "  <tbody>\n",
       "    <tr>\n",
       "      <td>smart</td>\n",
       "      <td>417.747534</td>\n",
       "      <td>190.434041</td>\n",
       "      <td>36265.124153</td>\n",
       "    </tr>\n",
       "    <tr>\n",
       "      <td>ultra</td>\n",
       "      <td>526.089249</td>\n",
       "      <td>317.726307</td>\n",
       "      <td>100950.006233</td>\n",
       "    </tr>\n",
       "  </tbody>\n",
       "</table>\n",
       "</div>"
      ],
      "text/plain": [
       "          cреднее          СО      дисперсия\n",
       "smart  417.747534  190.434041   36265.124153\n",
       "ultra  526.089249  317.726307  100950.006233"
      ]
     },
     "execution_count": 31,
     "metadata": {},
     "output_type": "execute_result"
    }
   ],
   "source": [
    "smart = data.query('tariff == \"smart\"')\n",
    "ultra = data.query('tariff == \"ultra\"')\n",
    "tr = ['smart', 'ultra']\n",
    "    \n",
    "pd.DataFrame(data={\n",
    "    'cреднее' : [np.mean(smart['duration']), np.mean(ultra['duration'])],\n",
    "    'СО' : [np.std(smart['duration']), np.std(ultra['duration'])],\n",
    "    'дисперсия' : [np.var(smart['duration']), np.var(ultra['duration'])]\n",
    "}, index=tr)                                            "
   ]
  },
  {
   "cell_type": "markdown",
   "metadata": {},
   "source": [
    "Мы видим, что в среднем пользователи смарт используют 417 минут из 500 минут,включенных в тариф. Это около 85%. Пользователи тарифа ultra используют 526 минут из 3000 возможных, это достаточно маленький показатель. Дисперсия у тарифа ultra выше, значит на гистограмме у этого тарифа будет длиннее хвост. Можно сказать, что пользователи тарифа ultra разговаривают по телефону больше. Построим гистограммы :"
   ]
  },
  {
   "cell_type": "code",
   "execution_count": 32,
   "metadata": {
    "scrolled": true
   },
   "outputs": [
    {
     "data": {
      "image/png": "[encoded data removed]",
      "text/plain": [
       "<Figure size 432x288 with 1 Axes>"
      ]
     },
     "metadata": {
      "needs_background": "light"
     },
     "output_type": "display_data"
    }
   ],
   "source": [
    "sns.distplot(data[data['tariff'] == 'smart']['duration'],bins=5, label='тариф smart')\n",
    "sns.distplot(data[data['tariff'] == 'ultra']['duration'],bins=5, label='тариф ultra')\n",
    "plt.title('Кол-во минут для каждого тарифа в месяц')\n",
    "plt.xlabel('Минуты, шт.')\n",
    "plt.ylabel('частота')\n",
    "plt.legend()\n",
    "plt.show()"
   ]
  },
  {
   "cell_type": "markdown",
   "metadata": {},
   "source": [
    "### Вывод по минутам:\n",
    "\n",
    "Действительно, мы видим, что хвост тарифа ultra длинее. Характер распределения близкий к нормальному.\n",
    "Данные в тарифе smart симметрично распределены вокруг среднего, которого оказалось близко к значению из тарифного плана. Но также видно,что около половины пользователей данного тарифа превышают кол-во включенных минут. Большинство пользователей тарифа ultra, напротив, используют гораздо меньше заявленных минут. "
   ]
  },
  {
   "cell_type": "markdown",
   "metadata": {},
   "source": [
    "Аналогично считаем среднее количество,стандартное отклонение и дисперсию по кол-ву сообщений тарифов smart и ultra и строим гистограммы:"
   ]
  },
  {
   "cell_type": "code",
   "execution_count": 33,
   "metadata": {
    "scrolled": false
   },
   "outputs": [
    {
     "data": {
      "text/html": [
       "<div>\n",
       "<style scoped>\n",
       "    .dataframe tbody tr th:only-of-type {\n",
       "        vertical-align: middle;\n",
       "    }\n",
       "\n",
       "    .dataframe tbody tr th {\n",
       "        vertical-align: top;\n",
       "    }\n",
       "\n",
       "    .dataframe thead th {\n",
       "        text-align: right;\n",
       "    }\n",
       "</style>\n",
       "<table border=\"1\" class=\"dataframe\">\n",
       "  <thead>\n",
       "    <tr style=\"text-align: right;\">\n",
       "      <th></th>\n",
       "      <th>cреднее</th>\n",
       "      <th>СО</th>\n",
       "      <th>дисперсия</th>\n",
       "    </tr>\n",
       "  </thead>\n",
       "  <tbody>\n",
       "    <tr>\n",
       "      <td>smart</td>\n",
       "      <td>33.369058</td>\n",
       "      <td>28.224066</td>\n",
       "      <td>796.597877</td>\n",
       "    </tr>\n",
       "    <tr>\n",
       "      <td>ultra</td>\n",
       "      <td>49.313387</td>\n",
       "      <td>47.781791</td>\n",
       "      <td>2283.099557</td>\n",
       "    </tr>\n",
       "  </tbody>\n",
       "</table>\n",
       "</div>"
      ],
      "text/plain": [
       "         cреднее         СО    дисперсия\n",
       "smart  33.369058  28.224066   796.597877\n",
       "ultra  49.313387  47.781791  2283.099557"
      ]
     },
     "execution_count": 33,
     "metadata": {},
     "output_type": "execute_result"
    }
   ],
   "source": [
    "pd.DataFrame(data={\n",
    "    'cреднее' : [np.mean(smart['messages']), np.mean(ultra['messages'])],\n",
    "    'СО' : [np.std(smart['messages']), np.std(ultra['messages'])],\n",
    "    'дисперсия' : [np.var(smart['messages']), np.var(ultra['messages'])]\n",
    "}, index=tr)  "
   ]
  },
  {
   "cell_type": "markdown",
   "metadata": {},
   "source": [
    "Средние обоих тарифов не сильно отличаются, в отличие от кол-ва сообщений в тарифном плане. Но все же, пользователи тарифа smart используют около 60% от доступных сообщений, когда у тарифа ultra данных показатель значительно меньше- около 5%. Исходя из посчитанной дисперсии, конечно, пользователи ultra склонны больше отправлять сообщений, в отличие от пользователей тарифа smart. Посмотрим на гистограмму."
   ]
  },
  {
   "cell_type": "code",
   "execution_count": 34,
   "metadata": {
    "scrolled": true
   },
   "outputs": [
    {
     "data": {
      "image/png": "[encoded data removed]",
      "text/plain": [
       "<Figure size 432x288 with 1 Axes>"
      ]
     },
     "metadata": {
      "needs_background": "light"
     },
     "output_type": "display_data"
    }
   ],
   "source": [
    "sns.distplot(data[data['tariff'] == 'smart']['messages'],bins=5, label='тариф smart')\n",
    "sns.distplot(data[data['tariff'] == 'ultra']['messages'],bins=5, label='тариф ultra')\n",
    "plt.title('Кол-во сообщений для каждого тарифа в месяц')\n",
    "plt.xlabel('Сообщения, шт.')\n",
    "plt.ylabel('частота')\n",
    "plt.legend()\n",
    "plt.show()"
   ]
  },
  {
   "cell_type": "markdown",
   "metadata": {},
   "source": [
    "### Вывод по сообщениям:\n",
    "Мы видим гистограмму с сильным смещением влево. на графике хвост тарифа ultra длиннее,что подтверждает наши слова о том,что пользователи данного тарифа отсылают больше сообщений. Но пик у этого тарифа все же меньше 50 сообщений."
   ]
  },
  {
   "cell_type": "markdown",
   "metadata": {},
   "source": [
    "Объем потраченного трафика:"
   ]
  },
  {
   "cell_type": "code",
   "execution_count": 35,
   "metadata": {
    "scrolled": false
   },
   "outputs": [
    {
     "data": {
      "text/html": [
       "<div>\n",
       "<style scoped>\n",
       "    .dataframe tbody tr th:only-of-type {\n",
       "        vertical-align: middle;\n",
       "    }\n",
       "\n",
       "    .dataframe tbody tr th {\n",
       "        vertical-align: top;\n",
       "    }\n",
       "\n",
       "    .dataframe thead th {\n",
       "        text-align: right;\n",
       "    }\n",
       "</style>\n",
       "<table border=\"1\" class=\"dataframe\">\n",
       "  <thead>\n",
       "    <tr style=\"text-align: right;\">\n",
       "      <th></th>\n",
       "      <th>cреднее</th>\n",
       "      <th>СО</th>\n",
       "      <th>дисперсия</th>\n",
       "    </tr>\n",
       "  </thead>\n",
       "  <tbody>\n",
       "    <tr>\n",
       "      <td>smart</td>\n",
       "      <td>16.321525</td>\n",
       "      <td>5.754876</td>\n",
       "      <td>33.118595</td>\n",
       "    </tr>\n",
       "    <tr>\n",
       "      <td>ultra</td>\n",
       "      <td>19.474645</td>\n",
       "      <td>9.863051</td>\n",
       "      <td>97.279783</td>\n",
       "    </tr>\n",
       "  </tbody>\n",
       "</table>\n",
       "</div>"
      ],
      "text/plain": [
       "         cреднее        СО  дисперсия\n",
       "smart  16.321525  5.754876  33.118595\n",
       "ultra  19.474645  9.863051  97.279783"
      ]
     },
     "execution_count": 35,
     "metadata": {},
     "output_type": "execute_result"
    }
   ],
   "source": [
    "pd.DataFrame(data={\n",
    "    'cреднее' : [np.mean(smart['gb_used']), np.mean(ultra['gb_used'])],\n",
    "    'СО' : [np.std(smart['gb_used']), np.std(ultra['gb_used'])],\n",
    "    'дисперсия' : [np.var(smart['gb_used']), np.var(ultra['gb_used'])]\n",
    "}, index=tr)"
   ]
  },
  {
   "cell_type": "markdown",
   "metadata": {},
   "source": [
    "Среднее у тарифа smart выше,чем в заяленном тарифном плане. У ультры меньше- около 65%. Дисперсия у тарифа ultra также больше, как и в предыдущих случаях."
   ]
  },
  {
   "cell_type": "code",
   "execution_count": 36,
   "metadata": {
    "scrolled": false
   },
   "outputs": [
    {
     "data": {
      "image/png": "[encoded data removed]",
      "text/plain": [
       "<Figure size 432x288 with 1 Axes>"
      ]
     },
     "metadata": {
      "needs_background": "light"
     },
     "output_type": "display_data"
    }
   ],
   "source": [
    "sns.distplot(data[data['tariff'] == 'smart']['gb_used'],bins=5, label='тариф smart')\n",
    "sns.distplot(data[data['tariff'] == 'ultra']['gb_used'],bins=5, label='тариф ultra')\n",
    "plt.title('Объем потраченного интернета для каждого тарифа в месяц')\n",
    "plt.xlabel('Объем интернета, гб')\n",
    "plt.ylabel('частота')\n",
    "plt.legend()\n",
    "plt.show()"
   ]
  },
  {
   "cell_type": "markdown",
   "metadata": {},
   "source": [
    "### Вывод по объему потраченного трафика:\n",
    "\n",
    "Из гистограммы видно, что характер распределения нормальный. Больше половины пользователей тарифа smart пользуются интрнетом больше, чем в тарифном плане. у пользователей ultra ситуация другая: Максимум гистограммы приходится на объем,включенный в тарифный план, но меньшая часть пользователей использует сверх него."
   ]
  },
  {
   "cell_type": "markdown",
   "metadata": {},
   "source": [
    "Считаем для выручки и строим гистограммы:"
   ]
  },
  {
   "cell_type": "code",
   "execution_count": 37,
   "metadata": {},
   "outputs": [
    {
     "data": {
      "text/html": [
       "<div>\n",
       "<style scoped>\n",
       "    .dataframe tbody tr th:only-of-type {\n",
       "        vertical-align: middle;\n",
       "    }\n",
       "\n",
       "    .dataframe tbody tr th {\n",
       "        vertical-align: top;\n",
       "    }\n",
       "\n",
       "    .dataframe thead th {\n",
       "        text-align: right;\n",
       "    }\n",
       "</style>\n",
       "<table border=\"1\" class=\"dataframe\">\n",
       "  <thead>\n",
       "    <tr style=\"text-align: right;\">\n",
       "      <th></th>\n",
       "      <th>cреднее</th>\n",
       "      <th>СО</th>\n",
       "      <th>дисперсия</th>\n",
       "    </tr>\n",
       "  </thead>\n",
       "  <tbody>\n",
       "    <tr>\n",
       "      <td>smart</td>\n",
       "      <td>1289.641704</td>\n",
       "      <td>818.187287</td>\n",
       "      <td>669430.436198</td>\n",
       "    </tr>\n",
       "    <tr>\n",
       "      <td>ultra</td>\n",
       "      <td>2070.030426</td>\n",
       "      <td>375.824852</td>\n",
       "      <td>141244.319561</td>\n",
       "    </tr>\n",
       "  </tbody>\n",
       "</table>\n",
       "</div>"
      ],
      "text/plain": [
       "           cреднее          СО      дисперсия\n",
       "smart  1289.641704  818.187287  669430.436198\n",
       "ultra  2070.030426  375.824852  141244.319561"
      ]
     },
     "execution_count": 37,
     "metadata": {},
     "output_type": "execute_result"
    }
   ],
   "source": [
    "pd.DataFrame(data={\n",
    "    'cреднее' : [np.mean(smart['revenue']), np.mean(ultra['revenue'])],\n",
    "    'СО' : [np.std(smart['revenue']), np.std(ultra['revenue'])],\n",
    "    'дисперсия' : [np.var(smart['revenue']), np.var(ultra['revenue'])]\n",
    "}, index=tr)"
   ]
  },
  {
   "cell_type": "markdown",
   "metadata": {},
   "source": [
    "Для данных о выручке совершенно иная ситуация. Исходя из среднего можно сказать,что от пользователей тарифа ultra средняя выручка примерно равна абонентской плате. Выручка от пользователей smart-а выше абонентской платы на 55%. Дисперсия говорит нам о том же. Пользователи ultra практически совсем не приносят выручки сверх абонентской платы, smart напротив, хвост на графике должен быть очень длинным, выручка исходит из двух составляющих-абонентской платы и сверх пакета."
   ]
  },
  {
   "cell_type": "markdown",
   "metadata": {},
   "source": [
    "Построим гистограмму выручек:"
   ]
  },
  {
   "cell_type": "code",
   "execution_count": 38,
   "metadata": {
    "scrolled": true
   },
   "outputs": [
    {
     "data": {
      "image/png": "[encoded data removed]",
      "text/plain": [
       "<Figure size 432x288 with 1 Axes>"
      ]
     },
     "metadata": {
      "needs_background": "light"
     },
     "output_type": "display_data"
    }
   ],
   "source": [
    "sns.distplot(data[data['tariff'] == 'smart']['revenue'],bins=10, label='тариф smart')\n",
    "sns.distplot(data[data['tariff'] == 'ultra']['revenue'],bins=10, label='тариф ultra')\n",
    "plt.title('Выручка для каждого тарифа в месяц')\n",
    "plt.xlabel('Выручка, руб.')\n",
    "plt.ylabel('Частота')\n",
    "plt.legend()\n",
    "plt.show()"
   ]
  },
  {
   "cell_type": "markdown",
   "metadata": {},
   "source": [
    "### Вывод по выручке:\n",
    "\n",
    "На графике подтверждаются наши исследования статистики. У тарифа ultra-острый пик на значении абонентской платы. У тарифа smart-от абоненской платы и далее- практически ровная линия."
   ]
  },
  {
   "cell_type": "markdown",
   "metadata": {},
   "source": [
    "## Проверка гипотез и пояснения"
   ]
  },
  {
   "cell_type": "markdown",
   "metadata": {},
   "source": [
    "### Cредняя выручка пользователей тарифов «Ультра» и «Смарт» различаются"
   ]
  },
  {
   "cell_type": "markdown",
   "metadata": {},
   "source": [
    "Чтобы проверить гипотезу о равенстве среднего , применяем метод scipy.stats.ttest_ind (array1, array2, equal_var).\n",
    "\n",
    "Начнём с формулировки нулевой гипотезы H₀ - \"средняя выручка пользователей тарифов «Ультра» и «Смарт» идентичны\"\n",
    "\n",
    "Значит, альтернативная гипотеза звучит так - \"средняя выручка пользователей тарифов «Ультра» и «Смарт» различаются\"\n",
    "Для проверки ипотез будем использовать критерий results.pvalue < alpha, поскольку при p-значении меньше уровня статистической значимости нулевую гипотезу можно считать опровергнутой."
   ]
  },
  {
   "cell_type": "code",
   "execution_count": 39,
   "metadata": {
    "scrolled": true
   },
   "outputs": [
    {
     "name": "stdout",
     "output_type": "stream",
     "text": [
      "p-значение: 8.081909555489933e-161\n",
      "Отвергаем нулевую гипотезу\n"
     ]
    }
   ],
   "source": [
    "revenue_smart = data[data['tariff'] == 'smart']['revenue']\n",
    "revenue_ultra = data[data['tariff'] == 'ultra']['revenue']\n",
    "\n",
    "\n",
    "alpha = 0.05\n",
    "results = st.ttest_ind(revenue_smart, revenue_ultra) \n",
    "\n",
    "print('p-значение:', results.pvalue)\n",
    "\n",
    "if results.pvalue < alpha:\n",
    "    print('Отвергаем нулевую гипотезу')\n",
    "else:\n",
    "    print('Не получилось отвергнуть нулевую гипотезу')"
   ]
  },
  {
   "cell_type": "markdown",
   "metadata": {},
   "source": [
    "### Вывод\n",
    "\n",
    "Нулевая гипотеза отвергается, значит, можно сказать, средние выручки различаются."
   ]
  },
  {
   "cell_type": "markdown",
   "metadata": {},
   "source": [
    "### Cредняя выручка пользователей из Москвы отличается от выручки пользователей из других регионов.\n",
    "\n",
    "Аналогично первой гипотезе воспользуемся методом  scipy.stats.ttest_ind (array1, array2, equal_var).\n",
    "Нулевая гипотеза H₀ - \"Cредняя выручка пользователей из Москвы равна выручке пользователей из других регионов\"\n",
    "\n",
    "Значит, альтернативная гипотеза звучит так - \"Cредняя выручка пользователей из Москвы отличается от выручки пользователей из других регионов\""
   ]
  },
  {
   "cell_type": "code",
   "execution_count": 40,
   "metadata": {},
   "outputs": [
    {
     "name": "stdout",
     "output_type": "stream",
     "text": [
      "p-значение: 0.5400751614511182\n",
      "Не получилось отвергнуть нулевую гипотезу\n"
     ]
    }
   ],
   "source": [
    "moscow = data[data['city'] == 'Москва']['revenue']\n",
    "region = data[data['city'] != 'Москва']['revenue']\n",
    "\n",
    "\n",
    "alpha = 0.05\n",
    "results = st.ttest_ind(moscow, region)\n",
    "\n",
    "print('p-значение:', results.pvalue)\n",
    "\n",
    "if results.pvalue < alpha:\n",
    "    print('Отвергаем нулевую гипотезу')\n",
    "else:\n",
    "    print('Не получилось отвергнуть нулевую гипотезу')"
   ]
  },
  {
   "cell_type": "markdown",
   "metadata": {},
   "source": [
    "### Вывод\n",
    "\n",
    "Нулевая гипотеза не отвергается, значит, можно сказать, средние выручки пользователей из Москвы и пользователей из других регионов не отличаются."
   ]
  },
  {
   "cell_type": "markdown",
   "metadata": {},
   "source": [
    "## Общий вывод"
   ]
  },
  {
   "cell_type": "markdown",
   "metadata": {},
   "source": [
    "Исходя из анализа можно сделать выводы:\n",
    "\n",
    "1. В тарифе смарт достаточно минут и сообщений. Люди используют около 85% доступных минут, и около 60% доступных сообщений. Интернета же пользователям данного тарифа не хватает. Средний показатель и пик на графике показывают нам, что люди используют гораздо больше объема интрнет-трафика.\n",
    "\n",
    "2. В тарифе ultra же иная ситуация. Пользователям хватает того, что включено в тариф. Но проблема в том,что все средние показатели гораздо ниже порога. Самый критичный показатель,на мой взгляд- это сообщения ,всего около 5% в среднем использованных ообщений. По поводу этого можно сказать,что их можно было бы уменьшить, так как сейчас доступно очень много мессенджеров для общения. Что касаемо звонков,их также можно уменьшить. Средний показатель-около 18% в среднем использованных минут. Исходя из наших наблюдений, пользователь при анализе своих показателей может сменить тариф на более бюджетный и подходящий по параметрам.\n",
    "\n",
    "3. Выручка, также неоднозначна. Большая часть выручки с ultra приходится на абонентскую плату,в смарте же практически 50/50.\n",
    "\n",
    "\n",
    "Мы также проверили гипотезы, одна гипотеза подствердилась, другая опровергнулась."
   ]
  }
 ],
 "metadata": {
  "ExecuteTimeLog": [
   {
    "duration": 565,
    "start_time": "2021-12-13T11:10:11.375Z"
   },
   {
    "duration": 2590,
    "start_time": "2021-12-13T11:10:59.748Z"
   },
   {
    "duration": 156,
    "start_time": "2021-12-13T11:11:29.670Z"
   },
   {
    "duration": 164,
    "start_time": "2021-12-13T11:11:39.321Z"
   },
   {
    "duration": 126,
    "start_time": "2021-12-13T11:12:17.224Z"
   },
   {
    "duration": 87,
    "start_time": "2021-12-13T11:12:41.028Z"
   },
   {
    "duration": 18,
    "start_time": "2021-12-13T11:13:10.409Z"
   },
   {
    "duration": 30,
    "start_time": "2021-12-13T11:13:33.203Z"
   },
   {
    "duration": 398,
    "start_time": "2021-12-13T11:14:16.990Z"
   },
   {
    "duration": 403,
    "start_time": "2021-12-13T11:14:26.571Z"
   },
   {
    "duration": 9,
    "start_time": "2021-12-13T11:14:42.581Z"
   },
   {
    "duration": 8,
    "start_time": "2021-12-13T11:14:48.649Z"
   },
   {
    "duration": 9,
    "start_time": "2021-12-13T11:14:57.697Z"
   },
   {
    "duration": 8,
    "start_time": "2021-12-13T11:15:09.688Z"
   },
   {
    "duration": 9,
    "start_time": "2021-12-13T11:15:20.891Z"
   },
   {
    "duration": 10,
    "start_time": "2021-12-13T11:15:32.423Z"
   },
   {
    "duration": 8,
    "start_time": "2021-12-13T11:15:36.014Z"
   },
   {
    "duration": 21,
    "start_time": "2021-12-13T11:17:01.693Z"
   },
   {
    "duration": 8,
    "start_time": "2021-12-13T11:17:11.788Z"
   },
   {
    "duration": 9,
    "start_time": "2021-12-13T11:17:22.475Z"
   },
   {
    "duration": 22,
    "start_time": "2021-12-13T11:21:17.471Z"
   },
   {
    "duration": 18,
    "start_time": "2021-12-13T11:21:32.054Z"
   },
   {
    "duration": 15,
    "start_time": "2021-12-13T11:21:51.139Z"
   },
   {
    "duration": 248,
    "start_time": "2021-12-13T11:22:06.834Z"
   },
   {
    "duration": 7,
    "start_time": "2021-12-13T11:22:14.061Z"
   },
   {
    "duration": 6,
    "start_time": "2021-12-13T11:22:31.703Z"
   },
   {
    "duration": 9,
    "start_time": "2021-12-13T11:42:26.732Z"
   },
   {
    "duration": 9,
    "start_time": "2021-12-13T11:46:27.998Z"
   },
   {
    "duration": 18,
    "start_time": "2021-12-13T11:46:29.465Z"
   },
   {
    "duration": 286,
    "start_time": "2021-12-13T13:02:03.602Z"
   },
   {
    "duration": 11,
    "start_time": "2021-12-13T13:02:08.509Z"
   },
   {
    "duration": 9,
    "start_time": "2021-12-13T13:02:25.308Z"
   },
   {
    "duration": 5,
    "start_time": "2021-12-13T13:05:51.151Z"
   },
   {
    "duration": 65,
    "start_time": "2021-12-13T13:12:19.526Z"
   },
   {
    "duration": 3,
    "start_time": "2021-12-13T13:21:15.092Z"
   },
   {
    "duration": 6839,
    "start_time": "2021-12-13T13:21:21.254Z"
   },
   {
    "duration": 8198,
    "start_time": "2021-12-13T13:21:31.668Z"
   },
   {
    "duration": 6685,
    "start_time": "2021-12-13T13:21:40.830Z"
   },
   {
    "duration": 6065,
    "start_time": "2021-12-13T13:21:55.522Z"
   },
   {
    "duration": 239,
    "start_time": "2021-12-13T13:22:18.820Z"
   },
   {
    "duration": 247,
    "start_time": "2021-12-13T13:23:07.294Z"
   },
   {
    "duration": 7,
    "start_time": "2021-12-13T13:23:14.035Z"
   },
   {
    "duration": 7,
    "start_time": "2021-12-13T13:23:26.590Z"
   },
   {
    "duration": 9,
    "start_time": "2021-12-13T13:30:53.840Z"
   },
   {
    "duration": 23,
    "start_time": "2021-12-13T13:32:20.891Z"
   },
   {
    "duration": 8,
    "start_time": "2021-12-13T13:32:55.789Z"
   },
   {
    "duration": 8,
    "start_time": "2021-12-13T13:33:16.841Z"
   },
   {
    "duration": 24,
    "start_time": "2021-12-13T13:33:26.241Z"
   },
   {
    "duration": 26,
    "start_time": "2021-12-13T13:33:28.134Z"
   },
   {
    "duration": 18,
    "start_time": "2021-12-13T13:33:28.660Z"
   },
   {
    "duration": 11,
    "start_time": "2021-12-13T13:33:56.701Z"
   },
   {
    "duration": 7,
    "start_time": "2021-12-13T13:34:09.605Z"
   },
   {
    "duration": 58,
    "start_time": "2021-12-13T13:47:36.156Z"
   },
   {
    "duration": 234,
    "start_time": "2021-12-13T13:51:33.495Z"
   },
   {
    "duration": 53,
    "start_time": "2021-12-13T13:51:39.731Z"
   },
   {
    "duration": 57,
    "start_time": "2021-12-13T13:51:50.095Z"
   },
   {
    "duration": 18,
    "start_time": "2021-12-13T13:55:24.704Z"
   },
   {
    "duration": 236,
    "start_time": "2021-12-13T13:55:32.846Z"
   },
   {
    "duration": 293,
    "start_time": "2021-12-13T13:55:59.420Z"
   },
   {
    "duration": 244,
    "start_time": "2021-12-13T14:01:50.117Z"
   },
   {
    "duration": 249,
    "start_time": "2021-12-13T14:02:17.540Z"
   },
   {
    "duration": 241,
    "start_time": "2021-12-13T14:03:27.370Z"
   },
   {
    "duration": 2,
    "start_time": "2021-12-13T14:04:08.333Z"
   },
   {
    "duration": 401,
    "start_time": "2021-12-13T14:04:08.806Z"
   },
   {
    "duration": 8,
    "start_time": "2021-12-13T14:04:10.062Z"
   },
   {
    "duration": 21,
    "start_time": "2021-12-13T14:04:10.618Z"
   },
   {
    "duration": 8,
    "start_time": "2021-12-13T14:04:11.680Z"
   },
   {
    "duration": 8,
    "start_time": "2021-12-13T14:04:12.721Z"
   },
   {
    "duration": 27,
    "start_time": "2021-12-13T14:04:13.253Z"
   },
   {
    "duration": 9,
    "start_time": "2021-12-13T14:04:15.187Z"
   },
   {
    "duration": 14,
    "start_time": "2021-12-13T14:04:16.276Z"
   },
   {
    "duration": 8,
    "start_time": "2021-12-13T14:04:17.572Z"
   },
   {
    "duration": 6,
    "start_time": "2021-12-13T14:04:18.229Z"
   },
   {
    "duration": 11,
    "start_time": "2021-12-13T14:04:19.525Z"
   },
   {
    "duration": 7,
    "start_time": "2021-12-13T14:04:20.150Z"
   },
   {
    "duration": 63,
    "start_time": "2021-12-13T14:04:24.152Z"
   },
   {
    "duration": 6,
    "start_time": "2021-12-13T14:04:25.585Z"
   },
   {
    "duration": 6,
    "start_time": "2021-12-13T14:04:26.334Z"
   },
   {
    "duration": 25,
    "start_time": "2021-12-13T14:04:28.042Z"
   },
   {
    "duration": 19,
    "start_time": "2021-12-13T14:04:28.708Z"
   },
   {
    "duration": 16,
    "start_time": "2021-12-13T14:04:29.361Z"
   },
   {
    "duration": 8,
    "start_time": "2021-12-13T14:04:30.057Z"
   },
   {
    "duration": 74,
    "start_time": "2021-12-13T14:04:31.563Z"
   },
   {
    "duration": 258,
    "start_time": "2021-12-13T14:04:32.163Z"
   },
   {
    "duration": 273,
    "start_time": "2021-12-13T14:07:54.360Z"
   },
   {
    "duration": 273,
    "start_time": "2021-12-13T14:10:19.751Z"
   },
   {
    "duration": 272,
    "start_time": "2021-12-13T14:10:39.530Z"
   },
   {
    "duration": 341,
    "start_time": "2021-12-13T14:10:59.984Z"
   },
   {
    "duration": 270,
    "start_time": "2021-12-13T14:13:03.181Z"
   },
   {
    "duration": 270,
    "start_time": "2021-12-13T14:13:13.951Z"
   },
   {
    "duration": 2,
    "start_time": "2021-12-13T14:14:10.111Z"
   },
   {
    "duration": 399,
    "start_time": "2021-12-13T14:14:10.612Z"
   },
   {
    "duration": 8,
    "start_time": "2021-12-13T14:14:11.667Z"
   },
   {
    "duration": 21,
    "start_time": "2021-12-13T14:14:12.181Z"
   },
   {
    "duration": 9,
    "start_time": "2021-12-13T14:14:13.242Z"
   },
   {
    "duration": 8,
    "start_time": "2021-12-13T14:14:14.218Z"
   },
   {
    "duration": 16,
    "start_time": "2021-12-13T14:14:14.704Z"
   },
   {
    "duration": 10,
    "start_time": "2021-12-13T14:14:15.748Z"
   },
   {
    "duration": 23,
    "start_time": "2021-12-13T14:14:16.251Z"
   },
   {
    "duration": 10,
    "start_time": "2021-12-13T14:14:17.402Z"
   },
   {
    "duration": 7,
    "start_time": "2021-12-13T14:14:18.007Z"
   },
   {
    "duration": 11,
    "start_time": "2021-12-13T14:14:19.545Z"
   },
   {
    "duration": 8,
    "start_time": "2021-12-13T14:14:20.140Z"
   },
   {
    "duration": 71,
    "start_time": "2021-12-13T14:14:23.543Z"
   },
   {
    "duration": 7,
    "start_time": "2021-12-13T14:14:24.728Z"
   },
   {
    "duration": 5,
    "start_time": "2021-12-13T14:14:25.330Z"
   },
   {
    "duration": 19,
    "start_time": "2021-12-13T14:14:26.704Z"
   },
   {
    "duration": 13,
    "start_time": "2021-12-13T14:14:27.276Z"
   },
   {
    "duration": 12,
    "start_time": "2021-12-13T14:14:27.808Z"
   },
   {
    "duration": 6,
    "start_time": "2021-12-13T14:14:28.364Z"
   },
   {
    "duration": 58,
    "start_time": "2021-12-13T14:14:29.613Z"
   },
   {
    "duration": 307,
    "start_time": "2021-12-13T14:14:30.505Z"
   },
   {
    "duration": 318,
    "start_time": "2021-12-13T14:16:21.201Z"
   },
   {
    "duration": 334,
    "start_time": "2021-12-13T14:16:27.969Z"
   },
   {
    "duration": 673,
    "start_time": "2021-12-13T14:20:09.021Z"
   },
   {
    "duration": 8738,
    "start_time": "2021-12-13T14:20:29.410Z"
   },
   {
    "duration": 8805,
    "start_time": "2021-12-13T14:21:07.623Z"
   },
   {
    "duration": 8660,
    "start_time": "2021-12-13T14:21:38.286Z"
   },
   {
    "duration": 8559,
    "start_time": "2021-12-13T14:22:18.944Z"
   },
   {
    "duration": 160,
    "start_time": "2021-12-13T14:24:49.051Z"
   },
   {
    "duration": 7686,
    "start_time": "2021-12-13T14:25:52.716Z"
   },
   {
    "duration": 8599,
    "start_time": "2021-12-13T14:26:11.138Z"
   },
   {
    "duration": 5739,
    "start_time": "2021-12-13T14:26:21.940Z"
   },
   {
    "duration": 3,
    "start_time": "2021-12-13T14:26:36.649Z"
   },
   {
    "duration": 393,
    "start_time": "2021-12-13T14:26:37.160Z"
   },
   {
    "duration": 9,
    "start_time": "2021-12-13T14:26:38.316Z"
   },
   {
    "duration": 21,
    "start_time": "2021-12-13T14:26:38.873Z"
   },
   {
    "duration": 9,
    "start_time": "2021-12-13T14:26:39.928Z"
   },
   {
    "duration": 7,
    "start_time": "2021-12-13T14:26:41.019Z"
   },
   {
    "duration": 17,
    "start_time": "2021-12-13T14:26:41.542Z"
   },
   {
    "duration": 7,
    "start_time": "2021-12-13T14:26:42.598Z"
   },
   {
    "duration": 15,
    "start_time": "2021-12-13T14:26:43.162Z"
   },
   {
    "duration": 8,
    "start_time": "2021-12-13T14:26:44.225Z"
   },
   {
    "duration": 6,
    "start_time": "2021-12-13T14:26:44.789Z"
   },
   {
    "duration": 9,
    "start_time": "2021-12-13T14:26:45.909Z"
   },
   {
    "duration": 7,
    "start_time": "2021-12-13T14:26:46.444Z"
   },
   {
    "duration": 62,
    "start_time": "2021-12-13T14:26:50.782Z"
   },
   {
    "duration": 6,
    "start_time": "2021-12-13T14:26:52.493Z"
   },
   {
    "duration": 6,
    "start_time": "2021-12-13T14:26:53.276Z"
   },
   {
    "duration": 18,
    "start_time": "2021-12-13T14:26:54.642Z"
   },
   {
    "duration": 14,
    "start_time": "2021-12-13T14:26:55.256Z"
   },
   {
    "duration": 11,
    "start_time": "2021-12-13T14:26:55.800Z"
   },
   {
    "duration": 7,
    "start_time": "2021-12-13T14:26:56.451Z"
   },
   {
    "duration": 59,
    "start_time": "2021-12-13T14:26:58.019Z"
   },
   {
    "duration": 56,
    "start_time": "2021-12-13T14:27:02.060Z"
   },
   {
    "duration": 273,
    "start_time": "2021-12-13T14:27:09.580Z"
   },
   {
    "duration": 49,
    "start_time": "2021-12-13T14:27:20.537Z"
   },
   {
    "duration": 38,
    "start_time": "2021-12-13T14:28:36.127Z"
   },
   {
    "duration": 19,
    "start_time": "2021-12-13T14:30:09.713Z"
   },
   {
    "duration": 44,
    "start_time": "2021-12-13T14:30:10.737Z"
   },
   {
    "duration": 8507,
    "start_time": "2021-12-13T14:30:52.404Z"
   },
   {
    "duration": 204,
    "start_time": "2021-12-13T14:31:00.709Z"
   },
   {
    "duration": 7995,
    "start_time": "2021-12-13T14:31:45.948Z"
   },
   {
    "duration": 188,
    "start_time": "2021-12-13T14:31:53.757Z"
   },
   {
    "duration": 186,
    "start_time": "2021-12-13T14:31:53.760Z"
   },
   {
    "duration": 8,
    "start_time": "2021-12-13T14:31:54.476Z"
   },
   {
    "duration": 8,
    "start_time": "2021-12-13T14:31:55.095Z"
   },
   {
    "duration": 8,
    "start_time": "2021-12-13T14:31:56.640Z"
   },
   {
    "duration": 253,
    "start_time": "2021-12-13T14:31:57.802Z"
   },
   {
    "duration": 6,
    "start_time": "2021-12-13T14:31:58.389Z"
   },
   {
    "duration": 8,
    "start_time": "2021-12-13T14:31:59.624Z"
   },
   {
    "duration": 7,
    "start_time": "2021-12-13T14:32:00.244Z"
   },
   {
    "duration": 9,
    "start_time": "2021-12-13T14:32:01.564Z"
   },
   {
    "duration": 6,
    "start_time": "2021-12-13T14:32:02.268Z"
   },
   {
    "duration": 10,
    "start_time": "2021-12-13T14:32:03.584Z"
   },
   {
    "duration": 6,
    "start_time": "2021-12-13T14:32:04.252Z"
   },
   {
    "duration": 7155,
    "start_time": "2021-12-13T14:32:08.304Z"
   },
   {
    "duration": 195,
    "start_time": "2021-12-13T14:32:15.266Z"
   },
   {
    "duration": 191,
    "start_time": "2021-12-13T14:32:15.270Z"
   },
   {
    "duration": 185,
    "start_time": "2021-12-13T14:32:15.277Z"
   },
   {
    "duration": 183,
    "start_time": "2021-12-13T14:32:15.280Z"
   },
   {
    "duration": 178,
    "start_time": "2021-12-13T14:32:15.286Z"
   },
   {
    "duration": 177,
    "start_time": "2021-12-13T14:32:15.288Z"
   },
   {
    "duration": 6500,
    "start_time": "2021-12-13T14:32:16.361Z"
   },
   {
    "duration": 146,
    "start_time": "2021-12-13T14:32:22.718Z"
   },
   {
    "duration": 2,
    "start_time": "2021-12-13T14:32:33.377Z"
   },
   {
    "duration": 448,
    "start_time": "2021-12-13T14:32:33.991Z"
   },
   {
    "duration": 7,
    "start_time": "2021-12-13T14:32:35.955Z"
   },
   {
    "duration": 20,
    "start_time": "2021-12-13T14:32:36.925Z"
   },
   {
    "duration": 11,
    "start_time": "2021-12-13T14:32:38.982Z"
   },
   {
    "duration": 7,
    "start_time": "2021-12-13T14:32:46.700Z"
   },
   {
    "duration": 22,
    "start_time": "2021-12-13T14:32:50.668Z"
   },
   {
    "duration": 7,
    "start_time": "2021-12-13T14:32:53.426Z"
   },
   {
    "duration": 15,
    "start_time": "2021-12-13T14:32:54.497Z"
   },
   {
    "duration": 10,
    "start_time": "2021-12-13T14:32:56.238Z"
   },
   {
    "duration": 6,
    "start_time": "2021-12-13T14:32:57.008Z"
   },
   {
    "duration": 10,
    "start_time": "2021-12-13T14:32:58.546Z"
   },
   {
    "duration": 7,
    "start_time": "2021-12-13T14:32:59.228Z"
   },
   {
    "duration": 69,
    "start_time": "2021-12-13T14:33:05.712Z"
   },
   {
    "duration": 6,
    "start_time": "2021-12-13T14:33:08.634Z"
   },
   {
    "duration": 5,
    "start_time": "2021-12-13T14:33:09.698Z"
   },
   {
    "duration": 19,
    "start_time": "2021-12-13T14:33:11.828Z"
   },
   {
    "duration": 14,
    "start_time": "2021-12-13T14:33:12.940Z"
   },
   {
    "duration": 12,
    "start_time": "2021-12-13T14:33:13.975Z"
   },
   {
    "duration": 7,
    "start_time": "2021-12-13T14:33:15.025Z"
   },
   {
    "duration": 67,
    "start_time": "2021-12-13T14:33:17.005Z"
   },
   {
    "duration": 75,
    "start_time": "2021-12-13T14:33:18.614Z"
   },
   {
    "duration": 51,
    "start_time": "2021-12-13T14:33:19.956Z"
   },
   {
    "duration": 31,
    "start_time": "2021-12-13T14:34:52.064Z"
   },
   {
    "duration": 8,
    "start_time": "2021-12-13T14:45:25.892Z"
   },
   {
    "duration": 789,
    "start_time": "2021-12-13T14:46:40.898Z"
   },
   {
    "duration": 264,
    "start_time": "2021-12-13T14:47:07.479Z"
   },
   {
    "duration": 297,
    "start_time": "2021-12-13T14:47:15.620Z"
   },
   {
    "duration": 259,
    "start_time": "2021-12-13T14:47:25.990Z"
   },
   {
    "duration": 902,
    "start_time": "2021-12-13T14:48:15.069Z"
   },
   {
    "duration": 27,
    "start_time": "2021-12-13T14:49:51.317Z"
   },
   {
    "duration": 254,
    "start_time": "2021-12-13T14:52:17.630Z"
   },
   {
    "duration": 256,
    "start_time": "2021-12-13T14:52:45.390Z"
   },
   {
    "duration": 252,
    "start_time": "2021-12-13T14:54:54.780Z"
   },
   {
    "duration": 2,
    "start_time": "2021-12-13T14:55:11.081Z"
   },
   {
    "duration": 402,
    "start_time": "2021-12-13T14:55:13.895Z"
   },
   {
    "duration": 8,
    "start_time": "2021-12-13T14:55:14.937Z"
   },
   {
    "duration": 23,
    "start_time": "2021-12-13T14:55:15.407Z"
   },
   {
    "duration": 8,
    "start_time": "2021-12-13T14:55:16.369Z"
   },
   {
    "duration": 7,
    "start_time": "2021-12-13T14:55:17.380Z"
   },
   {
    "duration": 17,
    "start_time": "2021-12-13T14:55:17.912Z"
   },
   {
    "duration": 8,
    "start_time": "2021-12-13T14:55:19.461Z"
   },
   {
    "duration": 15,
    "start_time": "2021-12-13T14:55:20.823Z"
   },
   {
    "duration": 8,
    "start_time": "2021-12-13T14:55:22.072Z"
   },
   {
    "duration": 6,
    "start_time": "2021-12-13T14:55:22.727Z"
   },
   {
    "duration": 21,
    "start_time": "2021-12-13T14:55:23.993Z"
   },
   {
    "duration": 8,
    "start_time": "2021-12-13T14:55:24.574Z"
   },
   {
    "duration": 67,
    "start_time": "2021-12-13T14:55:28.118Z"
   },
   {
    "duration": 8,
    "start_time": "2021-12-13T14:55:29.219Z"
   },
   {
    "duration": 5,
    "start_time": "2021-12-13T14:55:29.841Z"
   },
   {
    "duration": 19,
    "start_time": "2021-12-13T14:55:31.196Z"
   },
   {
    "duration": 14,
    "start_time": "2021-12-13T14:55:31.763Z"
   },
   {
    "duration": 12,
    "start_time": "2021-12-13T14:55:32.304Z"
   },
   {
    "duration": 7,
    "start_time": "2021-12-13T14:55:32.983Z"
   },
   {
    "duration": 57,
    "start_time": "2021-12-13T14:55:34.639Z"
   },
   {
    "duration": 70,
    "start_time": "2021-12-13T14:55:35.341Z"
   },
   {
    "duration": 248,
    "start_time": "2021-12-13T14:55:36.233Z"
   },
   {
    "duration": 35,
    "start_time": "2021-12-13T14:56:30.175Z"
   },
   {
    "duration": 43,
    "start_time": "2021-12-13T14:56:54.985Z"
   },
   {
    "duration": 17,
    "start_time": "2021-12-13T15:01:45.262Z"
   },
   {
    "duration": 46,
    "start_time": "2021-12-13T15:01:45.864Z"
   },
   {
    "duration": 8,
    "start_time": "2021-12-13T15:25:58.845Z"
   },
   {
    "duration": 33,
    "start_time": "2021-12-13T15:26:11.179Z"
   },
   {
    "duration": 27,
    "start_time": "2021-12-13T15:26:36.072Z"
   },
   {
    "duration": 27,
    "start_time": "2021-12-13T15:27:16.022Z"
   },
   {
    "duration": 28,
    "start_time": "2021-12-13T16:11:52.422Z"
   },
   {
    "duration": 27,
    "start_time": "2021-12-13T16:13:00.517Z"
   },
   {
    "duration": 22,
    "start_time": "2021-12-13T16:16:53.961Z"
   },
   {
    "duration": 16,
    "start_time": "2021-12-13T16:17:15.547Z"
   },
   {
    "duration": 19,
    "start_time": "2021-12-13T16:20:23.383Z"
   },
   {
    "duration": 43,
    "start_time": "2021-12-13T16:20:25.982Z"
   },
   {
    "duration": 32,
    "start_time": "2021-12-13T16:20:38.825Z"
   },
   {
    "duration": 49,
    "start_time": "2021-12-13T16:20:48.950Z"
   },
   {
    "duration": 411,
    "start_time": "2021-12-15T18:14:12.511Z"
   },
   {
    "duration": 703,
    "start_time": "2021-12-15T18:14:19.569Z"
   },
   {
    "duration": 451,
    "start_time": "2021-12-15T18:14:20.274Z"
   },
   {
    "duration": 16,
    "start_time": "2021-12-15T18:14:21.452Z"
   },
   {
    "duration": 22,
    "start_time": "2021-12-15T18:14:22.106Z"
   },
   {
    "duration": 10,
    "start_time": "2021-12-15T18:14:23.316Z"
   },
   {
    "duration": 8,
    "start_time": "2021-12-15T18:14:24.551Z"
   },
   {
    "duration": 18,
    "start_time": "2021-12-15T18:14:25.180Z"
   },
   {
    "duration": 8,
    "start_time": "2021-12-15T18:14:28.691Z"
   },
   {
    "duration": 15,
    "start_time": "2021-12-15T18:14:30.465Z"
   },
   {
    "duration": 9,
    "start_time": "2021-12-15T18:14:31.878Z"
   },
   {
    "duration": 8,
    "start_time": "2021-12-15T18:14:32.601Z"
   },
   {
    "duration": 10,
    "start_time": "2021-12-15T18:14:34.019Z"
   },
   {
    "duration": 6,
    "start_time": "2021-12-15T18:14:34.840Z"
   },
   {
    "duration": 96,
    "start_time": "2021-12-15T18:14:39.505Z"
   },
   {
    "duration": 6,
    "start_time": "2021-12-15T18:14:41.718Z"
   },
   {
    "duration": 7,
    "start_time": "2021-12-15T18:14:42.921Z"
   },
   {
    "duration": 20,
    "start_time": "2021-12-15T18:14:44.826Z"
   },
   {
    "duration": 17,
    "start_time": "2021-12-15T18:14:45.842Z"
   },
   {
    "duration": 12,
    "start_time": "2021-12-15T18:14:46.607Z"
   },
   {
    "duration": 8,
    "start_time": "2021-12-15T18:14:47.325Z"
   },
   {
    "duration": 62,
    "start_time": "2021-12-15T18:14:48.779Z"
   },
   {
    "duration": 55,
    "start_time": "2021-12-15T18:14:49.518Z"
   },
   {
    "duration": 56,
    "start_time": "2021-12-15T18:14:51.077Z"
   },
   {
    "duration": 22,
    "start_time": "2021-12-15T18:15:02.088Z"
   },
   {
    "duration": 27,
    "start_time": "2021-12-15T18:24:16.991Z"
   },
   {
    "duration": 24,
    "start_time": "2021-12-15T18:24:45.917Z"
   },
   {
    "duration": 22,
    "start_time": "2021-12-15T18:25:29.775Z"
   },
   {
    "duration": 25,
    "start_time": "2021-12-15T18:26:08.947Z"
   },
   {
    "duration": 24,
    "start_time": "2021-12-15T18:28:43.960Z"
   },
   {
    "duration": 25,
    "start_time": "2021-12-15T18:29:08.506Z"
   },
   {
    "duration": 9458,
    "start_time": "2021-12-15T18:30:44.098Z"
   },
   {
    "duration": 38,
    "start_time": "2021-12-15T18:30:53.520Z"
   },
   {
    "duration": 36,
    "start_time": "2021-12-15T18:30:53.523Z"
   },
   {
    "duration": 34,
    "start_time": "2021-12-15T18:30:53.526Z"
   },
   {
    "duration": 3,
    "start_time": "2021-12-15T18:31:30.154Z"
   },
   {
    "duration": 394,
    "start_time": "2021-12-15T18:31:30.942Z"
   },
   {
    "duration": 8,
    "start_time": "2021-12-15T18:31:34.000Z"
   },
   {
    "duration": 20,
    "start_time": "2021-12-15T18:31:34.920Z"
   },
   {
    "duration": 8,
    "start_time": "2021-12-15T18:31:37.055Z"
   },
   {
    "duration": 7,
    "start_time": "2021-12-15T18:31:39.212Z"
   },
   {
    "duration": 16,
    "start_time": "2021-12-15T18:31:40.830Z"
   },
   {
    "duration": 7,
    "start_time": "2021-12-15T18:31:43.051Z"
   },
   {
    "duration": 15,
    "start_time": "2021-12-15T18:31:44.070Z"
   },
   {
    "duration": 9,
    "start_time": "2021-12-15T18:31:45.976Z"
   },
   {
    "duration": 6,
    "start_time": "2021-12-15T18:31:46.817Z"
   },
   {
    "duration": 10,
    "start_time": "2021-12-15T18:31:48.353Z"
   },
   {
    "duration": 8,
    "start_time": "2021-12-15T18:31:49.252Z"
   },
   {
    "duration": 67,
    "start_time": "2021-12-15T18:32:02.230Z"
   },
   {
    "duration": 6,
    "start_time": "2021-12-15T18:32:03.623Z"
   },
   {
    "duration": 6,
    "start_time": "2021-12-15T18:32:04.781Z"
   },
   {
    "duration": 19,
    "start_time": "2021-12-15T18:32:06.274Z"
   },
   {
    "duration": 13,
    "start_time": "2021-12-15T18:32:06.890Z"
   },
   {
    "duration": 12,
    "start_time": "2021-12-15T18:32:07.550Z"
   },
   {
    "duration": 7,
    "start_time": "2021-12-15T18:32:15.006Z"
   },
   {
    "duration": 59,
    "start_time": "2021-12-15T18:32:16.417Z"
   },
   {
    "duration": 53,
    "start_time": "2021-12-15T18:32:17.284Z"
   },
   {
    "duration": 22,
    "start_time": "2021-12-15T18:32:18.055Z"
   },
   {
    "duration": 22,
    "start_time": "2021-12-15T18:32:18.832Z"
   },
   {
    "duration": 22,
    "start_time": "2021-12-15T18:35:18.258Z"
   },
   {
    "duration": 2388,
    "start_time": "2021-12-15T18:43:00.163Z"
   },
   {
    "duration": 105,
    "start_time": "2021-12-15T18:43:26.664Z"
   },
   {
    "duration": 15,
    "start_time": "2021-12-15T18:48:26.180Z"
   },
   {
    "duration": 9,
    "start_time": "2021-12-15T18:50:17.132Z"
   },
   {
    "duration": 355,
    "start_time": "2021-12-15T18:50:25.950Z"
   },
   {
    "duration": 20,
    "start_time": "2021-12-15T18:50:31.280Z"
   },
   {
    "duration": 5,
    "start_time": "2021-12-15T18:50:42.584Z"
   },
   {
    "duration": 654,
    "start_time": "2021-12-15T19:06:36.983Z"
   },
   {
    "duration": 1066,
    "start_time": "2021-12-15T19:11:53.471Z"
   },
   {
    "duration": 10118,
    "start_time": "2021-12-15T19:12:36.061Z"
   },
   {
    "duration": 8662,
    "start_time": "2021-12-15T19:12:54.457Z"
   },
   {
    "duration": 1907,
    "start_time": "2021-12-15T19:13:48.616Z"
   },
   {
    "duration": 3,
    "start_time": "2021-12-15T19:13:50.950Z"
   },
   {
    "duration": 401,
    "start_time": "2021-12-15T19:13:51.504Z"
   },
   {
    "duration": 9,
    "start_time": "2021-12-15T19:13:52.590Z"
   },
   {
    "duration": 21,
    "start_time": "2021-12-15T19:13:53.140Z"
   },
   {
    "duration": 9,
    "start_time": "2021-12-15T19:13:54.214Z"
   },
   {
    "duration": 7,
    "start_time": "2021-12-15T19:13:55.267Z"
   },
   {
    "duration": 17,
    "start_time": "2021-12-15T19:13:55.790Z"
   },
   {
    "duration": 7,
    "start_time": "2021-12-15T19:13:56.856Z"
   },
   {
    "duration": 15,
    "start_time": "2021-12-15T19:13:57.422Z"
   },
   {
    "duration": 8,
    "start_time": "2021-12-15T19:13:58.478Z"
   },
   {
    "duration": 6,
    "start_time": "2021-12-15T19:13:59.016Z"
   },
   {
    "duration": 10,
    "start_time": "2021-12-15T19:14:00.119Z"
   },
   {
    "duration": 7,
    "start_time": "2021-12-15T19:14:00.634Z"
   },
   {
    "duration": 67,
    "start_time": "2021-12-15T19:14:04.102Z"
   },
   {
    "duration": 6,
    "start_time": "2021-12-15T19:14:05.163Z"
   },
   {
    "duration": 6,
    "start_time": "2021-12-15T19:14:05.712Z"
   },
   {
    "duration": 20,
    "start_time": "2021-12-15T19:14:07.637Z"
   },
   {
    "duration": 15,
    "start_time": "2021-12-15T19:14:08.369Z"
   },
   {
    "duration": 12,
    "start_time": "2021-12-15T19:14:09.032Z"
   },
   {
    "duration": 7,
    "start_time": "2021-12-15T19:14:09.654Z"
   },
   {
    "duration": 59,
    "start_time": "2021-12-15T19:14:10.745Z"
   },
   {
    "duration": 52,
    "start_time": "2021-12-15T19:14:11.439Z"
   },
   {
    "duration": 22,
    "start_time": "2021-12-15T19:14:13.804Z"
   },
   {
    "duration": 24,
    "start_time": "2021-12-15T19:14:14.442Z"
   },
   {
    "duration": 9,
    "start_time": "2021-12-15T19:14:45.408Z"
   },
   {
    "duration": 10675,
    "start_time": "2021-12-15T19:15:07.688Z"
   },
   {
    "duration": 370,
    "start_time": "2021-12-15T19:16:09.758Z"
   },
   {
    "duration": 3,
    "start_time": "2021-12-15T19:16:16.801Z"
   },
   {
    "duration": 409,
    "start_time": "2021-12-15T19:16:16.806Z"
   },
   {
    "duration": 7,
    "start_time": "2021-12-15T19:16:17.217Z"
   },
   {
    "duration": 23,
    "start_time": "2021-12-15T19:16:17.226Z"
   },
   {
    "duration": 8,
    "start_time": "2021-12-15T19:16:17.251Z"
   },
   {
    "duration": 9,
    "start_time": "2021-12-15T19:16:17.261Z"
   },
   {
    "duration": 34,
    "start_time": "2021-12-15T19:16:17.273Z"
   },
   {
    "duration": 7,
    "start_time": "2021-12-15T19:16:17.309Z"
   },
   {
    "duration": 15,
    "start_time": "2021-12-15T19:16:17.318Z"
   },
   {
    "duration": 8,
    "start_time": "2021-12-15T19:16:17.335Z"
   },
   {
    "duration": 6,
    "start_time": "2021-12-15T19:16:17.345Z"
   },
   {
    "duration": 11,
    "start_time": "2021-12-15T19:16:17.352Z"
   },
   {
    "duration": 44,
    "start_time": "2021-12-15T19:16:17.364Z"
   },
   {
    "duration": 67,
    "start_time": "2021-12-15T19:16:17.409Z"
   },
   {
    "duration": 6,
    "start_time": "2021-12-15T19:16:17.478Z"
   },
   {
    "duration": 24,
    "start_time": "2021-12-15T19:16:17.485Z"
   },
   {
    "duration": 19,
    "start_time": "2021-12-15T19:16:17.511Z"
   },
   {
    "duration": 14,
    "start_time": "2021-12-15T19:16:17.532Z"
   },
   {
    "duration": 11,
    "start_time": "2021-12-15T19:16:17.550Z"
   },
   {
    "duration": 43,
    "start_time": "2021-12-15T19:16:17.564Z"
   },
   {
    "duration": 60,
    "start_time": "2021-12-15T19:16:17.609Z"
   },
   {
    "duration": 81,
    "start_time": "2021-12-15T19:16:17.670Z"
   },
   {
    "duration": 394,
    "start_time": "2021-12-15T19:16:17.753Z"
   },
   {
    "duration": 47,
    "start_time": "2021-12-15T19:16:18.102Z"
   },
   {
    "duration": 21,
    "start_time": "2021-12-15T19:16:18.130Z"
   },
   {
    "duration": 19,
    "start_time": "2021-12-15T19:16:18.133Z"
   },
   {
    "duration": -7,
    "start_time": "2021-12-15T19:16:18.159Z"
   },
   {
    "duration": -11,
    "start_time": "2021-12-15T19:16:18.164Z"
   },
   {
    "duration": 355,
    "start_time": "2021-12-15T19:17:03.905Z"
   },
   {
    "duration": 4,
    "start_time": "2021-12-15T19:17:09.104Z"
   },
   {
    "duration": 422,
    "start_time": "2021-12-15T19:17:09.111Z"
   },
   {
    "duration": 8,
    "start_time": "2021-12-15T19:17:09.535Z"
   },
   {
    "duration": 24,
    "start_time": "2021-12-15T19:17:09.545Z"
   },
   {
    "duration": 9,
    "start_time": "2021-12-15T19:17:09.571Z"
   },
   {
    "duration": 10,
    "start_time": "2021-12-15T19:17:09.582Z"
   },
   {
    "duration": 18,
    "start_time": "2021-12-15T19:17:09.594Z"
   },
   {
    "duration": 8,
    "start_time": "2021-12-15T19:17:09.615Z"
   },
   {
    "duration": 16,
    "start_time": "2021-12-15T19:17:09.625Z"
   },
   {
    "duration": 9,
    "start_time": "2021-12-15T19:17:09.643Z"
   },
   {
    "duration": 8,
    "start_time": "2021-12-15T19:17:09.653Z"
   },
   {
    "duration": 45,
    "start_time": "2021-12-15T19:17:09.663Z"
   },
   {
    "duration": 8,
    "start_time": "2021-12-15T19:17:09.710Z"
   },
   {
    "duration": 65,
    "start_time": "2021-12-15T19:17:09.720Z"
   },
   {
    "duration": 22,
    "start_time": "2021-12-15T19:17:09.787Z"
   },
   {
    "duration": 6,
    "start_time": "2021-12-15T19:17:09.811Z"
   },
   {
    "duration": 18,
    "start_time": "2021-12-15T19:17:09.818Z"
   },
   {
    "duration": 14,
    "start_time": "2021-12-15T19:17:09.837Z"
   },
   {
    "duration": 11,
    "start_time": "2021-12-15T19:17:09.853Z"
   },
   {
    "duration": 46,
    "start_time": "2021-12-15T19:17:09.866Z"
   },
   {
    "duration": 66,
    "start_time": "2021-12-15T19:17:09.914Z"
   },
   {
    "duration": 68,
    "start_time": "2021-12-15T19:17:09.982Z"
   },
   {
    "duration": 403,
    "start_time": "2021-12-15T19:17:10.053Z"
   },
   {
    "duration": 56,
    "start_time": "2021-12-15T19:17:10.402Z"
   },
   {
    "duration": 51,
    "start_time": "2021-12-15T19:17:10.408Z"
   },
   {
    "duration": 43,
    "start_time": "2021-12-15T19:17:10.417Z"
   },
   {
    "duration": 26,
    "start_time": "2021-12-15T19:17:10.436Z"
   },
   {
    "duration": 16,
    "start_time": "2021-12-15T19:17:10.447Z"
   },
   {
    "duration": 399,
    "start_time": "2021-12-15T19:18:39.745Z"
   },
   {
    "duration": 3,
    "start_time": "2021-12-15T19:18:54.927Z"
   },
   {
    "duration": 411,
    "start_time": "2021-12-15T19:18:55.437Z"
   },
   {
    "duration": 9,
    "start_time": "2021-12-15T19:18:56.552Z"
   },
   {
    "duration": 23,
    "start_time": "2021-12-15T19:18:57.742Z"
   },
   {
    "duration": 8,
    "start_time": "2021-12-15T19:18:59.090Z"
   },
   {
    "duration": 8,
    "start_time": "2021-12-15T19:19:00.234Z"
   },
   {
    "duration": 16,
    "start_time": "2021-12-15T19:19:00.803Z"
   },
   {
    "duration": 8,
    "start_time": "2021-12-15T19:19:01.949Z"
   },
   {
    "duration": 15,
    "start_time": "2021-12-15T19:19:02.678Z"
   },
   {
    "duration": 9,
    "start_time": "2021-12-15T19:19:04.287Z"
   },
   {
    "duration": 7,
    "start_time": "2021-12-15T19:19:05.323Z"
   },
   {
    "duration": 11,
    "start_time": "2021-12-15T19:19:06.552Z"
   },
   {
    "duration": 7,
    "start_time": "2021-12-15T19:19:07.121Z"
   },
   {
    "duration": 66,
    "start_time": "2021-12-15T19:19:11.472Z"
   },
   {
    "duration": 6,
    "start_time": "2021-12-15T19:19:12.597Z"
   },
   {
    "duration": 6,
    "start_time": "2021-12-15T19:19:13.124Z"
   },
   {
    "duration": 19,
    "start_time": "2021-12-15T19:19:14.278Z"
   },
   {
    "duration": 13,
    "start_time": "2021-12-15T19:19:14.878Z"
   },
   {
    "duration": 11,
    "start_time": "2021-12-15T19:19:15.501Z"
   },
   {
    "duration": 7,
    "start_time": "2021-12-15T19:19:16.106Z"
   },
   {
    "duration": 61,
    "start_time": "2021-12-15T19:19:17.745Z"
   },
   {
    "duration": 52,
    "start_time": "2021-12-15T19:19:20.095Z"
   },
   {
    "duration": 24,
    "start_time": "2021-12-15T19:19:21.146Z"
   },
   {
    "duration": 360,
    "start_time": "2021-12-15T19:19:22.296Z"
   },
   {
    "duration": 9,
    "start_time": "2021-12-15T19:19:38.843Z"
   },
   {
    "duration": 18,
    "start_time": "2021-12-15T19:20:32.889Z"
   },
   {
    "duration": 9,
    "start_time": "2021-12-15T19:20:32.899Z"
   },
   {
    "duration": 5,
    "start_time": "2021-12-15T19:20:32.904Z"
   },
   {
    "duration": 4,
    "start_time": "2021-12-15T19:20:32.906Z"
   },
   {
    "duration": 1310,
    "start_time": "2021-12-17T10:27:12.320Z"
   },
   {
    "duration": 417,
    "start_time": "2021-12-17T10:27:13.632Z"
   },
   {
    "duration": 11,
    "start_time": "2021-12-17T10:27:14.210Z"
   },
   {
    "duration": 22,
    "start_time": "2021-12-17T10:27:14.949Z"
   },
   {
    "duration": 9,
    "start_time": "2021-12-17T10:27:16.192Z"
   },
   {
    "duration": 9,
    "start_time": "2021-12-17T10:27:17.563Z"
   },
   {
    "duration": 19,
    "start_time": "2021-12-17T10:27:18.111Z"
   },
   {
    "duration": 7,
    "start_time": "2021-12-17T10:27:19.359Z"
   },
   {
    "duration": 15,
    "start_time": "2021-12-17T10:27:20.244Z"
   },
   {
    "duration": 8,
    "start_time": "2021-12-17T10:27:21.577Z"
   },
   {
    "duration": 6,
    "start_time": "2021-12-17T10:27:22.480Z"
   },
   {
    "duration": 10,
    "start_time": "2021-12-17T10:27:24.106Z"
   },
   {
    "duration": 7,
    "start_time": "2021-12-17T10:27:24.868Z"
   },
   {
    "duration": 70,
    "start_time": "2021-12-17T10:27:29.806Z"
   },
   {
    "duration": 8,
    "start_time": "2021-12-17T10:27:31.484Z"
   },
   {
    "duration": 7,
    "start_time": "2021-12-17T10:27:32.245Z"
   },
   {
    "duration": 20,
    "start_time": "2021-12-17T10:27:33.477Z"
   },
   {
    "duration": 15,
    "start_time": "2021-12-17T10:27:34.124Z"
   },
   {
    "duration": 12,
    "start_time": "2021-12-17T10:27:35.057Z"
   },
   {
    "duration": 8,
    "start_time": "2021-12-17T10:27:35.782Z"
   },
   {
    "duration": 60,
    "start_time": "2021-12-17T10:27:37.481Z"
   },
   {
    "duration": 63,
    "start_time": "2021-12-17T10:27:38.772Z"
   },
   {
    "duration": 23,
    "start_time": "2021-12-17T10:27:39.499Z"
   },
   {
    "duration": 381,
    "start_time": "2021-12-17T10:27:40.310Z"
   },
   {
    "duration": 26,
    "start_time": "2021-12-17T10:27:47.681Z"
   },
   {
    "duration": 9,
    "start_time": "2021-12-17T10:27:49.391Z"
   },
   {
    "duration": 6,
    "start_time": "2021-12-17T10:27:50.164Z"
   },
   {
    "duration": 962,
    "start_time": "2021-12-17T10:27:51.820Z"
   },
   {
    "duration": 298,
    "start_time": "2021-12-17T15:21:33.404Z"
   },
   {
    "duration": 1046,
    "start_time": "2021-12-17T15:21:42.146Z"
   },
   {
    "duration": 344,
    "start_time": "2021-12-17T15:21:43.193Z"
   },
   {
    "duration": 10,
    "start_time": "2021-12-17T15:21:43.539Z"
   },
   {
    "duration": 21,
    "start_time": "2021-12-17T15:21:43.551Z"
   },
   {
    "duration": 8,
    "start_time": "2021-12-17T15:21:44.625Z"
   },
   {
    "duration": 8,
    "start_time": "2021-12-17T15:21:45.795Z"
   },
   {
    "duration": 15,
    "start_time": "2021-12-17T15:21:46.351Z"
   },
   {
    "duration": 6,
    "start_time": "2021-12-17T15:21:47.367Z"
   },
   {
    "duration": 14,
    "start_time": "2021-12-17T15:21:47.884Z"
   },
   {
    "duration": 8,
    "start_time": "2021-12-17T15:21:48.919Z"
   },
   {
    "duration": 6,
    "start_time": "2021-12-17T15:21:49.463Z"
   },
   {
    "duration": 9,
    "start_time": "2021-12-17T15:21:50.439Z"
   },
   {
    "duration": 6,
    "start_time": "2021-12-17T15:21:50.958Z"
   },
   {
    "duration": 64,
    "start_time": "2021-12-17T15:21:54.014Z"
   },
   {
    "duration": 7,
    "start_time": "2021-12-17T15:21:55.520Z"
   },
   {
    "duration": 6,
    "start_time": "2021-12-17T15:21:56.385Z"
   },
   {
    "duration": 18,
    "start_time": "2021-12-17T15:21:57.603Z"
   },
   {
    "duration": 14,
    "start_time": "2021-12-17T15:21:58.169Z"
   },
   {
    "duration": 11,
    "start_time": "2021-12-17T15:21:58.788Z"
   },
   {
    "duration": 8,
    "start_time": "2021-12-17T15:21:59.424Z"
   },
   {
    "duration": 56,
    "start_time": "2021-12-17T15:22:00.734Z"
   },
   {
    "duration": 52,
    "start_time": "2021-12-17T15:22:01.644Z"
   },
   {
    "duration": 20,
    "start_time": "2021-12-17T15:22:02.484Z"
   },
   {
    "duration": 290,
    "start_time": "2021-12-17T15:22:03.110Z"
   },
   {
    "duration": 384,
    "start_time": "2021-12-17T15:28:58.088Z"
   },
   {
    "duration": 19,
    "start_time": "2021-12-17T15:29:10.400Z"
   },
   {
    "duration": 8,
    "start_time": "2021-12-17T15:29:12.990Z"
   },
   {
    "duration": 5,
    "start_time": "2021-12-17T15:29:13.608Z"
   },
   {
    "duration": 891,
    "start_time": "2021-12-17T15:29:14.895Z"
   },
   {
    "duration": 8,
    "start_time": "2021-12-17T15:31:19.662Z"
   },
   {
    "duration": 7,
    "start_time": "2021-12-17T15:33:42.534Z"
   },
   {
    "duration": 5,
    "start_time": "2021-12-17T15:34:43.203Z"
   },
   {
    "duration": 20,
    "start_time": "2021-12-17T15:34:44.777Z"
   },
   {
    "duration": 5,
    "start_time": "2021-12-17T15:34:49.140Z"
   },
   {
    "duration": 7,
    "start_time": "2021-12-17T15:34:49.779Z"
   },
   {
    "duration": 243,
    "start_time": "2021-12-17T15:34:57.806Z"
   },
   {
    "duration": 640,
    "start_time": "2021-12-17T15:35:07.333Z"
   },
   {
    "duration": 221,
    "start_time": "2021-12-17T15:35:15.841Z"
   },
   {
    "duration": 255,
    "start_time": "2021-12-17T15:44:03.139Z"
   },
   {
    "duration": 198,
    "start_time": "2021-12-17T15:44:17.151Z"
   },
   {
    "duration": 214,
    "start_time": "2021-12-17T15:44:33.917Z"
   },
   {
    "duration": 201,
    "start_time": "2021-12-17T15:44:59.579Z"
   },
   {
    "duration": 217,
    "start_time": "2021-12-17T15:47:19.849Z"
   },
   {
    "duration": 232,
    "start_time": "2021-12-17T15:47:48.685Z"
   },
   {
    "duration": 202,
    "start_time": "2021-12-17T15:55:28.442Z"
   },
   {
    "duration": 206,
    "start_time": "2021-12-17T15:56:44.853Z"
   },
   {
    "duration": 206,
    "start_time": "2021-12-17T15:57:18.840Z"
   },
   {
    "duration": 198,
    "start_time": "2021-12-17T15:57:40.033Z"
   },
   {
    "duration": 287,
    "start_time": "2021-12-17T15:57:42.362Z"
   },
   {
    "duration": 316,
    "start_time": "2021-12-17T15:58:18.854Z"
   },
   {
    "duration": 9,
    "start_time": "2021-12-17T16:01:36.918Z"
   },
   {
    "duration": 279,
    "start_time": "2021-12-17T16:02:01.937Z"
   },
   {
    "duration": 9,
    "start_time": "2021-12-17T16:02:09.691Z"
   },
   {
    "duration": 255,
    "start_time": "2021-12-17T16:03:13.634Z"
   },
   {
    "duration": 256,
    "start_time": "2021-12-17T16:03:24.142Z"
   },
   {
    "duration": 10,
    "start_time": "2021-12-17T16:03:34.467Z"
   },
   {
    "duration": 5,
    "start_time": "2021-12-17T16:04:53.184Z"
   },
   {
    "duration": 33,
    "start_time": "2021-12-17T16:04:58.216Z"
   },
   {
    "duration": 19,
    "start_time": "2021-12-17T16:06:29.586Z"
   },
   {
    "duration": 18,
    "start_time": "2021-12-17T16:07:02.660Z"
   },
   {
    "duration": 18,
    "start_time": "2021-12-17T16:07:28.610Z"
   },
   {
    "duration": 16,
    "start_time": "2021-12-17T16:10:45.377Z"
   },
   {
    "duration": 21,
    "start_time": "2021-12-17T16:10:49.765Z"
   },
   {
    "duration": 261,
    "start_time": "2021-12-17T16:11:42.473Z"
   },
   {
    "duration": 19,
    "start_time": "2021-12-17T16:11:54.317Z"
   },
   {
    "duration": 18,
    "start_time": "2021-12-17T16:11:57.919Z"
   },
   {
    "duration": 252,
    "start_time": "2021-12-17T16:12:24.866Z"
   },
   {
    "duration": 276,
    "start_time": "2021-12-17T16:12:43.568Z"
   },
   {
    "duration": 274,
    "start_time": "2021-12-17T16:13:06.660Z"
   },
   {
    "duration": 19,
    "start_time": "2021-12-17T16:13:28.293Z"
   },
   {
    "duration": 16,
    "start_time": "2021-12-17T16:13:32.212Z"
   },
   {
    "duration": 6,
    "start_time": "2021-12-17T16:14:30.539Z"
   },
   {
    "duration": 363,
    "start_time": "2021-12-17T16:15:03.324Z"
   },
   {
    "duration": 17,
    "start_time": "2021-12-17T16:15:10.685Z"
   },
   {
    "duration": 6,
    "start_time": "2021-12-17T16:16:33.231Z"
   },
   {
    "duration": 103,
    "start_time": "2021-12-17T16:17:15.362Z"
   },
   {
    "duration": 6,
    "start_time": "2021-12-17T16:17:20.910Z"
   },
   {
    "duration": 80,
    "start_time": "2021-12-17T16:17:48.107Z"
   },
   {
    "duration": 102,
    "start_time": "2021-12-17T16:18:00.645Z"
   },
   {
    "duration": 6,
    "start_time": "2021-12-17T16:18:04.129Z"
   },
   {
    "duration": 18,
    "start_time": "2021-12-17T16:18:06.862Z"
   },
   {
    "duration": 7,
    "start_time": "2021-12-17T16:18:07.421Z"
   },
   {
    "duration": 19,
    "start_time": "2021-12-17T16:19:03.101Z"
   },
   {
    "duration": 7,
    "start_time": "2021-12-17T16:19:12.438Z"
   },
   {
    "duration": 18,
    "start_time": "2021-12-17T16:19:21.079Z"
   },
   {
    "duration": 8,
    "start_time": "2021-12-17T16:19:35.472Z"
   },
   {
    "duration": 191,
    "start_time": "2021-12-17T16:20:26.772Z"
   },
   {
    "duration": 189,
    "start_time": "2021-12-17T16:20:45.387Z"
   },
   {
    "duration": 192,
    "start_time": "2021-12-17T16:20:55.776Z"
   },
   {
    "duration": 195,
    "start_time": "2021-12-17T16:21:05.770Z"
   },
   {
    "duration": 189,
    "start_time": "2021-12-17T16:21:09.860Z"
   },
   {
    "duration": 197,
    "start_time": "2021-12-17T16:21:21.403Z"
   },
   {
    "duration": 222,
    "start_time": "2021-12-17T16:21:36.331Z"
   },
   {
    "duration": 197,
    "start_time": "2021-12-17T16:21:49.173Z"
   },
   {
    "duration": 210,
    "start_time": "2021-12-17T16:22:38.224Z"
   },
   {
    "duration": 297,
    "start_time": "2021-12-17T16:22:46.736Z"
   },
   {
    "duration": 211,
    "start_time": "2021-12-17T16:22:56.307Z"
   },
   {
    "duration": 3,
    "start_time": "2021-12-17T16:45:45.267Z"
   },
   {
    "duration": 12,
    "start_time": "2021-12-17T16:49:59.671Z"
   },
   {
    "duration": 9,
    "start_time": "2021-12-17T16:57:47.258Z"
   },
   {
    "duration": 10,
    "start_time": "2021-12-17T16:58:00.912Z"
   },
   {
    "duration": 8,
    "start_time": "2021-12-17T16:58:33.258Z"
   },
   {
    "duration": 9,
    "start_time": "2021-12-17T17:00:40.756Z"
   },
   {
    "duration": 7,
    "start_time": "2021-12-17T18:48:12.956Z"
   },
   {
    "duration": 20,
    "start_time": "2021-12-17T18:54:50.812Z"
   },
   {
    "duration": 19,
    "start_time": "2021-12-17T18:57:45.774Z"
   },
   {
    "duration": 1535,
    "start_time": "2021-12-18T10:20:12.777Z"
   },
   {
    "duration": 576,
    "start_time": "2021-12-18T10:20:14.315Z"
   },
   {
    "duration": 15,
    "start_time": "2021-12-18T10:20:14.894Z"
   },
   {
    "duration": 31,
    "start_time": "2021-12-18T10:20:14.911Z"
   },
   {
    "duration": 11,
    "start_time": "2021-12-18T10:20:14.944Z"
   },
   {
    "duration": 14,
    "start_time": "2021-12-18T10:20:14.958Z"
   },
   {
    "duration": 24,
    "start_time": "2021-12-18T10:20:14.975Z"
   },
   {
    "duration": 10,
    "start_time": "2021-12-18T10:20:15.003Z"
   },
   {
    "duration": 63,
    "start_time": "2021-12-18T10:20:15.016Z"
   },
   {
    "duration": 11,
    "start_time": "2021-12-18T10:20:15.082Z"
   },
   {
    "duration": 9,
    "start_time": "2021-12-18T10:20:15.096Z"
   },
   {
    "duration": 20,
    "start_time": "2021-12-18T10:20:15.107Z"
   },
   {
    "duration": 45,
    "start_time": "2021-12-18T10:20:15.129Z"
   },
   {
    "duration": 126,
    "start_time": "2021-12-18T10:20:15.177Z"
   },
   {
    "duration": 8,
    "start_time": "2021-12-18T10:20:15.305Z"
   },
   {
    "duration": 7,
    "start_time": "2021-12-18T10:20:15.315Z"
   },
   {
    "duration": 53,
    "start_time": "2021-12-18T10:20:15.325Z"
   },
   {
    "duration": 20,
    "start_time": "2021-12-18T10:20:15.381Z"
   },
   {
    "duration": 15,
    "start_time": "2021-12-18T10:20:15.403Z"
   },
   {
    "duration": 10,
    "start_time": "2021-12-18T10:20:15.420Z"
   },
   {
    "duration": 88,
    "start_time": "2021-12-18T10:20:15.463Z"
   },
   {
    "duration": 88,
    "start_time": "2021-12-18T10:20:15.553Z"
   },
   {
    "duration": 52,
    "start_time": "2021-12-18T10:20:15.646Z"
   },
   {
    "duration": 10,
    "start_time": "2021-12-18T10:20:15.701Z"
   },
   {
    "duration": 6,
    "start_time": "2021-12-18T10:20:15.714Z"
   },
   {
    "duration": 67,
    "start_time": "2021-12-18T10:20:15.723Z"
   },
   {
    "duration": 7,
    "start_time": "2021-12-18T10:20:15.793Z"
   },
   {
    "duration": 8,
    "start_time": "2021-12-18T10:20:15.803Z"
   },
   {
    "duration": 735,
    "start_time": "2021-12-18T10:20:15.814Z"
   },
   {
    "duration": 18,
    "start_time": "2021-12-18T10:20:16.553Z"
   },
   {
    "duration": 46,
    "start_time": "2021-12-18T10:20:16.574Z"
   },
   {
    "duration": 11,
    "start_time": "2021-12-18T10:20:16.623Z"
   },
   {
    "duration": 563,
    "start_time": "2021-12-18T10:20:16.663Z"
   },
   {
    "duration": 548,
    "start_time": "2021-12-18T10:20:17.229Z"
   },
   {
    "duration": 571,
    "start_time": "2021-12-18T10:20:17.780Z"
   },
   {
    "duration": 635,
    "start_time": "2021-12-18T10:20:18.363Z"
   },
   {
    "duration": 16,
    "start_time": "2021-12-18T10:20:19.002Z"
   },
   {
    "duration": 23,
    "start_time": "2021-12-18T10:20:19.021Z"
   },
   {
    "duration": 834,
    "start_time": "2021-12-18T10:28:43.722Z"
   },
   {
    "duration": 742,
    "start_time": "2021-12-18T10:29:16.891Z"
   },
   {
    "duration": 760,
    "start_time": "2021-12-18T10:29:43.132Z"
   },
   {
    "duration": 92,
    "start_time": "2021-12-18T10:29:57.322Z"
   },
   {
    "duration": 761,
    "start_time": "2021-12-18T10:30:03.426Z"
   },
   {
    "duration": 747,
    "start_time": "2021-12-18T10:30:34.489Z"
   },
   {
    "duration": 994,
    "start_time": "2021-12-18T10:31:27.154Z"
   },
   {
    "duration": 740,
    "start_time": "2021-12-18T10:31:38.295Z"
   },
   {
    "duration": 773,
    "start_time": "2021-12-18T10:31:54.258Z"
   },
   {
    "duration": 12,
    "start_time": "2021-12-18T10:35:04.637Z"
   },
   {
    "duration": 16,
    "start_time": "2021-12-18T10:35:44.679Z"
   },
   {
    "duration": 317,
    "start_time": "2021-12-18T10:36:02.445Z"
   },
   {
    "duration": 24,
    "start_time": "2021-12-18T10:36:08.629Z"
   },
   {
    "duration": 15,
    "start_time": "2021-12-18T10:36:25.438Z"
   },
   {
    "duration": 21,
    "start_time": "2021-12-18T10:36:35.374Z"
   },
   {
    "duration": 14,
    "start_time": "2021-12-18T10:37:12.728Z"
   },
   {
    "duration": 13,
    "start_time": "2021-12-18T10:37:49.945Z"
   },
   {
    "duration": 16,
    "start_time": "2021-12-18T10:38:10.037Z"
   },
   {
    "duration": 13,
    "start_time": "2021-12-18T10:38:51.288Z"
   },
   {
    "duration": 16,
    "start_time": "2021-12-18T10:38:57.593Z"
   },
   {
    "duration": 14,
    "start_time": "2021-12-18T10:39:10.832Z"
   },
   {
    "duration": 17,
    "start_time": "2021-12-18T10:39:35.337Z"
   },
   {
    "duration": 16,
    "start_time": "2021-12-18T10:39:41.249Z"
   },
   {
    "duration": 100,
    "start_time": "2021-12-18T10:39:47.548Z"
   },
   {
    "duration": 22,
    "start_time": "2021-12-18T10:39:52.065Z"
   },
   {
    "duration": 15,
    "start_time": "2021-12-18T10:39:57.797Z"
   },
   {
    "duration": 18,
    "start_time": "2021-12-18T10:41:07.677Z"
   },
   {
    "duration": 14,
    "start_time": "2021-12-18T10:42:52.527Z"
   },
   {
    "duration": 12,
    "start_time": "2021-12-18T10:42:54.170Z"
   },
   {
    "duration": 7,
    "start_time": "2021-12-18T10:43:30.768Z"
   },
   {
    "duration": 20,
    "start_time": "2021-12-18T10:44:34.885Z"
   },
   {
    "duration": 19,
    "start_time": "2021-12-18T10:45:07.834Z"
   },
   {
    "duration": 20,
    "start_time": "2021-12-18T10:45:14.006Z"
   },
   {
    "duration": 15,
    "start_time": "2021-12-18T10:46:55.018Z"
   },
   {
    "duration": 837,
    "start_time": "2021-12-18T10:49:07.552Z"
   },
   {
    "duration": 393,
    "start_time": "2021-12-18T10:50:08.037Z"
   },
   {
    "duration": 14,
    "start_time": "2021-12-18T10:50:48.223Z"
   },
   {
    "duration": 14,
    "start_time": "2021-12-18T10:51:01.639Z"
   },
   {
    "duration": 12,
    "start_time": "2021-12-18T10:51:04.454Z"
   },
   {
    "duration": 11,
    "start_time": "2021-12-18T10:53:38.642Z"
   },
   {
    "duration": 11,
    "start_time": "2021-12-18T10:55:14.491Z"
   },
   {
    "duration": 12,
    "start_time": "2021-12-18T10:58:19.741Z"
   },
   {
    "duration": 12,
    "start_time": "2021-12-18T10:59:09.813Z"
   },
   {
    "duration": 15,
    "start_time": "2021-12-18T10:59:11.448Z"
   },
   {
    "duration": 368,
    "start_time": "2021-12-18T11:25:59.094Z"
   },
   {
    "duration": 13,
    "start_time": "2021-12-18T11:42:33.922Z"
   },
   {
    "duration": 12,
    "start_time": "2021-12-18T11:42:51.282Z"
   },
   {
    "duration": 15,
    "start_time": "2021-12-18T11:46:56.627Z"
   },
   {
    "duration": 13,
    "start_time": "2021-12-18T11:47:25.897Z"
   },
   {
    "duration": 38,
    "start_time": "2021-12-18T12:55:33.079Z"
   },
   {
    "duration": 8,
    "start_time": "2021-12-18T12:56:05.103Z"
   },
   {
    "duration": 31,
    "start_time": "2021-12-18T13:13:22.842Z"
   },
   {
    "duration": 40,
    "start_time": "2021-12-18T13:14:31.153Z"
   },
   {
    "duration": 8,
    "start_time": "2021-12-18T13:14:32.558Z"
   },
   {
    "duration": 31,
    "start_time": "2021-12-18T13:14:38.136Z"
   },
   {
    "duration": 4,
    "start_time": "2021-12-18T13:15:00.937Z"
   },
   {
    "duration": 545,
    "start_time": "2021-12-18T13:15:00.944Z"
   },
   {
    "duration": 11,
    "start_time": "2021-12-18T13:15:01.493Z"
   },
   {
    "duration": 35,
    "start_time": "2021-12-18T13:15:01.508Z"
   },
   {
    "duration": 13,
    "start_time": "2021-12-18T13:15:01.546Z"
   },
   {
    "duration": 23,
    "start_time": "2021-12-18T13:15:01.563Z"
   },
   {
    "duration": 31,
    "start_time": "2021-12-18T13:15:01.589Z"
   },
   {
    "duration": 10,
    "start_time": "2021-12-18T13:15:01.624Z"
   },
   {
    "duration": 42,
    "start_time": "2021-12-18T13:15:01.637Z"
   },
   {
    "duration": 12,
    "start_time": "2021-12-18T13:15:01.682Z"
   },
   {
    "duration": 22,
    "start_time": "2021-12-18T13:15:01.696Z"
   },
   {
    "duration": 19,
    "start_time": "2021-12-18T13:15:01.720Z"
   },
   {
    "duration": 9,
    "start_time": "2021-12-18T13:15:01.763Z"
   },
   {
    "duration": 112,
    "start_time": "2021-12-18T13:15:01.774Z"
   },
   {
    "duration": 8,
    "start_time": "2021-12-18T13:15:01.889Z"
   },
   {
    "duration": 10,
    "start_time": "2021-12-18T13:15:01.899Z"
   },
   {
    "duration": 28,
    "start_time": "2021-12-18T13:15:01.911Z"
   },
   {
    "duration": 37,
    "start_time": "2021-12-18T13:15:01.941Z"
   },
   {
    "duration": 17,
    "start_time": "2021-12-18T13:15:01.980Z"
   },
   {
    "duration": 18,
    "start_time": "2021-12-18T13:15:01.999Z"
   },
   {
    "duration": 118,
    "start_time": "2021-12-18T13:15:02.020Z"
   },
   {
    "duration": 87,
    "start_time": "2021-12-18T13:15:02.141Z"
   },
   {
    "duration": 48,
    "start_time": "2021-12-18T13:15:02.233Z"
   },
   {
    "duration": 9,
    "start_time": "2021-12-18T13:15:02.284Z"
   },
   {
    "duration": 67,
    "start_time": "2021-12-18T13:15:02.296Z"
   },
   {
    "duration": 100,
    "start_time": "2021-12-18T13:15:02.366Z"
   },
   {
    "duration": 38,
    "start_time": "2021-12-18T13:15:02.469Z"
   },
   {
    "duration": 67,
    "start_time": "2021-12-18T13:15:02.510Z"
   },
   {
    "duration": 9,
    "start_time": "2021-12-18T13:15:02.579Z"
   },
   {
    "duration": 47,
    "start_time": "2021-12-18T13:15:02.591Z"
   },
   {
    "duration": 377,
    "start_time": "2021-12-18T13:15:02.641Z"
   },
   {
    "duration": 13,
    "start_time": "2021-12-18T13:15:03.021Z"
   },
   {
    "duration": 401,
    "start_time": "2021-12-18T13:15:03.037Z"
   },
   {
    "duration": 26,
    "start_time": "2021-12-18T13:15:03.441Z"
   },
   {
    "duration": 486,
    "start_time": "2021-12-18T13:15:03.471Z"
   },
   {
    "duration": 11,
    "start_time": "2021-12-18T13:15:03.964Z"
   },
   {
    "duration": 378,
    "start_time": "2021-12-18T13:15:03.978Z"
   },
   {
    "duration": 17,
    "start_time": "2021-12-18T13:15:04.359Z"
   },
   {
    "duration": 54,
    "start_time": "2021-12-18T13:15:04.379Z"
   },
   {
    "duration": 335,
    "start_time": "2021-12-18T13:15:47.690Z"
   },
   {
    "duration": 988,
    "start_time": "2021-12-18T13:17:16.204Z"
   },
   {
    "duration": 421,
    "start_time": "2021-12-18T13:17:27.651Z"
   },
   {
    "duration": 595,
    "start_time": "2021-12-18T13:17:38.525Z"
   },
   {
    "duration": 386,
    "start_time": "2021-12-18T13:17:58.218Z"
   },
   {
    "duration": 364,
    "start_time": "2021-12-18T13:18:07.298Z"
   },
   {
    "duration": 1407,
    "start_time": "2021-12-19T08:02:58.065Z"
   },
   {
    "duration": 466,
    "start_time": "2021-12-19T08:02:59.474Z"
   },
   {
    "duration": 15,
    "start_time": "2021-12-19T08:02:59.943Z"
   },
   {
    "duration": 27,
    "start_time": "2021-12-19T08:02:59.961Z"
   },
   {
    "duration": 12,
    "start_time": "2021-12-19T08:02:59.991Z"
   },
   {
    "duration": 12,
    "start_time": "2021-12-19T08:03:00.024Z"
   },
   {
    "duration": 26,
    "start_time": "2021-12-19T08:03:00.038Z"
   },
   {
    "duration": 10,
    "start_time": "2021-12-19T08:03:00.066Z"
   },
   {
    "duration": 51,
    "start_time": "2021-12-19T08:03:00.081Z"
   },
   {
    "duration": 12,
    "start_time": "2021-12-19T08:03:00.135Z"
   },
   {
    "duration": 11,
    "start_time": "2021-12-19T08:03:00.150Z"
   },
   {
    "duration": 19,
    "start_time": "2021-12-19T08:03:00.163Z"
   },
   {
    "duration": 42,
    "start_time": "2021-12-19T08:03:00.184Z"
   },
   {
    "duration": 106,
    "start_time": "2021-12-19T08:03:00.228Z"
   },
   {
    "duration": 8,
    "start_time": "2021-12-19T08:03:00.336Z"
   },
   {
    "duration": 9,
    "start_time": "2021-12-19T08:03:00.346Z"
   },
   {
    "duration": 27,
    "start_time": "2021-12-19T08:03:00.357Z"
   },
   {
    "duration": 44,
    "start_time": "2021-12-19T08:03:00.387Z"
   },
   {
    "duration": 14,
    "start_time": "2021-12-19T08:03:00.433Z"
   },
   {
    "duration": 16,
    "start_time": "2021-12-19T08:03:00.449Z"
   },
   {
    "duration": 101,
    "start_time": "2021-12-19T08:03:00.468Z"
   },
   {
    "duration": 82,
    "start_time": "2021-12-19T08:03:00.571Z"
   },
   {
    "duration": 34,
    "start_time": "2021-12-19T08:03:00.655Z"
   },
   {
    "duration": 10,
    "start_time": "2021-12-19T08:03:00.691Z"
   },
   {
    "duration": 24,
    "start_time": "2021-12-19T08:03:00.703Z"
   },
   {
    "duration": 36,
    "start_time": "2021-12-19T08:03:00.729Z"
   },
   {
    "duration": 7,
    "start_time": "2021-12-19T08:03:00.770Z"
   },
   {
    "duration": 60,
    "start_time": "2021-12-19T08:03:00.780Z"
   },
   {
    "duration": 9,
    "start_time": "2021-12-19T08:03:00.842Z"
   },
   {
    "duration": 23,
    "start_time": "2021-12-19T08:03:00.854Z"
   },
   {
    "duration": 386,
    "start_time": "2021-12-19T08:03:00.880Z"
   },
   {
    "duration": 12,
    "start_time": "2021-12-19T08:03:01.268Z"
   },
   {
    "duration": 415,
    "start_time": "2021-12-19T08:03:01.283Z"
   },
   {
    "duration": 13,
    "start_time": "2021-12-19T08:03:01.700Z"
   },
   {
    "duration": 376,
    "start_time": "2021-12-19T08:03:01.724Z"
   },
   {
    "duration": 21,
    "start_time": "2021-12-19T08:03:02.103Z"
   },
   {
    "duration": 346,
    "start_time": "2021-12-19T08:03:02.126Z"
   },
   {
    "duration": 11,
    "start_time": "2021-12-19T08:03:02.475Z"
   },
   {
    "duration": 16,
    "start_time": "2021-12-19T08:03:02.488Z"
   },
   {
    "duration": 332,
    "start_time": "2021-12-19T20:33:30.836Z"
   },
   {
    "duration": 1351,
    "start_time": "2021-12-19T20:33:41.110Z"
   },
   {
    "duration": 467,
    "start_time": "2021-12-19T20:33:42.464Z"
   },
   {
    "duration": 15,
    "start_time": "2021-12-19T20:33:43.538Z"
   },
   {
    "duration": 29,
    "start_time": "2021-12-19T20:33:44.225Z"
   },
   {
    "duration": 11,
    "start_time": "2021-12-19T20:33:45.520Z"
   },
   {
    "duration": 13,
    "start_time": "2021-12-19T20:33:47.905Z"
   },
   {
    "duration": 21,
    "start_time": "2021-12-19T20:33:49.152Z"
   },
   {
    "duration": 11,
    "start_time": "2021-12-19T20:33:58.661Z"
   },
   {
    "duration": 20,
    "start_time": "2021-12-19T20:34:00.891Z"
   },
   {
    "duration": 15,
    "start_time": "2021-12-19T20:34:02.851Z"
   },
   {
    "duration": 9,
    "start_time": "2021-12-19T20:34:03.600Z"
   },
   {
    "duration": 14,
    "start_time": "2021-12-19T20:34:05.183Z"
   },
   {
    "duration": 10,
    "start_time": "2021-12-19T20:34:05.450Z"
   },
   {
    "duration": 101,
    "start_time": "2021-12-19T20:34:09.754Z"
   },
   {
    "duration": 8,
    "start_time": "2021-12-19T20:34:12.187Z"
   },
   {
    "duration": 23,
    "start_time": "2021-12-19T20:34:15.770Z"
   },
   {
    "duration": 16,
    "start_time": "2021-12-19T20:34:16.369Z"
   },
   {
    "duration": 17,
    "start_time": "2021-12-19T20:34:16.974Z"
   },
   {
    "duration": 9,
    "start_time": "2021-12-19T20:34:17.672Z"
   },
   {
    "duration": 82,
    "start_time": "2021-12-19T20:34:24.853Z"
   },
   {
    "duration": 73,
    "start_time": "2021-12-19T20:34:35.966Z"
   },
   {
    "duration": 37,
    "start_time": "2021-12-19T20:34:41.613Z"
   },
   {
    "duration": 12,
    "start_time": "2021-12-19T20:34:42.941Z"
   },
   {
    "duration": 26,
    "start_time": "2021-12-19T20:34:52.603Z"
   },
   {
    "duration": 381,
    "start_time": "2021-12-19T20:35:04.912Z"
   },
   {
    "duration": 25,
    "start_time": "2021-12-19T20:35:20.104Z"
   },
   {
    "duration": 52,
    "start_time": "2021-12-19T20:41:16.746Z"
   },
   {
    "duration": 25,
    "start_time": "2021-12-19T20:41:33.351Z"
   },
   {
    "duration": 27,
    "start_time": "2021-12-19T20:42:05.889Z"
   },
   {
    "duration": 25,
    "start_time": "2021-12-19T20:43:15.717Z"
   },
   {
    "duration": 54,
    "start_time": "2021-12-19T20:43:25.300Z"
   },
   {
    "duration": 26,
    "start_time": "2021-12-19T20:43:53.630Z"
   },
   {
    "duration": 27,
    "start_time": "2021-12-19T20:44:01.259Z"
   },
   {
    "duration": 26,
    "start_time": "2021-12-19T20:44:13.408Z"
   },
   {
    "duration": 53,
    "start_time": "2021-12-19T20:44:20.769Z"
   },
   {
    "duration": 26,
    "start_time": "2021-12-19T20:44:24.884Z"
   },
   {
    "duration": 28,
    "start_time": "2021-12-19T20:46:43.241Z"
   },
   {
    "duration": 53,
    "start_time": "2021-12-19T20:46:48.161Z"
   },
   {
    "duration": 30,
    "start_time": "2021-12-19T20:46:50.877Z"
   },
   {
    "duration": 54,
    "start_time": "2021-12-19T20:47:09.172Z"
   },
   {
    "duration": 28,
    "start_time": "2021-12-19T20:47:10.473Z"
   },
   {
    "duration": 8,
    "start_time": "2021-12-19T20:47:44.261Z"
   },
   {
    "duration": 6615,
    "start_time": "2021-12-19T20:47:49.534Z"
   },
   {
    "duration": 34,
    "start_time": "2021-12-19T20:53:42.295Z"
   },
   {
    "duration": -405,
    "start_time": "2021-12-19T20:54:09.576Z"
   },
   {
    "duration": -409,
    "start_time": "2021-12-19T20:54:09.582Z"
   },
   {
    "duration": 10,
    "start_time": "2021-12-19T20:54:13.619Z"
   },
   {
    "duration": 7302,
    "start_time": "2021-12-19T20:54:16.490Z"
   },
   {
    "duration": 5,
    "start_time": "2021-12-19T20:54:28.354Z"
   },
   {
    "duration": 503,
    "start_time": "2021-12-19T20:54:29.434Z"
   },
   {
    "duration": 12,
    "start_time": "2021-12-19T20:54:40.566Z"
   },
   {
    "duration": 25,
    "start_time": "2021-12-19T20:54:45.631Z"
   },
   {
    "duration": 12,
    "start_time": "2021-12-19T20:54:46.771Z"
   },
   {
    "duration": 10,
    "start_time": "2021-12-19T20:54:48.491Z"
   },
   {
    "duration": 22,
    "start_time": "2021-12-19T20:54:49.592Z"
   },
   {
    "duration": 10,
    "start_time": "2021-12-19T20:54:50.838Z"
   },
   {
    "duration": 19,
    "start_time": "2021-12-19T20:54:51.468Z"
   },
   {
    "duration": 12,
    "start_time": "2021-12-19T20:54:53.240Z"
   },
   {
    "duration": 10,
    "start_time": "2021-12-19T20:54:53.878Z"
   },
   {
    "duration": 14,
    "start_time": "2021-12-19T20:54:55.052Z"
   },
   {
    "duration": 9,
    "start_time": "2021-12-19T20:54:55.657Z"
   },
   {
    "duration": 93,
    "start_time": "2021-12-19T20:54:59.654Z"
   },
   {
    "duration": 8,
    "start_time": "2021-12-19T20:55:49.621Z"
   },
   {
    "duration": 23,
    "start_time": "2021-12-19T20:56:03.009Z"
   },
   {
    "duration": 19,
    "start_time": "2021-12-19T20:56:03.691Z"
   },
   {
    "duration": 16,
    "start_time": "2021-12-19T20:56:04.375Z"
   },
   {
    "duration": 9,
    "start_time": "2021-12-19T20:56:05.160Z"
   },
   {
    "duration": 82,
    "start_time": "2021-12-19T20:56:08.904Z"
   },
   {
    "duration": 69,
    "start_time": "2021-12-19T20:56:10.891Z"
   },
   {
    "duration": 53,
    "start_time": "2021-12-19T20:56:13.375Z"
   },
   {
    "duration": 29,
    "start_time": "2021-12-19T20:56:15.084Z"
   },
   {
    "duration": 11,
    "start_time": "2021-12-19T20:56:16.647Z"
   },
   {
    "duration": 7269,
    "start_time": "2021-12-19T20:56:18.201Z"
   },
   {
    "duration": -547,
    "start_time": "2021-12-19T20:56:26.020Z"
   },
   {
    "duration": 7,
    "start_time": "2021-12-19T20:56:44.961Z"
   },
   {
    "duration": 36,
    "start_time": "2021-12-19T21:00:16.530Z"
   },
   {
    "duration": 8021,
    "start_time": "2021-12-19T21:00:37.144Z"
   },
   {
    "duration": 54,
    "start_time": "2021-12-19T21:01:09.145Z"
   },
   {
    "duration": 33,
    "start_time": "2021-12-19T21:01:10.238Z"
   },
   {
    "duration": 11,
    "start_time": "2021-12-19T21:01:11.280Z"
   },
   {
    "duration": 7,
    "start_time": "2021-12-19T21:01:12.379Z"
   },
   {
    "duration": 91,
    "start_time": "2021-12-19T21:01:14.079Z"
   },
   {
    "duration": 36,
    "start_time": "2021-12-19T21:01:39.065Z"
   },
   {
    "duration": 7,
    "start_time": "2021-12-19T21:01:46.983Z"
   },
   {
    "duration": 7413,
    "start_time": "2021-12-19T21:01:58.842Z"
   },
   {
    "duration": -399,
    "start_time": "2021-12-19T21:02:06.656Z"
   },
   {
    "duration": 54,
    "start_time": "2021-12-19T21:02:08.628Z"
   },
   {
    "duration": 30,
    "start_time": "2021-12-19T21:02:09.607Z"
   },
   {
    "duration": 9,
    "start_time": "2021-12-19T21:02:10.631Z"
   },
   {
    "duration": 6,
    "start_time": "2021-12-19T21:02:11.628Z"
   },
   {
    "duration": 35,
    "start_time": "2021-12-19T21:02:13.471Z"
   },
   {
    "duration": 8,
    "start_time": "2021-12-19T21:02:14.341Z"
   },
   {
    "duration": 295,
    "start_time": "2021-12-19T21:07:36.747Z"
   },
   {
    "duration": 7282,
    "start_time": "2021-12-19T21:21:23.249Z"
   },
   {
    "duration": -449,
    "start_time": "2021-12-19T21:21:30.983Z"
   },
   {
    "duration": 7922,
    "start_time": "2021-12-19T21:21:30.542Z"
   },
   {
    "duration": -642,
    "start_time": "2021-12-19T21:21:39.109Z"
   },
   {
    "duration": -653,
    "start_time": "2021-12-19T21:21:39.121Z"
   },
   {
    "duration": -665,
    "start_time": "2021-12-19T21:21:39.135Z"
   },
   {
    "duration": 7457,
    "start_time": "2021-12-19T21:21:58.585Z"
   },
   {
    "duration": -481,
    "start_time": "2021-12-19T21:22:06.526Z"
   },
   {
    "duration": -486,
    "start_time": "2021-12-19T21:22:06.533Z"
   },
   {
    "duration": -498,
    "start_time": "2021-12-19T21:22:06.546Z"
   },
   {
    "duration": -501,
    "start_time": "2021-12-19T21:22:06.551Z"
   },
   {
    "duration": -504,
    "start_time": "2021-12-19T21:22:06.555Z"
   },
   {
    "duration": 4,
    "start_time": "2021-12-19T21:22:13.954Z"
   },
   {
    "duration": 501,
    "start_time": "2021-12-19T21:22:14.888Z"
   },
   {
    "duration": 12,
    "start_time": "2021-12-19T21:22:15.864Z"
   },
   {
    "duration": 26,
    "start_time": "2021-12-19T21:22:16.357Z"
   },
   {
    "duration": 13,
    "start_time": "2021-12-19T21:22:17.392Z"
   },
   {
    "duration": 11,
    "start_time": "2021-12-19T21:22:18.934Z"
   },
   {
    "duration": 21,
    "start_time": "2021-12-19T21:22:19.419Z"
   },
   {
    "duration": 10,
    "start_time": "2021-12-19T21:22:20.490Z"
   },
   {
    "duration": 19,
    "start_time": "2021-12-19T21:22:21.033Z"
   },
   {
    "duration": 12,
    "start_time": "2021-12-19T21:22:22.602Z"
   },
   {
    "duration": 10,
    "start_time": "2021-12-19T21:22:23.353Z"
   },
   {
    "duration": 15,
    "start_time": "2021-12-19T21:22:24.114Z"
   },
   {
    "duration": 9,
    "start_time": "2021-12-19T21:22:24.584Z"
   },
   {
    "duration": 89,
    "start_time": "2021-12-19T21:22:28.603Z"
   },
   {
    "duration": 7,
    "start_time": "2021-12-19T21:22:29.697Z"
   },
   {
    "duration": 23,
    "start_time": "2021-12-19T21:22:31.739Z"
   },
   {
    "duration": 16,
    "start_time": "2021-12-19T21:22:32.257Z"
   },
   {
    "duration": 14,
    "start_time": "2021-12-19T21:22:32.755Z"
   },
   {
    "duration": 9,
    "start_time": "2021-12-19T21:22:33.251Z"
   },
   {
    "duration": 76,
    "start_time": "2021-12-19T21:22:34.395Z"
   },
   {
    "duration": 69,
    "start_time": "2021-12-19T21:22:36.494Z"
   },
   {
    "duration": 51,
    "start_time": "2021-12-19T21:22:38.639Z"
   },
   {
    "duration": 28,
    "start_time": "2021-12-19T21:22:39.902Z"
   },
   {
    "duration": 10,
    "start_time": "2021-12-19T21:22:42.958Z"
   },
   {
    "duration": 7,
    "start_time": "2021-12-19T21:22:44.212Z"
   },
   {
    "duration": 41,
    "start_time": "2021-12-19T21:22:46.431Z"
   },
   {
    "duration": 7,
    "start_time": "2021-12-19T21:22:47.832Z"
   },
   {
    "duration": 7,
    "start_time": "2021-12-19T21:23:07.305Z"
   },
   {
    "duration": 7,
    "start_time": "2021-12-19T21:23:12.764Z"
   },
   {
    "duration": 7401,
    "start_time": "2021-12-19T21:25:58.802Z"
   },
   {
    "duration": -392,
    "start_time": "2021-12-19T21:26:17.593Z"
   },
   {
    "duration": -396,
    "start_time": "2021-12-19T21:26:17.599Z"
   },
   {
    "duration": -401,
    "start_time": "2021-12-19T21:26:17.605Z"
   },
   {
    "duration": -406,
    "start_time": "2021-12-19T21:26:17.612Z"
   },
   {
    "duration": -410,
    "start_time": "2021-12-19T21:26:17.617Z"
   },
   {
    "duration": -416,
    "start_time": "2021-12-19T21:26:17.624Z"
   },
   {
    "duration": -418,
    "start_time": "2021-12-19T21:26:17.628Z"
   },
   {
    "duration": -422,
    "start_time": "2021-12-19T21:26:17.633Z"
   },
   {
    "duration": -426,
    "start_time": "2021-12-19T21:26:17.639Z"
   },
   {
    "duration": -437,
    "start_time": "2021-12-19T21:26:17.651Z"
   },
   {
    "duration": -442,
    "start_time": "2021-12-19T21:26:17.658Z"
   },
   {
    "duration": -445,
    "start_time": "2021-12-19T21:26:17.662Z"
   },
   {
    "duration": -447,
    "start_time": "2021-12-19T21:26:17.666Z"
   },
   {
    "duration": -457,
    "start_time": "2021-12-19T21:26:17.677Z"
   },
   {
    "duration": -460,
    "start_time": "2021-12-19T21:26:17.682Z"
   },
   {
    "duration": -464,
    "start_time": "2021-12-19T21:26:17.687Z"
   },
   {
    "duration": -470,
    "start_time": "2021-12-19T21:26:17.694Z"
   },
   {
    "duration": -472,
    "start_time": "2021-12-19T21:26:17.698Z"
   },
   {
    "duration": -477,
    "start_time": "2021-12-19T21:26:17.704Z"
   },
   {
    "duration": -481,
    "start_time": "2021-12-19T21:26:17.710Z"
   },
   {
    "duration": -484,
    "start_time": "2021-12-19T21:26:17.714Z"
   },
   {
    "duration": -487,
    "start_time": "2021-12-19T21:26:17.719Z"
   },
   {
    "duration": -492,
    "start_time": "2021-12-19T21:26:17.726Z"
   },
   {
    "duration": -496,
    "start_time": "2021-12-19T21:26:17.731Z"
   },
   {
    "duration": -499,
    "start_time": "2021-12-19T21:26:17.735Z"
   },
   {
    "duration": -512,
    "start_time": "2021-12-19T21:26:17.750Z"
   },
   {
    "duration": -517,
    "start_time": "2021-12-19T21:26:17.756Z"
   },
   {
    "duration": -544,
    "start_time": "2021-12-19T21:26:17.785Z"
   },
   {
    "duration": -553,
    "start_time": "2021-12-19T21:26:17.795Z"
   },
   {
    "duration": -557,
    "start_time": "2021-12-19T21:26:17.801Z"
   },
   {
    "duration": -564,
    "start_time": "2021-12-19T21:26:17.809Z"
   },
   {
    "duration": -569,
    "start_time": "2021-12-19T21:26:17.815Z"
   },
   {
    "duration": -576,
    "start_time": "2021-12-19T21:26:17.824Z"
   },
   {
    "duration": -580,
    "start_time": "2021-12-19T21:26:17.829Z"
   },
   {
    "duration": -596,
    "start_time": "2021-12-19T21:26:17.847Z"
   },
   {
    "duration": -610,
    "start_time": "2021-12-19T21:26:17.862Z"
   },
   {
    "duration": -614,
    "start_time": "2021-12-19T21:26:17.867Z"
   },
   {
    "duration": -623,
    "start_time": "2021-12-19T21:26:17.878Z"
   },
   {
    "duration": -627,
    "start_time": "2021-12-19T21:26:17.883Z"
   },
   {
    "duration": 4,
    "start_time": "2021-12-19T21:26:35.953Z"
   },
   {
    "duration": 460,
    "start_time": "2021-12-19T21:26:37.578Z"
   },
   {
    "duration": 11,
    "start_time": "2021-12-19T21:26:38.660Z"
   },
   {
    "duration": 25,
    "start_time": "2021-12-19T21:26:39.213Z"
   },
   {
    "duration": 12,
    "start_time": "2021-12-19T21:26:40.410Z"
   },
   {
    "duration": 9,
    "start_time": "2021-12-19T21:26:42.126Z"
   },
   {
    "duration": 23,
    "start_time": "2021-12-19T21:26:46.225Z"
   },
   {
    "duration": 10,
    "start_time": "2021-12-19T21:26:47.391Z"
   },
   {
    "duration": 26,
    "start_time": "2021-12-19T21:26:47.873Z"
   },
   {
    "duration": 12,
    "start_time": "2021-12-19T21:26:49.278Z"
   },
   {
    "duration": 9,
    "start_time": "2021-12-19T21:26:49.966Z"
   },
   {
    "duration": 16,
    "start_time": "2021-12-19T21:26:50.993Z"
   },
   {
    "duration": 9,
    "start_time": "2021-12-19T21:26:51.745Z"
   },
   {
    "duration": 83,
    "start_time": "2021-12-19T21:26:59.517Z"
   },
   {
    "duration": 8,
    "start_time": "2021-12-19T21:27:00.515Z"
   },
   {
    "duration": 24,
    "start_time": "2021-12-19T21:27:02.622Z"
   },
   {
    "duration": 18,
    "start_time": "2021-12-19T21:27:03.120Z"
   },
   {
    "duration": 16,
    "start_time": "2021-12-19T21:27:03.584Z"
   },
   {
    "duration": 10,
    "start_time": "2021-12-19T21:27:04.072Z"
   },
   {
    "duration": 88,
    "start_time": "2021-12-19T21:27:05.221Z"
   },
   {
    "duration": 84,
    "start_time": "2021-12-19T21:27:06.829Z"
   },
   {
    "duration": 54,
    "start_time": "2021-12-19T21:27:08.648Z"
   },
   {
    "duration": 30,
    "start_time": "2021-12-19T21:27:10.040Z"
   },
   {
    "duration": 8,
    "start_time": "2021-12-19T21:27:11.680Z"
   },
   {
    "duration": 6,
    "start_time": "2021-12-19T21:27:13.054Z"
   },
   {
    "duration": 304,
    "start_time": "2021-12-19T21:27:15.022Z"
   },
   {
    "duration": 10645,
    "start_time": "2021-12-19T21:27:28.272Z"
   },
   {
    "duration": 56,
    "start_time": "2021-12-19T21:27:55.261Z"
   },
   {
    "duration": 26,
    "start_time": "2021-12-19T21:27:56.671Z"
   },
   {
    "duration": 9,
    "start_time": "2021-12-19T21:27:57.891Z"
   },
   {
    "duration": 7,
    "start_time": "2021-12-19T21:27:59.004Z"
   },
   {
    "duration": 6902,
    "start_time": "2021-12-19T21:28:01.006Z"
   },
   {
    "duration": 52,
    "start_time": "2021-12-19T21:28:18.307Z"
   },
   {
    "duration": 29,
    "start_time": "2021-12-19T21:28:19.431Z"
   },
   {
    "duration": 8,
    "start_time": "2021-12-19T21:28:20.714Z"
   },
   {
    "duration": 7,
    "start_time": "2021-12-19T21:28:22.031Z"
   },
   {
    "duration": 59,
    "start_time": "2021-12-19T21:28:23.902Z"
   },
   {
    "duration": 8,
    "start_time": "2021-12-19T21:28:52.068Z"
   },
   {
    "duration": 32,
    "start_time": "2021-12-19T21:28:55.228Z"
   },
   {
    "duration": 34,
    "start_time": "2021-12-19T21:29:23.469Z"
   },
   {
    "duration": 9,
    "start_time": "2021-12-19T21:29:31.512Z"
   },
   {
    "duration": 24,
    "start_time": "2021-12-19T21:34:49.148Z"
   },
   {
    "duration": 21,
    "start_time": "2021-12-19T21:35:02.516Z"
   },
   {
    "duration": 354,
    "start_time": "2021-12-19T21:39:12.837Z"
   },
   {
    "duration": 7283,
    "start_time": "2021-12-19T21:39:22.746Z"
   },
   {
    "duration": -400,
    "start_time": "2021-12-19T21:39:30.431Z"
   },
   {
    "duration": 5,
    "start_time": "2021-12-19T21:39:34.616Z"
   },
   {
    "duration": 488,
    "start_time": "2021-12-19T21:39:35.552Z"
   },
   {
    "duration": 12,
    "start_time": "2021-12-19T21:39:36.447Z"
   },
   {
    "duration": 24,
    "start_time": "2021-12-19T21:39:36.885Z"
   },
   {
    "duration": 16,
    "start_time": "2021-12-19T21:39:37.782Z"
   },
   {
    "duration": 10,
    "start_time": "2021-12-19T21:39:39.149Z"
   },
   {
    "duration": 23,
    "start_time": "2021-12-19T21:39:39.657Z"
   },
   {
    "duration": 10,
    "start_time": "2021-12-19T21:39:40.654Z"
   },
   {
    "duration": 17,
    "start_time": "2021-12-19T21:39:41.101Z"
   },
   {
    "duration": 12,
    "start_time": "2021-12-19T21:39:42.557Z"
   },
   {
    "duration": 9,
    "start_time": "2021-12-19T21:39:43.040Z"
   },
   {
    "duration": 16,
    "start_time": "2021-12-19T21:39:44.858Z"
   },
   {
    "duration": 9,
    "start_time": "2021-12-19T21:39:45.346Z"
   },
   {
    "duration": 114,
    "start_time": "2021-12-19T21:39:49.070Z"
   },
   {
    "duration": 8,
    "start_time": "2021-12-19T21:39:49.972Z"
   },
   {
    "duration": 24,
    "start_time": "2021-12-19T21:39:52.002Z"
   },
   {
    "duration": 17,
    "start_time": "2021-12-19T21:39:52.466Z"
   },
   {
    "duration": 16,
    "start_time": "2021-12-19T21:39:52.945Z"
   },
   {
    "duration": 10,
    "start_time": "2021-12-19T21:39:53.607Z"
   },
   {
    "duration": 76,
    "start_time": "2021-12-19T21:39:54.833Z"
   },
   {
    "duration": 68,
    "start_time": "2021-12-19T21:39:57.366Z"
   },
   {
    "duration": 53,
    "start_time": "2021-12-19T21:39:59.048Z"
   },
   {
    "duration": 28,
    "start_time": "2021-12-19T21:40:02.309Z"
   },
   {
    "duration": 9,
    "start_time": "2021-12-19T21:40:04.153Z"
   },
   {
    "duration": 7,
    "start_time": "2021-12-19T21:40:05.730Z"
   },
   {
    "duration": 53,
    "start_time": "2021-12-19T21:40:08.978Z"
   },
   {
    "duration": 8,
    "start_time": "2021-12-19T21:40:11.935Z"
   },
   {
    "duration": 33,
    "start_time": "2021-12-19T21:40:13.806Z"
   },
   {
    "duration": 7,
    "start_time": "2021-12-19T21:40:15.801Z"
   },
   {
    "duration": 19,
    "start_time": "2021-12-19T21:40:17.460Z"
   },
   {
    "duration": 9,
    "start_time": "2021-12-19T21:40:32.588Z"
   },
   {
    "duration": 21,
    "start_time": "2021-12-19T21:40:47.430Z"
   },
   {
    "duration": 360,
    "start_time": "2021-12-19T21:40:49.736Z"
   },
   {
    "duration": 12,
    "start_time": "2021-12-19T21:40:52.299Z"
   },
   {
    "duration": 359,
    "start_time": "2021-12-19T21:40:53.743Z"
   },
   {
    "duration": 13,
    "start_time": "2021-12-19T21:41:12.987Z"
   },
   {
    "duration": 12,
    "start_time": "2021-12-19T21:41:48.491Z"
   },
   {
    "duration": 378,
    "start_time": "2021-12-19T21:42:09.262Z"
   },
   {
    "duration": 11,
    "start_time": "2021-12-19T21:42:19.572Z"
   },
   {
    "duration": 416,
    "start_time": "2021-12-19T21:42:25.152Z"
   },
   {
    "duration": 362,
    "start_time": "2021-12-19T21:43:56.404Z"
   },
   {
    "duration": 446,
    "start_time": "2021-12-19T21:44:06.323Z"
   },
   {
    "duration": 4,
    "start_time": "2021-12-19T21:45:46.308Z"
   },
   {
    "duration": 490,
    "start_time": "2021-12-19T21:45:54.627Z"
   },
   {
    "duration": 11,
    "start_time": "2021-12-19T21:45:55.674Z"
   },
   {
    "duration": 26,
    "start_time": "2021-12-19T21:45:56.304Z"
   },
   {
    "duration": 18,
    "start_time": "2021-12-19T21:45:57.924Z"
   },
   {
    "duration": 524,
    "start_time": "2021-12-19T21:46:24.266Z"
   },
   {
    "duration": 12,
    "start_time": "2021-12-19T21:46:26.136Z"
   },
   {
    "duration": 26,
    "start_time": "2021-12-19T21:46:26.683Z"
   },
   {
    "duration": 13,
    "start_time": "2021-12-19T21:46:28.298Z"
   },
   {
    "duration": 21,
    "start_time": "2021-12-19T21:46:39.393Z"
   },
   {
    "duration": 21,
    "start_time": "2021-12-19T21:49:04.349Z"
   },
   {
    "duration": 10,
    "start_time": "2021-12-19T21:49:05.408Z"
   },
   {
    "duration": 19,
    "start_time": "2021-12-19T21:49:05.970Z"
   },
   {
    "duration": 14,
    "start_time": "2021-12-19T21:49:13.693Z"
   },
   {
    "duration": 10,
    "start_time": "2021-12-19T21:49:14.259Z"
   },
   {
    "duration": 17,
    "start_time": "2021-12-19T21:49:15.426Z"
   },
   {
    "duration": 10,
    "start_time": "2021-12-19T21:49:15.936Z"
   },
   {
    "duration": 87,
    "start_time": "2021-12-19T21:49:23.863Z"
   },
   {
    "duration": 24,
    "start_time": "2021-12-19T21:49:42.635Z"
   },
   {
    "duration": 6,
    "start_time": "2021-12-19T21:49:43.560Z"
   },
   {
    "duration": 116,
    "start_time": "2021-12-19T22:11:32.581Z"
   },
   {
    "duration": 310,
    "start_time": "2021-12-19T22:12:05.198Z"
   },
   {
    "duration": 27,
    "start_time": "2021-12-19T22:12:26.412Z"
   },
   {
    "duration": 26,
    "start_time": "2021-12-19T22:12:34.012Z"
   },
   {
    "duration": 26,
    "start_time": "2021-12-19T22:12:54.937Z"
   },
   {
    "duration": 22,
    "start_time": "2021-12-19T22:13:02.439Z"
   },
   {
    "duration": 23,
    "start_time": "2021-12-19T22:13:15.207Z"
   },
   {
    "duration": 22,
    "start_time": "2021-12-19T22:13:37.141Z"
   },
   {
    "duration": 25,
    "start_time": "2021-12-19T22:13:55.223Z"
   },
   {
    "duration": 16,
    "start_time": "2021-12-19T22:14:31.297Z"
   },
   {
    "duration": 15,
    "start_time": "2021-12-19T22:14:37.174Z"
   },
   {
    "duration": 17,
    "start_time": "2021-12-19T22:15:01.118Z"
   },
   {
    "duration": 25,
    "start_time": "2021-12-19T22:15:19.647Z"
   },
   {
    "duration": 16,
    "start_time": "2021-12-19T22:15:26.147Z"
   },
   {
    "duration": 17,
    "start_time": "2021-12-19T22:16:07.985Z"
   },
   {
    "duration": 16,
    "start_time": "2021-12-19T22:17:23.195Z"
   },
   {
    "duration": 4,
    "start_time": "2021-12-19T22:17:44.417Z"
   },
   {
    "duration": 546,
    "start_time": "2021-12-19T22:17:44.424Z"
   },
   {
    "duration": 12,
    "start_time": "2021-12-19T22:17:44.973Z"
   },
   {
    "duration": 26,
    "start_time": "2021-12-19T22:17:44.988Z"
   },
   {
    "duration": 12,
    "start_time": "2021-12-19T22:17:45.016Z"
   },
   {
    "duration": 29,
    "start_time": "2021-12-19T22:17:45.032Z"
   },
   {
    "duration": 10,
    "start_time": "2021-12-19T22:17:45.066Z"
   },
   {
    "duration": 49,
    "start_time": "2021-12-19T22:17:45.079Z"
   },
   {
    "duration": 14,
    "start_time": "2021-12-19T22:17:45.131Z"
   },
   {
    "duration": 10,
    "start_time": "2021-12-19T22:17:45.147Z"
   },
   {
    "duration": 19,
    "start_time": "2021-12-19T22:17:45.159Z"
   },
   {
    "duration": 43,
    "start_time": "2021-12-19T22:17:45.180Z"
   },
   {
    "duration": 108,
    "start_time": "2021-12-19T22:17:45.226Z"
   },
   {
    "duration": 8,
    "start_time": "2021-12-19T22:17:45.338Z"
   },
   {
    "duration": 23,
    "start_time": "2021-12-19T22:17:45.348Z"
   },
   {
    "duration": 16,
    "start_time": "2021-12-19T22:17:45.373Z"
   },
   {
    "duration": 47,
    "start_time": "2021-12-19T22:17:45.392Z"
   },
   {
    "duration": 15,
    "start_time": "2021-12-19T22:17:45.443Z"
   },
   {
    "duration": 106,
    "start_time": "2021-12-19T22:17:45.463Z"
   },
   {
    "duration": 85,
    "start_time": "2021-12-19T22:17:45.572Z"
   },
   {
    "duration": 50,
    "start_time": "2021-12-19T22:17:45.659Z"
   },
   {
    "duration": 40,
    "start_time": "2021-12-19T22:17:45.712Z"
   },
   {
    "duration": 8,
    "start_time": "2021-12-19T22:17:45.755Z"
   },
   {
    "duration": 6,
    "start_time": "2021-12-19T22:17:45.766Z"
   },
   {
    "duration": 94,
    "start_time": "2021-12-19T22:17:45.775Z"
   },
   {
    "duration": 7,
    "start_time": "2021-12-19T22:17:45.871Z"
   },
   {
    "duration": 60,
    "start_time": "2021-12-19T22:17:45.881Z"
   },
   {
    "duration": 7,
    "start_time": "2021-12-19T22:17:45.943Z"
   },
   {
    "duration": 22,
    "start_time": "2021-12-19T22:17:45.952Z"
   },
   {
    "duration": 9,
    "start_time": "2021-12-19T22:17:45.976Z"
   },
   {
    "duration": 54,
    "start_time": "2021-12-19T22:17:45.988Z"
   },
   {
    "duration": 367,
    "start_time": "2021-12-19T22:17:46.044Z"
   },
   {
    "duration": 27,
    "start_time": "2021-12-19T22:17:46.413Z"
   },
   {
    "duration": 355,
    "start_time": "2021-12-19T22:17:46.442Z"
   },
   {
    "duration": 25,
    "start_time": "2021-12-19T22:17:46.799Z"
   },
   {
    "duration": 367,
    "start_time": "2021-12-19T22:17:46.826Z"
   },
   {
    "duration": 27,
    "start_time": "2021-12-19T22:17:47.196Z"
   },
   {
    "duration": 417,
    "start_time": "2021-12-19T22:17:47.226Z"
   },
   {
    "duration": 13,
    "start_time": "2021-12-19T22:17:47.645Z"
   },
   {
    "duration": 11,
    "start_time": "2021-12-19T22:17:47.660Z"
   },
   {
    "duration": 1972,
    "start_time": "2021-12-20T14:14:05.198Z"
   },
   {
    "duration": 634,
    "start_time": "2021-12-20T14:14:07.173Z"
   },
   {
    "duration": 16,
    "start_time": "2021-12-20T14:14:07.811Z"
   },
   {
    "duration": 31,
    "start_time": "2021-12-20T14:14:07.830Z"
   },
   {
    "duration": 12,
    "start_time": "2021-12-20T14:14:07.864Z"
   },
   {
    "duration": 23,
    "start_time": "2021-12-20T14:14:07.880Z"
   },
   {
    "duration": 10,
    "start_time": "2021-12-20T14:14:07.906Z"
   },
   {
    "duration": 71,
    "start_time": "2021-12-20T14:14:07.921Z"
   },
   {
    "duration": 14,
    "start_time": "2021-12-20T14:14:07.996Z"
   },
   {
    "duration": 10,
    "start_time": "2021-12-20T14:14:08.013Z"
   },
   {
    "duration": 56,
    "start_time": "2021-12-20T14:14:08.026Z"
   },
   {
    "duration": 12,
    "start_time": "2021-12-20T14:14:08.085Z"
   },
   {
    "duration": 122,
    "start_time": "2021-12-20T14:14:08.100Z"
   },
   {
    "duration": 9,
    "start_time": "2021-12-20T14:14:08.224Z"
   },
   {
    "duration": 61,
    "start_time": "2021-12-20T14:14:08.235Z"
   },
   {
    "duration": 22,
    "start_time": "2021-12-20T14:14:08.299Z"
   },
   {
    "duration": 38,
    "start_time": "2021-12-20T14:14:08.324Z"
   },
   {
    "duration": 29,
    "start_time": "2021-12-20T14:14:08.365Z"
   },
   {
    "duration": 99,
    "start_time": "2021-12-20T14:14:08.397Z"
   },
   {
    "duration": 85,
    "start_time": "2021-12-20T14:14:08.499Z"
   },
   {
    "duration": 59,
    "start_time": "2021-12-20T14:14:08.586Z"
   },
   {
    "duration": 36,
    "start_time": "2021-12-20T14:14:08.662Z"
   },
   {
    "duration": 8,
    "start_time": "2021-12-20T14:14:08.703Z"
   },
   {
    "duration": 8,
    "start_time": "2021-12-20T14:14:08.715Z"
   },
   {
    "duration": 107,
    "start_time": "2021-12-20T14:14:08.725Z"
   },
   {
    "duration": 9,
    "start_time": "2021-12-20T14:14:08.836Z"
   },
   {
    "duration": 50,
    "start_time": "2021-12-20T14:14:08.864Z"
   },
   {
    "duration": 9,
    "start_time": "2021-12-20T14:14:08.918Z"
   },
   {
    "duration": 54,
    "start_time": "2021-12-20T14:14:08.930Z"
   },
   {
    "duration": 11,
    "start_time": "2021-12-20T14:14:08.987Z"
   },
   {
    "duration": 24,
    "start_time": "2021-12-20T14:14:09.000Z"
   },
   {
    "duration": 396,
    "start_time": "2021-12-20T14:14:09.062Z"
   },
   {
    "duration": 15,
    "start_time": "2021-12-20T14:14:09.465Z"
   },
   {
    "duration": 391,
    "start_time": "2021-12-20T14:14:09.483Z"
   },
   {
    "duration": 17,
    "start_time": "2021-12-20T14:14:09.876Z"
   },
   {
    "duration": 399,
    "start_time": "2021-12-20T14:14:09.896Z"
   },
   {
    "duration": 17,
    "start_time": "2021-12-20T14:14:10.297Z"
   },
   {
    "duration": 575,
    "start_time": "2021-12-20T14:14:10.317Z"
   },
   {
    "duration": 16,
    "start_time": "2021-12-20T14:14:10.895Z"
   },
   {
    "duration": 15,
    "start_time": "2021-12-20T14:14:10.915Z"
   }
  ],
  "kernelspec": {
   "display_name": "Python 3 (ipykernel)",
   "language": "python",
   "name": "python3"
  },
  "language_info": {
   "codemirror_mode": {
    "name": "ipython",
    "version": 3
   },
   "file_extension": ".py",
   "mimetype": "text/x-python",
   "name": "python",
   "nbconvert_exporter": "python",
   "pygments_lexer": "ipython3",
   "version": "3.9.5"
  },
  "toc": {
   "base_numbering": 1,
   "nav_menu": {
    "height": "64px",
    "width": "172px"
   },
   "number_sections": true,
   "sideBar": true,
   "skip_h1_title": true,
   "title_cell": "Table of Contents",
   "title_sidebar": "Contents",
   "toc_cell": false,
   "toc_position": {
    "height": "calc(100% - 180px)",
    "left": "10px",
    "top": "150px",
    "width": "165px"
   },
   "toc_section_display": true,
   "toc_window_display": false
  }
 },
 "nbformat": 4,
 "nbformat_minor": 2
}
