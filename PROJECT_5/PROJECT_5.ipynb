{
 "cells": [
  {
   "cell_type": "markdown",
   "metadata": {},
   "source": [
    "## Подготовка и обработка данных."
   ]
  },
  {
   "cell_type": "markdown",
   "metadata": {},
   "source": [
    "Импортируем необходимые для работы библиотеки."
   ]
  },
  {
   "cell_type": "code",
   "execution_count": 1,
   "metadata": {},
   "outputs": [],
   "source": [
    "import pandas as pd\n",
    "import numpy as np\n",
    "import scipy.stats as stats\n",
    "import seaborn as sns\n",
    "import matplotlib.pyplot as plt\n",
    "from collections import defaultdict\n",
    "import datetime as dt"
   ]
  },
  {
   "cell_type": "markdown",
   "metadata": {},
   "source": [
    "Откроем файлы с данными и посмотрим информацию."
   ]
  },
  {
   "cell_type": "code",
   "execution_count": 2,
   "metadata": {},
   "outputs": [],
   "source": [
    "orders = pd.read_csv('/datasets/orders.csv')\n",
    "visitors = pd.read_csv('/datasets/visitors.csv')"
   ]
  },
  {
   "cell_type": "code",
   "execution_count": 3,
   "metadata": {},
   "outputs": [
    {
     "name": "stdout",
     "output_type": "stream",
     "text": [
      "<class 'pandas.core.frame.DataFrame'>\n",
      "RangeIndex: 1197 entries, 0 to 1196\n",
      "Data columns (total 5 columns):\n",
      " #   Column         Non-Null Count  Dtype \n",
      "---  ------         --------------  ----- \n",
      " 0   transactionId  1197 non-null   int64 \n",
      " 1   visitorId      1197 non-null   int64 \n",
      " 2   date           1197 non-null   object\n",
      " 3   revenue        1197 non-null   int64 \n",
      " 4   group          1197 non-null   object\n",
      "dtypes: int64(3), object(2)\n",
      "memory usage: 46.9+ KB\n"
     ]
    }
   ],
   "source": [
    "orders.info()"
   ]
  },
  {
   "cell_type": "code",
   "execution_count": 4,
   "metadata": {},
   "outputs": [
    {
     "name": "stdout",
     "output_type": "stream",
     "text": [
      "<class 'pandas.core.frame.DataFrame'>\n",
      "RangeIndex: 62 entries, 0 to 61\n",
      "Data columns (total 3 columns):\n",
      " #   Column    Non-Null Count  Dtype \n",
      "---  ------    --------------  ----- \n",
      " 0   date      62 non-null     object\n",
      " 1   group     62 non-null     object\n",
      " 2   visitors  62 non-null     int64 \n",
      "dtypes: int64(1), object(2)\n",
      "memory usage: 1.6+ KB\n"
     ]
    }
   ],
   "source": [
    "visitors.info()"
   ]
  },
  {
   "cell_type": "markdown",
   "metadata": {},
   "source": [
    "В столбцах 'date' не правильно распознан тип данных. Используем функцию pd.to_datetime."
   ]
  },
  {
   "cell_type": "code",
   "execution_count": 5,
   "metadata": {},
   "outputs": [],
   "source": [
    "orders['date'] = pd.to_datetime(orders['date'])\n",
    "visitors['date'] = pd.to_datetime(visitors['date'])"
   ]
  },
  {
   "cell_type": "markdown",
   "metadata": {},
   "source": [
    "Проверим, все ли получилось."
   ]
  },
  {
   "cell_type": "code",
   "execution_count": 6,
   "metadata": {},
   "outputs": [
    {
     "name": "stdout",
     "output_type": "stream",
     "text": [
      "<class 'pandas.core.frame.DataFrame'>\n",
      "RangeIndex: 1197 entries, 0 to 1196\n",
      "Data columns (total 5 columns):\n",
      " #   Column         Non-Null Count  Dtype         \n",
      "---  ------         --------------  -----         \n",
      " 0   transactionId  1197 non-null   int64         \n",
      " 1   visitorId      1197 non-null   int64         \n",
      " 2   date           1197 non-null   datetime64[ns]\n",
      " 3   revenue        1197 non-null   int64         \n",
      " 4   group          1197 non-null   object        \n",
      "dtypes: datetime64[ns](1), int64(3), object(1)\n",
      "memory usage: 46.9+ KB\n"
     ]
    }
   ],
   "source": [
    "orders.info()"
   ]
  },
  {
   "cell_type": "code",
   "execution_count": 7,
   "metadata": {
    "scrolled": true
   },
   "outputs": [
    {
     "name": "stdout",
     "output_type": "stream",
     "text": [
      "<class 'pandas.core.frame.DataFrame'>\n",
      "RangeIndex: 62 entries, 0 to 61\n",
      "Data columns (total 3 columns):\n",
      " #   Column    Non-Null Count  Dtype         \n",
      "---  ------    --------------  -----         \n",
      " 0   date      62 non-null     datetime64[ns]\n",
      " 1   group     62 non-null     object        \n",
      " 2   visitors  62 non-null     int64         \n",
      "dtypes: datetime64[ns](1), int64(1), object(1)\n",
      "memory usage: 1.6+ KB\n"
     ]
    }
   ],
   "source": [
    "visitors.info()"
   ]
  },
  {
   "cell_type": "markdown",
   "metadata": {},
   "source": [
    "Узнаем минимальную и максимальную дату заказов."
   ]
  },
  {
   "cell_type": "code",
   "execution_count": 8,
   "metadata": {},
   "outputs": [
    {
     "data": {
      "text/plain": [
       "Timestamp('2019-08-01 00:00:00')"
      ]
     },
     "execution_count": 8,
     "metadata": {},
     "output_type": "execute_result"
    }
   ],
   "source": [
    "orders['date'].min()"
   ]
  },
  {
   "cell_type": "code",
   "execution_count": 9,
   "metadata": {},
   "outputs": [
    {
     "data": {
      "text/plain": [
       "Timestamp('2019-08-31 00:00:00')"
      ]
     },
     "execution_count": 9,
     "metadata": {},
     "output_type": "execute_result"
    }
   ],
   "source": [
    "orders['date'].max()"
   ]
  },
  {
   "cell_type": "markdown",
   "metadata": {},
   "source": [
    "Проверим на дубликаты:"
   ]
  },
  {
   "cell_type": "code",
   "execution_count": 10,
   "metadata": {},
   "outputs": [
    {
     "data": {
      "text/plain": [
       "(0, 0)"
      ]
     },
     "execution_count": 10,
     "metadata": {},
     "output_type": "execute_result"
    }
   ],
   "source": [
    "orders.duplicated().sum(), visitors.duplicated().sum()"
   ]
  },
  {
   "cell_type": "markdown",
   "metadata": {},
   "source": [
    "Проверяем на пропуски."
   ]
  },
  {
   "cell_type": "code",
   "execution_count": 11,
   "metadata": {},
   "outputs": [
    {
     "data": {
      "text/plain": [
       "(transactionId    0\n",
       " visitorId        0\n",
       " date             0\n",
       " revenue          0\n",
       " group            0\n",
       " dtype: int64,\n",
       " date        0\n",
       " group       0\n",
       " visitors    0\n",
       " dtype: int64)"
      ]
     },
     "execution_count": 11,
     "metadata": {},
     "output_type": "execute_result"
    }
   ],
   "source": [
    "orders.isna().sum(), visitors.isna().sum()"
   ]
  },
  {
   "cell_type": "markdown",
   "metadata": {},
   "source": [
    "Посмотрим,есть ли пользователи, попавшие в обе группы."
   ]
  },
  {
   "cell_type": "code",
   "execution_count": 12,
   "metadata": {},
   "outputs": [
    {
     "data": {
      "text/html": [
       "<div>\n",
       "<style scoped>\n",
       "    .dataframe tbody tr th:only-of-type {\n",
       "        vertical-align: middle;\n",
       "    }\n",
       "\n",
       "    .dataframe tbody tr th {\n",
       "        vertical-align: top;\n",
       "    }\n",
       "\n",
       "    .dataframe thead th {\n",
       "        text-align: right;\n",
       "    }\n",
       "</style>\n",
       "<table border=\"1\" class=\"dataframe\">\n",
       "  <thead>\n",
       "    <tr style=\"text-align: right;\">\n",
       "      <th></th>\n",
       "      <th>group</th>\n",
       "    </tr>\n",
       "    <tr>\n",
       "      <th>visitorId</th>\n",
       "      <th></th>\n",
       "    </tr>\n",
       "  </thead>\n",
       "  <tbody>\n",
       "    <tr>\n",
       "      <th>8300375</th>\n",
       "      <td>2</td>\n",
       "    </tr>\n",
       "    <tr>\n",
       "      <th>199603092</th>\n",
       "      <td>2</td>\n",
       "    </tr>\n",
       "    <tr>\n",
       "      <th>232979603</th>\n",
       "      <td>2</td>\n",
       "    </tr>\n",
       "    <tr>\n",
       "      <th>237748145</th>\n",
       "      <td>2</td>\n",
       "    </tr>\n",
       "    <tr>\n",
       "      <th>276558944</th>\n",
       "      <td>2</td>\n",
       "    </tr>\n",
       "    <tr>\n",
       "      <th>351125977</th>\n",
       "      <td>2</td>\n",
       "    </tr>\n",
       "    <tr>\n",
       "      <th>393266494</th>\n",
       "      <td>2</td>\n",
       "    </tr>\n",
       "    <tr>\n",
       "      <th>457167155</th>\n",
       "      <td>2</td>\n",
       "    </tr>\n",
       "    <tr>\n",
       "      <th>471551937</th>\n",
       "      <td>2</td>\n",
       "    </tr>\n",
       "    <tr>\n",
       "      <th>477780734</th>\n",
       "      <td>2</td>\n",
       "    </tr>\n",
       "    <tr>\n",
       "      <th>818047933</th>\n",
       "      <td>2</td>\n",
       "    </tr>\n",
       "    <tr>\n",
       "      <th>963407295</th>\n",
       "      <td>2</td>\n",
       "    </tr>\n",
       "    <tr>\n",
       "      <th>1230306981</th>\n",
       "      <td>2</td>\n",
       "    </tr>\n",
       "    <tr>\n",
       "      <th>1294878855</th>\n",
       "      <td>2</td>\n",
       "    </tr>\n",
       "    <tr>\n",
       "      <th>1316129916</th>\n",
       "      <td>2</td>\n",
       "    </tr>\n",
       "    <tr>\n",
       "      <th>1333886533</th>\n",
       "      <td>2</td>\n",
       "    </tr>\n",
       "    <tr>\n",
       "      <th>1404934699</th>\n",
       "      <td>2</td>\n",
       "    </tr>\n",
       "    <tr>\n",
       "      <th>1602967004</th>\n",
       "      <td>2</td>\n",
       "    </tr>\n",
       "    <tr>\n",
       "      <th>1614305549</th>\n",
       "      <td>2</td>\n",
       "    </tr>\n",
       "    <tr>\n",
       "      <th>1648269707</th>\n",
       "      <td>2</td>\n",
       "    </tr>\n",
       "    <tr>\n",
       "      <th>1668030113</th>\n",
       "      <td>2</td>\n",
       "    </tr>\n",
       "    <tr>\n",
       "      <th>1738359350</th>\n",
       "      <td>2</td>\n",
       "    </tr>\n",
       "    <tr>\n",
       "      <th>1801183820</th>\n",
       "      <td>2</td>\n",
       "    </tr>\n",
       "    <tr>\n",
       "      <th>1959144690</th>\n",
       "      <td>2</td>\n",
       "    </tr>\n",
       "    <tr>\n",
       "      <th>2038680547</th>\n",
       "      <td>2</td>\n",
       "    </tr>\n",
       "    <tr>\n",
       "      <th>2044997962</th>\n",
       "      <td>2</td>\n",
       "    </tr>\n",
       "    <tr>\n",
       "      <th>2378935119</th>\n",
       "      <td>2</td>\n",
       "    </tr>\n",
       "    <tr>\n",
       "      <th>2458001652</th>\n",
       "      <td>2</td>\n",
       "    </tr>\n",
       "    <tr>\n",
       "      <th>2579882178</th>\n",
       "      <td>2</td>\n",
       "    </tr>\n",
       "    <tr>\n",
       "      <th>2587333274</th>\n",
       "      <td>2</td>\n",
       "    </tr>\n",
       "    <tr>\n",
       "      <th>2600415354</th>\n",
       "      <td>2</td>\n",
       "    </tr>\n",
       "    <tr>\n",
       "      <th>2654030115</th>\n",
       "      <td>2</td>\n",
       "    </tr>\n",
       "    <tr>\n",
       "      <th>2686716486</th>\n",
       "      <td>2</td>\n",
       "    </tr>\n",
       "    <tr>\n",
       "      <th>2712142231</th>\n",
       "      <td>2</td>\n",
       "    </tr>\n",
       "    <tr>\n",
       "      <th>2716752286</th>\n",
       "      <td>2</td>\n",
       "    </tr>\n",
       "    <tr>\n",
       "      <th>2780786433</th>\n",
       "      <td>2</td>\n",
       "    </tr>\n",
       "    <tr>\n",
       "      <th>2927087541</th>\n",
       "      <td>2</td>\n",
       "    </tr>\n",
       "    <tr>\n",
       "      <th>2949041841</th>\n",
       "      <td>2</td>\n",
       "    </tr>\n",
       "    <tr>\n",
       "      <th>2954449915</th>\n",
       "      <td>2</td>\n",
       "    </tr>\n",
       "    <tr>\n",
       "      <th>3062433592</th>\n",
       "      <td>2</td>\n",
       "    </tr>\n",
       "    <tr>\n",
       "      <th>3202540741</th>\n",
       "      <td>2</td>\n",
       "    </tr>\n",
       "    <tr>\n",
       "      <th>3234906277</th>\n",
       "      <td>2</td>\n",
       "    </tr>\n",
       "    <tr>\n",
       "      <th>3656415546</th>\n",
       "      <td>2</td>\n",
       "    </tr>\n",
       "    <tr>\n",
       "      <th>3717692402</th>\n",
       "      <td>2</td>\n",
       "    </tr>\n",
       "    <tr>\n",
       "      <th>3766097110</th>\n",
       "      <td>2</td>\n",
       "    </tr>\n",
       "    <tr>\n",
       "      <th>3803269165</th>\n",
       "      <td>2</td>\n",
       "    </tr>\n",
       "    <tr>\n",
       "      <th>3891541246</th>\n",
       "      <td>2</td>\n",
       "    </tr>\n",
       "    <tr>\n",
       "      <th>3941795274</th>\n",
       "      <td>2</td>\n",
       "    </tr>\n",
       "    <tr>\n",
       "      <th>3951559397</th>\n",
       "      <td>2</td>\n",
       "    </tr>\n",
       "    <tr>\n",
       "      <th>3957174400</th>\n",
       "      <td>2</td>\n",
       "    </tr>\n",
       "    <tr>\n",
       "      <th>3963646447</th>\n",
       "      <td>2</td>\n",
       "    </tr>\n",
       "    <tr>\n",
       "      <th>3972127743</th>\n",
       "      <td>2</td>\n",
       "    </tr>\n",
       "    <tr>\n",
       "      <th>3984495233</th>\n",
       "      <td>2</td>\n",
       "    </tr>\n",
       "    <tr>\n",
       "      <th>4069496402</th>\n",
       "      <td>2</td>\n",
       "    </tr>\n",
       "    <tr>\n",
       "      <th>4120364173</th>\n",
       "      <td>2</td>\n",
       "    </tr>\n",
       "    <tr>\n",
       "      <th>4186807279</th>\n",
       "      <td>2</td>\n",
       "    </tr>\n",
       "    <tr>\n",
       "      <th>4256040402</th>\n",
       "      <td>2</td>\n",
       "    </tr>\n",
       "    <tr>\n",
       "      <th>4266935830</th>\n",
       "      <td>2</td>\n",
       "    </tr>\n",
       "  </tbody>\n",
       "</table>\n",
       "</div>"
      ],
      "text/plain": [
       "            group\n",
       "visitorId        \n",
       "8300375         2\n",
       "199603092       2\n",
       "232979603       2\n",
       "237748145       2\n",
       "276558944       2\n",
       "351125977       2\n",
       "393266494       2\n",
       "457167155       2\n",
       "471551937       2\n",
       "477780734       2\n",
       "818047933       2\n",
       "963407295       2\n",
       "1230306981      2\n",
       "1294878855      2\n",
       "1316129916      2\n",
       "1333886533      2\n",
       "1404934699      2\n",
       "1602967004      2\n",
       "1614305549      2\n",
       "1648269707      2\n",
       "1668030113      2\n",
       "1738359350      2\n",
       "1801183820      2\n",
       "1959144690      2\n",
       "2038680547      2\n",
       "2044997962      2\n",
       "2378935119      2\n",
       "2458001652      2\n",
       "2579882178      2\n",
       "2587333274      2\n",
       "2600415354      2\n",
       "2654030115      2\n",
       "2686716486      2\n",
       "2712142231      2\n",
       "2716752286      2\n",
       "2780786433      2\n",
       "2927087541      2\n",
       "2949041841      2\n",
       "2954449915      2\n",
       "3062433592      2\n",
       "3202540741      2\n",
       "3234906277      2\n",
       "3656415546      2\n",
       "3717692402      2\n",
       "3766097110      2\n",
       "3803269165      2\n",
       "3891541246      2\n",
       "3941795274      2\n",
       "3951559397      2\n",
       "3957174400      2\n",
       "3963646447      2\n",
       "3972127743      2\n",
       "3984495233      2\n",
       "4069496402      2\n",
       "4120364173      2\n",
       "4186807279      2\n",
       "4256040402      2\n",
       "4266935830      2"
      ]
     },
     "execution_count": 12,
     "metadata": {},
     "output_type": "execute_result"
    }
   ],
   "source": [
    "orders.groupby('visitorId').agg({'group':'nunique'}).query('group > 1')"
   ]
  },
  {
   "cell_type": "markdown",
   "metadata": {},
   "source": [
    "### Вывод:\n",
    "Мы изучили и обработали данные. Заменили типы данных в двух столбцах 'date' на необходимые. Пропусков и дубликатов не обнаружено. Период теста: 01.08.2019 - 01.09.2019. Стоит отметить, что есть пользователи,оказавшиеся в двух группах теста одновременно."
   ]
  },
  {
   "cell_type": "markdown",
   "metadata": {},
   "source": [
    "## Приоритизация гипотез."
   ]
  },
  {
   "cell_type": "markdown",
   "metadata": {},
   "source": [
    "Откроем файл с данными и приведем названия столбцов к нижнему регистру."
   ]
  },
  {
   "cell_type": "code",
   "execution_count": 13,
   "metadata": {},
   "outputs": [
    {
     "data": {
      "text/html": [
       "<div>\n",
       "<style scoped>\n",
       "    .dataframe tbody tr th:only-of-type {\n",
       "        vertical-align: middle;\n",
       "    }\n",
       "\n",
       "    .dataframe tbody tr th {\n",
       "        vertical-align: top;\n",
       "    }\n",
       "\n",
       "    .dataframe thead th {\n",
       "        text-align: right;\n",
       "    }\n",
       "</style>\n",
       "<table border=\"1\" class=\"dataframe\">\n",
       "  <thead>\n",
       "    <tr style=\"text-align: right;\">\n",
       "      <th></th>\n",
       "      <th>hypothesis</th>\n",
       "      <th>reach</th>\n",
       "      <th>impact</th>\n",
       "      <th>confidence</th>\n",
       "      <th>efforts</th>\n",
       "    </tr>\n",
       "  </thead>\n",
       "  <tbody>\n",
       "    <tr>\n",
       "      <th>0</th>\n",
       "      <td>Добавить два новых канала привлечения трафика, что позволит привлекать на 30% больше пользователей</td>\n",
       "      <td>3</td>\n",
       "      <td>10</td>\n",
       "      <td>8</td>\n",
       "      <td>6</td>\n",
       "    </tr>\n",
       "    <tr>\n",
       "      <th>1</th>\n",
       "      <td>Запустить собственную службу доставки, что сократит срок доставки заказов</td>\n",
       "      <td>2</td>\n",
       "      <td>5</td>\n",
       "      <td>4</td>\n",
       "      <td>10</td>\n",
       "    </tr>\n",
       "    <tr>\n",
       "      <th>2</th>\n",
       "      <td>Добавить блоки рекомендаций товаров на сайт интернет магазина, чтобы повысить конверсию и средний чек заказа</td>\n",
       "      <td>8</td>\n",
       "      <td>3</td>\n",
       "      <td>7</td>\n",
       "      <td>3</td>\n",
       "    </tr>\n",
       "    <tr>\n",
       "      <th>3</th>\n",
       "      <td>Изменить структура категорий, что увеличит конверсию, т.к. пользователи быстрее найдут нужный товар</td>\n",
       "      <td>8</td>\n",
       "      <td>3</td>\n",
       "      <td>3</td>\n",
       "      <td>8</td>\n",
       "    </tr>\n",
       "    <tr>\n",
       "      <th>4</th>\n",
       "      <td>Изменить цвет фона главной страницы, чтобы увеличить вовлеченность пользователей</td>\n",
       "      <td>3</td>\n",
       "      <td>1</td>\n",
       "      <td>1</td>\n",
       "      <td>1</td>\n",
       "    </tr>\n",
       "    <tr>\n",
       "      <th>5</th>\n",
       "      <td>Добавить страницу отзывов клиентов о магазине, что позволит увеличить количество заказов</td>\n",
       "      <td>3</td>\n",
       "      <td>2</td>\n",
       "      <td>2</td>\n",
       "      <td>3</td>\n",
       "    </tr>\n",
       "    <tr>\n",
       "      <th>6</th>\n",
       "      <td>Показать на главной странице баннеры с актуальными акциями и распродажами, чтобы увеличить конверсию</td>\n",
       "      <td>5</td>\n",
       "      <td>3</td>\n",
       "      <td>8</td>\n",
       "      <td>3</td>\n",
       "    </tr>\n",
       "    <tr>\n",
       "      <th>7</th>\n",
       "      <td>Добавить форму подписки на все основные страницы, чтобы собрать базу клиентов для email-рассылок</td>\n",
       "      <td>10</td>\n",
       "      <td>7</td>\n",
       "      <td>8</td>\n",
       "      <td>5</td>\n",
       "    </tr>\n",
       "    <tr>\n",
       "      <th>8</th>\n",
       "      <td>Запустить акцию, дающую скидку на товар в день рождения</td>\n",
       "      <td>1</td>\n",
       "      <td>9</td>\n",
       "      <td>9</td>\n",
       "      <td>5</td>\n",
       "    </tr>\n",
       "  </tbody>\n",
       "</table>\n",
       "</div>"
      ],
      "text/plain": [
       "                                                                                                     hypothesis  \\\n",
       "0            Добавить два новых канала привлечения трафика, что позволит привлекать на 30% больше пользователей   \n",
       "1                                     Запустить собственную службу доставки, что сократит срок доставки заказов   \n",
       "2  Добавить блоки рекомендаций товаров на сайт интернет магазина, чтобы повысить конверсию и средний чек заказа   \n",
       "3           Изменить структура категорий, что увеличит конверсию, т.к. пользователи быстрее найдут нужный товар   \n",
       "4                              Изменить цвет фона главной страницы, чтобы увеличить вовлеченность пользователей   \n",
       "5                      Добавить страницу отзывов клиентов о магазине, что позволит увеличить количество заказов   \n",
       "6          Показать на главной странице баннеры с актуальными акциями и распродажами, чтобы увеличить конверсию   \n",
       "7              Добавить форму подписки на все основные страницы, чтобы собрать базу клиентов для email-рассылок   \n",
       "8                                                       Запустить акцию, дающую скидку на товар в день рождения   \n",
       "\n",
       "   reach  impact  confidence  efforts  \n",
       "0      3      10           8        6  \n",
       "1      2       5           4       10  \n",
       "2      8       3           7        3  \n",
       "3      8       3           3        8  \n",
       "4      3       1           1        1  \n",
       "5      3       2           2        3  \n",
       "6      5       3           8        3  \n",
       "7     10       7           8        5  \n",
       "8      1       9           9        5  "
      ]
     },
     "execution_count": 13,
     "metadata": {},
     "output_type": "execute_result"
    }
   ],
   "source": [
    "hypothesis = pd.read_csv('/datasets/hypothesis.csv')\n",
    "hypothesis.columns = hypothesis.columns.str.lower()\n",
    "pd.set_option('display.max_colwidth', 1000)\n",
    "hypothesis"
   ]
  },
  {
   "cell_type": "markdown",
   "metadata": {},
   "source": [
    "Применим фреймворк ICE для приоритизации гипотез и отсортируем в порядке убывания."
   ]
  },
  {
   "cell_type": "code",
   "execution_count": 14,
   "metadata": {},
   "outputs": [
    {
     "data": {
      "text/html": [
       "<div>\n",
       "<style scoped>\n",
       "    .dataframe tbody tr th:only-of-type {\n",
       "        vertical-align: middle;\n",
       "    }\n",
       "\n",
       "    .dataframe tbody tr th {\n",
       "        vertical-align: top;\n",
       "    }\n",
       "\n",
       "    .dataframe thead th {\n",
       "        text-align: right;\n",
       "    }\n",
       "</style>\n",
       "<table border=\"1\" class=\"dataframe\">\n",
       "  <thead>\n",
       "    <tr style=\"text-align: right;\">\n",
       "      <th></th>\n",
       "      <th>hypothesis</th>\n",
       "      <th>ICE</th>\n",
       "    </tr>\n",
       "  </thead>\n",
       "  <tbody>\n",
       "    <tr>\n",
       "      <th>8</th>\n",
       "      <td>Запустить акцию, дающую скидку на товар в день рождения</td>\n",
       "      <td>16.20</td>\n",
       "    </tr>\n",
       "    <tr>\n",
       "      <th>0</th>\n",
       "      <td>Добавить два новых канала привлечения трафика, что позволит привлекать на 30% больше пользователей</td>\n",
       "      <td>13.33</td>\n",
       "    </tr>\n",
       "    <tr>\n",
       "      <th>7</th>\n",
       "      <td>Добавить форму подписки на все основные страницы, чтобы собрать базу клиентов для email-рассылок</td>\n",
       "      <td>11.20</td>\n",
       "    </tr>\n",
       "    <tr>\n",
       "      <th>6</th>\n",
       "      <td>Показать на главной странице баннеры с актуальными акциями и распродажами, чтобы увеличить конверсию</td>\n",
       "      <td>8.00</td>\n",
       "    </tr>\n",
       "    <tr>\n",
       "      <th>2</th>\n",
       "      <td>Добавить блоки рекомендаций товаров на сайт интернет магазина, чтобы повысить конверсию и средний чек заказа</td>\n",
       "      <td>7.00</td>\n",
       "    </tr>\n",
       "    <tr>\n",
       "      <th>1</th>\n",
       "      <td>Запустить собственную службу доставки, что сократит срок доставки заказов</td>\n",
       "      <td>2.00</td>\n",
       "    </tr>\n",
       "    <tr>\n",
       "      <th>5</th>\n",
       "      <td>Добавить страницу отзывов клиентов о магазине, что позволит увеличить количество заказов</td>\n",
       "      <td>1.33</td>\n",
       "    </tr>\n",
       "    <tr>\n",
       "      <th>3</th>\n",
       "      <td>Изменить структура категорий, что увеличит конверсию, т.к. пользователи быстрее найдут нужный товар</td>\n",
       "      <td>1.12</td>\n",
       "    </tr>\n",
       "    <tr>\n",
       "      <th>4</th>\n",
       "      <td>Изменить цвет фона главной страницы, чтобы увеличить вовлеченность пользователей</td>\n",
       "      <td>1.00</td>\n",
       "    </tr>\n",
       "  </tbody>\n",
       "</table>\n",
       "</div>"
      ],
      "text/plain": [
       "                                                                                                     hypothesis  \\\n",
       "8                                                       Запустить акцию, дающую скидку на товар в день рождения   \n",
       "0            Добавить два новых канала привлечения трафика, что позволит привлекать на 30% больше пользователей   \n",
       "7              Добавить форму подписки на все основные страницы, чтобы собрать базу клиентов для email-рассылок   \n",
       "6          Показать на главной странице баннеры с актуальными акциями и распродажами, чтобы увеличить конверсию   \n",
       "2  Добавить блоки рекомендаций товаров на сайт интернет магазина, чтобы повысить конверсию и средний чек заказа   \n",
       "1                                     Запустить собственную службу доставки, что сократит срок доставки заказов   \n",
       "5                      Добавить страницу отзывов клиентов о магазине, что позволит увеличить количество заказов   \n",
       "3           Изменить структура категорий, что увеличит конверсию, т.к. пользователи быстрее найдут нужный товар   \n",
       "4                              Изменить цвет фона главной страницы, чтобы увеличить вовлеченность пользователей   \n",
       "\n",
       "     ICE  \n",
       "8  16.20  \n",
       "0  13.33  \n",
       "7  11.20  \n",
       "6   8.00  \n",
       "2   7.00  \n",
       "1   2.00  \n",
       "5   1.33  \n",
       "3   1.12  \n",
       "4   1.00  "
      ]
     },
     "execution_count": 14,
     "metadata": {},
     "output_type": "execute_result"
    }
   ],
   "source": [
    "hypothesis['ICE'] = hypothesis['impact'] * hypothesis['confidence'] / hypothesis['efforts']\n",
    "hypothesis_ICE = hypothesis[['hypothesis', 'ICE']].sort_values(by='ICE', ascending=False).round(2)\n",
    "\n",
    "pd.set_option('display.max_colwidth', 1000)\n",
    "hypothesis_ICE"
   ]
  },
  {
   "cell_type": "markdown",
   "metadata": {},
   "source": [
    "Применим фреймворк RICE для приоритизации гипотез и отсортируем в порядке убывания."
   ]
  },
  {
   "cell_type": "code",
   "execution_count": 15,
   "metadata": {
    "scrolled": true
   },
   "outputs": [
    {
     "data": {
      "text/html": [
       "<div>\n",
       "<style scoped>\n",
       "    .dataframe tbody tr th:only-of-type {\n",
       "        vertical-align: middle;\n",
       "    }\n",
       "\n",
       "    .dataframe tbody tr th {\n",
       "        vertical-align: top;\n",
       "    }\n",
       "\n",
       "    .dataframe thead th {\n",
       "        text-align: right;\n",
       "    }\n",
       "</style>\n",
       "<table border=\"1\" class=\"dataframe\">\n",
       "  <thead>\n",
       "    <tr style=\"text-align: right;\">\n",
       "      <th></th>\n",
       "      <th>hypothesis</th>\n",
       "      <th>RICE</th>\n",
       "    </tr>\n",
       "  </thead>\n",
       "  <tbody>\n",
       "    <tr>\n",
       "      <th>7</th>\n",
       "      <td>Добавить форму подписки на все основные страницы, чтобы собрать базу клиентов для email-рассылок</td>\n",
       "      <td>112.0</td>\n",
       "    </tr>\n",
       "    <tr>\n",
       "      <th>2</th>\n",
       "      <td>Добавить блоки рекомендаций товаров на сайт интернет магазина, чтобы повысить конверсию и средний чек заказа</td>\n",
       "      <td>56.0</td>\n",
       "    </tr>\n",
       "    <tr>\n",
       "      <th>0</th>\n",
       "      <td>Добавить два новых канала привлечения трафика, что позволит привлекать на 30% больше пользователей</td>\n",
       "      <td>40.0</td>\n",
       "    </tr>\n",
       "    <tr>\n",
       "      <th>6</th>\n",
       "      <td>Показать на главной странице баннеры с актуальными акциями и распродажами, чтобы увеличить конверсию</td>\n",
       "      <td>40.0</td>\n",
       "    </tr>\n",
       "    <tr>\n",
       "      <th>8</th>\n",
       "      <td>Запустить акцию, дающую скидку на товар в день рождения</td>\n",
       "      <td>16.2</td>\n",
       "    </tr>\n",
       "    <tr>\n",
       "      <th>3</th>\n",
       "      <td>Изменить структура категорий, что увеличит конверсию, т.к. пользователи быстрее найдут нужный товар</td>\n",
       "      <td>9.0</td>\n",
       "    </tr>\n",
       "    <tr>\n",
       "      <th>1</th>\n",
       "      <td>Запустить собственную службу доставки, что сократит срок доставки заказов</td>\n",
       "      <td>4.0</td>\n",
       "    </tr>\n",
       "    <tr>\n",
       "      <th>5</th>\n",
       "      <td>Добавить страницу отзывов клиентов о магазине, что позволит увеличить количество заказов</td>\n",
       "      <td>4.0</td>\n",
       "    </tr>\n",
       "    <tr>\n",
       "      <th>4</th>\n",
       "      <td>Изменить цвет фона главной страницы, чтобы увеличить вовлеченность пользователей</td>\n",
       "      <td>3.0</td>\n",
       "    </tr>\n",
       "  </tbody>\n",
       "</table>\n",
       "</div>"
      ],
      "text/plain": [
       "                                                                                                     hypothesis  \\\n",
       "7              Добавить форму подписки на все основные страницы, чтобы собрать базу клиентов для email-рассылок   \n",
       "2  Добавить блоки рекомендаций товаров на сайт интернет магазина, чтобы повысить конверсию и средний чек заказа   \n",
       "0            Добавить два новых канала привлечения трафика, что позволит привлекать на 30% больше пользователей   \n",
       "6          Показать на главной странице баннеры с актуальными акциями и распродажами, чтобы увеличить конверсию   \n",
       "8                                                       Запустить акцию, дающую скидку на товар в день рождения   \n",
       "3           Изменить структура категорий, что увеличит конверсию, т.к. пользователи быстрее найдут нужный товар   \n",
       "1                                     Запустить собственную службу доставки, что сократит срок доставки заказов   \n",
       "5                      Добавить страницу отзывов клиентов о магазине, что позволит увеличить количество заказов   \n",
       "4                              Изменить цвет фона главной страницы, чтобы увеличить вовлеченность пользователей   \n",
       "\n",
       "    RICE  \n",
       "7  112.0  \n",
       "2   56.0  \n",
       "0   40.0  \n",
       "6   40.0  \n",
       "8   16.2  \n",
       "3    9.0  \n",
       "1    4.0  \n",
       "5    4.0  \n",
       "4    3.0  "
      ]
     },
     "execution_count": 15,
     "metadata": {},
     "output_type": "execute_result"
    }
   ],
   "source": [
    "hypothesis['RICE'] = hypothesis['reach'] * hypothesis['impact'] * hypothesis['confidence'] / hypothesis['efforts']\n",
    "hypothesis_RICE = hypothesis[['hypothesis', 'RICE']].sort_values(by='RICE', ascending=False).round(2)\n",
    "\n",
    "pd.set_option('display.max_colwidth', 1000)\n",
    "hypothesis_RICE"
   ]
  },
  {
   "cell_type": "markdown",
   "metadata": {},
   "source": [
    "### Вывод:\n",
    "При применении ICE высокую оценку имели гипотезы 8,0,7. После применения RICE приоритет гипотез изменился на 7, 2 и 0. Это связано с тем, что в RICE учитывается кол-во пользователей, которых коснется изменение. Соответственно оценка увлечилась. Наиболее приоритетными гипотезами выбираем 7, 2 и 0."
   ]
  },
  {
   "cell_type": "markdown",
   "metadata": {},
   "source": [
    "## График кумулятивной выручки по группам.\n"
   ]
  },
  {
   "cell_type": "markdown",
   "metadata": {},
   "source": [
    "Чтобы исключить проблему подсматривания проанализируем графики кумулятивных данных. Создадим массив уникальных пар значений дат и групп теста с помощью метода drop_duplicates"
   ]
  },
  {
   "cell_type": "code",
   "execution_count": 16,
   "metadata": {},
   "outputs": [],
   "source": [
    "# создаем массив уникальных пар значений дат и групп теста\n",
    "datesGroups = orders[['date','group']].drop_duplicates()"
   ]
  },
  {
   "cell_type": "markdown",
   "metadata": {},
   "source": [
    "Получим агретированные по дням данные о заказах и посетителях и с помощью метода merge объеденим все в одну таблицу. Переименуем столбцы."
   ]
  },
  {
   "cell_type": "code",
   "execution_count": 17,
   "metadata": {},
   "outputs": [],
   "source": [
    "ordersAggregated = datesGroups.apply(lambda x: orders[np.logical_and(orders['date'] <= x['date'], orders['group'] == x['group'])]\\\n",
    ".agg({'date' : 'max', 'group' : 'max', 'transactionId' : 'nunique', 'visitorId' : 'nunique', 'revenue' : 'sum'}), axis=1).sort_values(by=['date','group'])"
   ]
  },
  {
   "cell_type": "code",
   "execution_count": 18,
   "metadata": {},
   "outputs": [],
   "source": [
    "visitorsAggregated = datesGroups.apply(lambda x: visitors[np.logical_and(visitors['date'] <= x['date'], visitors['group'] == x['group'])].agg({'date' : 'max', 'group' : 'max', 'visitors' : 'sum'}), axis=1).sort_values(by=['date','group'])"
   ]
  },
  {
   "cell_type": "code",
   "execution_count": 19,
   "metadata": {},
   "outputs": [
    {
     "data": {
      "text/html": [
       "<div>\n",
       "<style scoped>\n",
       "    .dataframe tbody tr th:only-of-type {\n",
       "        vertical-align: middle;\n",
       "    }\n",
       "\n",
       "    .dataframe tbody tr th {\n",
       "        vertical-align: top;\n",
       "    }\n",
       "\n",
       "    .dataframe thead th {\n",
       "        text-align: right;\n",
       "    }\n",
       "</style>\n",
       "<table border=\"1\" class=\"dataframe\">\n",
       "  <thead>\n",
       "    <tr style=\"text-align: right;\">\n",
       "      <th></th>\n",
       "      <th>date</th>\n",
       "      <th>group</th>\n",
       "      <th>orders</th>\n",
       "      <th>buyers</th>\n",
       "      <th>revenue</th>\n",
       "      <th>visitors</th>\n",
       "    </tr>\n",
       "  </thead>\n",
       "  <tbody>\n",
       "    <tr>\n",
       "      <th>0</th>\n",
       "      <td>2019-08-01</td>\n",
       "      <td>A</td>\n",
       "      <td>24</td>\n",
       "      <td>20</td>\n",
       "      <td>148579</td>\n",
       "      <td>719</td>\n",
       "    </tr>\n",
       "    <tr>\n",
       "      <th>1</th>\n",
       "      <td>2019-08-01</td>\n",
       "      <td>B</td>\n",
       "      <td>21</td>\n",
       "      <td>20</td>\n",
       "      <td>101217</td>\n",
       "      <td>713</td>\n",
       "    </tr>\n",
       "    <tr>\n",
       "      <th>2</th>\n",
       "      <td>2019-08-02</td>\n",
       "      <td>A</td>\n",
       "      <td>44</td>\n",
       "      <td>38</td>\n",
       "      <td>242401</td>\n",
       "      <td>1338</td>\n",
       "    </tr>\n",
       "    <tr>\n",
       "      <th>3</th>\n",
       "      <td>2019-08-02</td>\n",
       "      <td>B</td>\n",
       "      <td>45</td>\n",
       "      <td>43</td>\n",
       "      <td>266748</td>\n",
       "      <td>1294</td>\n",
       "    </tr>\n",
       "    <tr>\n",
       "      <th>4</th>\n",
       "      <td>2019-08-03</td>\n",
       "      <td>A</td>\n",
       "      <td>68</td>\n",
       "      <td>62</td>\n",
       "      <td>354874</td>\n",
       "      <td>1845</td>\n",
       "    </tr>\n",
       "  </tbody>\n",
       "</table>\n",
       "</div>"
      ],
      "text/plain": [
       "        date group  orders  buyers  revenue  visitors\n",
       "0 2019-08-01     A      24      20   148579       719\n",
       "1 2019-08-01     B      21      20   101217       713\n",
       "2 2019-08-02     A      44      38   242401      1338\n",
       "3 2019-08-02     B      45      43   266748      1294\n",
       "4 2019-08-03     A      68      62   354874      1845"
      ]
     },
     "execution_count": 19,
     "metadata": {},
     "output_type": "execute_result"
    }
   ],
   "source": [
    "cumulativeData = ordersAggregated.merge(visitorsAggregated, left_on=['date', 'group'], right_on=['date', 'group'])\n",
    "cumulativeData.columns = ['date', 'group', 'orders', 'buyers', 'revenue', 'visitors']\n",
    "\n",
    "cumulativeData.head(5)"
   ]
  },
  {
   "cell_type": "markdown",
   "metadata": {},
   "source": [
    "Создаем датафреймы по группам и строим график."
   ]
  },
  {
   "cell_type": "code",
   "execution_count": 20,
   "metadata": {
    "scrolled": true
   },
   "outputs": [
    {
     "data": {
      "text/plain": [
       "<matplotlib.legend.Legend at 0x7f389675cca0>"
      ]
     },
     "execution_count": 20,
     "metadata": {},
     "output_type": "execute_result"
    },
    {
     "data": {
      "image/png": "[encoded data removed]",
      "text/plain": [
       "<Figure size 1080x360 with 1 Axes>"
      ]
     },
     "metadata": {
      "needs_background": "light"
     },
     "output_type": "display_data"
    }
   ],
   "source": [
    "# датафрейм с кумулятивным количеством заказов и кумулятивной выручкой по дням в группе А\n",
    "cumulativeRevenueA = cumulativeData[cumulativeData['group']=='A'][['date','revenue', 'orders']]\n",
    "\n",
    "# датафрейм с кумулятивным количеством заказов и кумулятивной выручкой по дням в группе B\n",
    "cumulativeRevenueB = cumulativeData[cumulativeData['group']=='B'][['date','revenue', 'orders']]\n",
    "\n",
    "# Строим график выручки группы А и B\n",
    "\n",
    "plt.figure(figsize=(15,5))\n",
    "plt.plot(cumulativeRevenueA['date'], cumulativeRevenueA['revenue'], label='A')\n",
    "plt.plot(cumulativeRevenueB['date'], cumulativeRevenueB['revenue'], label='B')\n",
    "\n",
    "\n",
    "plt.xlabel('Дата')\n",
    "plt.ylabel('Выручка')\n",
    "plt.title('График кумулятивной выручки по группам')\n",
    "\n",
    "plt.grid()\n",
    "plt.legend()"
   ]
  },
  {
   "cell_type": "markdown",
   "metadata": {},
   "source": [
    "### Вывод:\n",
    "Мы наблюдаем равномерный рост выручки с течением времени теста. Однако, в группе B наблюдаются несколько резких точек роста- 14.08.2019 и 19.08.2019. Это может быть связано с большим кол-вом заказов в эти дни или высокой стоимостью заказа. Также, можно сказать, что выручка группы B стабильно больше группы A."
   ]
  },
  {
   "cell_type": "markdown",
   "metadata": {},
   "source": [
    "## График кумулятивного среднего чека по группам."
   ]
  },
  {
   "cell_type": "markdown",
   "metadata": {},
   "source": [
    "Строим график кумулятивного среднего чека. Делим выручку на число заказов."
   ]
  },
  {
   "cell_type": "code",
   "execution_count": 21,
   "metadata": {},
   "outputs": [
    {
     "data": {
      "text/plain": [
       "<matplotlib.legend.Legend at 0x7f388e2282b0>"
      ]
     },
     "execution_count": 21,
     "metadata": {},
     "output_type": "execute_result"
    },
    {
     "data": {
      "image/png": "[encoded data removed]",
      "text/plain": [
       "<Figure size 1080x360 with 1 Axes>"
      ]
     },
     "metadata": {
      "needs_background": "light"
     },
     "output_type": "display_data"
    }
   ],
   "source": [
    "plt.figure(figsize=(15,5))\n",
    "plt.plot(cumulativeRevenueA['date'], cumulativeRevenueA['revenue']/cumulativeRevenueA['orders'], label='A')\n",
    "plt.plot(cumulativeRevenueB['date'], cumulativeRevenueB['revenue']/cumulativeRevenueB['orders'], label='B')\n",
    "plt.xlabel('Дата')\n",
    "plt.ylabel('Средний чек')\n",
    "plt.title('График кумулятивного среднего чека по группам')\n",
    "plt.grid()\n",
    "plt.legend()"
   ]
  },
  {
   "cell_type": "markdown",
   "metadata": {},
   "source": [
    "### Вывод:\n",
    "График очень нестабилен. Резкий скачок среднего чека в группе В, скорее всего вызван аномальными значениями, в те же даты, что и на прошлом графике. К концу теста средний чек стал более равномерным, чем в начале. Можно сделать вывод, что средний чек группы В выше,чем группы А."
   ]
  },
  {
   "cell_type": "markdown",
   "metadata": {},
   "source": [
    "## График относительного изменения кумулятивного среднего чека группы B к группе A."
   ]
  },
  {
   "cell_type": "markdown",
   "metadata": {},
   "source": [
    "Построим графи относительного изменения кумулятивного среднего чека группы В к группе А. Для этого рассчитаем каждую точку графика следующим образом: кумулятивная метрика группы B / кумулятивная метрика группы A - 1."
   ]
  },
  {
   "cell_type": "code",
   "execution_count": 22,
   "metadata": {},
   "outputs": [
    {
     "data": {
      "text/plain": [
       "<matplotlib.lines.Line2D at 0x7f388e3be7f0>"
      ]
     },
     "execution_count": 22,
     "metadata": {},
     "output_type": "execute_result"
    },
    {
     "data": {
      "image/png": "[encoded data removed]",
      "text/plain": [
       "<Figure size 864x360 with 1 Axes>"
      ]
     },
     "metadata": {
      "needs_background": "light"
     },
     "output_type": "display_data"
    }
   ],
   "source": [
    "# собираем данные в одном датафрейме\n",
    "mergedCumulativeRevenue = cumulativeRevenueA.merge(cumulativeRevenueB, left_on='date', right_on='date', how='left', suffixes=['A', 'B'])\n",
    "\n",
    "# cтроим отношение средних чеков\n",
    "plt.figure(figsize=(12,5))\n",
    "plt.plot(mergedCumulativeRevenue['date'], (mergedCumulativeRevenue['revenueB']/mergedCumulativeRevenue['ordersB'])/(mergedCumulativeRevenue['revenueA']/mergedCumulativeRevenue['ordersA'])-1)\n",
    "plt.xlabel('Дата')\n",
    "plt.title('График относительного изменения кумулятивного среднего чека группы B к группе A')\n",
    "plt.grid()\n",
    "# добавляем ось X\n",
    "plt.axhline(y=0, color='black', linestyle='--')"
   ]
  },
  {
   "cell_type": "markdown",
   "metadata": {},
   "source": [
    "## Вывод:\n",
    "Мы видим, что график нестабильный. Необходимо проверить данные на содержаний аномальных значений."
   ]
  },
  {
   "cell_type": "markdown",
   "metadata": {},
   "source": [
    "## График кумулятивной конверсии по группам. "
   ]
  },
  {
   "cell_type": "markdown",
   "metadata": {},
   "source": [
    "Строим график кумулятивной конверсии. Делим число заказов на число пользователей."
   ]
  },
  {
   "cell_type": "code",
   "execution_count": 23,
   "metadata": {},
   "outputs": [
    {
     "data": {
      "text/plain": [
       "(18109.0, 18140.0, 0.029, 0.04)"
      ]
     },
     "execution_count": 23,
     "metadata": {},
     "output_type": "execute_result"
    },
    {
     "data": {
      "image/png": "[encoded data removed]",
      "text/plain": [
       "<Figure size 864x360 with 1 Axes>"
      ]
     },
     "metadata": {
      "needs_background": "light"
     },
     "output_type": "display_data"
    }
   ],
   "source": [
    "# считаем кумулятивную конверсию\n",
    "cumulativeData['conversion'] = cumulativeData['orders']/cumulativeData['visitors']\n",
    "\n",
    "# отделяем данные по группе A\n",
    "cumulativeDataA = cumulativeData[cumulativeData['group']=='A']\n",
    "\n",
    "# отделяем данные по группе B\n",
    "cumulativeDataB = cumulativeData[cumulativeData['group']=='B']\n",
    "\n",
    "# строим графики\n",
    "plt.figure(figsize=(12,5))\n",
    "plt.plot(cumulativeDataA['date'], cumulativeDataA['conversion'], label='A')\n",
    "plt.plot(cumulativeDataB['date'], cumulativeDataB['conversion'], label='B')\n",
    "plt.legend()\n",
    "plt.axis([dt.datetime(2019, 8, 1), dt.datetime(2019, 9, 1), 0.029, 0.04])"
   ]
  },
  {
   "cell_type": "markdown",
   "metadata": {},
   "source": [
    "### Вывод:\n",
    "Наблюдаются резкие скачки конверсии в начале графика.В начале теста группа А лидировала по конверсии,но уже с 09.08.2019 она стабильно хуже, чем в группе В. К концу теста график стабилизировался. "
   ]
  },
  {
   "cell_type": "markdown",
   "metadata": {},
   "source": [
    "## График относительного изменения кумулятивной конверсии группы B к группе A."
   ]
  },
  {
   "cell_type": "markdown",
   "metadata": {},
   "source": [
    "Строим график относительного изменения конверсии."
   ]
  },
  {
   "cell_type": "code",
   "execution_count": 24,
   "metadata": {},
   "outputs": [
    {
     "data": {
      "text/plain": [
       "(18109.0, 18140.0, -0.2, 0.3)"
      ]
     },
     "execution_count": 24,
     "metadata": {},
     "output_type": "execute_result"
    },
    {
     "data": {
      "image/png": "[encoded data removed]",
      "text/plain": [
       "<Figure size 864x360 with 1 Axes>"
      ]
     },
     "metadata": {
      "needs_background": "light"
     },
     "output_type": "display_data"
    }
   ],
   "source": [
    "mergedCumulativeConversions = cumulativeDataA[['date','conversion']].merge(cumulativeDataB[['date','conversion']], left_on='date', right_on='date', how='left', suffixes=['A', 'B'])\n",
    "plt.figure(figsize=(12,5))\n",
    "plt.plot(mergedCumulativeConversions['date'], mergedCumulativeConversions['conversionB']/mergedCumulativeConversions['conversionA']-1, label=\"Относительный прирост конверсии группы B относительно группы A\")\n",
    "plt.legend()\n",
    "\n",
    "plt.axhline(y=0, color='black', linestyle='--')\n",
    "plt.axhline(y=-0.1, color='grey', linestyle='--')\n",
    "plt.axis([dt.datetime(2019, 8, 1), dt.datetime(2019, 9, 1), -0.2, 0.3])"
   ]
  },
  {
   "cell_type": "markdown",
   "metadata": {},
   "source": [
    "### Вывод:\n",
    "В начале теста группа В лидировала недолго и затем резко опустилась. Затем, конверсия стала постепенно расти и установила лидирующую позицию до конца проведения теста."
   ]
  },
  {
   "cell_type": "markdown",
   "metadata": {},
   "source": [
    "## Точечный график количества заказов по пользователям. "
   ]
  },
  {
   "cell_type": "markdown",
   "metadata": {},
   "source": [
    "Построим график числа заказов по пользователям, чтобы наглядно увидеть выбросы."
   ]
  },
  {
   "cell_type": "code",
   "execution_count": 25,
   "metadata": {},
   "outputs": [
    {
     "data": {
      "text/plain": [
       "Text(0.5, 0, 'Число пользователей')"
      ]
     },
     "execution_count": 25,
     "metadata": {},
     "output_type": "execute_result"
    },
    {
     "data": {
      "image/png": "[encoded data removed]",
      "text/plain": [
       "<Figure size 720x288 with 1 Axes>"
      ]
     },
     "metadata": {
      "needs_background": "light"
     },
     "output_type": "display_data"
    }
   ],
   "source": [
    "ordersByUsers = orders.groupby('visitorId', as_index = False).agg({'transactionId':'nunique'}).sort_values(by='transactionId', ascending = False)\n",
    "ordersByUsers.columns = ['visitorId', 'orders']\n",
    "x_values = pd.Series(range(0, len(ordersByUsers)))\n",
    "plt.figure(figsize=(10,4))\n",
    "plt.scatter(x_values, ordersByUsers['orders'])\n",
    "plt.title('Точечный график числа заказов на одного пользователя')\n",
    "plt.ylabel('Заказы, шт.')\n",
    "plt.xlabel('Число пользователей')\n"
   ]
  },
  {
   "cell_type": "markdown",
   "metadata": {},
   "source": [
    "### Вывод:\n",
    "Действительно, в числе заказов есть выбросы. Судя по графику, большинство пользователей не совершают более двух заказов. "
   ]
  },
  {
   "cell_type": "markdown",
   "metadata": {},
   "source": [
    "## 95-й и 99-й перцентили количества заказов на пользователя. Граница для определения аномальных пользователей."
   ]
  },
  {
   "cell_type": "markdown",
   "metadata": {},
   "source": [
    "Посчитаем перцентили, чтобы точно установить границу аномальных пользователей."
   ]
  },
  {
   "cell_type": "code",
   "execution_count": 26,
   "metadata": {},
   "outputs": [
    {
     "name": "stdout",
     "output_type": "stream",
     "text": [
      "Перцентили:\n",
      "95: 2.0\n",
      "99: 4.0\n"
     ]
    }
   ],
   "source": [
    "percentiles = np.percentile(ordersByUsers['orders'], [95, 99])\n",
    "print('Перцентили:\\n95: {}\\n99: {}'.format(percentiles[0],percentiles[1]))"
   ]
  },
  {
   "cell_type": "markdown",
   "metadata": {},
   "source": [
    "Как мы и предполагали, только 5% польщователей делают более 2 заказов."
   ]
  },
  {
   "cell_type": "markdown",
   "metadata": {},
   "source": [
    "## Точечный график стоимостей заказов."
   ]
  },
  {
   "cell_type": "code",
   "execution_count": 27,
   "metadata": {},
   "outputs": [
    {
     "data": {
      "text/plain": [
       "(0.0, 1200.0, 0.0, 200000.0)"
      ]
     },
     "execution_count": 27,
     "metadata": {},
     "output_type": "execute_result"
    },
    {
     "data": {
      "image/png": "[encoded data removed]",
      "text/plain": [
       "<Figure size 720x288 with 1 Axes>"
      ]
     },
     "metadata": {
      "needs_background": "light"
     },
     "output_type": "display_data"
    }
   ],
   "source": [
    "x_values = pd.Series(range(0, len(orders)))\n",
    "plt.figure(figsize=(10,4))\n",
    "plt.scatter(x_values, orders['revenue'])\n",
    "plt.title('Точечный график сумм заказов на одного пользователя')\n",
    "plt.axis([0, 1200, 0, 200000])"
   ]
  },
  {
   "cell_type": "markdown",
   "metadata": {},
   "source": [
    "### Вывод:\n",
    "Судя по графикам, большинство пользователей не делает заказы на сумму свыше около 30000 рублей."
   ]
  },
  {
   "cell_type": "markdown",
   "metadata": {},
   "source": [
    "## 95-й и 99-й перцентили стоимости заказов. Граница для определения аномальных заказов."
   ]
  },
  {
   "cell_type": "markdown",
   "metadata": {},
   "source": [
    "Посчитаем перцентили:"
   ]
  },
  {
   "cell_type": "code",
   "execution_count": 28,
   "metadata": {},
   "outputs": [
    {
     "name": "stdout",
     "output_type": "stream",
     "text": [
      "Перцентили:\n",
      "95: 28000\n",
      "99: 58233\n"
     ]
    }
   ],
   "source": [
    "percentiles = np.percentile(orders['revenue'], [95, 99])\n",
    "print('Перцентили:\\n95: {:.0f}\\n99: {:.0f}'.format(percentiles[0],percentiles[1]))"
   ]
  },
  {
   "cell_type": "markdown",
   "metadata": {},
   "source": [
    "Действительно, не более 5% пользователей совершают покупку на сумму свыше 28000."
   ]
  },
  {
   "cell_type": "markdown",
   "metadata": {},
   "source": [
    "## Статистическая значимость различий в конверсии между группами по «сырым» данным."
   ]
  },
  {
   "cell_type": "markdown",
   "metadata": {},
   "source": [
    "Посчитаем статистическую значимость различий в конверсии по сырым данным. Сформулируем гипотезы. \n",
    "- Нулевая: различий в конверсии между группами нет.\n",
    "- Альтернативная: различия в конверсии между группами есть."
   ]
  },
  {
   "cell_type": "code",
   "execution_count": 29,
   "metadata": {},
   "outputs": [
    {
     "name": "stdout",
     "output_type": "stream",
     "text": [
      "\n",
      "Относительный прирост конверсии группы B по отношению к группе A: 0.138\n",
      "P-value: 0.016792355056752608\n",
      "По неочищенным данным в конверсии групп A и B разница статистически значима.\n"
     ]
    }
   ],
   "source": [
    "ordersByUsersA = orders[orders['group']=='A'].groupby('visitorId', as_index=False).agg({'transactionId':'nunique'})\n",
    "ordersByUsersA.columns = ['visitorId', 'orders']\n",
    "ordersByUsersB = orders[orders['group']=='B'].groupby('visitorId', as_index=False).agg({'transactionId':'nunique'})\n",
    "ordersByUsersB.columns = ['visitorId', 'orders']\n",
    "\n",
    "list_orders_1 =[]\n",
    "for i in range(0,(visitors[visitors['group']=='A']['visitors'].sum()-len(ordersByUsersA))):\n",
    "    list_orders_1.append(0)\n",
    "orders_by_non_purchased_users_A = pd.Series(data = list_orders_1, name = 'orders')\n",
    "\n",
    "list_orders_2 =[]\n",
    "for i in range(0,(visitors[visitors['group']=='B']['visitors'].sum()-len(ordersByUsersB))):\n",
    "    list_orders_2.append(0)\n",
    "orders_by_non_purchased_users_B = pd.Series(data = list_orders_2, name = 'orders')\n",
    "\n",
    "sampleA = pd.concat([ordersByUsersA['orders'], orders_by_non_purchased_users_A], axis=0)\n",
    "sampleB = pd.concat([ordersByUsersB['orders'], orders_by_non_purchased_users_B], axis=0)\n",
    "print('\\nОтносительный прирост конверсии группы B по отношению к группе A: {:.3f}'.format(sampleB.mean()/sampleA.mean()-1))\n",
    "alpha = 0.05\n",
    "results = stats.mannwhitneyu(sampleA, sampleB)\n",
    "print('P-value: {}'.format(results.pvalue))\n",
    "if results.pvalue < alpha:\n",
    "    print('По неочищенным данным в конверсии групп A и B разница статистически значима.')\n",
    "else:\n",
    "    print('По неочищенным данным различий в конверсии групп A и B нет.')"
   ]
  },
  {
   "cell_type": "markdown",
   "metadata": {},
   "source": [
    "### Вывод:\n",
    "Мы видим, что p-value меньше alpha. Значит, делаем вывод, что разница конверсий статистически значима. Соответственно, нулевую гипотезу о том, что статистически значимых различий в конверсии между группами нет, отвергаем. "
   ]
  },
  {
   "cell_type": "markdown",
   "metadata": {},
   "source": [
    "## Статистическая значимость различий в среднем чеке заказа между группами по «сырым» данным."
   ]
  },
  {
   "cell_type": "markdown",
   "metadata": {},
   "source": [
    "- Нулевая гипотеза: различий в среднем чеке между группами нет. \n",
    "- Альтернативная гипотеза: различия в среднем чеке между группами есть."
   ]
  },
  {
   "cell_type": "code",
   "execution_count": 30,
   "metadata": {},
   "outputs": [
    {
     "name": "stdout",
     "output_type": "stream",
     "text": [
      "Относительное изменение среднего чека в группе B по отношению группы A: 0.259\n",
      "P-value: 0.7292909855432458\n",
      "По неочищенным данным различий в средних чеках в группах A и B нет.\n"
     ]
    }
   ],
   "source": [
    "print('Относительное изменение среднего чека в группе B по отношению группы A: {:.3f}'.format(\n",
    "orders[orders['group']=='B']['revenue'].mean()/orders[orders['group']=='A']['revenue'].mean()-1))\n",
    "results = stats.mannwhitneyu(orders[orders['group']=='A']['revenue'], orders[orders['group']=='B']['revenue'])\n",
    "print('P-value: {}'.format(results.pvalue))\n",
    "if results.pvalue < alpha:\n",
    "    print('По неочищенным данным разница в средних чеках в группах A и B статистически значима.')\n",
    "else:\n",
    "    print('По неочищенным данным различий в средних чеках в группах A и B нет.')"
   ]
  },
  {
   "cell_type": "markdown",
   "metadata": {},
   "source": [
    "### Вывод:\n",
    "Мы видим, что p-value больше alpha. Значит, делаем вывод, что разницы в среднем чеке нет. Соответственно, нулевую гипотезу о том, что статистически значимых различий в среднем чеке между группами нет, не отвергаем."
   ]
  },
  {
   "cell_type": "markdown",
   "metadata": {},
   "source": [
    "## Статистическая значимость различий в конверсии между группами по «очищенным» данным."
   ]
  },
  {
   "cell_type": "markdown",
   "metadata": {},
   "source": [
    "Сформируем список и узнаем число аномальных пользователей."
   ]
  },
  {
   "cell_type": "code",
   "execution_count": 31,
   "metadata": {},
   "outputs": [
    {
     "name": "stdout",
     "output_type": "stream",
     "text": [
      "Кол-во аномальных пользователей: 68\n"
     ]
    }
   ],
   "source": [
    "#зададим предельные кол-во заказов и сумму покупки для формирования списка аномальных пользователей\n",
    "limit_orders = 2\n",
    "limit_revenue = 30000\n",
    "usersWithManyOrders = pd.concat([ordersByUsersA[ordersByUsersA['orders']>limit_orders]['visitorId'], \n",
    "                                ordersByUsersB[ordersByUsersB['orders']>limit_orders]['visitorId']], axis = 0)\n",
    "usersWithExpensiveOrders = orders[orders['revenue']>limit_revenue]['visitorId']\n",
    "abnormalUsers = pd.concat([usersWithManyOrders, usersWithExpensiveOrders], axis = 0).drop_duplicates().sort_values()\n",
    "print('Кол-во аномальных пользователей: {}'.format(len(abnormalUsers)))"
   ]
  },
  {
   "cell_type": "markdown",
   "metadata": {},
   "source": [
    "Узнаем, как их действия повлияли на результаты теста. Посчитаем статистическую значимость различий в конверсии между группами теста по очищенным данным. Сначала подготовим выборки количества заказов по пользователям по группам теста.Применим статистический критерий Манна-Уитни к полученным выборкам."
   ]
  },
  {
   "cell_type": "code",
   "execution_count": 32,
   "metadata": {},
   "outputs": [
    {
     "name": "stdout",
     "output_type": "stream",
     "text": [
      "\n",
      "Относительный прирост конверсии группы B по отношению к группе A после очистки данных: 0.172\n",
      "P-value: 0.013342593737128651\n",
      "По очищенным данным в конверсии групп A и B разница статистически значима.\n"
     ]
    }
   ],
   "source": [
    "sampleAFiltered = pd.concat([\n",
    "    ordersByUsersA[np.logical_not(ordersByUsersA['visitorId'].isin(abnormalUsers))]['orders'],\n",
    "    orders_by_non_purchased_users_A\n",
    "], axis = 0)\n",
    "sampleBFiltered = pd.concat([\n",
    "    ordersByUsersB[np.logical_not(ordersByUsersB['visitorId'].isin(abnormalUsers))]['orders'],\n",
    "    orders_by_non_purchased_users_B\n",
    "], axis = 0)\n",
    "print('\\nОтносительный прирост конверсии группы B по отношению к группе A после очистки данных: {:.3f}'.format(sampleBFiltered.mean()/sampleAFiltered.mean()-1))\n",
    "results = stats.mannwhitneyu(sampleAFiltered, sampleBFiltered)\n",
    "print('P-value: {}'.format(results.pvalue))\n",
    "if results.pvalue < alpha:\n",
    "    print('По очищенным данным в конверсии групп A и B разница статистически значима.')\n",
    "else:\n",
    "    print('По очищенным данным различий в конверсии групп A и B нет.')"
   ]
  },
  {
   "cell_type": "markdown",
   "metadata": {},
   "source": [
    "### Вывод:\n",
    "Мы видим, что p-value уменьшилась, соответственно прирост конверсии увеличился с 14% до 17%. Посмотрим на средний чек."
   ]
  },
  {
   "cell_type": "markdown",
   "metadata": {},
   "source": [
    "## Статистическая значимость различий в среднем чеке заказа между группами по «очищенным» данным."
   ]
  },
  {
   "cell_type": "code",
   "execution_count": 33,
   "metadata": {},
   "outputs": [
    {
     "name": "stdout",
     "output_type": "stream",
     "text": [
      "Относительное изменение среднего чека в группе B по отношению группы A после очистки данных: -0.023\n",
      "P-value: 0.7204664998107033\n",
      "По очищенным данным различий в средних чеках в группах A и B нет.\n"
     ]
    }
   ],
   "source": [
    "print('Относительное изменение среднего чека в группе B по отношению группы A после очистки данных: {:.3f}'.format(\n",
    "orders[np.logical_and(orders['group']=='B', np.logical_not(orders['visitorId'].isin(abnormalUsers)))]['revenue'].mean()\\\n",
    "/orders[np.logical_and(orders['group']=='A', np.logical_not(orders['visitorId'].isin(abnormalUsers)))]['revenue'].mean()-1))\n",
    "       \n",
    "       \n",
    "results = stats.mannwhitneyu(orders[np.logical_and(orders['group']=='A', np.logical_not(orders['visitorId'].isin(abnormalUsers)))]['revenue'],\n",
    "                             orders[np.logical_and(orders['group']=='B', np.logical_not(orders['visitorId'].isin(abnormalUsers)))]['revenue'])\n",
    "print('P-value: {}'.format(results.pvalue))\n",
    "if results.pvalue < alpha:\n",
    "    print('По очищенным данным разница в средних чеках в группах A и B статистически значима.')\n",
    "else:\n",
    "    print('По очищенным данным различий в средних чеках в группах A и B нет.')"
   ]
  },
  {
   "cell_type": "markdown",
   "metadata": {},
   "source": [
    "### Вывод:\n",
    "Мы видим, что после \"очищения\" данных разница в средних чеках практически минимальна."
   ]
  },
  {
   "cell_type": "markdown",
   "metadata": {},
   "source": [
    "## Решение по результатам теста"
   ]
  },
  {
   "cell_type": "markdown",
   "metadata": {},
   "source": [
    "Варианты решений: \n",
    "1. Остановить тест, зафиксировать победу одной из групп. \n",
    "2. Остановить тест, зафиксировать отсутствие различий между группами. \n",
    "3. Продолжить тест."
   ]
  },
  {
   "cell_type": "markdown",
   "metadata": {},
   "source": [
    "Какие выводы, исходя из графиков мы можем сделать:\n",
    "- По конверсии разница статистически значима;\n",
    "- Нет статистически значимого различия по среднему чеку между группами ни по «сырым», ни по данным после фильтрации аномалий;\n",
    "- График конверсии показывает, что группа В стабильно выше группы А.\n",
    "\n",
    "При выгрузке файла с гипотезами мы применили фреймворки ICE и RICE. Наиболее приоритетными гипотезами выбрали - 7, 2 и 0.\n",
    "\n",
    "До и после очистки данных, показатель конверсии в группе B больше показателя в группе A - сначала на 14% до и на 17% после очистки данных.Данная разница показателей конверсии между группами и до и после очистки данных является статистически значимой, что пользволяет нам сделать вывод о том, что мы можем остановить наш A/B тест и зафиксировать победу группы B."
   ]
  }
 ],
 "metadata": {
  "ExecuteTimeLog": [
   {
    "duration": 1421,
    "start_time": "2022-03-03T13:33:36.775Z"
   },
   {
    "duration": 28,
    "start_time": "2022-03-03T13:34:18.076Z"
   },
   {
    "duration": 27,
    "start_time": "2022-03-03T13:34:22.978Z"
   },
   {
    "duration": 442,
    "start_time": "2022-03-03T13:34:56.533Z"
   },
   {
    "duration": 20,
    "start_time": "2022-03-03T13:36:31.273Z"
   },
   {
    "duration": 12,
    "start_time": "2022-03-03T13:36:48.532Z"
   },
   {
    "duration": 11,
    "start_time": "2022-03-03T13:38:10.191Z"
   },
   {
    "duration": 314,
    "start_time": "2022-03-03T13:38:37.333Z"
   },
   {
    "duration": 10,
    "start_time": "2022-03-03T13:38:49.236Z"
   },
   {
    "duration": 10,
    "start_time": "2022-03-03T13:38:49.660Z"
   },
   {
    "duration": 2814,
    "start_time": "2022-03-03T13:41:08.447Z"
   },
   {
    "duration": 46,
    "start_time": "2022-03-03T13:41:19.358Z"
   },
   {
    "duration": 6,
    "start_time": "2022-03-03T13:41:33.960Z"
   },
   {
    "duration": 6,
    "start_time": "2022-03-03T13:41:43.433Z"
   },
   {
    "duration": 60,
    "start_time": "2022-03-03T13:41:51.260Z"
   },
   {
    "duration": 48,
    "start_time": "2022-03-03T13:41:59.951Z"
   },
   {
    "duration": 46,
    "start_time": "2022-03-03T13:42:13.782Z"
   },
   {
    "duration": 7,
    "start_time": "2022-03-03T13:42:51.887Z"
   },
   {
    "duration": 6,
    "start_time": "2022-03-03T13:43:00.091Z"
   },
   {
    "duration": 5,
    "start_time": "2022-03-03T13:43:56.773Z"
   },
   {
    "duration": 8,
    "start_time": "2022-03-03T13:43:59.785Z"
   },
   {
    "duration": 6,
    "start_time": "2022-03-03T13:44:20.639Z"
   },
   {
    "duration": 6,
    "start_time": "2022-03-03T13:44:27.204Z"
   },
   {
    "duration": 6,
    "start_time": "2022-03-03T13:45:04.554Z"
   },
   {
    "duration": 1541,
    "start_time": "2022-03-04T14:48:52.490Z"
   },
   {
    "duration": 1063,
    "start_time": "2022-03-04T14:49:00.056Z"
   },
   {
    "duration": 34,
    "start_time": "2022-03-04T14:49:01.120Z"
   },
   {
    "duration": 13,
    "start_time": "2022-03-04T14:49:01.156Z"
   },
   {
    "duration": 11,
    "start_time": "2022-03-04T14:49:01.170Z"
   },
   {
    "duration": 26,
    "start_time": "2022-03-04T14:49:01.182Z"
   },
   {
    "duration": 63,
    "start_time": "2022-03-04T14:49:01.209Z"
   },
   {
    "duration": 6,
    "start_time": "2022-03-04T14:49:01.273Z"
   },
   {
    "duration": 8,
    "start_time": "2022-03-04T14:49:01.281Z"
   },
   {
    "duration": 15,
    "start_time": "2022-03-04T14:49:01.291Z"
   },
   {
    "duration": 9,
    "start_time": "2022-03-04T14:49:01.308Z"
   },
   {
    "duration": 10,
    "start_time": "2022-03-04T14:49:01.319Z"
   },
   {
    "duration": 8,
    "start_time": "2022-03-04T14:49:01.331Z"
   },
   {
    "duration": 10,
    "start_time": "2022-03-04T14:49:01.341Z"
   },
   {
    "duration": 10,
    "start_time": "2022-03-04T14:49:01.353Z"
   },
   {
    "duration": 6,
    "start_time": "2022-03-04T14:49:25.150Z"
   },
   {
    "duration": 21,
    "start_time": "2022-03-04T14:56:09.923Z"
   },
   {
    "duration": 31,
    "start_time": "2022-03-04T14:56:17.770Z"
   },
   {
    "duration": 12,
    "start_time": "2022-03-04T14:56:29.788Z"
   },
   {
    "duration": 12,
    "start_time": "2022-03-04T14:56:34.981Z"
   },
   {
    "duration": 10,
    "start_time": "2022-03-04T14:56:40.375Z"
   },
   {
    "duration": 393,
    "start_time": "2022-03-04T14:58:46.595Z"
   },
   {
    "duration": 309,
    "start_time": "2022-03-04T14:59:25.694Z"
   },
   {
    "duration": 320,
    "start_time": "2022-03-04T14:59:37.892Z"
   },
   {
    "duration": 412,
    "start_time": "2022-03-04T14:59:46.841Z"
   },
   {
    "duration": 3,
    "start_time": "2022-03-04T14:59:57.535Z"
   },
   {
    "duration": 24,
    "start_time": "2022-03-04T14:59:57.539Z"
   },
   {
    "duration": 10,
    "start_time": "2022-03-04T14:59:57.565Z"
   },
   {
    "duration": 10,
    "start_time": "2022-03-04T14:59:57.577Z"
   },
   {
    "duration": 10,
    "start_time": "2022-03-04T14:59:57.589Z"
   },
   {
    "duration": 48,
    "start_time": "2022-03-04T14:59:57.601Z"
   },
   {
    "duration": 5,
    "start_time": "2022-03-04T14:59:57.650Z"
   },
   {
    "duration": 5,
    "start_time": "2022-03-04T14:59:57.658Z"
   },
   {
    "duration": 8,
    "start_time": "2022-03-04T14:59:57.664Z"
   },
   {
    "duration": 6,
    "start_time": "2022-03-04T14:59:57.674Z"
   },
   {
    "duration": 8,
    "start_time": "2022-03-04T14:59:57.682Z"
   },
   {
    "duration": 14,
    "start_time": "2022-03-04T14:59:57.691Z"
   },
   {
    "duration": 11,
    "start_time": "2022-03-04T14:59:57.706Z"
   },
   {
    "duration": 10,
    "start_time": "2022-03-04T14:59:57.718Z"
   },
   {
    "duration": 7,
    "start_time": "2022-03-04T14:59:57.730Z"
   },
   {
    "duration": 334,
    "start_time": "2022-03-04T14:59:57.738Z"
   },
   {
    "duration": 12,
    "start_time": "2022-03-04T15:00:17.702Z"
   },
   {
    "duration": 4,
    "start_time": "2022-03-04T15:01:39.744Z"
   },
   {
    "duration": 285,
    "start_time": "2022-03-04T15:01:57.430Z"
   },
   {
    "duration": 4,
    "start_time": "2022-03-04T15:02:01.428Z"
   },
   {
    "duration": 6,
    "start_time": "2022-03-04T15:22:33.832Z"
   },
   {
    "duration": 7320,
    "start_time": "2022-03-04T15:26:18.228Z"
   },
   {
    "duration": 7540,
    "start_time": "2022-03-04T15:27:00.435Z"
   },
   {
    "duration": 176,
    "start_time": "2022-03-04T15:27:31.574Z"
   },
   {
    "duration": 135,
    "start_time": "2022-03-04T15:27:50.734Z"
   },
   {
    "duration": 99,
    "start_time": "2022-03-04T15:29:18.947Z"
   },
   {
    "duration": 15,
    "start_time": "2022-03-04T15:29:21.706Z"
   },
   {
    "duration": 181,
    "start_time": "2022-03-04T15:30:20.267Z"
   },
   {
    "duration": 189,
    "start_time": "2022-03-04T15:31:22.699Z"
   },
   {
    "duration": 306,
    "start_time": "2022-03-04T15:33:45.099Z"
   },
   {
    "duration": 266,
    "start_time": "2022-03-04T15:34:07.769Z"
   },
   {
    "duration": 273,
    "start_time": "2022-03-04T15:34:17.271Z"
   },
   {
    "duration": 243,
    "start_time": "2022-03-04T15:34:24.682Z"
   },
   {
    "duration": 246,
    "start_time": "2022-03-04T15:34:32.059Z"
   },
   {
    "duration": 298,
    "start_time": "2022-03-04T15:48:15.966Z"
   },
   {
    "duration": 257,
    "start_time": "2022-03-04T15:50:39.123Z"
   },
   {
    "duration": 356,
    "start_time": "2022-03-04T15:51:05.760Z"
   },
   {
    "duration": 306,
    "start_time": "2022-03-04T15:51:17.443Z"
   },
   {
    "duration": 328,
    "start_time": "2022-03-04T15:51:23.406Z"
   },
   {
    "duration": 304,
    "start_time": "2022-03-04T15:51:54.650Z"
   },
   {
    "duration": 164,
    "start_time": "2022-03-04T15:53:40.766Z"
   },
   {
    "duration": 185,
    "start_time": "2022-03-04T15:53:56.771Z"
   },
   {
    "duration": 168,
    "start_time": "2022-03-04T15:54:09.849Z"
   },
   {
    "duration": 159,
    "start_time": "2022-03-04T15:54:15.838Z"
   },
   {
    "duration": 186,
    "start_time": "2022-03-04T15:54:29.797Z"
   },
   {
    "duration": 186,
    "start_time": "2022-03-04T15:54:35.491Z"
   },
   {
    "duration": 283,
    "start_time": "2022-03-04T15:54:52.484Z"
   },
   {
    "duration": 210,
    "start_time": "2022-03-04T15:55:07.736Z"
   },
   {
    "duration": 7365,
    "start_time": "2022-03-04T15:59:01.024Z"
   },
   {
    "duration": 300,
    "start_time": "2022-03-04T15:59:46.694Z"
   },
   {
    "duration": 312,
    "start_time": "2022-03-04T16:00:20.858Z"
   },
   {
    "duration": 252,
    "start_time": "2022-03-04T16:00:51.355Z"
   },
   {
    "duration": 312,
    "start_time": "2022-03-04T16:01:22.623Z"
   },
   {
    "duration": 532,
    "start_time": "2022-03-04T16:01:36.482Z"
   },
   {
    "duration": 510,
    "start_time": "2022-03-04T16:02:05.074Z"
   },
   {
    "duration": 548,
    "start_time": "2022-03-04T16:02:23.250Z"
   },
   {
    "duration": 521,
    "start_time": "2022-03-04T16:02:49.879Z"
   },
   {
    "duration": 350,
    "start_time": "2022-03-04T16:03:10.801Z"
   },
   {
    "duration": 341,
    "start_time": "2022-03-04T16:03:19.808Z"
   },
   {
    "duration": 327,
    "start_time": "2022-03-04T16:03:28.159Z"
   },
   {
    "duration": 1327,
    "start_time": "2022-04-06T13:01:49.759Z"
   },
   {
    "duration": 26,
    "start_time": "2022-04-06T13:01:51.088Z"
   },
   {
    "duration": 13,
    "start_time": "2022-04-06T13:01:51.116Z"
   },
   {
    "duration": 14,
    "start_time": "2022-04-06T13:01:51.132Z"
   },
   {
    "duration": 20,
    "start_time": "2022-04-06T13:01:51.147Z"
   },
   {
    "duration": 48,
    "start_time": "2022-04-06T13:01:51.169Z"
   },
   {
    "duration": 11,
    "start_time": "2022-04-06T13:01:51.219Z"
   },
   {
    "duration": 15,
    "start_time": "2022-04-06T13:01:51.232Z"
   },
   {
    "duration": 13,
    "start_time": "2022-04-06T13:01:51.249Z"
   },
   {
    "duration": 14,
    "start_time": "2022-04-06T13:01:51.265Z"
   },
   {
    "duration": 9,
    "start_time": "2022-04-06T13:01:51.281Z"
   },
   {
    "duration": 8,
    "start_time": "2022-04-06T13:01:51.292Z"
   },
   {
    "duration": 10,
    "start_time": "2022-04-06T13:01:51.301Z"
   },
   {
    "duration": 12,
    "start_time": "2022-04-06T13:01:51.312Z"
   },
   {
    "duration": 16,
    "start_time": "2022-04-06T13:01:51.325Z"
   },
   {
    "duration": 18,
    "start_time": "2022-04-06T13:01:51.342Z"
   },
   {
    "duration": 5,
    "start_time": "2022-04-06T13:01:51.362Z"
   },
   {
    "duration": 163,
    "start_time": "2022-04-06T13:01:51.369Z"
   },
   {
    "duration": 126,
    "start_time": "2022-04-06T13:01:51.534Z"
   },
   {
    "duration": 11,
    "start_time": "2022-04-06T13:01:51.662Z"
   },
   {
    "duration": 286,
    "start_time": "2022-04-06T13:01:51.675Z"
   },
   {
    "duration": 213,
    "start_time": "2022-04-06T13:01:51.963Z"
   },
   {
    "duration": 314,
    "start_time": "2022-04-06T13:01:52.178Z"
   },
   {
    "duration": 303,
    "start_time": "2022-04-06T13:01:52.494Z"
   },
   {
    "duration": 0,
    "start_time": "2022-04-06T13:01:52.799Z"
   },
   {
    "duration": 0,
    "start_time": "2022-04-06T13:01:52.801Z"
   },
   {
    "duration": 187,
    "start_time": "2022-04-06T13:03:44.421Z"
   },
   {
    "duration": 200,
    "start_time": "2022-04-06T13:03:58.685Z"
   },
   {
    "duration": 187,
    "start_time": "2022-04-06T13:04:21.354Z"
   },
   {
    "duration": 315,
    "start_time": "2022-04-06T13:04:27.646Z"
   },
   {
    "duration": 382,
    "start_time": "2022-04-06T13:07:11.046Z"
   },
   {
    "duration": 212,
    "start_time": "2022-04-06T13:08:07.307Z"
   },
   {
    "duration": 173,
    "start_time": "2022-04-06T13:08:27.269Z"
   },
   {
    "duration": 182,
    "start_time": "2022-04-06T13:08:38.251Z"
   },
   {
    "duration": 174,
    "start_time": "2022-04-06T13:08:55.621Z"
   },
   {
    "duration": 181,
    "start_time": "2022-04-06T13:09:04.296Z"
   },
   {
    "duration": 180,
    "start_time": "2022-04-06T13:09:22.799Z"
   },
   {
    "duration": 115,
    "start_time": "2022-04-06T13:09:33.354Z"
   },
   {
    "duration": 5,
    "start_time": "2022-04-06T13:12:23.060Z"
   },
   {
    "duration": 142,
    "start_time": "2022-04-06T13:14:53.901Z"
   },
   {
    "duration": 140,
    "start_time": "2022-04-06T13:15:38.234Z"
   },
   {
    "duration": 1827,
    "start_time": "2022-04-06T13:16:12.446Z"
   },
   {
    "duration": 4,
    "start_time": "2022-04-06T13:16:32.633Z"
   },
   {
    "duration": 5,
    "start_time": "2022-04-06T13:17:15.733Z"
   },
   {
    "duration": 4,
    "start_time": "2022-04-06T13:17:25.187Z"
   },
   {
    "duration": 19,
    "start_time": "2022-04-06T13:31:41.761Z"
   },
   {
    "duration": 18,
    "start_time": "2022-04-06T13:32:09.583Z"
   },
   {
    "duration": 19,
    "start_time": "2022-04-06T13:32:29.685Z"
   },
   {
    "duration": 143,
    "start_time": "2022-04-06T13:32:54.329Z"
   },
   {
    "duration": 134,
    "start_time": "2022-04-06T13:34:20.765Z"
   },
   {
    "duration": 153,
    "start_time": "2022-04-06T13:34:49.152Z"
   },
   {
    "duration": 151,
    "start_time": "2022-04-06T13:35:16.582Z"
   },
   {
    "duration": 178,
    "start_time": "2022-04-06T13:35:25.221Z"
   },
   {
    "duration": 11,
    "start_time": "2022-04-06T13:41:46.228Z"
   },
   {
    "duration": 1861,
    "start_time": "2022-04-06T13:44:25.240Z"
   },
   {
    "duration": 1826,
    "start_time": "2022-04-06T13:44:59.194Z"
   },
   {
    "duration": 5,
    "start_time": "2022-04-06T13:46:30.021Z"
   },
   {
    "duration": 157,
    "start_time": "2022-04-06T13:46:31.274Z"
   },
   {
    "duration": 12,
    "start_time": "2022-04-06T13:46:32.684Z"
   },
   {
    "duration": 1819,
    "start_time": "2022-04-06T13:46:34.045Z"
   },
   {
    "duration": 1849,
    "start_time": "2022-04-06T13:47:08.457Z"
   },
   {
    "duration": 1801,
    "start_time": "2022-04-06T13:47:46.457Z"
   },
   {
    "duration": 3,
    "start_time": "2022-04-06T13:47:56.013Z"
   },
   {
    "duration": 19,
    "start_time": "2022-04-06T13:47:56.018Z"
   },
   {
    "duration": 12,
    "start_time": "2022-04-06T13:47:56.039Z"
   },
   {
    "duration": 18,
    "start_time": "2022-04-06T13:47:56.052Z"
   },
   {
    "duration": 15,
    "start_time": "2022-04-06T13:47:56.072Z"
   },
   {
    "duration": 31,
    "start_time": "2022-04-06T13:47:56.088Z"
   },
   {
    "duration": 20,
    "start_time": "2022-04-06T13:47:56.121Z"
   },
   {
    "duration": 13,
    "start_time": "2022-04-06T13:47:56.142Z"
   },
   {
    "duration": 6,
    "start_time": "2022-04-06T13:47:56.157Z"
   },
   {
    "duration": 12,
    "start_time": "2022-04-06T13:47:56.164Z"
   },
   {
    "duration": 15,
    "start_time": "2022-04-06T13:47:56.179Z"
   },
   {
    "duration": 4,
    "start_time": "2022-04-06T13:47:56.196Z"
   },
   {
    "duration": 7,
    "start_time": "2022-04-06T13:47:56.202Z"
   },
   {
    "duration": 32,
    "start_time": "2022-04-06T13:47:56.210Z"
   },
   {
    "duration": 7,
    "start_time": "2022-04-06T13:47:56.244Z"
   },
   {
    "duration": 12,
    "start_time": "2022-04-06T13:47:56.253Z"
   },
   {
    "duration": 6,
    "start_time": "2022-04-06T13:47:56.268Z"
   },
   {
    "duration": 179,
    "start_time": "2022-04-06T13:47:56.275Z"
   },
   {
    "duration": 121,
    "start_time": "2022-04-06T13:47:56.456Z"
   },
   {
    "duration": 12,
    "start_time": "2022-04-06T13:47:56.579Z"
   },
   {
    "duration": 227,
    "start_time": "2022-04-06T13:47:56.593Z"
   },
   {
    "duration": 212,
    "start_time": "2022-04-06T13:47:56.822Z"
   },
   {
    "duration": 400,
    "start_time": "2022-04-06T13:47:57.037Z"
   },
   {
    "duration": 184,
    "start_time": "2022-04-06T13:47:57.439Z"
   },
   {
    "duration": 303,
    "start_time": "2022-04-06T13:47:57.624Z"
   },
   {
    "duration": 127,
    "start_time": "2022-04-06T13:47:57.929Z"
   },
   {
    "duration": 4,
    "start_time": "2022-04-06T13:47:58.058Z"
   },
   {
    "duration": 149,
    "start_time": "2022-04-06T13:47:58.063Z"
   },
   {
    "duration": 4,
    "start_time": "2022-04-06T13:47:58.215Z"
   },
   {
    "duration": 173,
    "start_time": "2022-04-06T13:47:58.220Z"
   },
   {
    "duration": 10,
    "start_time": "2022-04-06T13:47:58.395Z"
   },
   {
    "duration": 1825,
    "start_time": "2022-04-06T13:47:58.407Z"
   },
   {
    "duration": 49,
    "start_time": "2022-04-06T13:49:12.772Z"
   },
   {
    "duration": 12,
    "start_time": "2022-04-06T13:49:14.097Z"
   },
   {
    "duration": 9,
    "start_time": "2022-04-06T13:49:15.241Z"
   },
   {
    "duration": 9,
    "start_time": "2022-04-06T13:49:30.497Z"
   },
   {
    "duration": 8,
    "start_time": "2022-04-06T13:49:36.335Z"
   },
   {
    "duration": 10,
    "start_time": "2022-04-06T13:49:40.196Z"
   },
   {
    "duration": 9,
    "start_time": "2022-04-06T13:49:45.954Z"
   },
   {
    "duration": 8,
    "start_time": "2022-04-06T13:49:49.785Z"
   },
   {
    "duration": 26,
    "start_time": "2022-04-06T13:50:46.507Z"
   },
   {
    "duration": 14,
    "start_time": "2022-04-06T13:51:25.030Z"
   },
   {
    "duration": 128,
    "start_time": "2022-04-06T13:54:20.792Z"
   },
   {
    "duration": 135,
    "start_time": "2022-04-06T13:58:31.877Z"
   },
   {
    "duration": 137,
    "start_time": "2022-04-06T13:58:59.182Z"
   },
   {
    "duration": 137,
    "start_time": "2022-04-06T13:59:25.166Z"
   },
   {
    "duration": 15,
    "start_time": "2022-04-06T14:05:40.045Z"
   },
   {
    "duration": 16,
    "start_time": "2022-04-06T14:05:49.227Z"
   },
   {
    "duration": 15,
    "start_time": "2022-04-06T14:08:26.880Z"
   },
   {
    "duration": 13,
    "start_time": "2022-04-06T14:08:48.737Z"
   },
   {
    "duration": 12,
    "start_time": "2022-04-06T14:09:07.745Z"
   },
   {
    "duration": 11,
    "start_time": "2022-04-06T14:09:27.228Z"
   },
   {
    "duration": 11,
    "start_time": "2022-04-06T14:14:55.280Z"
   },
   {
    "duration": 12,
    "start_time": "2022-04-06T14:29:17.874Z"
   },
   {
    "duration": 12,
    "start_time": "2022-04-06T14:29:29.425Z"
   },
   {
    "duration": 12,
    "start_time": "2022-04-06T14:36:34.575Z"
   },
   {
    "duration": 12,
    "start_time": "2022-04-06T14:36:49.311Z"
   },
   {
    "duration": 17,
    "start_time": "2022-04-06T14:36:58.364Z"
   },
   {
    "duration": 13,
    "start_time": "2022-04-06T14:37:08.502Z"
   },
   {
    "duration": 15,
    "start_time": "2022-04-06T14:38:10.071Z"
   },
   {
    "duration": 13,
    "start_time": "2022-04-06T14:38:17.818Z"
   },
   {
    "duration": 13,
    "start_time": "2022-04-06T14:39:34.925Z"
   },
   {
    "duration": 306,
    "start_time": "2022-04-06T14:46:45.554Z"
   },
   {
    "duration": 9,
    "start_time": "2022-04-06T15:06:23.848Z"
   },
   {
    "duration": 12,
    "start_time": "2022-04-06T15:06:31.980Z"
   },
   {
    "duration": 148,
    "start_time": "2022-04-06T15:15:59.593Z"
   },
   {
    "duration": 110,
    "start_time": "2022-04-06T15:16:00.227Z"
   },
   {
    "duration": 14,
    "start_time": "2022-04-06T15:16:03.587Z"
   },
   {
    "duration": 44,
    "start_time": "2022-04-06T15:55:28.984Z"
   },
   {
    "duration": 10,
    "start_time": "2022-04-06T16:02:53.246Z"
   },
   {
    "duration": 29,
    "start_time": "2022-04-06T16:08:55.626Z"
   },
   {
    "duration": 27,
    "start_time": "2022-04-06T16:09:03.661Z"
   },
   {
    "duration": 13,
    "start_time": "2022-04-06T16:12:48.268Z"
   },
   {
    "duration": 4,
    "start_time": "2022-04-06T16:28:39.110Z"
   },
   {
    "duration": 30,
    "start_time": "2022-04-06T16:28:39.117Z"
   },
   {
    "duration": 10,
    "start_time": "2022-04-06T16:28:39.149Z"
   },
   {
    "duration": 13,
    "start_time": "2022-04-06T16:28:39.161Z"
   },
   {
    "duration": 7,
    "start_time": "2022-04-06T16:28:39.176Z"
   },
   {
    "duration": 12,
    "start_time": "2022-04-06T16:28:39.185Z"
   },
   {
    "duration": 12,
    "start_time": "2022-04-06T16:28:39.199Z"
   },
   {
    "duration": 5,
    "start_time": "2022-04-06T16:28:39.237Z"
   },
   {
    "duration": 8,
    "start_time": "2022-04-06T16:28:39.243Z"
   },
   {
    "duration": 10,
    "start_time": "2022-04-06T16:28:39.253Z"
   },
   {
    "duration": 7,
    "start_time": "2022-04-06T16:28:39.265Z"
   },
   {
    "duration": 13,
    "start_time": "2022-04-06T16:28:39.274Z"
   },
   {
    "duration": 56,
    "start_time": "2022-04-06T16:28:39.288Z"
   },
   {
    "duration": 12,
    "start_time": "2022-04-06T16:28:39.346Z"
   },
   {
    "duration": 16,
    "start_time": "2022-04-06T16:28:39.359Z"
   },
   {
    "duration": 11,
    "start_time": "2022-04-06T16:28:39.376Z"
   },
   {
    "duration": 175,
    "start_time": "2022-04-06T16:28:39.389Z"
   },
   {
    "duration": 129,
    "start_time": "2022-04-06T16:28:39.566Z"
   },
   {
    "duration": 15,
    "start_time": "2022-04-06T16:28:39.697Z"
   },
   {
    "duration": 230,
    "start_time": "2022-04-06T16:28:39.714Z"
   },
   {
    "duration": 227,
    "start_time": "2022-04-06T16:28:39.946Z"
   },
   {
    "duration": 294,
    "start_time": "2022-04-06T16:28:40.175Z"
   },
   {
    "duration": 290,
    "start_time": "2022-04-06T16:28:40.471Z"
   },
   {
    "duration": 291,
    "start_time": "2022-04-06T16:28:40.763Z"
   },
   {
    "duration": 137,
    "start_time": "2022-04-06T16:28:41.056Z"
   },
   {
    "duration": 4,
    "start_time": "2022-04-06T16:28:41.195Z"
   },
   {
    "duration": 160,
    "start_time": "2022-04-06T16:28:41.201Z"
   },
   {
    "duration": 4,
    "start_time": "2022-04-06T16:28:41.363Z"
   },
   {
    "duration": 47,
    "start_time": "2022-04-06T16:28:41.370Z"
   },
   {
    "duration": 28,
    "start_time": "2022-04-06T16:28:41.419Z"
   },
   {
    "duration": 9,
    "start_time": "2022-04-06T16:28:41.449Z"
   },
   {
    "duration": 27,
    "start_time": "2022-04-06T16:28:41.459Z"
   },
   {
    "duration": 50,
    "start_time": "2022-04-06T16:28:41.488Z"
   },
   {
    "duration": 1132,
    "start_time": "2022-04-06T16:29:11.953Z"
   },
   {
    "duration": 30,
    "start_time": "2022-04-06T16:29:13.087Z"
   },
   {
    "duration": 12,
    "start_time": "2022-04-06T16:29:13.119Z"
   },
   {
    "duration": 18,
    "start_time": "2022-04-06T16:29:13.133Z"
   },
   {
    "duration": 22,
    "start_time": "2022-04-06T16:29:13.153Z"
   },
   {
    "duration": 17,
    "start_time": "2022-04-06T16:29:13.177Z"
   },
   {
    "duration": 26,
    "start_time": "2022-04-06T16:29:13.196Z"
   },
   {
    "duration": 30,
    "start_time": "2022-04-06T16:29:13.223Z"
   },
   {
    "duration": 15,
    "start_time": "2022-04-06T16:29:13.255Z"
   },
   {
    "duration": 18,
    "start_time": "2022-04-06T16:29:13.273Z"
   },
   {
    "duration": 15,
    "start_time": "2022-04-06T16:29:13.293Z"
   },
   {
    "duration": 31,
    "start_time": "2022-04-06T16:29:13.310Z"
   },
   {
    "duration": 15,
    "start_time": "2022-04-06T16:29:13.343Z"
   },
   {
    "duration": 15,
    "start_time": "2022-04-06T16:29:13.360Z"
   },
   {
    "duration": 19,
    "start_time": "2022-04-06T16:29:13.377Z"
   },
   {
    "duration": 15,
    "start_time": "2022-04-06T16:29:13.399Z"
   },
   {
    "duration": 166,
    "start_time": "2022-04-06T16:29:13.416Z"
   },
   {
    "duration": 120,
    "start_time": "2022-04-06T16:29:13.583Z"
   },
   {
    "duration": 14,
    "start_time": "2022-04-06T16:29:13.705Z"
   },
   {
    "duration": 290,
    "start_time": "2022-04-06T16:29:13.738Z"
   },
   {
    "duration": 233,
    "start_time": "2022-04-06T16:29:14.030Z"
   },
   {
    "duration": 305,
    "start_time": "2022-04-06T16:29:14.265Z"
   },
   {
    "duration": 187,
    "start_time": "2022-04-06T16:29:14.571Z"
   },
   {
    "duration": 281,
    "start_time": "2022-04-06T16:29:14.759Z"
   },
   {
    "duration": 140,
    "start_time": "2022-04-06T16:29:15.041Z"
   },
   {
    "duration": 4,
    "start_time": "2022-04-06T16:29:15.183Z"
   },
   {
    "duration": 158,
    "start_time": "2022-04-06T16:29:15.189Z"
   },
   {
    "duration": 4,
    "start_time": "2022-04-06T16:29:15.350Z"
   },
   {
    "duration": 52,
    "start_time": "2022-04-06T16:29:15.356Z"
   },
   {
    "duration": 27,
    "start_time": "2022-04-06T16:29:15.410Z"
   },
   {
    "duration": 17,
    "start_time": "2022-04-06T16:29:15.439Z"
   },
   {
    "duration": 44,
    "start_time": "2022-04-06T16:29:15.458Z"
   },
   {
    "duration": 14,
    "start_time": "2022-04-06T16:29:15.504Z"
   },
   {
    "duration": 1484,
    "start_time": "2022-04-07T13:03:26.473Z"
   },
   {
    "duration": 44,
    "start_time": "2022-04-07T13:03:27.960Z"
   },
   {
    "duration": 17,
    "start_time": "2022-04-07T13:03:28.006Z"
   },
   {
    "duration": 22,
    "start_time": "2022-04-07T13:03:28.025Z"
   },
   {
    "duration": 8,
    "start_time": "2022-04-07T13:03:28.052Z"
   },
   {
    "duration": 29,
    "start_time": "2022-04-07T13:03:28.063Z"
   },
   {
    "duration": 22,
    "start_time": "2022-04-07T13:03:28.095Z"
   },
   {
    "duration": 10,
    "start_time": "2022-04-07T13:03:28.120Z"
   },
   {
    "duration": 6,
    "start_time": "2022-04-07T13:03:28.132Z"
   },
   {
    "duration": 36,
    "start_time": "2022-04-07T13:03:28.140Z"
   },
   {
    "duration": 11,
    "start_time": "2022-04-07T13:03:28.178Z"
   },
   {
    "duration": 25,
    "start_time": "2022-04-07T13:03:28.192Z"
   },
   {
    "duration": 20,
    "start_time": "2022-04-07T13:03:28.219Z"
   },
   {
    "duration": 24,
    "start_time": "2022-04-07T13:03:28.274Z"
   },
   {
    "duration": 21,
    "start_time": "2022-04-07T13:03:28.301Z"
   },
   {
    "duration": 14,
    "start_time": "2022-04-07T13:03:28.325Z"
   },
   {
    "duration": 310,
    "start_time": "2022-04-07T13:03:28.340Z"
   },
   {
    "duration": 215,
    "start_time": "2022-04-07T13:03:28.653Z"
   },
   {
    "duration": 21,
    "start_time": "2022-04-07T13:03:28.870Z"
   },
   {
    "duration": 525,
    "start_time": "2022-04-07T13:03:28.893Z"
   },
   {
    "duration": 385,
    "start_time": "2022-04-07T13:03:29.420Z"
   },
   {
    "duration": 480,
    "start_time": "2022-04-07T13:03:29.807Z"
   },
   {
    "duration": 327,
    "start_time": "2022-04-07T13:03:30.289Z"
   },
   {
    "duration": 474,
    "start_time": "2022-04-07T13:03:30.618Z"
   },
   {
    "duration": 255,
    "start_time": "2022-04-07T13:03:31.094Z"
   },
   {
    "duration": 6,
    "start_time": "2022-04-07T13:03:31.352Z"
   },
   {
    "duration": 269,
    "start_time": "2022-04-07T13:03:31.360Z"
   },
   {
    "duration": 6,
    "start_time": "2022-04-07T13:03:31.632Z"
   },
   {
    "duration": 87,
    "start_time": "2022-04-07T13:03:31.640Z"
   },
   {
    "duration": 16,
    "start_time": "2022-04-07T13:03:31.729Z"
   },
   {
    "duration": 49,
    "start_time": "2022-04-07T13:03:31.747Z"
   },
   {
    "duration": 40,
    "start_time": "2022-04-07T13:03:31.799Z"
   },
   {
    "duration": 35,
    "start_time": "2022-04-07T13:03:31.841Z"
   },
   {
    "duration": 1518,
    "start_time": "2022-04-07T13:16:16.847Z"
   },
   {
    "duration": 31,
    "start_time": "2022-04-07T13:16:18.368Z"
   },
   {
    "duration": 17,
    "start_time": "2022-04-07T13:16:18.401Z"
   },
   {
    "duration": 15,
    "start_time": "2022-04-07T13:16:18.421Z"
   },
   {
    "duration": 9,
    "start_time": "2022-04-07T13:16:18.439Z"
   },
   {
    "duration": 36,
    "start_time": "2022-04-07T13:16:18.450Z"
   },
   {
    "duration": 16,
    "start_time": "2022-04-07T13:16:18.489Z"
   },
   {
    "duration": 11,
    "start_time": "2022-04-07T13:16:18.507Z"
   },
   {
    "duration": 9,
    "start_time": "2022-04-07T13:16:18.520Z"
   },
   {
    "duration": 46,
    "start_time": "2022-04-07T13:16:18.533Z"
   },
   {
    "duration": 10,
    "start_time": "2022-04-07T13:16:18.581Z"
   },
   {
    "duration": 23,
    "start_time": "2022-04-07T13:16:18.592Z"
   },
   {
    "duration": 20,
    "start_time": "2022-04-07T13:16:18.617Z"
   },
   {
    "duration": 48,
    "start_time": "2022-04-07T13:16:18.640Z"
   },
   {
    "duration": 26,
    "start_time": "2022-04-07T13:16:18.691Z"
   },
   {
    "duration": 11,
    "start_time": "2022-04-07T13:16:18.719Z"
   },
   {
    "duration": 282,
    "start_time": "2022-04-07T13:16:18.732Z"
   },
   {
    "duration": 222,
    "start_time": "2022-04-07T13:16:19.016Z"
   },
   {
    "duration": 36,
    "start_time": "2022-04-07T13:16:19.241Z"
   },
   {
    "duration": 511,
    "start_time": "2022-04-07T13:16:19.279Z"
   },
   {
    "duration": 369,
    "start_time": "2022-04-07T13:16:19.792Z"
   },
   {
    "duration": 455,
    "start_time": "2022-04-07T13:16:20.163Z"
   },
   {
    "duration": 315,
    "start_time": "2022-04-07T13:16:20.620Z"
   },
   {
    "duration": 424,
    "start_time": "2022-04-07T13:16:20.937Z"
   },
   {
    "duration": 237,
    "start_time": "2022-04-07T13:16:21.363Z"
   },
   {
    "duration": 5,
    "start_time": "2022-04-07T13:16:21.602Z"
   },
   {
    "duration": 261,
    "start_time": "2022-04-07T13:16:21.609Z"
   },
   {
    "duration": 6,
    "start_time": "2022-04-07T13:16:21.874Z"
   },
   {
    "duration": 96,
    "start_time": "2022-04-07T13:16:21.882Z"
   },
   {
    "duration": 15,
    "start_time": "2022-04-07T13:16:21.981Z"
   },
   {
    "duration": 11,
    "start_time": "2022-04-07T13:16:21.998Z"
   },
   {
    "duration": 74,
    "start_time": "2022-04-07T13:16:22.011Z"
   },
   {
    "duration": 22,
    "start_time": "2022-04-07T13:16:22.087Z"
   },
   {
    "duration": 1494,
    "start_time": "2022-04-07T13:16:51.722Z"
   },
   {
    "duration": 31,
    "start_time": "2022-04-07T13:16:53.218Z"
   },
   {
    "duration": 17,
    "start_time": "2022-04-07T13:16:53.251Z"
   },
   {
    "duration": 28,
    "start_time": "2022-04-07T13:16:53.271Z"
   },
   {
    "duration": 8,
    "start_time": "2022-04-07T13:16:53.301Z"
   },
   {
    "duration": 21,
    "start_time": "2022-04-07T13:16:53.312Z"
   },
   {
    "duration": 15,
    "start_time": "2022-04-07T13:16:53.335Z"
   },
   {
    "duration": 42,
    "start_time": "2022-04-07T13:16:53.352Z"
   },
   {
    "duration": 16,
    "start_time": "2022-04-07T13:16:53.397Z"
   },
   {
    "duration": 13,
    "start_time": "2022-04-07T13:16:53.418Z"
   },
   {
    "duration": 11,
    "start_time": "2022-04-07T13:16:53.434Z"
   },
   {
    "duration": 49,
    "start_time": "2022-04-07T13:16:53.448Z"
   },
   {
    "duration": 21,
    "start_time": "2022-04-07T13:16:53.500Z"
   },
   {
    "duration": 17,
    "start_time": "2022-04-07T13:16:53.524Z"
   },
   {
    "duration": 48,
    "start_time": "2022-04-07T13:16:53.543Z"
   },
   {
    "duration": 10,
    "start_time": "2022-04-07T13:16:53.593Z"
   },
   {
    "duration": 302,
    "start_time": "2022-04-07T13:16:53.605Z"
   },
   {
    "duration": 224,
    "start_time": "2022-04-07T13:16:53.909Z"
   },
   {
    "duration": 19,
    "start_time": "2022-04-07T13:16:54.135Z"
   },
   {
    "duration": 619,
    "start_time": "2022-04-07T13:16:54.179Z"
   },
   {
    "duration": 376,
    "start_time": "2022-04-07T13:16:54.800Z"
   },
   {
    "duration": 437,
    "start_time": "2022-04-07T13:16:55.179Z"
   },
   {
    "duration": 333,
    "start_time": "2022-04-07T13:16:55.619Z"
   },
   {
    "duration": 435,
    "start_time": "2022-04-07T13:16:55.954Z"
   },
   {
    "duration": 247,
    "start_time": "2022-04-07T13:16:56.392Z"
   },
   {
    "duration": 6,
    "start_time": "2022-04-07T13:16:56.641Z"
   },
   {
    "duration": 273,
    "start_time": "2022-04-07T13:16:56.649Z"
   },
   {
    "duration": 6,
    "start_time": "2022-04-07T13:16:56.926Z"
   },
   {
    "duration": 98,
    "start_time": "2022-04-07T13:16:56.934Z"
   },
   {
    "duration": 14,
    "start_time": "2022-04-07T13:16:57.034Z"
   },
   {
    "duration": 37,
    "start_time": "2022-04-07T13:16:57.050Z"
   },
   {
    "duration": 36,
    "start_time": "2022-04-07T13:16:57.090Z"
   },
   {
    "duration": 19,
    "start_time": "2022-04-07T13:16:57.129Z"
   },
   {
    "duration": 1147,
    "start_time": "2022-04-08T12:04:48.191Z"
   },
   {
    "duration": 30,
    "start_time": "2022-04-08T12:04:49.340Z"
   },
   {
    "duration": 11,
    "start_time": "2022-04-08T12:04:49.371Z"
   },
   {
    "duration": 10,
    "start_time": "2022-04-08T12:04:49.384Z"
   },
   {
    "duration": 8,
    "start_time": "2022-04-08T12:04:49.396Z"
   },
   {
    "duration": 15,
    "start_time": "2022-04-08T12:04:49.405Z"
   },
   {
    "duration": 10,
    "start_time": "2022-04-08T12:04:49.422Z"
   },
   {
    "duration": 7,
    "start_time": "2022-04-08T12:04:49.433Z"
   },
   {
    "duration": 5,
    "start_time": "2022-04-08T12:04:49.441Z"
   },
   {
    "duration": 7,
    "start_time": "2022-04-08T12:04:49.448Z"
   },
   {
    "duration": 6,
    "start_time": "2022-04-08T12:04:49.456Z"
   },
   {
    "duration": 17,
    "start_time": "2022-04-08T12:04:49.464Z"
   },
   {
    "duration": 48,
    "start_time": "2022-04-08T12:04:49.482Z"
   },
   {
    "duration": 11,
    "start_time": "2022-04-08T12:04:49.532Z"
   },
   {
    "duration": 11,
    "start_time": "2022-04-08T12:04:49.545Z"
   },
   {
    "duration": 6,
    "start_time": "2022-04-08T12:04:49.558Z"
   },
   {
    "duration": 179,
    "start_time": "2022-04-08T12:04:49.565Z"
   },
   {
    "duration": 127,
    "start_time": "2022-04-08T12:04:49.746Z"
   },
   {
    "duration": 12,
    "start_time": "2022-04-08T12:04:49.875Z"
   },
   {
    "duration": 334,
    "start_time": "2022-04-08T12:04:49.889Z"
   },
   {
    "duration": 217,
    "start_time": "2022-04-08T12:04:50.225Z"
   },
   {
    "duration": 305,
    "start_time": "2022-04-08T12:04:50.444Z"
   },
   {
    "duration": 201,
    "start_time": "2022-04-08T12:04:50.750Z"
   },
   {
    "duration": 303,
    "start_time": "2022-04-08T12:04:50.952Z"
   },
   {
    "duration": 148,
    "start_time": "2022-04-08T12:04:51.256Z"
   },
   {
    "duration": 8,
    "start_time": "2022-04-08T12:04:51.406Z"
   },
   {
    "duration": 162,
    "start_time": "2022-04-08T12:04:51.415Z"
   },
   {
    "duration": 4,
    "start_time": "2022-04-08T12:04:51.581Z"
   },
   {
    "duration": 70,
    "start_time": "2022-04-08T12:04:51.587Z"
   },
   {
    "duration": 11,
    "start_time": "2022-04-08T12:04:51.659Z"
   },
   {
    "duration": 9,
    "start_time": "2022-04-08T12:04:51.672Z"
   },
   {
    "duration": 57,
    "start_time": "2022-04-08T12:04:51.683Z"
   },
   {
    "duration": 13,
    "start_time": "2022-04-08T12:04:51.742Z"
   },
   {
    "duration": 1105,
    "start_time": "2022-04-08T12:11:50.529Z"
   },
   {
    "duration": 29,
    "start_time": "2022-04-08T12:11:51.636Z"
   },
   {
    "duration": 10,
    "start_time": "2022-04-08T12:11:51.667Z"
   },
   {
    "duration": 10,
    "start_time": "2022-04-08T12:11:51.679Z"
   },
   {
    "duration": 6,
    "start_time": "2022-04-08T12:11:51.690Z"
   },
   {
    "duration": 10,
    "start_time": "2022-04-08T12:11:51.698Z"
   },
   {
    "duration": 10,
    "start_time": "2022-04-08T12:11:51.710Z"
   },
   {
    "duration": 7,
    "start_time": "2022-04-08T12:11:51.721Z"
   },
   {
    "duration": 6,
    "start_time": "2022-04-08T12:11:51.729Z"
   },
   {
    "duration": 8,
    "start_time": "2022-04-08T12:11:51.737Z"
   },
   {
    "duration": 6,
    "start_time": "2022-04-08T12:11:51.747Z"
   },
   {
    "duration": 15,
    "start_time": "2022-04-08T12:11:51.755Z"
   },
   {
    "duration": 43,
    "start_time": "2022-04-08T12:11:51.771Z"
   },
   {
    "duration": 12,
    "start_time": "2022-04-08T12:11:51.816Z"
   },
   {
    "duration": 14,
    "start_time": "2022-04-08T12:11:51.830Z"
   },
   {
    "duration": 6,
    "start_time": "2022-04-08T12:11:51.846Z"
   },
   {
    "duration": 172,
    "start_time": "2022-04-08T12:11:51.853Z"
   },
   {
    "duration": 117,
    "start_time": "2022-04-08T12:11:52.027Z"
   },
   {
    "duration": 11,
    "start_time": "2022-04-08T12:11:52.145Z"
   },
   {
    "duration": 296,
    "start_time": "2022-04-08T12:11:52.157Z"
   },
   {
    "duration": 222,
    "start_time": "2022-04-08T12:11:52.454Z"
   },
   {
    "duration": 322,
    "start_time": "2022-04-08T12:11:52.678Z"
   },
   {
    "duration": 185,
    "start_time": "2022-04-08T12:11:53.002Z"
   },
   {
    "duration": 309,
    "start_time": "2022-04-08T12:11:53.188Z"
   },
   {
    "duration": 143,
    "start_time": "2022-04-08T12:11:53.499Z"
   },
   {
    "duration": 4,
    "start_time": "2022-04-08T12:11:53.643Z"
   },
   {
    "duration": 156,
    "start_time": "2022-04-08T12:11:53.648Z"
   },
   {
    "duration": 4,
    "start_time": "2022-04-08T12:11:53.808Z"
   },
   {
    "duration": 45,
    "start_time": "2022-04-08T12:11:53.813Z"
   },
   {
    "duration": 10,
    "start_time": "2022-04-08T12:11:53.860Z"
   },
   {
    "duration": 37,
    "start_time": "2022-04-08T12:11:53.872Z"
   },
   {
    "duration": 25,
    "start_time": "2022-04-08T12:11:53.910Z"
   },
   {
    "duration": 13,
    "start_time": "2022-04-08T12:11:53.937Z"
   }
  ],
  "kernelspec": {
   "display_name": "Python 3 (ipykernel)",
   "language": "python",
   "name": "python3"
  },
  "language_info": {
   "codemirror_mode": {
    "name": "ipython",
    "version": 3
   },
   "file_extension": ".py",
   "mimetype": "text/x-python",
   "name": "python",
   "nbconvert_exporter": "python",
   "pygments_lexer": "ipython3",
   "version": "3.9.5"
  },
  "toc": {
   "base_numbering": 1,
   "nav_menu": {
    "height": "64px",
    "width": "160px"
   },
   "number_sections": true,
   "sideBar": true,
   "skip_h1_title": true,
   "title_cell": "Содержание",
   "title_sidebar": "Contents",
   "toc_cell": true,
   "toc_position": {},
   "toc_section_display": true,
   "toc_window_display": false
  }
 },
 "nbformat": 4,
 "nbformat_minor": 2
}
